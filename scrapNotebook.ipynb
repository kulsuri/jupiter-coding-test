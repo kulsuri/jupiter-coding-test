{
 "metadata": {
  "language_info": {
   "codemirror_mode": {
    "name": "ipython",
    "version": 3
   },
   "file_extension": ".py",
   "mimetype": "text/x-python",
   "name": "python",
   "nbconvert_exporter": "python",
   "pygments_lexer": "ipython3",
   "version": "3.9.1-final"
  },
  "orig_nbformat": 2,
  "kernelspec": {
   "name": "python391jvsc74a57bd063fd5069d213b44bf678585dea6b12cceca9941eaf7f819626cde1f2670de90d",
   "display_name": "Python 3.9.1 64-bit"
  }
 },
 "nbformat": 4,
 "nbformat_minor": 2,
 "cells": [
  {
   "cell_type": "code",
   "execution_count": 31,
   "metadata": {},
   "outputs": [],
   "source": [
    "from selenium import webdriver\n",
    "from selenium.webdriver.chrome.options import Options\n",
    "import time\n",
    "import pprint\n",
    "import re\n",
    "import os"
   ]
  },
  {
   "cell_type": "code",
   "execution_count": 102,
   "metadata": {},
   "outputs": [],
   "source": [
    "class bot:\n",
    "    def __init__(self, company_ticker):\n",
    "        self.company_ticker = company_ticker\n",
    "        self.chrome_options = Options()\n",
    "        self.chrome_options.add_argument(\"--disable-extensions\")\n",
    "        self.chrome_options.add_argument(\"--disable-gpu\")\n",
    "        self.chrome_options.add_argument(\"--headless\")\n",
    "        self.driver = webdriver.Chrome(os.path.join(os.getcwd(), 'chromedriver_win32\\chromedriver.exe'), options=self.chrome_options)        \n",
    "        self.driver.get('https://www.msci.com/our-solutions/esg-investing/esg-ratings/esg-ratings-corporate-search-tool/issuer/')\n",
    "\n",
    "    def accept_cookies(self):\n",
    "        cookie_accept_xpath = '//*[@id=\"portlet_mscicookiebar_WAR_mscicookiebar\"]/div/div[2]/div/div/div[1]/div/button[1]'\n",
    "        self.clickButton(cookie_accept_xpath)\n",
    "        time.sleep(1)\n",
    "\n",
    "    def search_for_company(self):\n",
    "        company_search_field_xpath = '//*[@id=\"_esgratingsprofile_keywords\"]'\n",
    "        self.enterData(company_search_field_xpath, self.company_ticker)\n",
    "\n",
    "    def select_company(self):\n",
    "        company_search_dropdown = '//*[@id=\"ui-id-1\"]' #/li'\n",
    "        self.clickButton(company_search_dropdown)\n",
    "        \n",
    "\n",
    "    def get_esg_ratings(self):\n",
    "        esg_ratings_xpath = '//*[@id=\"_esgratingsprofile_esg-rating-history\"]'\n",
    "        esg_data = self.grabData(esg_ratings_xpath)\n",
    "        return esg_data\n",
    "\n",
    "    def grabData(self, xpath):\n",
    "        try:\n",
    "            data = self.driver.find_element_by_xpath(xpath)\n",
    "        except Exception:\n",
    "            time.sleep(2)\n",
    "            data = self.driver.find_element_by_xpath(xpath)\n",
    "        return data\n",
    "\n",
    "    def clickButton(self, xpath):\n",
    "        try:\n",
    "            self.driver.find_element_by_xpath(xpath).click()\n",
    "        except Exception:\n",
    "            time.sleep(2)\n",
    "            self.clickButton(xpath)\n",
    "\n",
    "    def enterData(self, xpath, data):\n",
    "        try:\n",
    "            self.driver.find_element_by_xpath(xpath).send_keys(data)\n",
    "            pass\n",
    "        except Exception:\n",
    "            time.sleep(1)\n",
    "            self.enterData(field, data)\n",
    "\n",
    "    def initializeScrapeProcess(self):\n",
    "        self.accept_cookies()\n",
    "        self.search_for_company()\n",
    "        self.select_company()\n",
    "        data = self.get_esg_ratings().get_attribute('innerHTML')\n",
    "        self.driver.quit()\n",
    "        return data"
   ]
  },
  {
   "cell_type": "code",
   "execution_count": 103,
   "metadata": {},
   "outputs": [],
   "source": [
    "def scrapy_esg_bot2(ticker_symbol):\n",
    "    webscrape_bot = bot(ticker_symbol)\n",
    "    webscrape_bot.initializeScrapeProcess()\n",
    "    return data\n",
    "\n",
    "data3 = scrapy_esg_bot('aapl')"
   ]
  },
  {
   "cell_type": "code",
   "execution_count": 60,
   "metadata": {},
   "outputs": [],
   "source": [
    "def scrapy_esg_bot(ticker_symbol):\n",
    "    webscrape_bot = bot(ticker_symbol)\n",
    "    webscrape_bot.accept_cookies()\n",
    "    webscrape_bot.search_for_company()\n",
    "    webscrape_bot.select_company()\n",
    "    data = webscrape_bot.get_esg_ratings().get_attribute('innerHTML')\n",
    "    webscrape_bot.driver.quit()\n",
    "    return data"
   ]
  },
  {
   "cell_type": "code",
   "execution_count": 70,
   "metadata": {},
   "outputs": [],
   "source": [
    "data2 = scrapy_esg_bot('mng')"
   ]
  },
  {
   "cell_type": "code",
   "execution_count": 104,
   "metadata": {},
   "outputs": [
    {
     "output_type": "execute_result",
     "data": {
      "text/plain": [
       "'<div id=\"highcharts-z1fs7ct-0\" dir=\"ltr\" class=\"highcharts-container \" style=\"position: relative; overflow: hidden; width: 703px; height: 250px; text-align: left; line-height: normal; z-index: 0; -webkit-tap-highlight-color: rgba(0, 0, 0, 0); color: rgb(0, 32, 54);\"><svg version=\"1.1\" class=\"highcharts-root\" style=\"font-family:\\'Roboto Regular\\', sans-serif;;font-size:12px;;color:#002036;fill:#002036;\" xmlns=\"http://www.w3.org/2000/svg\" width=\"703\" height=\"250\" viewBox=\"0 0 703 250\"><desc>Created with Highcharts 7.2.0</desc><defs><clipPath id=\"highcharts-z1fs7ct-1-\"><rect x=\"0\" y=\"0\" width=\"641\" height=\"200\" fill=\"none\"></rect></clipPath><clipPath id=\"highcharts-z1fs7ct-8-\"><rect x=\"0\" y=\"0\" width=\"641\" height=\"200\" fill=\"none\"></rect></clipPath></defs><rect fill=\"#ffffff\" class=\"highcharts-background\" x=\"0\" y=\"0\" width=\"703\" height=\"250\" rx=\"0\" ry=\"0\"></rect><rect fill=\"none\" class=\"highcharts-plot-background\" x=\"52\" y=\"10\" width=\"641\" height=\"200\"></rect><g class=\"highcharts-grid highcharts-xaxis-grid\" data-z-index=\"1\"><path fill=\"none\" data-z-index=\"1\" class=\"highcharts-grid-line\" d=\"M 179.5 10 L 179.5 210\" opacity=\"1\"></path><path fill=\"none\" data-z-index=\"1\" class=\"highcharts-grid-line\" d=\"M 307.5 10 L 307.5 210\" opacity=\"1\"></path><path fill=\"none\" data-z-index=\"1\" class=\"highcharts-grid-line\" d=\"M 436.5 10 L 436.5 210\" opacity=\"1\"></path><path fill=\"none\" data-z-index=\"1\" class=\"highcharts-grid-line\" d=\"M 564.5 10 L 564.5 210\" opacity=\"1\"></path><path fill=\"none\" data-z-index=\"1\" class=\"highcharts-grid-line\" d=\"M 692.5 10 L 692.5 210\" opacity=\"1\"></path><path fill=\"none\" data-z-index=\"1\" class=\"highcharts-grid-line\" d=\"M 51.5 10 L 51.5 210\" opacity=\"1\"></path></g><g class=\"highcharts-grid highcharts-yaxis-grid\" data-z-index=\"1\"><path fill=\"none\" data-z-index=\"1\" class=\"highcharts-grid-line\" d=\"M 52 210.5 L 693 210.5\" opacity=\"1\"></path><path fill=\"none\" data-z-index=\"1\" class=\"highcharts-grid-line\" d=\"M 52 183.5 L 693 183.5\" opacity=\"1\"></path><path fill=\"none\" data-z-index=\"1\" class=\"highcharts-grid-line\" d=\"M 52 157.5 L 693 157.5\" opacity=\"1\"></path><path fill=\"none\" data-z-index=\"1\" class=\"highcharts-grid-line\" d=\"M 52 130.5 L 693 130.5\" opacity=\"1\"></path><path fill=\"none\" data-z-index=\"1\" class=\"highcharts-grid-line\" d=\"M 52 103.5 L 693 103.5\" opacity=\"1\"></path><path fill=\"none\" data-z-index=\"1\" class=\"highcharts-grid-line\" d=\"M 52 77.5 L 693 77.5\" opacity=\"1\"></path><path fill=\"none\" data-z-index=\"1\" class=\"highcharts-grid-line\" d=\"M 52 50.5 L 693 50.5\" opacity=\"1\"></path><path fill=\"none\" data-z-index=\"1\" class=\"highcharts-grid-line\" d=\"M 52 23.5 L 693 23.5\" opacity=\"1\"></path></g><rect fill=\"none\" class=\"highcharts-plot-border\" data-z-index=\"1\" x=\"52\" y=\"10\" width=\"641\" height=\"200\"></rect><g class=\"highcharts-axis highcharts-xaxis\" data-z-index=\"2\"><path fill=\"none\" class=\"highcharts-axis-line\" stroke=\"#002036\" stroke-width=\"1\" data-z-index=\"7\" d=\"M 52 210.5 L 693 210.5\"></path></g><g class=\"highcharts-axis highcharts-yaxis\" data-z-index=\"2\"><path fill=\"none\" class=\"highcharts-axis-line\" stroke=\"#002036\" stroke-width=\"1\" data-z-index=\"7\" d=\"M 51.5 10 L 51.5 210\"></path></g><g class=\"highcharts-series-group\" data-z-index=\"3\"><g data-z-index=\"0.1\" class=\"highcharts-series highcharts-series-0 highcharts-line-series \" transform=\"translate(52,10) scale(1 1)\" clip-path=\"url(#highcharts-z1fs7ct-8-)\"><path fill=\"none\" d=\"M 64.1 66.66666666666667 L 192.3 66.66666666666667 L 320.5 66.66666666666667 L 448.7 66.66666666666667 L 576.9 93.33333333333333\" class=\"highcharts-graph\" data-z-index=\"1\" stroke=\"#002036\" stroke-width=\"2\" stroke-linejoin=\"round\" stroke-linecap=\"round\"></path><path fill=\"none\" d=\"M 54.099999999999994 66.66666666666667 L 64.1 66.66666666666667 L 192.3 66.66666666666667 L 320.5 66.66666666666667 L 448.7 66.66666666666667 L 576.9 93.33333333333333 L 586.9 93.33333333333333\" visibility=\"visible\" data-z-index=\"2\" class=\"highcharts-tracker-line\" stroke-linejoin=\"round\" stroke=\"rgba(192,192,192,0.0001)\" stroke-width=\"22\"></path></g><g data-z-index=\"0.1\" class=\"highcharts-markers highcharts-series-0 highcharts-line-series  highcharts-tracker\" transform=\"translate(52,10) scale(1 1)\"><path fill=\"#FFB500\" d=\"M 64 87 A 20 20 0 1 1 64.01999999666668 86.99999000000084 Z\" opacity=\"1\" class=\"highcharts-point\"></path><path fill=\"#FFB500\" d=\"M 192 87 A 20 20 0 1 1 192.01999999666668 86.99999000000084 Z\" opacity=\"1\" class=\"highcharts-point\"></path><path fill=\"#FFB500\" d=\"M 320 87 A 20 20 0 1 1 320.0199999966667 86.99999000000084 Z\" opacity=\"1\" class=\"highcharts-point\"></path><path fill=\"#FFB500\" d=\"M 448 87 A 20 20 0 1 1 448.0199999966667 86.99999000000084 Z\" opacity=\"1\" class=\"highcharts-point\"></path><path fill=\"#FFB500\" d=\"M 576 113 A 20 20 0 1 1 576.0199999966667 112.99999000000084 Z\" opacity=\"1\" class=\"highcharts-point\"></path></g></g><text x=\"10\" class=\"highcharts-title\" data-z-index=\"4\" style=\"color:#333333;font-size:18px;fill:#333333;\" y=\"24\"></text><text x=\"352\" text-anchor=\"middle\" class=\"highcharts-subtitle\" data-z-index=\"4\" style=\"color:#666666;fill:#666666;\" y=\"24\"></text><text x=\"10\" text-anchor=\"start\" class=\"highcharts-caption\" data-z-index=\"4\" style=\"color:#666666;fill:#666666;\" y=\"247\"></text><g data-z-index=\"6\" class=\"highcharts-data-labels highcharts-series-0 highcharts-line-series \" transform=\"translate(52,10) scale(1 1)\" opacity=\"1\"><g class=\"highcharts-label highcharts-data-label highcharts-data-label-color-undefined\" data-z-index=\"1\" transform=\"translate(55,54)\"><text x=\"5\" data-z-index=\"1\" style=\"font-size:14px;;font-weight:bold;color:#FFFFFF;fill:#FFFFFF;\" y=\"19\">A</text></g><g class=\"highcharts-label highcharts-data-label highcharts-data-label-color-undefined\" data-z-index=\"1\" transform=\"translate(183,54)\"><text x=\"5\" data-z-index=\"1\" style=\"font-size:14px;;font-weight:bold;color:#FFFFFF;fill:#FFFFFF;\" y=\"19\">A</text></g><g class=\"highcharts-label highcharts-data-label highcharts-data-label-color-undefined\" data-z-index=\"1\" transform=\"translate(311,54)\"><text x=\"5\" data-z-index=\"1\" style=\"font-size:14px;;font-weight:bold;color:#FFFFFF;fill:#FFFFFF;\" y=\"19\">A</text></g><g class=\"highcharts-label highcharts-data-label highcharts-data-label-color-undefined\" data-z-index=\"1\" transform=\"translate(439,54)\"><text x=\"5\" data-z-index=\"1\" style=\"font-size:14px;;font-weight:bold;color:#FFFFFF;fill:#FFFFFF;\" y=\"19\">A</text></g><g class=\"highcharts-label highcharts-data-label highcharts-data-label-color-undefined\" data-z-index=\"1\" transform=\"translate(559,80)\"><text x=\"5\" data-z-index=\"1\" style=\"font-size:14px;;font-weight:bold;color:#FFFFFF;fill:#FFFFFF;\" y=\"19\">BBB</text></g></g><g class=\"highcharts-axis-labels highcharts-xaxis-labels\" data-z-index=\"7\"><text x=\"116.1\" style=\"color:#002036;cursor:default;font-size:14px;;fill:#002036;\" text-anchor=\"middle\" transform=\"translate(0,0)\" y=\"232\" opacity=\"1\">Oct-16</text><text x=\"244.29999999999998\" style=\"color:#002036;cursor:default;font-size:14px;;fill:#002036;\" text-anchor=\"middle\" transform=\"translate(0,0)\" y=\"232\" opacity=\"1\">Aug-17</text><text x=\"372.5\" style=\"color:#002036;cursor:default;font-size:14px;;fill:#002036;\" text-anchor=\"middle\" transform=\"translate(0,0)\" y=\"232\" opacity=\"1\">Sep-18</text><text x=\"500.69999999999993\" style=\"color:#002036;cursor:default;font-size:14px;;fill:#002036;\" text-anchor=\"middle\" transform=\"translate(0,0)\" y=\"232\" opacity=\"1\">Nov-19</text><text x=\"628.9\" style=\"color:#002036;cursor:default;font-size:14px;;fill:#002036;\" text-anchor=\"middle\" transform=\"translate(0,0)\" y=\"232\" opacity=\"1\">Dec-20</text></g><g class=\"highcharts-axis-labels highcharts-yaxis-labels\" data-z-index=\"7\"><text x=\"0\" style=\"color:#002036;cursor:default;font-size:14px;;fill:#002036;\" text-anchor=\"end\" transform=\"translate(0,0)\" y=\"-9999\">-1</text><text x=\"37\" style=\"color:#002036;cursor:default;font-size:14px;;fill:#002036;\" text-anchor=\"end\" transform=\"translate(0,0)\" y=\"189\" opacity=\"1\">CCC</text><text x=\"37\" style=\"color:#002036;cursor:default;font-size:14px;;fill:#002036;\" text-anchor=\"end\" transform=\"translate(0,0)\" y=\"162\" opacity=\"1\">B</text><text x=\"37\" style=\"color:#002036;cursor:default;font-size:14px;;fill:#002036;\" text-anchor=\"end\" transform=\"translate(0,0)\" y=\"136\" opacity=\"1\">BB</text><text x=\"37\" style=\"color:#002036;cursor:default;font-size:14px;;fill:#002036;\" text-anchor=\"end\" transform=\"translate(0,0)\" y=\"109\" opacity=\"1\">BBB</text><text x=\"37\" style=\"color:#002036;cursor:default;font-size:14px;;fill:#002036;\" text-anchor=\"end\" transform=\"translate(0,0)\" y=\"82\" opacity=\"1\">A</text><text x=\"37\" style=\"color:#002036;cursor:default;font-size:14px;;fill:#002036;\" text-anchor=\"end\" transform=\"translate(0,0)\" y=\"56\" opacity=\"1\">AA</text><text x=\"37\" style=\"color:#002036;cursor:default;font-size:14px;;fill:#002036;\" text-anchor=\"end\" transform=\"translate(0,0)\" y=\"29\" opacity=\"1\">AAA</text></g></svg></div>'"
      ]
     },
     "metadata": {},
     "execution_count": 104
    }
   ],
   "source": [
    "data3"
   ]
  },
  {
   "cell_type": "code",
   "execution_count": 105,
   "metadata": {},
   "outputs": [
    {
     "output_type": "stream",
     "name": "stdout",
     "text": [
      "('<div id=\"highcharts-z1fs7ct-0\" dir=\"ltr\" class=\"highcharts-container \" '\n 'style=\"position: relative; overflow: hidden; width: 703px; height: 250px; '\n 'text-align: left; line-height: normal; z-index: 0; '\n '-webkit-tap-highlight-color: rgba(0, 0, 0, 0); color: rgb(0, 32, 54);\"><svg '\n 'version=\"1.1\" class=\"highcharts-root\" style=\"font-family:\\'Roboto Regular\\', '\n 'sans-serif;;font-size:12px;;color:#002036;fill:#002036;\" '\n 'xmlns=\"http://www.w3.org/2000/svg\" width=\"703\" height=\"250\" viewBox=\"0 0 703 '\n '250\"><desc>Created with Highcharts 7.2.0</desc><defs><clipPath '\n 'id=\"highcharts-z1fs7ct-1-\"><rect x=\"0\" y=\"0\" width=\"641\" height=\"200\" '\n 'fill=\"none\"></rect></clipPath><clipPath id=\"highcharts-z1fs7ct-8-\"><rect '\n 'x=\"0\" y=\"0\" width=\"641\" height=\"200\" '\n 'fill=\"none\"></rect></clipPath></defs><rect fill=\"#ffffff\" '\n 'class=\"highcharts-background\" x=\"0\" y=\"0\" width=\"703\" height=\"250\" rx=\"0\" '\n 'ry=\"0\"></rect><rect fill=\"none\" class=\"highcharts-plot-background\" x=\"52\" '\n 'y=\"10\" width=\"641\" height=\"200\"></rect><g class=\"highcharts-grid '\n 'highcharts-xaxis-grid\" data-z-index=\"1\"><path fill=\"none\" data-z-index=\"1\" '\n 'class=\"highcharts-grid-line\" d=\"M 179.5 10 L 179.5 210\" '\n 'opacity=\"1\"></path><path fill=\"none\" data-z-index=\"1\" '\n 'class=\"highcharts-grid-line\" d=\"M 307.5 10 L 307.5 210\" '\n 'opacity=\"1\"></path><path fill=\"none\" data-z-index=\"1\" '\n 'class=\"highcharts-grid-line\" d=\"M 436.5 10 L 436.5 210\" '\n 'opacity=\"1\"></path><path fill=\"none\" data-z-index=\"1\" '\n 'class=\"highcharts-grid-line\" d=\"M 564.5 10 L 564.5 210\" '\n 'opacity=\"1\"></path><path fill=\"none\" data-z-index=\"1\" '\n 'class=\"highcharts-grid-line\" d=\"M 692.5 10 L 692.5 210\" '\n 'opacity=\"1\"></path><path fill=\"none\" data-z-index=\"1\" '\n 'class=\"highcharts-grid-line\" d=\"M 51.5 10 L 51.5 210\" '\n 'opacity=\"1\"></path></g><g class=\"highcharts-grid highcharts-yaxis-grid\" '\n 'data-z-index=\"1\"><path fill=\"none\" data-z-index=\"1\" '\n 'class=\"highcharts-grid-line\" d=\"M 52 210.5 L 693 210.5\" '\n 'opacity=\"1\"></path><path fill=\"none\" data-z-index=\"1\" '\n 'class=\"highcharts-grid-line\" d=\"M 52 183.5 L 693 183.5\" '\n 'opacity=\"1\"></path><path fill=\"none\" data-z-index=\"1\" '\n 'class=\"highcharts-grid-line\" d=\"M 52 157.5 L 693 157.5\" '\n 'opacity=\"1\"></path><path fill=\"none\" data-z-index=\"1\" '\n 'class=\"highcharts-grid-line\" d=\"M 52 130.5 L 693 130.5\" '\n 'opacity=\"1\"></path><path fill=\"none\" data-z-index=\"1\" '\n 'class=\"highcharts-grid-line\" d=\"M 52 103.5 L 693 103.5\" '\n 'opacity=\"1\"></path><path fill=\"none\" data-z-index=\"1\" '\n 'class=\"highcharts-grid-line\" d=\"M 52 77.5 L 693 77.5\" '\n 'opacity=\"1\"></path><path fill=\"none\" data-z-index=\"1\" '\n 'class=\"highcharts-grid-line\" d=\"M 52 50.5 L 693 50.5\" '\n 'opacity=\"1\"></path><path fill=\"none\" data-z-index=\"1\" '\n 'class=\"highcharts-grid-line\" d=\"M 52 23.5 L 693 23.5\" '\n 'opacity=\"1\"></path></g><rect fill=\"none\" class=\"highcharts-plot-border\" '\n 'data-z-index=\"1\" x=\"52\" y=\"10\" width=\"641\" height=\"200\"></rect><g '\n 'class=\"highcharts-axis highcharts-xaxis\" data-z-index=\"2\"><path fill=\"none\" '\n 'class=\"highcharts-axis-line\" stroke=\"#002036\" stroke-width=\"1\" '\n 'data-z-index=\"7\" d=\"M 52 210.5 L 693 210.5\"></path></g><g '\n 'class=\"highcharts-axis highcharts-yaxis\" data-z-index=\"2\"><path fill=\"none\" '\n 'class=\"highcharts-axis-line\" stroke=\"#002036\" stroke-width=\"1\" '\n 'data-z-index=\"7\" d=\"M 51.5 10 L 51.5 210\"></path></g><g '\n 'class=\"highcharts-series-group\" data-z-index=\"3\"><g data-z-index=\"0.1\" '\n 'class=\"highcharts-series highcharts-series-0 highcharts-line-series \" '\n 'transform=\"translate(52,10) scale(1 1)\" '\n 'clip-path=\"url(#highcharts-z1fs7ct-8-)\"><path fill=\"none\" d=\"M 64.1 '\n '66.66666666666667 L 192.3 66.66666666666667 L 320.5 66.66666666666667 L '\n '448.7 66.66666666666667 L 576.9 93.33333333333333\" class=\"highcharts-graph\" '\n 'data-z-index=\"1\" stroke=\"#002036\" stroke-width=\"2\" stroke-linejoin=\"round\" '\n 'stroke-linecap=\"round\"></path><path fill=\"none\" d=\"M 54.099999999999994 '\n '66.66666666666667 L 64.1 66.66666666666667 L 192.3 66.66666666666667 L 320.5 '\n '66.66666666666667 L 448.7 66.66666666666667 L 576.9 93.33333333333333 L '\n '586.9 93.33333333333333\" visibility=\"visible\" data-z-index=\"2\" '\n 'class=\"highcharts-tracker-line\" stroke-linejoin=\"round\" '\n 'stroke=\"rgba(192,192,192,0.0001)\" stroke-width=\"22\"></path></g><g '\n 'data-z-index=\"0.1\" class=\"highcharts-markers highcharts-series-0 '\n 'highcharts-line-series  highcharts-tracker\" transform=\"translate(52,10) '\n 'scale(1 1)\"><path fill=\"#FFB500\" d=\"M 64 87 A 20 20 0 1 1 64.01999999666668 '\n '86.99999000000084 Z\" opacity=\"1\" class=\"highcharts-point\"></path><path '\n 'fill=\"#FFB500\" d=\"M 192 87 A 20 20 0 1 1 192.01999999666668 '\n '86.99999000000084 Z\" opacity=\"1\" class=\"highcharts-point\"></path><path '\n 'fill=\"#FFB500\" d=\"M 320 87 A 20 20 0 1 1 320.0199999966667 86.99999000000084 '\n 'Z\" opacity=\"1\" class=\"highcharts-point\"></path><path fill=\"#FFB500\" d=\"M 448 '\n '87 A 20 20 0 1 1 448.0199999966667 86.99999000000084 Z\" opacity=\"1\" '\n 'class=\"highcharts-point\"></path><path fill=\"#FFB500\" d=\"M 576 113 A 20 20 0 '\n '1 1 576.0199999966667 112.99999000000084 Z\" opacity=\"1\" '\n 'class=\"highcharts-point\"></path></g></g><text x=\"10\" '\n 'class=\"highcharts-title\" data-z-index=\"4\" '\n 'style=\"color:#333333;font-size:18px;fill:#333333;\" y=\"24\"></text><text '\n 'x=\"352\" text-anchor=\"middle\" class=\"highcharts-subtitle\" data-z-index=\"4\" '\n 'style=\"color:#666666;fill:#666666;\" y=\"24\"></text><text x=\"10\" '\n 'text-anchor=\"start\" class=\"highcharts-caption\" data-z-index=\"4\" '\n 'style=\"color:#666666;fill:#666666;\" y=\"247\"></text><g data-z-index=\"6\" '\n 'class=\"highcharts-data-labels highcharts-series-0 highcharts-line-series \" '\n 'transform=\"translate(52,10) scale(1 1)\" opacity=\"1\"><g '\n 'class=\"highcharts-label highcharts-data-label '\n 'highcharts-data-label-color-undefined\" data-z-index=\"1\" '\n 'transform=\"translate(55,54)\"><text x=\"5\" data-z-index=\"1\" '\n 'style=\"font-size:14px;;font-weight:bold;color:#FFFFFF;fill:#FFFFFF;\" '\n 'y=\"19\">A</text></g><g class=\"highcharts-label highcharts-data-label '\n 'highcharts-data-label-color-undefined\" data-z-index=\"1\" '\n 'transform=\"translate(183,54)\"><text x=\"5\" data-z-index=\"1\" '\n 'style=\"font-size:14px;;font-weight:bold;color:#FFFFFF;fill:#FFFFFF;\" '\n 'y=\"19\">A</text></g><g class=\"highcharts-label highcharts-data-label '\n 'highcharts-data-label-color-undefined\" data-z-index=\"1\" '\n 'transform=\"translate(311,54)\"><text x=\"5\" data-z-index=\"1\" '\n 'style=\"font-size:14px;;font-weight:bold;color:#FFFFFF;fill:#FFFFFF;\" '\n 'y=\"19\">A</text></g><g class=\"highcharts-label highcharts-data-label '\n 'highcharts-data-label-color-undefined\" data-z-index=\"1\" '\n 'transform=\"translate(439,54)\"><text x=\"5\" data-z-index=\"1\" '\n 'style=\"font-size:14px;;font-weight:bold;color:#FFFFFF;fill:#FFFFFF;\" '\n 'y=\"19\">A</text></g><g class=\"highcharts-label highcharts-data-label '\n 'highcharts-data-label-color-undefined\" data-z-index=\"1\" '\n 'transform=\"translate(559,80)\"><text x=\"5\" data-z-index=\"1\" '\n 'style=\"font-size:14px;;font-weight:bold;color:#FFFFFF;fill:#FFFFFF;\" '\n 'y=\"19\">BBB</text></g></g><g class=\"highcharts-axis-labels '\n 'highcharts-xaxis-labels\" data-z-index=\"7\"><text x=\"116.1\" '\n 'style=\"color:#002036;cursor:default;font-size:14px;;fill:#002036;\" '\n 'text-anchor=\"middle\" transform=\"translate(0,0)\" y=\"232\" '\n 'opacity=\"1\">Oct-16</text><text x=\"244.29999999999998\" '\n 'style=\"color:#002036;cursor:default;font-size:14px;;fill:#002036;\" '\n 'text-anchor=\"middle\" transform=\"translate(0,0)\" y=\"232\" '\n 'opacity=\"1\">Aug-17</text><text x=\"372.5\" '\n 'style=\"color:#002036;cursor:default;font-size:14px;;fill:#002036;\" '\n 'text-anchor=\"middle\" transform=\"translate(0,0)\" y=\"232\" '\n 'opacity=\"1\">Sep-18</text><text x=\"500.69999999999993\" '\n 'style=\"color:#002036;cursor:default;font-size:14px;;fill:#002036;\" '\n 'text-anchor=\"middle\" transform=\"translate(0,0)\" y=\"232\" '\n 'opacity=\"1\">Nov-19</text><text x=\"628.9\" '\n 'style=\"color:#002036;cursor:default;font-size:14px;;fill:#002036;\" '\n 'text-anchor=\"middle\" transform=\"translate(0,0)\" y=\"232\" '\n 'opacity=\"1\">Dec-20</text></g><g class=\"highcharts-axis-labels '\n 'highcharts-yaxis-labels\" data-z-index=\"7\"><text x=\"0\" '\n 'style=\"color:#002036;cursor:default;font-size:14px;;fill:#002036;\" '\n 'text-anchor=\"end\" transform=\"translate(0,0)\" y=\"-9999\">-1</text><text x=\"37\" '\n 'style=\"color:#002036;cursor:default;font-size:14px;;fill:#002036;\" '\n 'text-anchor=\"end\" transform=\"translate(0,0)\" y=\"189\" '\n 'opacity=\"1\">CCC</text><text x=\"37\" '\n 'style=\"color:#002036;cursor:default;font-size:14px;;fill:#002036;\" '\n 'text-anchor=\"end\" transform=\"translate(0,0)\" y=\"162\" '\n 'opacity=\"1\">B</text><text x=\"37\" '\n 'style=\"color:#002036;cursor:default;font-size:14px;;fill:#002036;\" '\n 'text-anchor=\"end\" transform=\"translate(0,0)\" y=\"136\" '\n 'opacity=\"1\">BB</text><text x=\"37\" '\n 'style=\"color:#002036;cursor:default;font-size:14px;;fill:#002036;\" '\n 'text-anchor=\"end\" transform=\"translate(0,0)\" y=\"109\" '\n 'opacity=\"1\">BBB</text><text x=\"37\" '\n 'style=\"color:#002036;cursor:default;font-size:14px;;fill:#002036;\" '\n 'text-anchor=\"end\" transform=\"translate(0,0)\" y=\"82\" '\n 'opacity=\"1\">A</text><text x=\"37\" '\n 'style=\"color:#002036;cursor:default;font-size:14px;;fill:#002036;\" '\n 'text-anchor=\"end\" transform=\"translate(0,0)\" y=\"56\" '\n 'opacity=\"1\">AA</text><text x=\"37\" '\n 'style=\"color:#002036;cursor:default;font-size:14px;;fill:#002036;\" '\n 'text-anchor=\"end\" transform=\"translate(0,0)\" y=\"29\" '\n 'opacity=\"1\">AAA</text></g></svg></div>')\n"
     ]
    }
   ],
   "source": [
    "pprint.pprint(data3)"
   ]
  },
  {
   "cell_type": "code",
   "execution_count": 106,
   "metadata": {},
   "outputs": [
    {
     "output_type": "execute_result",
     "data": {
      "text/plain": [
       "';fill:#FFFFFF;\" y=\"19\">A</text></g><g class=\"highcharts-label highcharts-data-label highcharts-data-label-color-undefined\" data-z-index=\"1\" transform=\"translate(183,54)\"><text x=\"5\" data-z-index=\"1\" '"
      ]
     },
     "metadata": {},
     "execution_count": 106
    }
   ],
   "source": [
    "data3.split('style=\"font-size:14px;;font-weight:bold;color:#FFFFFF')[1]"
   ]
  },
  {
   "cell_type": "code",
   "execution_count": 114,
   "metadata": {},
   "outputs": [
    {
     "output_type": "stream",
     "name": "stdout",
     "text": [
      "text found 5523 5576\ntext found 5775 5828\ntext found 6027 6080\ntext found 6279 6332\ntext found 6531 6584\n"
     ]
    }
   ],
   "source": [
    "search_points_esg = []\n",
    "for i in re.finditer('style=\"font-size:14px;;font-weight:bold;color:#FFFFFF', data3):\n",
    "    print('text found', i.start(), i.end())\n",
    "    search_points_esg.append(i.end())\n",
    "\n",
    "search_points_esg.append( search_points_esg[-1] + 50 )"
   ]
  },
  {
   "cell_type": "code",
   "execution_count": 115,
   "metadata": {},
   "outputs": [
    {
     "output_type": "execute_result",
     "data": {
      "text/plain": [
       "[5576, 5828, 6080, 6332, 6584, 6634]"
      ]
     },
     "metadata": {},
     "execution_count": 115
    }
   ],
   "source": [
    "search_points_esg"
   ]
  },
  {
   "cell_type": "code",
   "execution_count": 116,
   "metadata": {},
   "outputs": [
    {
     "output_type": "stream",
     "name": "stdout",
     "text": [
      "A\n"
     ]
    }
   ],
   "source": [
    "result = re.search('\">(.*)</text>', data3[search_points_esg[0]: search_points_esg[1]])\n",
    "print(result.group(1))"
   ]
  },
  {
   "cell_type": "code",
   "execution_count": 117,
   "metadata": {},
   "outputs": [
    {
     "output_type": "execute_result",
     "data": {
      "text/plain": [
       "['A', 'A', 'A', 'A', 'BBB']"
      ]
     },
     "metadata": {},
     "execution_count": 117
    }
   ],
   "source": [
    "results = []\n",
    "for index, value in enumerate(search_points_esg):\n",
    "    if value == search_points_esg[-1]:\n",
    "        break\n",
    "    else:\n",
    "        result = re.search('\">(.*)</text>', data3[ search_points_esg[index]: search_points_esg[index+1] ])\n",
    "        results.append(result.group(1))\n",
    "results"
   ]
  },
  {
   "cell_type": "code",
   "execution_count": 118,
   "metadata": {},
   "outputs": [
    {
     "output_type": "execute_result",
     "data": {
      "text/plain": [
       "['Oct-16', 'Aug-17', 'Sep-18', 'Nov-19', 'Dec-20']"
      ]
     },
     "metadata": {},
     "execution_count": 118
    }
   ],
   "source": [
    "dates = re.findall(r'(?:Jan|Feb|Mar|Apr|May|Jun|Jul|Aug|Sep|Oct|Nov|Dec)\\-\\d{2}', data3)\n",
    "dates\n",
    "#search_points_date.append( search_points_date[-1] + 50 )\n",
    "#search_points_date"
   ]
  },
  {
   "cell_type": "code",
   "execution_count": 119,
   "metadata": {},
   "outputs": [
    {
     "output_type": "execute_result",
     "data": {
      "text/plain": [
       "['A', 'A', 'A', 'A', 'BBB']"
      ]
     },
     "metadata": {},
     "execution_count": 119
    }
   ],
   "source": [
    "results"
   ]
  },
  {
   "cell_type": "code",
   "execution_count": null,
   "metadata": {},
   "outputs": [],
   "source": []
  },
  {
   "cell_type": "code",
   "execution_count": null,
   "metadata": {},
   "outputs": [],
   "source": []
  }
 ]
}