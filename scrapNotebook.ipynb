{
 "metadata": {
  "language_info": {
   "codemirror_mode": {
    "name": "ipython",
    "version": 3
   },
   "file_extension": ".py",
   "mimetype": "text/x-python",
   "name": "python",
   "nbconvert_exporter": "python",
   "pygments_lexer": "ipython3",
   "version": "3.9.1-final"
  },
  "orig_nbformat": 2,
  "kernelspec": {
   "name": "python391jvsc74a57bd063fd5069d213b44bf678585dea6b12cceca9941eaf7f819626cde1f2670de90d",
   "display_name": "Python 3.9.1 64-bit"
  }
 },
 "nbformat": 4,
 "nbformat_minor": 2,
 "cells": [
  {
   "cell_type": "code",
   "execution_count": 48,
   "metadata": {},
   "outputs": [],
   "source": [
    "from selenium import webdriver\n",
    "from selenium.webdriver.chrome.options import Options\n",
    "import time\n",
    "import pprint\n",
    "import re\n",
    "import os"
   ]
  },
  {
   "cell_type": "code",
   "execution_count": 50,
   "metadata": {},
   "outputs": [],
   "source": [
    "class bot:\n",
    "    def __init__(self, company_ticker):\n",
    "        self.company_ticker = company_ticker\n",
    "        self.chrome_options = Options()\n",
    "        self.chrome_options.add_argument(\"--disable-extensions\")\n",
    "        self.chrome_options.add_argument(\"--disable-gpu\")\n",
    "        self.chrome_options.add_argument(\"--headless\")\n",
    "        self.driver = webdriver.Chrome(os.path.join(os.getcwd(), 'chromedriver_win32\\chromedriver.exe'), options=self.chrome_options)        \n",
    "        self.driver.get('https://www.msci.com/our-solutions/esg-investing/esg-ratings/esg-ratings-corporate-search-tool/issuer/')\n",
    "\n",
    "    def accept_cookies(self):\n",
    "        cookie_accept_xpath = '//*[@id=\"portlet_mscicookiebar_WAR_mscicookiebar\"]/div/div[2]/div/div/div[1]/div/button[1]'\n",
    "        self.clickButton(cookie_accept_xpath)\n",
    "        time.sleep(1)\n",
    "\n",
    "    def search_for_company(self):\n",
    "        company_search_field_xpath = '//*[@id=\"_esgratingsprofile_keywords\"]'\n",
    "        self.enterData(company_search_field_xpath, self.company_ticker)\n",
    "\n",
    "    def select_company(self):\n",
    "        company_search_dropdown = '//*[@id=\"ui-id-1\"]' #/li'\n",
    "        self.clickButton(company_search_dropdown)\n",
    "        \n",
    "\n",
    "    def get_esg_ratings(self):\n",
    "        esg_ratings_xpath = '//*[@id=\"_esgratingsprofile_esg-rating-history\"]'\n",
    "        esg_data = self.grabData(esg_ratings_xpath)\n",
    "        return esg_data\n",
    "\n",
    "    def grabData(self, xpath):\n",
    "        try:\n",
    "            data = self.driver.find_element_by_xpath(xpath)\n",
    "        except Exception:\n",
    "            time.sleep(2)\n",
    "            data = self.driver.find_element_by_xpath(xpath)\n",
    "        return data\n",
    "\n",
    "    def clickButton(self, xpath):\n",
    "        try:\n",
    "            self.driver.find_element_by_xpath(xpath).click()\n",
    "        except Exception:\n",
    "            time.sleep(2)\n",
    "            self.clickButton(xpath)\n",
    "\n",
    "    def enterData(self, xpath, data):\n",
    "        try:\n",
    "            self.driver.find_element_by_xpath(xpath).send_keys(data)\n",
    "            pass\n",
    "        except Exception:\n",
    "            time.sleep(1)\n",
    "            self.enterData(field, data)\n",
    "\n",
    "    def initializeScrapeProcess(self):\n",
    "        self.accept_cookies()\n",
    "        self.search_for_company()\n",
    "        self.select_company()\n",
    "        data = self.get_esg_ratings().get_attribute('innerHTML')\n",
    "        self.driver.quit()\n",
    "        return data"
   ]
  },
  {
   "cell_type": "code",
   "execution_count": 28,
   "metadata": {},
   "outputs": [],
   "source": [
    "def scrapy_esg_bot(ticker_symbol):\n",
    "    webscrape_bot = bot(ticker_symbol)\n",
    "    data = webscrape_bot.initializeScrapeProcess()\n",
    "    return data"
   ]
  },
  {
   "cell_type": "code",
   "execution_count": 29,
   "metadata": {},
   "outputs": [],
   "source": [
    "data3 = scrapy_esg_bot('tsla')"
   ]
  },
  {
   "cell_type": "code",
   "execution_count": 52,
   "metadata": {},
   "outputs": [],
   "source": [
    "data3 = bot('tsla').initializeScrapeProcess()"
   ]
  },
  {
   "cell_type": "code",
   "execution_count": 8,
   "metadata": {},
   "outputs": [],
   "source": [
    "def scrapy_esg_bot2(ticker_symbol):\n",
    "    webscrape_bot = bot(ticker_symbol)\n",
    "    webscrape_bot.accept_cookies()\n",
    "    webscrape_bot.search_for_company()\n",
    "    webscrape_bot.select_company()\n",
    "    data = webscrape_bot.get_esg_ratings().get_attribute('innerHTML')\n",
    "    webscrape_bot.driver.quit()\n",
    "    return data"
   ]
  },
  {
   "cell_type": "code",
   "execution_count": 16,
   "metadata": {},
   "outputs": [
    {
     "output_type": "error",
     "ename": "NameError",
     "evalue": "name 'data' is not defined",
     "traceback": [
      "\u001b[1;31m---------------------------------------------------------------------------\u001b[0m",
      "\u001b[1;31mNameError\u001b[0m                                 Traceback (most recent call last)",
      "\u001b[1;32m<ipython-input-16-588bf189b172>\u001b[0m in \u001b[0;36m<module>\u001b[1;34m\u001b[0m\n\u001b[1;32m----> 1\u001b[1;33m \u001b[0mdata2\u001b[0m \u001b[1;33m=\u001b[0m \u001b[0mscrapy_esg_bot2\u001b[0m\u001b[1;33m(\u001b[0m\u001b[1;34m'mng'\u001b[0m\u001b[1;33m)\u001b[0m\u001b[1;33m\u001b[0m\u001b[1;33m\u001b[0m\u001b[0m\n\u001b[0m",
      "\u001b[1;32m<ipython-input-4-782b9ccebd1d>\u001b[0m in \u001b[0;36mscrapy_esg_bot2\u001b[1;34m(ticker_symbol)\u001b[0m\n\u001b[0;32m      2\u001b[0m     \u001b[0mwebscrape_bot\u001b[0m \u001b[1;33m=\u001b[0m \u001b[0mbot\u001b[0m\u001b[1;33m(\u001b[0m\u001b[0mticker_symbol\u001b[0m\u001b[1;33m)\u001b[0m\u001b[1;33m\u001b[0m\u001b[1;33m\u001b[0m\u001b[0m\n\u001b[0;32m      3\u001b[0m     \u001b[0mwebscrape_bot\u001b[0m\u001b[1;33m.\u001b[0m\u001b[0minitializeScrapeProcess\u001b[0m\u001b[1;33m(\u001b[0m\u001b[1;33m)\u001b[0m\u001b[1;33m\u001b[0m\u001b[1;33m\u001b[0m\u001b[0m\n\u001b[1;32m----> 4\u001b[1;33m     \u001b[1;32mreturn\u001b[0m \u001b[0mdata\u001b[0m\u001b[1;33m\u001b[0m\u001b[1;33m\u001b[0m\u001b[0m\n\u001b[0m\u001b[0;32m      5\u001b[0m \u001b[1;33m\u001b[0m\u001b[0m\n\u001b[0;32m      6\u001b[0m \u001b[0mdata3\u001b[0m \u001b[1;33m=\u001b[0m \u001b[0mscrapy_esg_bot\u001b[0m\u001b[1;33m(\u001b[0m\u001b[1;34m'tsla'\u001b[0m\u001b[1;33m)\u001b[0m\u001b[1;33m\u001b[0m\u001b[1;33m\u001b[0m\u001b[0m\n",
      "\u001b[1;31mNameError\u001b[0m: name 'data' is not defined"
     ]
    }
   ],
   "source": [
    "data2 = scrapy_esg_bot2('mng')"
   ]
  },
  {
   "cell_type": "code",
   "execution_count": 54,
   "metadata": {},
   "outputs": [
    {
     "output_type": "stream",
     "name": "stdout",
     "text": [
      "('<div id=\"highcharts-5gdello-0\" dir=\"ltr\" class=\"highcharts-container \" '\n 'style=\"position: relative; overflow: hidden; width: 703px; height: 250px; '\n 'text-align: left; line-height: normal; z-index: 0; '\n '-webkit-tap-highlight-color: rgba(0, 0, 0, 0); color: rgb(0, 32, 54);\"><svg '\n 'version=\"1.1\" class=\"highcharts-root\" style=\"font-family:\\'Roboto Regular\\', '\n 'sans-serif;;font-size:12px;;color:#002036;fill:#002036;\" '\n 'xmlns=\"http://www.w3.org/2000/svg\" width=\"703\" height=\"250\" viewBox=\"0 0 703 '\n '250\"><desc>Created with Highcharts 7.2.0</desc><defs><clipPath '\n 'id=\"highcharts-5gdello-1-\"><rect x=\"0\" y=\"0\" width=\"641\" height=\"200\" '\n 'fill=\"none\"></rect></clipPath><clipPath id=\"highcharts-5gdello-8-\"><rect '\n 'x=\"0\" y=\"0\" width=\"641\" height=\"200\" '\n 'fill=\"none\"></rect></clipPath></defs><rect fill=\"#ffffff\" '\n 'class=\"highcharts-background\" x=\"0\" y=\"0\" width=\"703\" height=\"250\" rx=\"0\" '\n 'ry=\"0\"></rect><rect fill=\"none\" class=\"highcharts-plot-background\" x=\"52\" '\n 'y=\"10\" width=\"641\" height=\"200\"></rect><g class=\"highcharts-grid '\n 'highcharts-xaxis-grid\" data-z-index=\"1\"><path fill=\"none\" data-z-index=\"1\" '\n 'class=\"highcharts-grid-line\" d=\"M 179.5 10 L 179.5 210\" '\n 'opacity=\"1\"></path><path fill=\"none\" data-z-index=\"1\" '\n 'class=\"highcharts-grid-line\" d=\"M 307.5 10 L 307.5 210\" '\n 'opacity=\"1\"></path><path fill=\"none\" data-z-index=\"1\" '\n 'class=\"highcharts-grid-line\" d=\"M 436.5 10 L 436.5 210\" '\n 'opacity=\"1\"></path><path fill=\"none\" data-z-index=\"1\" '\n 'class=\"highcharts-grid-line\" d=\"M 564.5 10 L 564.5 210\" '\n 'opacity=\"1\"></path><path fill=\"none\" data-z-index=\"1\" '\n 'class=\"highcharts-grid-line\" d=\"M 692.5 10 L 692.5 210\" '\n 'opacity=\"1\"></path><path fill=\"none\" data-z-index=\"1\" '\n 'class=\"highcharts-grid-line\" d=\"M 51.5 10 L 51.5 210\" '\n 'opacity=\"1\"></path></g><g class=\"highcharts-grid highcharts-yaxis-grid\" '\n 'data-z-index=\"1\"><path fill=\"none\" data-z-index=\"1\" '\n 'class=\"highcharts-grid-line\" d=\"M 52 210.5 L 693 210.5\" '\n 'opacity=\"1\"></path><path fill=\"none\" data-z-index=\"1\" '\n 'class=\"highcharts-grid-line\" d=\"M 52 183.5 L 693 183.5\" '\n 'opacity=\"1\"></path><path fill=\"none\" data-z-index=\"1\" '\n 'class=\"highcharts-grid-line\" d=\"M 52 157.5 L 693 157.5\" '\n 'opacity=\"1\"></path><path fill=\"none\" data-z-index=\"1\" '\n 'class=\"highcharts-grid-line\" d=\"M 52 130.5 L 693 130.5\" '\n 'opacity=\"1\"></path><path fill=\"none\" data-z-index=\"1\" '\n 'class=\"highcharts-grid-line\" d=\"M 52 103.5 L 693 103.5\" '\n 'opacity=\"1\"></path><path fill=\"none\" data-z-index=\"1\" '\n 'class=\"highcharts-grid-line\" d=\"M 52 77.5 L 693 77.5\" '\n 'opacity=\"1\"></path><path fill=\"none\" data-z-index=\"1\" '\n 'class=\"highcharts-grid-line\" d=\"M 52 50.5 L 693 50.5\" '\n 'opacity=\"1\"></path><path fill=\"none\" data-z-index=\"1\" '\n 'class=\"highcharts-grid-line\" d=\"M 52 23.5 L 693 23.5\" '\n 'opacity=\"1\"></path></g><rect fill=\"none\" class=\"highcharts-plot-border\" '\n 'data-z-index=\"1\" x=\"52\" y=\"10\" width=\"641\" height=\"200\"></rect><g '\n 'class=\"highcharts-axis highcharts-xaxis\" data-z-index=\"2\"><path fill=\"none\" '\n 'class=\"highcharts-axis-line\" stroke=\"#002036\" stroke-width=\"1\" '\n 'data-z-index=\"7\" d=\"M 52 210.5 L 693 210.5\"></path></g><g '\n 'class=\"highcharts-axis highcharts-yaxis\" data-z-index=\"2\"><path fill=\"none\" '\n 'class=\"highcharts-axis-line\" stroke=\"#002036\" stroke-width=\"1\" '\n 'data-z-index=\"7\" d=\"M 51.5 10 L 51.5 210\"></path></g><g '\n 'class=\"highcharts-series-group\" data-z-index=\"3\"><g data-z-index=\"0.1\" '\n 'class=\"highcharts-series highcharts-series-0 highcharts-line-series \" '\n 'transform=\"translate(52,10) scale(1 1)\" '\n 'clip-path=\"url(#highcharts-5gdello-8-)\"><path fill=\"none\" d=\"M 64.1 '\n '13.333333333333323 L 192.3 39.99999999999998 L 320.5 39.99999999999998 L '\n '448.7 66.66666666666667 L 576.9 66.66666666666667\" class=\"highcharts-graph\" '\n 'data-z-index=\"1\" stroke=\"#002036\" stroke-width=\"2\" stroke-linejoin=\"round\" '\n 'stroke-linecap=\"round\"></path><path fill=\"none\" d=\"M 54.099999999999994 '\n '13.333333333333323 L 64.1 13.333333333333323 L 192.3 39.99999999999998 L '\n '320.5 39.99999999999998 L 448.7 66.66666666666667 L 576.9 66.66666666666667 '\n 'L 586.9 66.66666666666667\" visibility=\"visible\" data-z-index=\"2\" '\n 'class=\"highcharts-tracker-line\" stroke-linejoin=\"round\" '\n 'stroke=\"rgba(192,192,192,0.0001)\" stroke-width=\"22\"></path></g><g '\n 'data-z-index=\"0.1\" class=\"highcharts-markers highcharts-series-0 '\n 'highcharts-line-series  highcharts-tracker\" transform=\"translate(52,10) '\n 'scale(1 1)\"><path fill=\"#007567\" d=\"M 64 33 A 20 20 0 1 1 64.01999999666668 '\n '32.999990000000835 Z\" opacity=\"1\" class=\"highcharts-point\"></path><path '\n 'fill=\"#007567\" d=\"M 192 60 A 20 20 0 1 1 192.01999999666668 '\n '59.999990000000835 Z\" opacity=\"1\" class=\"highcharts-point\"></path><path '\n 'fill=\"#007567\" d=\"M 320 60 A 20 20 0 1 1 320.0199999966667 '\n '59.999990000000835 Z\" opacity=\"1\" class=\"highcharts-point\"></path><path '\n 'fill=\"#FFB500\" d=\"M 448 87 A 20 20 0 1 1 448.0199999966667 86.99999000000084 '\n 'Z\" opacity=\"1\" class=\"highcharts-point\"></path><path fill=\"#FFB500\" d=\"M 576 '\n '87 A 20 20 0 1 1 576.0199999966667 86.99999000000084 Z\" opacity=\"1\" '\n 'class=\"highcharts-point\"></path></g></g><text x=\"10\" '\n 'class=\"highcharts-title\" data-z-index=\"4\" '\n 'style=\"color:#333333;font-size:18px;fill:#333333;\" y=\"24\"></text><text '\n 'x=\"352\" text-anchor=\"middle\" class=\"highcharts-subtitle\" data-z-index=\"4\" '\n 'style=\"color:#666666;fill:#666666;\" y=\"24\"></text><text x=\"10\" '\n 'text-anchor=\"start\" class=\"highcharts-caption\" data-z-index=\"4\" '\n 'style=\"color:#666666;fill:#666666;\" y=\"247\"></text><g data-z-index=\"6\" '\n 'class=\"highcharts-data-labels highcharts-series-0 highcharts-line-series \" '\n 'transform=\"translate(52,10) scale(1 1)\" opacity=\"1\"><g '\n 'class=\"highcharts-label highcharts-data-label '\n 'highcharts-data-label-color-undefined\" data-z-index=\"1\" '\n 'transform=\"translate(45,0)\"><text x=\"5\" data-z-index=\"1\" '\n 'style=\"font-size:14px;;font-weight:bold;color:#FFFFFF;fill:#FFFFFF;\" '\n 'y=\"19\">AAA</text></g><g class=\"highcharts-label highcharts-data-label '\n 'highcharts-data-label-color-undefined\" data-z-index=\"1\" '\n 'transform=\"translate(178,27)\"><text x=\"5\" data-z-index=\"1\" '\n 'style=\"font-size:14px;;font-weight:bold;color:#FFFFFF;fill:#FFFFFF;\" '\n 'y=\"19\">AA</text></g><g class=\"highcharts-label highcharts-data-label '\n 'highcharts-data-label-color-undefined\" data-z-index=\"1\" '\n 'transform=\"translate(306,27)\"><text x=\"5\" data-z-index=\"1\" '\n 'style=\"font-size:14px;;font-weight:bold;color:#FFFFFF;fill:#FFFFFF;\" '\n 'y=\"19\">AA</text></g><g class=\"highcharts-label highcharts-data-label '\n 'highcharts-data-label-color-undefined\" data-z-index=\"1\" '\n 'transform=\"translate(439,54)\"><text x=\"5\" data-z-index=\"1\" '\n 'style=\"font-size:14px;;font-weight:bold;color:#FFFFFF;fill:#FFFFFF;\" '\n 'y=\"19\">A</text></g><g class=\"highcharts-label highcharts-data-label '\n 'highcharts-data-label-color-undefined\" data-z-index=\"1\" '\n 'transform=\"translate(567,54)\"><text x=\"5\" data-z-index=\"1\" '\n 'style=\"font-size:14px;;font-weight:bold;color:#FFFFFF;fill:#FFFFFF;\" '\n 'y=\"19\">A</text></g></g><g class=\"highcharts-axis-labels '\n 'highcharts-xaxis-labels\" data-z-index=\"7\"><text x=\"116.1\" '\n 'style=\"color:#002036;cursor:default;font-size:14px;;fill:#002036;\" '\n 'text-anchor=\"middle\" transform=\"translate(0,0)\" y=\"232\" '\n 'opacity=\"1\">Jul-17</text><text x=\"244.29999999999998\" '\n 'style=\"color:#002036;cursor:default;font-size:14px;;fill:#002036;\" '\n 'text-anchor=\"middle\" transform=\"translate(0,0)\" y=\"232\" '\n 'opacity=\"1\">Apr-18</text><text x=\"372.5\" '\n 'style=\"color:#002036;cursor:default;font-size:14px;;fill:#002036;\" '\n 'text-anchor=\"middle\" transform=\"translate(0,0)\" y=\"232\" '\n 'opacity=\"1\">Aug-18</text><text x=\"500.69999999999993\" '\n 'style=\"color:#002036;cursor:default;font-size:14px;;fill:#002036;\" '\n 'text-anchor=\"middle\" transform=\"translate(0,0)\" y=\"232\" '\n 'opacity=\"1\">Apr-19</text><text x=\"628.9\" '\n 'style=\"color:#002036;cursor:default;font-size:14px;;fill:#002036;\" '\n 'text-anchor=\"middle\" transform=\"translate(0,0)\" y=\"232\" '\n 'opacity=\"1\">Apr-20</text></g><g class=\"highcharts-axis-labels '\n 'highcharts-yaxis-labels\" data-z-index=\"7\"><text x=\"0\" '\n 'style=\"color:#002036;cursor:default;font-size:14px;;fill:#002036;\" '\n 'text-anchor=\"end\" transform=\"translate(0,0)\" y=\"-9999\">-1</text><text x=\"37\" '\n 'style=\"color:#002036;cursor:default;font-size:14px;;fill:#002036;\" '\n 'text-anchor=\"end\" transform=\"translate(0,0)\" y=\"189\" '\n 'opacity=\"1\">CCC</text><text x=\"37\" '\n 'style=\"color:#002036;cursor:default;font-size:14px;;fill:#002036;\" '\n 'text-anchor=\"end\" transform=\"translate(0,0)\" y=\"162\" '\n 'opacity=\"1\">B</text><text x=\"37\" '\n 'style=\"color:#002036;cursor:default;font-size:14px;;fill:#002036;\" '\n 'text-anchor=\"end\" transform=\"translate(0,0)\" y=\"136\" '\n 'opacity=\"1\">BB</text><text x=\"37\" '\n 'style=\"color:#002036;cursor:default;font-size:14px;;fill:#002036;\" '\n 'text-anchor=\"end\" transform=\"translate(0,0)\" y=\"109\" '\n 'opacity=\"1\">BBB</text><text x=\"37\" '\n 'style=\"color:#002036;cursor:default;font-size:14px;;fill:#002036;\" '\n 'text-anchor=\"end\" transform=\"translate(0,0)\" y=\"82\" '\n 'opacity=\"1\">A</text><text x=\"37\" '\n 'style=\"color:#002036;cursor:default;font-size:14px;;fill:#002036;\" '\n 'text-anchor=\"end\" transform=\"translate(0,0)\" y=\"56\" '\n 'opacity=\"1\">AA</text><text x=\"37\" '\n 'style=\"color:#002036;cursor:default;font-size:14px;;fill:#002036;\" '\n 'text-anchor=\"end\" transform=\"translate(0,0)\" y=\"29\" '\n 'opacity=\"1\">AAA</text></g></svg></div>')\n"
     ]
    }
   ],
   "source": [
    "pprint.pprint(data3)"
   ]
  },
  {
   "cell_type": "code",
   "execution_count": 55,
   "metadata": {},
   "outputs": [
    {
     "output_type": "execute_result",
     "data": {
      "text/plain": [
       "';fill:#FFFFFF;\" y=\"19\">AAA</text></g><g class=\"highcharts-label highcharts-data-label highcharts-data-label-color-undefined\" data-z-index=\"1\" transform=\"translate(178,27)\"><text x=\"5\" data-z-index=\"1\" '"
      ]
     },
     "metadata": {},
     "execution_count": 55
    }
   ],
   "source": [
    "data3.split('style=\"font-size:14px;;font-weight:bold;color:#FFFFFF')[1]"
   ]
  },
  {
   "cell_type": "code",
   "execution_count": 56,
   "metadata": {},
   "outputs": [
    {
     "output_type": "stream",
     "name": "stdout",
     "text": [
      "text found 5526 5579\ntext found 5780 5833\ntext found 6033 6086\ntext found 6286 6339\ntext found 6538 6591\n"
     ]
    }
   ],
   "source": [
    "search_points_esg = []\n",
    "for i in re.finditer('style=\"font-size:14px;;font-weight:bold;color:#FFFFFF', data3):\n",
    "    print('text found', i.start(), i.end())\n",
    "    search_points_esg.append(i.end())\n",
    "\n",
    "search_points_esg.append( search_points_esg[-1] + 50 )"
   ]
  },
  {
   "cell_type": "code",
   "execution_count": 57,
   "metadata": {},
   "outputs": [
    {
     "output_type": "execute_result",
     "data": {
      "text/plain": [
       "[5579, 5833, 6086, 6339, 6591, 6641]"
      ]
     },
     "metadata": {},
     "execution_count": 57
    }
   ],
   "source": [
    "search_points_esg"
   ]
  },
  {
   "cell_type": "code",
   "execution_count": 58,
   "metadata": {},
   "outputs": [
    {
     "output_type": "stream",
     "name": "stdout",
     "text": [
      "AAA\n"
     ]
    }
   ],
   "source": [
    "result = re.search('\">(.*)</text>', data3[search_points_esg[0]: search_points_esg[1]])\n",
    "print(result.group(1))"
   ]
  },
  {
   "cell_type": "code",
   "execution_count": 59,
   "metadata": {},
   "outputs": [
    {
     "output_type": "execute_result",
     "data": {
      "text/plain": [
       "['AAA', 'AA', 'AA', 'A', 'A']"
      ]
     },
     "metadata": {},
     "execution_count": 59
    }
   ],
   "source": [
    "results = []\n",
    "for index, value in enumerate(search_points_esg):\n",
    "    if value == search_points_esg[-1]:\n",
    "        break\n",
    "    else:\n",
    "        result = re.search('\">(.*)</text>', data3[ search_points_esg[index]: search_points_esg[index+1] ])\n",
    "        results.append(result.group(1))\n",
    "results"
   ]
  },
  {
   "cell_type": "code",
   "execution_count": 60,
   "metadata": {},
   "outputs": [
    {
     "output_type": "execute_result",
     "data": {
      "text/plain": [
       "['Jul-17', 'Apr-18', 'Aug-18', 'Apr-19', 'Apr-20']"
      ]
     },
     "metadata": {},
     "execution_count": 60
    }
   ],
   "source": [
    "dates = re.findall(r'(?:Jan|Feb|Mar|Apr|May|Jun|Jul|Aug|Sep|Oct|Nov|Dec)\\-\\d{2}', data3)\n",
    "dates\n",
    "#search_points_date.append( search_points_date[-1] + 50 )\n",
    "#search_points_date"
   ]
  },
  {
   "cell_type": "code",
   "execution_count": 61,
   "metadata": {},
   "outputs": [
    {
     "output_type": "execute_result",
     "data": {
      "text/plain": [
       "['AAA', 'AA', 'AA', 'A', 'A']"
      ]
     },
     "metadata": {},
     "execution_count": 61
    }
   ],
   "source": [
    "results"
   ]
  },
  {
   "cell_type": "code",
   "execution_count": 64,
   "metadata": {},
   "outputs": [],
   "source": [
    "import yfinance as yf\n",
    "import pandas as pd"
   ]
  },
  {
   "cell_type": "code",
   "execution_count": 46,
   "metadata": {},
   "outputs": [
    {
     "output_type": "stream",
     "name": "stdout",
     "text": [
      "[*********************100%***********************]  1 of 1 completed\n"
     ]
    }
   ],
   "source": [
    "appl_data1 = yf.download(\"AAPL\", start=\"2019-05-01\", end=\"2020-12-01\")\n",
    "#appl_data1 = yf.download(\"AAPL\", start=\"2019-05-01\", end=\"2019-05-01\")"
   ]
  },
  {
   "cell_type": "code",
   "execution_count": 47,
   "metadata": {},
   "outputs": [
    {
     "output_type": "execute_result",
     "data": {
      "text/plain": [
       "                  Open        High         Low       Close   Adj Close  \\\n",
       "Date                                                                     \n",
       "2019-04-30   50.764999   50.849998   49.777500   50.167500   49.138439   \n",
       "2019-05-01   52.470001   53.827499   52.307499   52.630001   51.550426   \n",
       "2019-05-02   52.459999   53.162498   52.032501   52.287498   51.214951   \n",
       "2019-05-03   52.722500   52.959999   52.557499   52.937500   51.851620   \n",
       "2019-05-06   51.072498   52.209999   50.875000   52.119999   51.050892   \n",
       "...                ...         ...         ...         ...         ...   \n",
       "2020-11-23  117.180000  117.620003  113.750000  113.849998  113.680122   \n",
       "2020-11-24  113.910004  115.849998  112.589996  115.169998  114.998154   \n",
       "2020-11-25  115.550003  116.750000  115.169998  116.029999  115.856873   \n",
       "2020-11-27  116.570000  117.489998  116.220001  116.589996  116.416031   \n",
       "2020-11-30  116.970001  120.970001  116.809998  119.050003  118.872368   \n",
       "\n",
       "               Volume  \n",
       "Date                   \n",
       "2019-04-30  186139600  \n",
       "2019-05-01  259309200  \n",
       "2019-05-02  127985200  \n",
       "2019-05-03   83569600  \n",
       "2019-05-06  129772400  \n",
       "...               ...  \n",
       "2020-11-23  127959300  \n",
       "2020-11-24  113874200  \n",
       "2020-11-25   76499200  \n",
       "2020-11-27   46691300  \n",
       "2020-11-30  169410200  \n",
       "\n",
       "[402 rows x 6 columns]"
      ],
      "text/html": "<div>\n<style scoped>\n    .dataframe tbody tr th:only-of-type {\n        vertical-align: middle;\n    }\n\n    .dataframe tbody tr th {\n        vertical-align: top;\n    }\n\n    .dataframe thead th {\n        text-align: right;\n    }\n</style>\n<table border=\"1\" class=\"dataframe\">\n  <thead>\n    <tr style=\"text-align: right;\">\n      <th></th>\n      <th>Open</th>\n      <th>High</th>\n      <th>Low</th>\n      <th>Close</th>\n      <th>Adj Close</th>\n      <th>Volume</th>\n    </tr>\n    <tr>\n      <th>Date</th>\n      <th></th>\n      <th></th>\n      <th></th>\n      <th></th>\n      <th></th>\n      <th></th>\n    </tr>\n  </thead>\n  <tbody>\n    <tr>\n      <th>2019-04-30</th>\n      <td>50.764999</td>\n      <td>50.849998</td>\n      <td>49.777500</td>\n      <td>50.167500</td>\n      <td>49.138439</td>\n      <td>186139600</td>\n    </tr>\n    <tr>\n      <th>2019-05-01</th>\n      <td>52.470001</td>\n      <td>53.827499</td>\n      <td>52.307499</td>\n      <td>52.630001</td>\n      <td>51.550426</td>\n      <td>259309200</td>\n    </tr>\n    <tr>\n      <th>2019-05-02</th>\n      <td>52.459999</td>\n      <td>53.162498</td>\n      <td>52.032501</td>\n      <td>52.287498</td>\n      <td>51.214951</td>\n      <td>127985200</td>\n    </tr>\n    <tr>\n      <th>2019-05-03</th>\n      <td>52.722500</td>\n      <td>52.959999</td>\n      <td>52.557499</td>\n      <td>52.937500</td>\n      <td>51.851620</td>\n      <td>83569600</td>\n    </tr>\n    <tr>\n      <th>2019-05-06</th>\n      <td>51.072498</td>\n      <td>52.209999</td>\n      <td>50.875000</td>\n      <td>52.119999</td>\n      <td>51.050892</td>\n      <td>129772400</td>\n    </tr>\n    <tr>\n      <th>...</th>\n      <td>...</td>\n      <td>...</td>\n      <td>...</td>\n      <td>...</td>\n      <td>...</td>\n      <td>...</td>\n    </tr>\n    <tr>\n      <th>2020-11-23</th>\n      <td>117.180000</td>\n      <td>117.620003</td>\n      <td>113.750000</td>\n      <td>113.849998</td>\n      <td>113.680122</td>\n      <td>127959300</td>\n    </tr>\n    <tr>\n      <th>2020-11-24</th>\n      <td>113.910004</td>\n      <td>115.849998</td>\n      <td>112.589996</td>\n      <td>115.169998</td>\n      <td>114.998154</td>\n      <td>113874200</td>\n    </tr>\n    <tr>\n      <th>2020-11-25</th>\n      <td>115.550003</td>\n      <td>116.750000</td>\n      <td>115.169998</td>\n      <td>116.029999</td>\n      <td>115.856873</td>\n      <td>76499200</td>\n    </tr>\n    <tr>\n      <th>2020-11-27</th>\n      <td>116.570000</td>\n      <td>117.489998</td>\n      <td>116.220001</td>\n      <td>116.589996</td>\n      <td>116.416031</td>\n      <td>46691300</td>\n    </tr>\n    <tr>\n      <th>2020-11-30</th>\n      <td>116.970001</td>\n      <td>120.970001</td>\n      <td>116.809998</td>\n      <td>119.050003</td>\n      <td>118.872368</td>\n      <td>169410200</td>\n    </tr>\n  </tbody>\n</table>\n<p>402 rows × 6 columns</p>\n</div>"
     },
     "metadata": {},
     "execution_count": 47
    }
   ],
   "source": [
    "appl_data1"
   ]
  },
  {
   "cell_type": "code",
   "execution_count": null,
   "metadata": {},
   "outputs": [],
   "source": [
    "//*[@id=\"_esgratingsprofile_esg-ratings-profile-header\"]/div[1]/div[1]\n",
    "//*[@id=\"_esgratingsprofile_esg-ratings-profile-header\"]/div[1]/div[1]\n",
    "\n",
    "//*[@id=\"_esgratingsprofile_esg-ratings-profile-header\"]/div[1]/div[2]\n",
    "//*[@id=\"_esgratingsprofile_esg-ratings-profile-header\"]/div[1]/div[2]\n",
    "\n",
    "//*[@id=\"_esgratingsprofile_esg-ratings-profile-header\"]/div[1]/div[3]/div[1]\n",
    "\n",
    "//*[@id=\"_esgratingsprofile_esg-ratings-profile-header\"]/div[1]/div[3]/div[2]"
   ]
  },
  {
   "cell_type": "code",
   "execution_count": 73,
   "metadata": {},
   "outputs": [],
   "source": [
    "test_data = [['A', 'A', 'A', 'A', 'BBB'], ['Oct-16', 'Aug-17', 'Sep-18', 'Nov-19', 'Dec-20']]"
   ]
  },
  {
   "cell_type": "code",
   "execution_count": 80,
   "metadata": {},
   "outputs": [
    {
     "output_type": "execute_result",
     "data": {
      "text/plain": [
       "  ESG Score    Date\n",
       "0         A  Oct-16\n",
       "1         A  Aug-17\n",
       "2         A  Sep-18\n",
       "3         A  Nov-19\n",
       "4       BBB  Dec-20"
      ],
      "text/html": "<div>\n<style scoped>\n    .dataframe tbody tr th:only-of-type {\n        vertical-align: middle;\n    }\n\n    .dataframe tbody tr th {\n        vertical-align: top;\n    }\n\n    .dataframe thead th {\n        text-align: right;\n    }\n</style>\n<table border=\"1\" class=\"dataframe\">\n  <thead>\n    <tr style=\"text-align: right;\">\n      <th></th>\n      <th>ESG Score</th>\n      <th>Date</th>\n    </tr>\n  </thead>\n  <tbody>\n    <tr>\n      <th>0</th>\n      <td>A</td>\n      <td>Oct-16</td>\n    </tr>\n    <tr>\n      <th>1</th>\n      <td>A</td>\n      <td>Aug-17</td>\n    </tr>\n    <tr>\n      <th>2</th>\n      <td>A</td>\n      <td>Sep-18</td>\n    </tr>\n    <tr>\n      <th>3</th>\n      <td>A</td>\n      <td>Nov-19</td>\n    </tr>\n    <tr>\n      <th>4</th>\n      <td>BBB</td>\n      <td>Dec-20</td>\n    </tr>\n  </tbody>\n</table>\n</div>"
     },
     "metadata": {},
     "execution_count": 80
    }
   ],
   "source": [
    "pd.DataFrame(test_data, index=['ESG Score', 'Date']).T"
   ]
  },
  {
   "cell_type": "code",
   "execution_count": 78,
   "metadata": {},
   "outputs": [
    {
     "output_type": "execute_result",
     "data": {
      "text/plain": [
       "  col_low col_up\n",
       "0       a     AA\n",
       "1       b     BB\n",
       "2       c     CC"
      ],
      "text/html": "<div>\n<style scoped>\n    .dataframe tbody tr th:only-of-type {\n        vertical-align: middle;\n    }\n\n    .dataframe tbody tr th {\n        vertical-align: top;\n    }\n\n    .dataframe thead th {\n        text-align: right;\n    }\n</style>\n<table border=\"1\" class=\"dataframe\">\n  <thead>\n    <tr style=\"text-align: right;\">\n      <th></th>\n      <th>col_low</th>\n      <th>col_up</th>\n    </tr>\n  </thead>\n  <tbody>\n    <tr>\n      <th>0</th>\n      <td>a</td>\n      <td>AA</td>\n    </tr>\n    <tr>\n      <th>1</th>\n      <td>b</td>\n      <td>BB</td>\n    </tr>\n    <tr>\n      <th>2</th>\n      <td>c</td>\n      <td>CC</td>\n    </tr>\n  </tbody>\n</table>\n</div>"
     },
     "metadata": {},
     "execution_count": 78
    }
   ],
   "source": [
    "test_list = [['a','b','c'], ['AA','BB','CC']]\n",
    "pd.DataFrame(test_list, index=['col_low', 'col_up']).T"
   ]
  },
  {
   "cell_type": "code",
   "execution_count": 83,
   "metadata": {},
   "outputs": [
    {
     "output_type": "execute_result",
     "data": {
      "text/plain": [
       "  ESG Score    Date\n",
       "0         A  Oct-16\n",
       "1         A  Aug-17\n",
       "2         A  Sep-18\n",
       "3         A  Nov-19\n",
       "4       BBB  Dec-20"
      ],
      "text/html": "<div>\n<style scoped>\n    .dataframe tbody tr th:only-of-type {\n        vertical-align: middle;\n    }\n\n    .dataframe tbody tr th {\n        vertical-align: top;\n    }\n\n    .dataframe thead th {\n        text-align: right;\n    }\n</style>\n<table border=\"1\" class=\"dataframe\">\n  <thead>\n    <tr style=\"text-align: right;\">\n      <th></th>\n      <th>ESG Score</th>\n      <th>Date</th>\n    </tr>\n  </thead>\n  <tbody>\n    <tr>\n      <th>0</th>\n      <td>A</td>\n      <td>Oct-16</td>\n    </tr>\n    <tr>\n      <th>1</th>\n      <td>A</td>\n      <td>Aug-17</td>\n    </tr>\n    <tr>\n      <th>2</th>\n      <td>A</td>\n      <td>Sep-18</td>\n    </tr>\n    <tr>\n      <th>3</th>\n      <td>A</td>\n      <td>Nov-19</td>\n    </tr>\n    <tr>\n      <th>4</th>\n      <td>BBB</td>\n      <td>Dec-20</td>\n    </tr>\n  </tbody>\n</table>\n</div>"
     },
     "metadata": {},
     "execution_count": 83
    }
   ],
   "source": [
    "test_data = [['A', 'A', 'A', 'A', 'BBB'], ['Oct-16', 'Aug-17', 'Sep-18', 'Nov-19', 'Dec-20']]\n",
    "\n",
    "mydf = pd.DataFrame(list(zip(test_data[0], test_data[1])), columns = ['ESG Score', 'Date'])\n",
    "\n",
    "mydf"
   ]
  },
  {
   "cell_type": "code",
   "execution_count": 89,
   "metadata": {},
   "outputs": [],
   "source": [
    "mydf['Date'] = pd.to_datetime( mydf['Date'], format='%b-%y')"
   ]
  },
  {
   "cell_type": "code",
   "execution_count": 90,
   "metadata": {},
   "outputs": [
    {
     "output_type": "execute_result",
     "data": {
      "text/plain": [
       "  ESG Score       Date\n",
       "0         A 2016-10-01\n",
       "1         A 2017-08-01\n",
       "2         A 2018-09-01\n",
       "3         A 2019-11-01\n",
       "4       BBB 2020-12-01"
      ],
      "text/html": "<div>\n<style scoped>\n    .dataframe tbody tr th:only-of-type {\n        vertical-align: middle;\n    }\n\n    .dataframe tbody tr th {\n        vertical-align: top;\n    }\n\n    .dataframe thead th {\n        text-align: right;\n    }\n</style>\n<table border=\"1\" class=\"dataframe\">\n  <thead>\n    <tr style=\"text-align: right;\">\n      <th></th>\n      <th>ESG Score</th>\n      <th>Date</th>\n    </tr>\n  </thead>\n  <tbody>\n    <tr>\n      <th>0</th>\n      <td>A</td>\n      <td>2016-10-01</td>\n    </tr>\n    <tr>\n      <th>1</th>\n      <td>A</td>\n      <td>2017-08-01</td>\n    </tr>\n    <tr>\n      <th>2</th>\n      <td>A</td>\n      <td>2018-09-01</td>\n    </tr>\n    <tr>\n      <th>3</th>\n      <td>A</td>\n      <td>2019-11-01</td>\n    </tr>\n    <tr>\n      <th>4</th>\n      <td>BBB</td>\n      <td>2020-12-01</td>\n    </tr>\n  </tbody>\n</table>\n</div>"
     },
     "metadata": {},
     "execution_count": 90
    }
   ],
   "source": [
    "mydf"
   ]
  },
  {
   "cell_type": "code",
   "execution_count": 96,
   "metadata": {},
   "outputs": [
    {
     "output_type": "stream",
     "name": "stdout",
     "text": [
      "[*********************100%***********************]  1 of 1 completed\n",
      "             Open   High    Low      Close  Adj Close    Volume\n",
      "Date                                                           \n",
      "2016-09-30  57.57  57.77  57.34  57.599998  53.518501  29910800\n",
      "[*********************100%***********************]  1 of 1 completed\n",
      "                 Open       High        Low      Close  Adj Close    Volume\n",
      "Date                                                                       \n",
      "2017-07-31  73.300003  73.440002  72.410004  72.699997  68.809288  23600100\n",
      "[*********************100%***********************]  1 of 1 completed\n",
      "                  Open        High         Low       Close   Adj Close  \\\n",
      "Date                                                                     \n",
      "2018-08-31  111.690002  112.779999  111.519997  112.330002  108.811172   \n",
      "\n",
      "              Volume  \n",
      "Date                  \n",
      "2018-08-31  23222700  \n",
      "[*********************100%***********************]  1 of 1 completed\n",
      "\n",
      "1 Failed download:\n",
      "- MSFT: No data found for this date range, symbol may be delisted\n",
      "Empty DataFrame\n",
      "Columns: [Open, High, Low, Close, Adj Close, Volume]\n",
      "Index: []\n",
      "[*********************100%***********************]  1 of 1 completed\n",
      "\n",
      "1 Failed download:\n",
      "- MSFT: No data found for this date range, symbol may be delisted\n",
      "Empty DataFrame\n",
      "Columns: [Open, High, Low, Close, Adj Close, Volume]\n",
      "Index: []\n"
     ]
    }
   ],
   "source": [
    "for i in mydf['Date']:\n",
    "    stock_data = yf.download(\"msft\", start=i, end=i + pd.DateOffset(1))\n",
    "    print(stock_data)"
   ]
  },
  {
   "cell_type": "code",
   "execution_count": 124,
   "metadata": {},
   "outputs": [
    {
     "output_type": "stream",
     "name": "stdout",
     "text": [
      "[*********************100%***********************]  1 of 1 completed\n"
     ]
    }
   ],
   "source": [
    "start_date = mydf.iloc[0]['Date']\n",
    "end_date = mydf.iloc[-1]['Date'] + pd.DateOffset(30)\n",
    "stock_data2 = yf.download(\"msft\", start=start_date, end=end_date)"
   ]
  },
  {
   "cell_type": "code",
   "execution_count": 119,
   "metadata": {},
   "outputs": [
    {
     "output_type": "execute_result",
     "data": {
      "text/plain": [
       "Timestamp('2016-10-01 00:00:00')"
      ]
     },
     "metadata": {},
     "execution_count": 119
    }
   ],
   "source": [
    "mydf.iloc[0]['Date']"
   ]
  },
  {
   "cell_type": "code",
   "execution_count": 120,
   "metadata": {},
   "outputs": [
    {
     "output_type": "execute_result",
     "data": {
      "text/plain": [
       "Timestamp('2020-12-01 00:00:00')"
      ]
     },
     "metadata": {},
     "execution_count": 120
    }
   ],
   "source": [
    "mydf.iloc[-1]['Date']"
   ]
  },
  {
   "cell_type": "code",
   "execution_count": 125,
   "metadata": {},
   "outputs": [
    {
     "output_type": "execute_result",
     "data": {
      "text/plain": [
       "                 Open       High        Low      Close  Adj Close    Volume\n",
       "Date                                                                       \n",
       "2016-09-30  57.570000  57.770000  57.340000  57.599998  53.518501  29910800\n",
       "2016-10-03  57.410000  57.549999  57.060001  57.419998  53.351246  19189500\n",
       "2016-10-04  57.270000  57.599998  56.970001  57.240002  53.184006  20085900\n",
       "2016-10-05  57.290001  57.959999  57.259998  57.639999  53.555664  16726400\n",
       "2016-10-06  57.740002  57.860001  57.279999  57.740002  53.648579  16212600"
      ],
      "text/html": "<div>\n<style scoped>\n    .dataframe tbody tr th:only-of-type {\n        vertical-align: middle;\n    }\n\n    .dataframe tbody tr th {\n        vertical-align: top;\n    }\n\n    .dataframe thead th {\n        text-align: right;\n    }\n</style>\n<table border=\"1\" class=\"dataframe\">\n  <thead>\n    <tr style=\"text-align: right;\">\n      <th></th>\n      <th>Open</th>\n      <th>High</th>\n      <th>Low</th>\n      <th>Close</th>\n      <th>Adj Close</th>\n      <th>Volume</th>\n    </tr>\n    <tr>\n      <th>Date</th>\n      <th></th>\n      <th></th>\n      <th></th>\n      <th></th>\n      <th></th>\n      <th></th>\n    </tr>\n  </thead>\n  <tbody>\n    <tr>\n      <th>2016-09-30</th>\n      <td>57.570000</td>\n      <td>57.770000</td>\n      <td>57.340000</td>\n      <td>57.599998</td>\n      <td>53.518501</td>\n      <td>29910800</td>\n    </tr>\n    <tr>\n      <th>2016-10-03</th>\n      <td>57.410000</td>\n      <td>57.549999</td>\n      <td>57.060001</td>\n      <td>57.419998</td>\n      <td>53.351246</td>\n      <td>19189500</td>\n    </tr>\n    <tr>\n      <th>2016-10-04</th>\n      <td>57.270000</td>\n      <td>57.599998</td>\n      <td>56.970001</td>\n      <td>57.240002</td>\n      <td>53.184006</td>\n      <td>20085900</td>\n    </tr>\n    <tr>\n      <th>2016-10-05</th>\n      <td>57.290001</td>\n      <td>57.959999</td>\n      <td>57.259998</td>\n      <td>57.639999</td>\n      <td>53.555664</td>\n      <td>16726400</td>\n    </tr>\n    <tr>\n      <th>2016-10-06</th>\n      <td>57.740002</td>\n      <td>57.860001</td>\n      <td>57.279999</td>\n      <td>57.740002</td>\n      <td>53.648579</td>\n      <td>16212600</td>\n    </tr>\n  </tbody>\n</table>\n</div>"
     },
     "metadata": {},
     "execution_count": 125
    }
   ],
   "source": [
    "stock_data2.head()"
   ]
  },
  {
   "cell_type": "code",
   "execution_count": null,
   "metadata": {},
   "outputs": [],
   "source": []
  }
 ]
}