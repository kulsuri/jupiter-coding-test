{
 "metadata": {
  "language_info": {
   "codemirror_mode": {
    "name": "ipython",
    "version": 3
   },
   "file_extension": ".py",
   "mimetype": "text/x-python",
   "name": "python",
   "nbconvert_exporter": "python",
   "pygments_lexer": "ipython3",
   "version": "3.9.1-final"
  },
  "orig_nbformat": 2,
  "kernelspec": {
   "name": "python391jvsc74a57bd063fd5069d213b44bf678585dea6b12cceca9941eaf7f819626cde1f2670de90d",
   "display_name": "Python 3.9.1 64-bit"
  }
 },
 "nbformat": 4,
 "nbformat_minor": 2,
 "cells": [
  {
   "cell_type": "code",
   "execution_count": 48,
   "metadata": {},
   "outputs": [],
   "source": [
    "from selenium import webdriver\n",
    "from selenium.webdriver.chrome.options import Options\n",
    "import time\n",
    "import pprint\n",
    "import re\n",
    "import os"
   ]
  },
  {
   "cell_type": "code",
   "execution_count": 50,
   "metadata": {},
   "outputs": [],
   "source": [
    "class bot:\n",
    "    def __init__(self, company_ticker):\n",
    "        self.company_ticker = company_ticker\n",
    "        self.chrome_options = Options()\n",
    "        self.chrome_options.add_argument(\"--disable-extensions\")\n",
    "        self.chrome_options.add_argument(\"--disable-gpu\")\n",
    "        self.chrome_options.add_argument(\"--headless\")\n",
    "        self.driver = webdriver.Chrome(os.path.join(os.getcwd(), 'chromedriver_win32\\chromedriver.exe'), options=self.chrome_options)        \n",
    "        self.driver.get('https://www.msci.com/our-solutions/esg-investing/esg-ratings/esg-ratings-corporate-search-tool/issuer/')\n",
    "\n",
    "    def accept_cookies(self):\n",
    "        cookie_accept_xpath = '//*[@id=\"portlet_mscicookiebar_WAR_mscicookiebar\"]/div/div[2]/div/div/div[1]/div/button[1]'\n",
    "        self.clickButton(cookie_accept_xpath)\n",
    "        time.sleep(1)\n",
    "\n",
    "    def search_for_company(self):\n",
    "        company_search_field_xpath = '//*[@id=\"_esgratingsprofile_keywords\"]'\n",
    "        self.enterData(company_search_field_xpath, self.company_ticker)\n",
    "\n",
    "    def select_company(self):\n",
    "        company_search_dropdown = '//*[@id=\"ui-id-1\"]' #/li'\n",
    "        self.clickButton(company_search_dropdown)\n",
    "        \n",
    "\n",
    "    def get_esg_ratings(self):\n",
    "        esg_ratings_xpath = '//*[@id=\"_esgratingsprofile_esg-rating-history\"]'\n",
    "        esg_data = self.grabData(esg_ratings_xpath)\n",
    "        return esg_data\n",
    "\n",
    "    def grabData(self, xpath):\n",
    "        try:\n",
    "            data = self.driver.find_element_by_xpath(xpath)\n",
    "        except Exception:\n",
    "            time.sleep(2)\n",
    "            data = self.driver.find_element_by_xpath(xpath)\n",
    "        return data\n",
    "\n",
    "    def clickButton(self, xpath):\n",
    "        try:\n",
    "            self.driver.find_element_by_xpath(xpath).click()\n",
    "        except Exception:\n",
    "            time.sleep(2)\n",
    "            self.clickButton(xpath)\n",
    "\n",
    "    def enterData(self, xpath, data):\n",
    "        try:\n",
    "            self.driver.find_element_by_xpath(xpath).send_keys(data)\n",
    "            pass\n",
    "        except Exception:\n",
    "            time.sleep(1)\n",
    "            self.enterData(field, data)\n",
    "\n",
    "    def initializeScrapeProcess(self):\n",
    "        self.accept_cookies()\n",
    "        self.search_for_company()\n",
    "        self.select_company()\n",
    "        data = self.get_esg_ratings().get_attribute('innerHTML')\n",
    "        self.driver.quit()\n",
    "        return data"
   ]
  },
  {
   "cell_type": "code",
   "execution_count": 28,
   "metadata": {},
   "outputs": [],
   "source": [
    "def scrapy_esg_bot(ticker_symbol):\n",
    "    webscrape_bot = bot(ticker_symbol)\n",
    "    data = webscrape_bot.initializeScrapeProcess()\n",
    "    return data"
   ]
  },
  {
   "cell_type": "code",
   "execution_count": 29,
   "metadata": {},
   "outputs": [],
   "source": [
    "data3 = scrapy_esg_bot('tsla')"
   ]
  },
  {
   "cell_type": "code",
   "execution_count": 52,
   "metadata": {},
   "outputs": [],
   "source": [
    "data3 = bot('tsla').initializeScrapeProcess()"
   ]
  },
  {
   "cell_type": "code",
   "execution_count": 8,
   "metadata": {},
   "outputs": [],
   "source": [
    "def scrapy_esg_bot2(ticker_symbol):\n",
    "    webscrape_bot = bot(ticker_symbol)\n",
    "    webscrape_bot.accept_cookies()\n",
    "    webscrape_bot.search_for_company()\n",
    "    webscrape_bot.select_company()\n",
    "    data = webscrape_bot.get_esg_ratings().get_attribute('innerHTML')\n",
    "    webscrape_bot.driver.quit()\n",
    "    return data"
   ]
  },
  {
   "cell_type": "code",
   "execution_count": 16,
   "metadata": {},
   "outputs": [
    {
     "output_type": "error",
     "ename": "NameError",
     "evalue": "name 'data' is not defined",
     "traceback": [
      "\u001b[1;31m---------------------------------------------------------------------------\u001b[0m",
      "\u001b[1;31mNameError\u001b[0m                                 Traceback (most recent call last)",
      "\u001b[1;32m<ipython-input-16-588bf189b172>\u001b[0m in \u001b[0;36m<module>\u001b[1;34m\u001b[0m\n\u001b[1;32m----> 1\u001b[1;33m \u001b[0mdata2\u001b[0m \u001b[1;33m=\u001b[0m \u001b[0mscrapy_esg_bot2\u001b[0m\u001b[1;33m(\u001b[0m\u001b[1;34m'mng'\u001b[0m\u001b[1;33m)\u001b[0m\u001b[1;33m\u001b[0m\u001b[1;33m\u001b[0m\u001b[0m\n\u001b[0m",
      "\u001b[1;32m<ipython-input-4-782b9ccebd1d>\u001b[0m in \u001b[0;36mscrapy_esg_bot2\u001b[1;34m(ticker_symbol)\u001b[0m\n\u001b[0;32m      2\u001b[0m     \u001b[0mwebscrape_bot\u001b[0m \u001b[1;33m=\u001b[0m \u001b[0mbot\u001b[0m\u001b[1;33m(\u001b[0m\u001b[0mticker_symbol\u001b[0m\u001b[1;33m)\u001b[0m\u001b[1;33m\u001b[0m\u001b[1;33m\u001b[0m\u001b[0m\n\u001b[0;32m      3\u001b[0m     \u001b[0mwebscrape_bot\u001b[0m\u001b[1;33m.\u001b[0m\u001b[0minitializeScrapeProcess\u001b[0m\u001b[1;33m(\u001b[0m\u001b[1;33m)\u001b[0m\u001b[1;33m\u001b[0m\u001b[1;33m\u001b[0m\u001b[0m\n\u001b[1;32m----> 4\u001b[1;33m     \u001b[1;32mreturn\u001b[0m \u001b[0mdata\u001b[0m\u001b[1;33m\u001b[0m\u001b[1;33m\u001b[0m\u001b[0m\n\u001b[0m\u001b[0;32m      5\u001b[0m \u001b[1;33m\u001b[0m\u001b[0m\n\u001b[0;32m      6\u001b[0m \u001b[0mdata3\u001b[0m \u001b[1;33m=\u001b[0m \u001b[0mscrapy_esg_bot\u001b[0m\u001b[1;33m(\u001b[0m\u001b[1;34m'tsla'\u001b[0m\u001b[1;33m)\u001b[0m\u001b[1;33m\u001b[0m\u001b[1;33m\u001b[0m\u001b[0m\n",
      "\u001b[1;31mNameError\u001b[0m: name 'data' is not defined"
     ]
    }
   ],
   "source": [
    "data2 = scrapy_esg_bot2('mng')"
   ]
  },
  {
   "cell_type": "code",
   "execution_count": 54,
   "metadata": {},
   "outputs": [
    {
     "output_type": "stream",
     "name": "stdout",
     "text": [
      "('<div id=\"highcharts-5gdello-0\" dir=\"ltr\" class=\"highcharts-container \" '\n 'style=\"position: relative; overflow: hidden; width: 703px; height: 250px; '\n 'text-align: left; line-height: normal; z-index: 0; '\n '-webkit-tap-highlight-color: rgba(0, 0, 0, 0); color: rgb(0, 32, 54);\"><svg '\n 'version=\"1.1\" class=\"highcharts-root\" style=\"font-family:\\'Roboto Regular\\', '\n 'sans-serif;;font-size:12px;;color:#002036;fill:#002036;\" '\n 'xmlns=\"http://www.w3.org/2000/svg\" width=\"703\" height=\"250\" viewBox=\"0 0 703 '\n '250\"><desc>Created with Highcharts 7.2.0</desc><defs><clipPath '\n 'id=\"highcharts-5gdello-1-\"><rect x=\"0\" y=\"0\" width=\"641\" height=\"200\" '\n 'fill=\"none\"></rect></clipPath><clipPath id=\"highcharts-5gdello-8-\"><rect '\n 'x=\"0\" y=\"0\" width=\"641\" height=\"200\" '\n 'fill=\"none\"></rect></clipPath></defs><rect fill=\"#ffffff\" '\n 'class=\"highcharts-background\" x=\"0\" y=\"0\" width=\"703\" height=\"250\" rx=\"0\" '\n 'ry=\"0\"></rect><rect fill=\"none\" class=\"highcharts-plot-background\" x=\"52\" '\n 'y=\"10\" width=\"641\" height=\"200\"></rect><g class=\"highcharts-grid '\n 'highcharts-xaxis-grid\" data-z-index=\"1\"><path fill=\"none\" data-z-index=\"1\" '\n 'class=\"highcharts-grid-line\" d=\"M 179.5 10 L 179.5 210\" '\n 'opacity=\"1\"></path><path fill=\"none\" data-z-index=\"1\" '\n 'class=\"highcharts-grid-line\" d=\"M 307.5 10 L 307.5 210\" '\n 'opacity=\"1\"></path><path fill=\"none\" data-z-index=\"1\" '\n 'class=\"highcharts-grid-line\" d=\"M 436.5 10 L 436.5 210\" '\n 'opacity=\"1\"></path><path fill=\"none\" data-z-index=\"1\" '\n 'class=\"highcharts-grid-line\" d=\"M 564.5 10 L 564.5 210\" '\n 'opacity=\"1\"></path><path fill=\"none\" data-z-index=\"1\" '\n 'class=\"highcharts-grid-line\" d=\"M 692.5 10 L 692.5 210\" '\n 'opacity=\"1\"></path><path fill=\"none\" data-z-index=\"1\" '\n 'class=\"highcharts-grid-line\" d=\"M 51.5 10 L 51.5 210\" '\n 'opacity=\"1\"></path></g><g class=\"highcharts-grid highcharts-yaxis-grid\" '\n 'data-z-index=\"1\"><path fill=\"none\" data-z-index=\"1\" '\n 'class=\"highcharts-grid-line\" d=\"M 52 210.5 L 693 210.5\" '\n 'opacity=\"1\"></path><path fill=\"none\" data-z-index=\"1\" '\n 'class=\"highcharts-grid-line\" d=\"M 52 183.5 L 693 183.5\" '\n 'opacity=\"1\"></path><path fill=\"none\" data-z-index=\"1\" '\n 'class=\"highcharts-grid-line\" d=\"M 52 157.5 L 693 157.5\" '\n 'opacity=\"1\"></path><path fill=\"none\" data-z-index=\"1\" '\n 'class=\"highcharts-grid-line\" d=\"M 52 130.5 L 693 130.5\" '\n 'opacity=\"1\"></path><path fill=\"none\" data-z-index=\"1\" '\n 'class=\"highcharts-grid-line\" d=\"M 52 103.5 L 693 103.5\" '\n 'opacity=\"1\"></path><path fill=\"none\" data-z-index=\"1\" '\n 'class=\"highcharts-grid-line\" d=\"M 52 77.5 L 693 77.5\" '\n 'opacity=\"1\"></path><path fill=\"none\" data-z-index=\"1\" '\n 'class=\"highcharts-grid-line\" d=\"M 52 50.5 L 693 50.5\" '\n 'opacity=\"1\"></path><path fill=\"none\" data-z-index=\"1\" '\n 'class=\"highcharts-grid-line\" d=\"M 52 23.5 L 693 23.5\" '\n 'opacity=\"1\"></path></g><rect fill=\"none\" class=\"highcharts-plot-border\" '\n 'data-z-index=\"1\" x=\"52\" y=\"10\" width=\"641\" height=\"200\"></rect><g '\n 'class=\"highcharts-axis highcharts-xaxis\" data-z-index=\"2\"><path fill=\"none\" '\n 'class=\"highcharts-axis-line\" stroke=\"#002036\" stroke-width=\"1\" '\n 'data-z-index=\"7\" d=\"M 52 210.5 L 693 210.5\"></path></g><g '\n 'class=\"highcharts-axis highcharts-yaxis\" data-z-index=\"2\"><path fill=\"none\" '\n 'class=\"highcharts-axis-line\" stroke=\"#002036\" stroke-width=\"1\" '\n 'data-z-index=\"7\" d=\"M 51.5 10 L 51.5 210\"></path></g><g '\n 'class=\"highcharts-series-group\" data-z-index=\"3\"><g data-z-index=\"0.1\" '\n 'class=\"highcharts-series highcharts-series-0 highcharts-line-series \" '\n 'transform=\"translate(52,10) scale(1 1)\" '\n 'clip-path=\"url(#highcharts-5gdello-8-)\"><path fill=\"none\" d=\"M 64.1 '\n '13.333333333333323 L 192.3 39.99999999999998 L 320.5 39.99999999999998 L '\n '448.7 66.66666666666667 L 576.9 66.66666666666667\" class=\"highcharts-graph\" '\n 'data-z-index=\"1\" stroke=\"#002036\" stroke-width=\"2\" stroke-linejoin=\"round\" '\n 'stroke-linecap=\"round\"></path><path fill=\"none\" d=\"M 54.099999999999994 '\n '13.333333333333323 L 64.1 13.333333333333323 L 192.3 39.99999999999998 L '\n '320.5 39.99999999999998 L 448.7 66.66666666666667 L 576.9 66.66666666666667 '\n 'L 586.9 66.66666666666667\" visibility=\"visible\" data-z-index=\"2\" '\n 'class=\"highcharts-tracker-line\" stroke-linejoin=\"round\" '\n 'stroke=\"rgba(192,192,192,0.0001)\" stroke-width=\"22\"></path></g><g '\n 'data-z-index=\"0.1\" class=\"highcharts-markers highcharts-series-0 '\n 'highcharts-line-series  highcharts-tracker\" transform=\"translate(52,10) '\n 'scale(1 1)\"><path fill=\"#007567\" d=\"M 64 33 A 20 20 0 1 1 64.01999999666668 '\n '32.999990000000835 Z\" opacity=\"1\" class=\"highcharts-point\"></path><path '\n 'fill=\"#007567\" d=\"M 192 60 A 20 20 0 1 1 192.01999999666668 '\n '59.999990000000835 Z\" opacity=\"1\" class=\"highcharts-point\"></path><path '\n 'fill=\"#007567\" d=\"M 320 60 A 20 20 0 1 1 320.0199999966667 '\n '59.999990000000835 Z\" opacity=\"1\" class=\"highcharts-point\"></path><path '\n 'fill=\"#FFB500\" d=\"M 448 87 A 20 20 0 1 1 448.0199999966667 86.99999000000084 '\n 'Z\" opacity=\"1\" class=\"highcharts-point\"></path><path fill=\"#FFB500\" d=\"M 576 '\n '87 A 20 20 0 1 1 576.0199999966667 86.99999000000084 Z\" opacity=\"1\" '\n 'class=\"highcharts-point\"></path></g></g><text x=\"10\" '\n 'class=\"highcharts-title\" data-z-index=\"4\" '\n 'style=\"color:#333333;font-size:18px;fill:#333333;\" y=\"24\"></text><text '\n 'x=\"352\" text-anchor=\"middle\" class=\"highcharts-subtitle\" data-z-index=\"4\" '\n 'style=\"color:#666666;fill:#666666;\" y=\"24\"></text><text x=\"10\" '\n 'text-anchor=\"start\" class=\"highcharts-caption\" data-z-index=\"4\" '\n 'style=\"color:#666666;fill:#666666;\" y=\"247\"></text><g data-z-index=\"6\" '\n 'class=\"highcharts-data-labels highcharts-series-0 highcharts-line-series \" '\n 'transform=\"translate(52,10) scale(1 1)\" opacity=\"1\"><g '\n 'class=\"highcharts-label highcharts-data-label '\n 'highcharts-data-label-color-undefined\" data-z-index=\"1\" '\n 'transform=\"translate(45,0)\"><text x=\"5\" data-z-index=\"1\" '\n 'style=\"font-size:14px;;font-weight:bold;color:#FFFFFF;fill:#FFFFFF;\" '\n 'y=\"19\">AAA</text></g><g class=\"highcharts-label highcharts-data-label '\n 'highcharts-data-label-color-undefined\" data-z-index=\"1\" '\n 'transform=\"translate(178,27)\"><text x=\"5\" data-z-index=\"1\" '\n 'style=\"font-size:14px;;font-weight:bold;color:#FFFFFF;fill:#FFFFFF;\" '\n 'y=\"19\">AA</text></g><g class=\"highcharts-label highcharts-data-label '\n 'highcharts-data-label-color-undefined\" data-z-index=\"1\" '\n 'transform=\"translate(306,27)\"><text x=\"5\" data-z-index=\"1\" '\n 'style=\"font-size:14px;;font-weight:bold;color:#FFFFFF;fill:#FFFFFF;\" '\n 'y=\"19\">AA</text></g><g class=\"highcharts-label highcharts-data-label '\n 'highcharts-data-label-color-undefined\" data-z-index=\"1\" '\n 'transform=\"translate(439,54)\"><text x=\"5\" data-z-index=\"1\" '\n 'style=\"font-size:14px;;font-weight:bold;color:#FFFFFF;fill:#FFFFFF;\" '\n 'y=\"19\">A</text></g><g class=\"highcharts-label highcharts-data-label '\n 'highcharts-data-label-color-undefined\" data-z-index=\"1\" '\n 'transform=\"translate(567,54)\"><text x=\"5\" data-z-index=\"1\" '\n 'style=\"font-size:14px;;font-weight:bold;color:#FFFFFF;fill:#FFFFFF;\" '\n 'y=\"19\">A</text></g></g><g class=\"highcharts-axis-labels '\n 'highcharts-xaxis-labels\" data-z-index=\"7\"><text x=\"116.1\" '\n 'style=\"color:#002036;cursor:default;font-size:14px;;fill:#002036;\" '\n 'text-anchor=\"middle\" transform=\"translate(0,0)\" y=\"232\" '\n 'opacity=\"1\">Jul-17</text><text x=\"244.29999999999998\" '\n 'style=\"color:#002036;cursor:default;font-size:14px;;fill:#002036;\" '\n 'text-anchor=\"middle\" transform=\"translate(0,0)\" y=\"232\" '\n 'opacity=\"1\">Apr-18</text><text x=\"372.5\" '\n 'style=\"color:#002036;cursor:default;font-size:14px;;fill:#002036;\" '\n 'text-anchor=\"middle\" transform=\"translate(0,0)\" y=\"232\" '\n 'opacity=\"1\">Aug-18</text><text x=\"500.69999999999993\" '\n 'style=\"color:#002036;cursor:default;font-size:14px;;fill:#002036;\" '\n 'text-anchor=\"middle\" transform=\"translate(0,0)\" y=\"232\" '\n 'opacity=\"1\">Apr-19</text><text x=\"628.9\" '\n 'style=\"color:#002036;cursor:default;font-size:14px;;fill:#002036;\" '\n 'text-anchor=\"middle\" transform=\"translate(0,0)\" y=\"232\" '\n 'opacity=\"1\">Apr-20</text></g><g class=\"highcharts-axis-labels '\n 'highcharts-yaxis-labels\" data-z-index=\"7\"><text x=\"0\" '\n 'style=\"color:#002036;cursor:default;font-size:14px;;fill:#002036;\" '\n 'text-anchor=\"end\" transform=\"translate(0,0)\" y=\"-9999\">-1</text><text x=\"37\" '\n 'style=\"color:#002036;cursor:default;font-size:14px;;fill:#002036;\" '\n 'text-anchor=\"end\" transform=\"translate(0,0)\" y=\"189\" '\n 'opacity=\"1\">CCC</text><text x=\"37\" '\n 'style=\"color:#002036;cursor:default;font-size:14px;;fill:#002036;\" '\n 'text-anchor=\"end\" transform=\"translate(0,0)\" y=\"162\" '\n 'opacity=\"1\">B</text><text x=\"37\" '\n 'style=\"color:#002036;cursor:default;font-size:14px;;fill:#002036;\" '\n 'text-anchor=\"end\" transform=\"translate(0,0)\" y=\"136\" '\n 'opacity=\"1\">BB</text><text x=\"37\" '\n 'style=\"color:#002036;cursor:default;font-size:14px;;fill:#002036;\" '\n 'text-anchor=\"end\" transform=\"translate(0,0)\" y=\"109\" '\n 'opacity=\"1\">BBB</text><text x=\"37\" '\n 'style=\"color:#002036;cursor:default;font-size:14px;;fill:#002036;\" '\n 'text-anchor=\"end\" transform=\"translate(0,0)\" y=\"82\" '\n 'opacity=\"1\">A</text><text x=\"37\" '\n 'style=\"color:#002036;cursor:default;font-size:14px;;fill:#002036;\" '\n 'text-anchor=\"end\" transform=\"translate(0,0)\" y=\"56\" '\n 'opacity=\"1\">AA</text><text x=\"37\" '\n 'style=\"color:#002036;cursor:default;font-size:14px;;fill:#002036;\" '\n 'text-anchor=\"end\" transform=\"translate(0,0)\" y=\"29\" '\n 'opacity=\"1\">AAA</text></g></svg></div>')\n"
     ]
    }
   ],
   "source": [
    "pprint.pprint(data3)"
   ]
  },
  {
   "cell_type": "code",
   "execution_count": 55,
   "metadata": {},
   "outputs": [
    {
     "output_type": "execute_result",
     "data": {
      "text/plain": [
       "';fill:#FFFFFF;\" y=\"19\">AAA</text></g><g class=\"highcharts-label highcharts-data-label highcharts-data-label-color-undefined\" data-z-index=\"1\" transform=\"translate(178,27)\"><text x=\"5\" data-z-index=\"1\" '"
      ]
     },
     "metadata": {},
     "execution_count": 55
    }
   ],
   "source": [
    "data3.split('style=\"font-size:14px;;font-weight:bold;color:#FFFFFF')[1]"
   ]
  },
  {
   "cell_type": "code",
   "execution_count": 56,
   "metadata": {},
   "outputs": [
    {
     "output_type": "stream",
     "name": "stdout",
     "text": [
      "text found 5526 5579\ntext found 5780 5833\ntext found 6033 6086\ntext found 6286 6339\ntext found 6538 6591\n"
     ]
    }
   ],
   "source": [
    "search_points_esg = []\n",
    "for i in re.finditer('style=\"font-size:14px;;font-weight:bold;color:#FFFFFF', data3):\n",
    "    print('text found', i.start(), i.end())\n",
    "    search_points_esg.append(i.end())\n",
    "\n",
    "search_points_esg.append( search_points_esg[-1] + 50 )"
   ]
  },
  {
   "cell_type": "code",
   "execution_count": 57,
   "metadata": {},
   "outputs": [
    {
     "output_type": "execute_result",
     "data": {
      "text/plain": [
       "[5579, 5833, 6086, 6339, 6591, 6641]"
      ]
     },
     "metadata": {},
     "execution_count": 57
    }
   ],
   "source": [
    "search_points_esg"
   ]
  },
  {
   "cell_type": "code",
   "execution_count": 58,
   "metadata": {},
   "outputs": [
    {
     "output_type": "stream",
     "name": "stdout",
     "text": [
      "AAA\n"
     ]
    }
   ],
   "source": [
    "result = re.search('\">(.*)</text>', data3[search_points_esg[0]: search_points_esg[1]])\n",
    "print(result.group(1))"
   ]
  },
  {
   "cell_type": "code",
   "execution_count": 59,
   "metadata": {},
   "outputs": [
    {
     "output_type": "execute_result",
     "data": {
      "text/plain": [
       "['AAA', 'AA', 'AA', 'A', 'A']"
      ]
     },
     "metadata": {},
     "execution_count": 59
    }
   ],
   "source": [
    "results = []\n",
    "for index, value in enumerate(search_points_esg):\n",
    "    if value == search_points_esg[-1]:\n",
    "        break\n",
    "    else:\n",
    "        result = re.search('\">(.*)</text>', data3[ search_points_esg[index]: search_points_esg[index+1] ])\n",
    "        results.append(result.group(1))\n",
    "results"
   ]
  },
  {
   "cell_type": "code",
   "execution_count": 60,
   "metadata": {},
   "outputs": [
    {
     "output_type": "execute_result",
     "data": {
      "text/plain": [
       "['Jul-17', 'Apr-18', 'Aug-18', 'Apr-19', 'Apr-20']"
      ]
     },
     "metadata": {},
     "execution_count": 60
    }
   ],
   "source": [
    "dates = re.findall(r'(?:Jan|Feb|Mar|Apr|May|Jun|Jul|Aug|Sep|Oct|Nov|Dec)\\-\\d{2}', data3)\n",
    "dates\n",
    "#search_points_date.append( search_points_date[-1] + 50 )\n",
    "#search_points_date"
   ]
  },
  {
   "cell_type": "code",
   "execution_count": 61,
   "metadata": {},
   "outputs": [
    {
     "output_type": "execute_result",
     "data": {
      "text/plain": [
       "['AAA', 'AA', 'AA', 'A', 'A']"
      ]
     },
     "metadata": {},
     "execution_count": 61
    }
   ],
   "source": [
    "results"
   ]
  },
  {
   "cell_type": "code",
   "execution_count": 64,
   "metadata": {},
   "outputs": [],
   "source": [
    "import yfinance as yf\n",
    "import pandas as pd"
   ]
  },
  {
   "cell_type": "code",
   "execution_count": 46,
   "metadata": {},
   "outputs": [
    {
     "output_type": "stream",
     "name": "stdout",
     "text": [
      "[*********************100%***********************]  1 of 1 completed\n"
     ]
    }
   ],
   "source": [
    "appl_data1 = yf.download(\"AAPL\", start=\"2019-05-01\", end=\"2020-12-01\")\n",
    "#appl_data1 = yf.download(\"AAPL\", start=\"2019-05-01\", end=\"2019-05-01\")"
   ]
  },
  {
   "cell_type": "code",
   "execution_count": 47,
   "metadata": {},
   "outputs": [
    {
     "output_type": "execute_result",
     "data": {
      "text/plain": [
       "                  Open        High         Low       Close   Adj Close  \\\n",
       "Date                                                                     \n",
       "2019-04-30   50.764999   50.849998   49.777500   50.167500   49.138439   \n",
       "2019-05-01   52.470001   53.827499   52.307499   52.630001   51.550426   \n",
       "2019-05-02   52.459999   53.162498   52.032501   52.287498   51.214951   \n",
       "2019-05-03   52.722500   52.959999   52.557499   52.937500   51.851620   \n",
       "2019-05-06   51.072498   52.209999   50.875000   52.119999   51.050892   \n",
       "...                ...         ...         ...         ...         ...   \n",
       "2020-11-23  117.180000  117.620003  113.750000  113.849998  113.680122   \n",
       "2020-11-24  113.910004  115.849998  112.589996  115.169998  114.998154   \n",
       "2020-11-25  115.550003  116.750000  115.169998  116.029999  115.856873   \n",
       "2020-11-27  116.570000  117.489998  116.220001  116.589996  116.416031   \n",
       "2020-11-30  116.970001  120.970001  116.809998  119.050003  118.872368   \n",
       "\n",
       "               Volume  \n",
       "Date                   \n",
       "2019-04-30  186139600  \n",
       "2019-05-01  259309200  \n",
       "2019-05-02  127985200  \n",
       "2019-05-03   83569600  \n",
       "2019-05-06  129772400  \n",
       "...               ...  \n",
       "2020-11-23  127959300  \n",
       "2020-11-24  113874200  \n",
       "2020-11-25   76499200  \n",
       "2020-11-27   46691300  \n",
       "2020-11-30  169410200  \n",
       "\n",
       "[402 rows x 6 columns]"
      ],
      "text/html": "<div>\n<style scoped>\n    .dataframe tbody tr th:only-of-type {\n        vertical-align: middle;\n    }\n\n    .dataframe tbody tr th {\n        vertical-align: top;\n    }\n\n    .dataframe thead th {\n        text-align: right;\n    }\n</style>\n<table border=\"1\" class=\"dataframe\">\n  <thead>\n    <tr style=\"text-align: right;\">\n      <th></th>\n      <th>Open</th>\n      <th>High</th>\n      <th>Low</th>\n      <th>Close</th>\n      <th>Adj Close</th>\n      <th>Volume</th>\n    </tr>\n    <tr>\n      <th>Date</th>\n      <th></th>\n      <th></th>\n      <th></th>\n      <th></th>\n      <th></th>\n      <th></th>\n    </tr>\n  </thead>\n  <tbody>\n    <tr>\n      <th>2019-04-30</th>\n      <td>50.764999</td>\n      <td>50.849998</td>\n      <td>49.777500</td>\n      <td>50.167500</td>\n      <td>49.138439</td>\n      <td>186139600</td>\n    </tr>\n    <tr>\n      <th>2019-05-01</th>\n      <td>52.470001</td>\n      <td>53.827499</td>\n      <td>52.307499</td>\n      <td>52.630001</td>\n      <td>51.550426</td>\n      <td>259309200</td>\n    </tr>\n    <tr>\n      <th>2019-05-02</th>\n      <td>52.459999</td>\n      <td>53.162498</td>\n      <td>52.032501</td>\n      <td>52.287498</td>\n      <td>51.214951</td>\n      <td>127985200</td>\n    </tr>\n    <tr>\n      <th>2019-05-03</th>\n      <td>52.722500</td>\n      <td>52.959999</td>\n      <td>52.557499</td>\n      <td>52.937500</td>\n      <td>51.851620</td>\n      <td>83569600</td>\n    </tr>\n    <tr>\n      <th>2019-05-06</th>\n      <td>51.072498</td>\n      <td>52.209999</td>\n      <td>50.875000</td>\n      <td>52.119999</td>\n      <td>51.050892</td>\n      <td>129772400</td>\n    </tr>\n    <tr>\n      <th>...</th>\n      <td>...</td>\n      <td>...</td>\n      <td>...</td>\n      <td>...</td>\n      <td>...</td>\n      <td>...</td>\n    </tr>\n    <tr>\n      <th>2020-11-23</th>\n      <td>117.180000</td>\n      <td>117.620003</td>\n      <td>113.750000</td>\n      <td>113.849998</td>\n      <td>113.680122</td>\n      <td>127959300</td>\n    </tr>\n    <tr>\n      <th>2020-11-24</th>\n      <td>113.910004</td>\n      <td>115.849998</td>\n      <td>112.589996</td>\n      <td>115.169998</td>\n      <td>114.998154</td>\n      <td>113874200</td>\n    </tr>\n    <tr>\n      <th>2020-11-25</th>\n      <td>115.550003</td>\n      <td>116.750000</td>\n      <td>115.169998</td>\n      <td>116.029999</td>\n      <td>115.856873</td>\n      <td>76499200</td>\n    </tr>\n    <tr>\n      <th>2020-11-27</th>\n      <td>116.570000</td>\n      <td>117.489998</td>\n      <td>116.220001</td>\n      <td>116.589996</td>\n      <td>116.416031</td>\n      <td>46691300</td>\n    </tr>\n    <tr>\n      <th>2020-11-30</th>\n      <td>116.970001</td>\n      <td>120.970001</td>\n      <td>116.809998</td>\n      <td>119.050003</td>\n      <td>118.872368</td>\n      <td>169410200</td>\n    </tr>\n  </tbody>\n</table>\n<p>402 rows × 6 columns</p>\n</div>"
     },
     "metadata": {},
     "execution_count": 47
    }
   ],
   "source": [
    "appl_data1"
   ]
  },
  {
   "cell_type": "code",
   "execution_count": null,
   "metadata": {},
   "outputs": [],
   "source": [
    "//*[@id=\"_esgratingsprofile_esg-ratings-profile-header\"]/div[1]/div[1]\n",
    "//*[@id=\"_esgratingsprofile_esg-ratings-profile-header\"]/div[1]/div[1]\n",
    "\n",
    "//*[@id=\"_esgratingsprofile_esg-ratings-profile-header\"]/div[1]/div[2]\n",
    "//*[@id=\"_esgratingsprofile_esg-ratings-profile-header\"]/div[1]/div[2]\n",
    "\n",
    "//*[@id=\"_esgratingsprofile_esg-ratings-profile-header\"]/div[1]/div[3]/div[1]\n",
    "\n",
    "//*[@id=\"_esgratingsprofile_esg-ratings-profile-header\"]/div[1]/div[3]/div[2]"
   ]
  },
  {
   "cell_type": "code",
   "execution_count": 73,
   "metadata": {},
   "outputs": [],
   "source": [
    "test_data = [['A', 'A', 'A', 'A', 'BBB'], ['Oct-16', 'Aug-17', 'Sep-18', 'Nov-19', 'Dec-20']]"
   ]
  },
  {
   "cell_type": "code",
   "execution_count": 80,
   "metadata": {},
   "outputs": [
    {
     "output_type": "execute_result",
     "data": {
      "text/plain": [
       "  ESG Score    Date\n",
       "0         A  Oct-16\n",
       "1         A  Aug-17\n",
       "2         A  Sep-18\n",
       "3         A  Nov-19\n",
       "4       BBB  Dec-20"
      ],
      "text/html": "<div>\n<style scoped>\n    .dataframe tbody tr th:only-of-type {\n        vertical-align: middle;\n    }\n\n    .dataframe tbody tr th {\n        vertical-align: top;\n    }\n\n    .dataframe thead th {\n        text-align: right;\n    }\n</style>\n<table border=\"1\" class=\"dataframe\">\n  <thead>\n    <tr style=\"text-align: right;\">\n      <th></th>\n      <th>ESG Score</th>\n      <th>Date</th>\n    </tr>\n  </thead>\n  <tbody>\n    <tr>\n      <th>0</th>\n      <td>A</td>\n      <td>Oct-16</td>\n    </tr>\n    <tr>\n      <th>1</th>\n      <td>A</td>\n      <td>Aug-17</td>\n    </tr>\n    <tr>\n      <th>2</th>\n      <td>A</td>\n      <td>Sep-18</td>\n    </tr>\n    <tr>\n      <th>3</th>\n      <td>A</td>\n      <td>Nov-19</td>\n    </tr>\n    <tr>\n      <th>4</th>\n      <td>BBB</td>\n      <td>Dec-20</td>\n    </tr>\n  </tbody>\n</table>\n</div>"
     },
     "metadata": {},
     "execution_count": 80
    }
   ],
   "source": [
    "pd.DataFrame(test_data, index=['ESG Score', 'Date']).T"
   ]
  },
  {
   "cell_type": "code",
   "execution_count": 78,
   "metadata": {},
   "outputs": [
    {
     "output_type": "execute_result",
     "data": {
      "text/plain": [
       "  col_low col_up\n",
       "0       a     AA\n",
       "1       b     BB\n",
       "2       c     CC"
      ],
      "text/html": "<div>\n<style scoped>\n    .dataframe tbody tr th:only-of-type {\n        vertical-align: middle;\n    }\n\n    .dataframe tbody tr th {\n        vertical-align: top;\n    }\n\n    .dataframe thead th {\n        text-align: right;\n    }\n</style>\n<table border=\"1\" class=\"dataframe\">\n  <thead>\n    <tr style=\"text-align: right;\">\n      <th></th>\n      <th>col_low</th>\n      <th>col_up</th>\n    </tr>\n  </thead>\n  <tbody>\n    <tr>\n      <th>0</th>\n      <td>a</td>\n      <td>AA</td>\n    </tr>\n    <tr>\n      <th>1</th>\n      <td>b</td>\n      <td>BB</td>\n    </tr>\n    <tr>\n      <th>2</th>\n      <td>c</td>\n      <td>CC</td>\n    </tr>\n  </tbody>\n</table>\n</div>"
     },
     "metadata": {},
     "execution_count": 78
    }
   ],
   "source": [
    "test_list = [['a','b','c'], ['AA','BB','CC']]\n",
    "pd.DataFrame(test_list, index=['col_low', 'col_up']).T"
   ]
  },
  {
   "cell_type": "code",
   "execution_count": 83,
   "metadata": {},
   "outputs": [
    {
     "output_type": "execute_result",
     "data": {
      "text/plain": [
       "  ESG Score    Date\n",
       "0         A  Oct-16\n",
       "1         A  Aug-17\n",
       "2         A  Sep-18\n",
       "3         A  Nov-19\n",
       "4       BBB  Dec-20"
      ],
      "text/html": "<div>\n<style scoped>\n    .dataframe tbody tr th:only-of-type {\n        vertical-align: middle;\n    }\n\n    .dataframe tbody tr th {\n        vertical-align: top;\n    }\n\n    .dataframe thead th {\n        text-align: right;\n    }\n</style>\n<table border=\"1\" class=\"dataframe\">\n  <thead>\n    <tr style=\"text-align: right;\">\n      <th></th>\n      <th>ESG Score</th>\n      <th>Date</th>\n    </tr>\n  </thead>\n  <tbody>\n    <tr>\n      <th>0</th>\n      <td>A</td>\n      <td>Oct-16</td>\n    </tr>\n    <tr>\n      <th>1</th>\n      <td>A</td>\n      <td>Aug-17</td>\n    </tr>\n    <tr>\n      <th>2</th>\n      <td>A</td>\n      <td>Sep-18</td>\n    </tr>\n    <tr>\n      <th>3</th>\n      <td>A</td>\n      <td>Nov-19</td>\n    </tr>\n    <tr>\n      <th>4</th>\n      <td>BBB</td>\n      <td>Dec-20</td>\n    </tr>\n  </tbody>\n</table>\n</div>"
     },
     "metadata": {},
     "execution_count": 83
    }
   ],
   "source": [
    "test_data = [['A', 'A', 'A', 'A', 'BBB'], ['Oct-16', 'Aug-17', 'Sep-18', 'Nov-19', 'Dec-20']]\n",
    "\n",
    "mydf = pd.DataFrame(list(zip(test_data[0], test_data[1])), columns = ['ESG Score', 'Date'])\n",
    "\n",
    "mydf"
   ]
  },
  {
   "cell_type": "code",
   "execution_count": 89,
   "metadata": {},
   "outputs": [],
   "source": [
    "mydf['Date'] = pd.to_datetime( mydf['Date'], format='%b-%y')"
   ]
  },
  {
   "cell_type": "code",
   "execution_count": 90,
   "metadata": {},
   "outputs": [
    {
     "output_type": "execute_result",
     "data": {
      "text/plain": [
       "  ESG Score       Date\n",
       "0         A 2016-10-01\n",
       "1         A 2017-08-01\n",
       "2         A 2018-09-01\n",
       "3         A 2019-11-01\n",
       "4       BBB 2020-12-01"
      ],
      "text/html": "<div>\n<style scoped>\n    .dataframe tbody tr th:only-of-type {\n        vertical-align: middle;\n    }\n\n    .dataframe tbody tr th {\n        vertical-align: top;\n    }\n\n    .dataframe thead th {\n        text-align: right;\n    }\n</style>\n<table border=\"1\" class=\"dataframe\">\n  <thead>\n    <tr style=\"text-align: right;\">\n      <th></th>\n      <th>ESG Score</th>\n      <th>Date</th>\n    </tr>\n  </thead>\n  <tbody>\n    <tr>\n      <th>0</th>\n      <td>A</td>\n      <td>2016-10-01</td>\n    </tr>\n    <tr>\n      <th>1</th>\n      <td>A</td>\n      <td>2017-08-01</td>\n    </tr>\n    <tr>\n      <th>2</th>\n      <td>A</td>\n      <td>2018-09-01</td>\n    </tr>\n    <tr>\n      <th>3</th>\n      <td>A</td>\n      <td>2019-11-01</td>\n    </tr>\n    <tr>\n      <th>4</th>\n      <td>BBB</td>\n      <td>2020-12-01</td>\n    </tr>\n  </tbody>\n</table>\n</div>"
     },
     "metadata": {},
     "execution_count": 90
    }
   ],
   "source": [
    "mydf"
   ]
  },
  {
   "cell_type": "code",
   "execution_count": 96,
   "metadata": {},
   "outputs": [
    {
     "output_type": "stream",
     "name": "stdout",
     "text": [
      "[*********************100%***********************]  1 of 1 completed\n",
      "             Open   High    Low      Close  Adj Close    Volume\n",
      "Date                                                           \n",
      "2016-09-30  57.57  57.77  57.34  57.599998  53.518501  29910800\n",
      "[*********************100%***********************]  1 of 1 completed\n",
      "                 Open       High        Low      Close  Adj Close    Volume\n",
      "Date                                                                       \n",
      "2017-07-31  73.300003  73.440002  72.410004  72.699997  68.809288  23600100\n",
      "[*********************100%***********************]  1 of 1 completed\n",
      "                  Open        High         Low       Close   Adj Close  \\\n",
      "Date                                                                     \n",
      "2018-08-31  111.690002  112.779999  111.519997  112.330002  108.811172   \n",
      "\n",
      "              Volume  \n",
      "Date                  \n",
      "2018-08-31  23222700  \n",
      "[*********************100%***********************]  1 of 1 completed\n",
      "\n",
      "1 Failed download:\n",
      "- MSFT: No data found for this date range, symbol may be delisted\n",
      "Empty DataFrame\n",
      "Columns: [Open, High, Low, Close, Adj Close, Volume]\n",
      "Index: []\n",
      "[*********************100%***********************]  1 of 1 completed\n",
      "\n",
      "1 Failed download:\n",
      "- MSFT: No data found for this date range, symbol may be delisted\n",
      "Empty DataFrame\n",
      "Columns: [Open, High, Low, Close, Adj Close, Volume]\n",
      "Index: []\n"
     ]
    }
   ],
   "source": [
    "for i in mydf['Date']:\n",
    "    stock_data = yf.download(\"msft\", start=i, end=i + pd.DateOffset(1))\n",
    "    print(stock_data)"
   ]
  },
  {
   "cell_type": "code",
   "execution_count": 147,
   "metadata": {},
   "outputs": [
    {
     "output_type": "stream",
     "name": "stdout",
     "text": [
      "[*********************100%***********************]  1 of 1 completed\n"
     ]
    }
   ],
   "source": [
    "start_date = mydf.iloc[0]['Date'] - pd.DateOffset(30)\n",
    "end_date = mydf.iloc[-1]['Date'] + pd.DateOffset(30)\n",
    "stock_data2 = yf.download(\"msft\", start=start_date, end=end_date)"
   ]
  },
  {
   "cell_type": "code",
   "execution_count": 148,
   "metadata": {},
   "outputs": [
    {
     "output_type": "execute_result",
     "data": {
      "text/plain": [
       "Timestamp('2016-10-01 00:00:00')"
      ]
     },
     "metadata": {},
     "execution_count": 148
    }
   ],
   "source": [
    "mydf.iloc[0]['Date']"
   ]
  },
  {
   "cell_type": "code",
   "execution_count": 149,
   "metadata": {},
   "outputs": [
    {
     "output_type": "execute_result",
     "data": {
      "text/plain": [
       "Timestamp('2020-12-01 00:00:00')"
      ]
     },
     "metadata": {},
     "execution_count": 149
    }
   ],
   "source": [
    "mydf.iloc[-1]['Date']"
   ]
  },
  {
   "cell_type": "code",
   "execution_count": 150,
   "metadata": {},
   "outputs": [
    {
     "output_type": "execute_result",
     "data": {
      "text/plain": [
       "                 Open       High        Low      Close  Adj Close    Volume\n",
       "Date                                                                       \n",
       "2016-08-31  57.650002  57.799999  57.299999  57.459999  53.388424  20860300\n",
       "2016-09-01  57.009998  57.820000  57.009998  57.590000  53.509209  26075400\n",
       "2016-09-02  57.669998  58.189999  57.419998  57.669998  53.583530  18900500\n",
       "2016-09-06  57.779999  57.799999  57.209999  57.610001  53.527790  16278400\n",
       "2016-09-07  57.470001  57.840000  57.410000  57.660000  53.574242  17493400"
      ],
      "text/html": "<div>\n<style scoped>\n    .dataframe tbody tr th:only-of-type {\n        vertical-align: middle;\n    }\n\n    .dataframe tbody tr th {\n        vertical-align: top;\n    }\n\n    .dataframe thead th {\n        text-align: right;\n    }\n</style>\n<table border=\"1\" class=\"dataframe\">\n  <thead>\n    <tr style=\"text-align: right;\">\n      <th></th>\n      <th>Open</th>\n      <th>High</th>\n      <th>Low</th>\n      <th>Close</th>\n      <th>Adj Close</th>\n      <th>Volume</th>\n    </tr>\n    <tr>\n      <th>Date</th>\n      <th></th>\n      <th></th>\n      <th></th>\n      <th></th>\n      <th></th>\n      <th></th>\n    </tr>\n  </thead>\n  <tbody>\n    <tr>\n      <th>2016-08-31</th>\n      <td>57.650002</td>\n      <td>57.799999</td>\n      <td>57.299999</td>\n      <td>57.459999</td>\n      <td>53.388424</td>\n      <td>20860300</td>\n    </tr>\n    <tr>\n      <th>2016-09-01</th>\n      <td>57.009998</td>\n      <td>57.820000</td>\n      <td>57.009998</td>\n      <td>57.590000</td>\n      <td>53.509209</td>\n      <td>26075400</td>\n    </tr>\n    <tr>\n      <th>2016-09-02</th>\n      <td>57.669998</td>\n      <td>58.189999</td>\n      <td>57.419998</td>\n      <td>57.669998</td>\n      <td>53.583530</td>\n      <td>18900500</td>\n    </tr>\n    <tr>\n      <th>2016-09-06</th>\n      <td>57.779999</td>\n      <td>57.799999</td>\n      <td>57.209999</td>\n      <td>57.610001</td>\n      <td>53.527790</td>\n      <td>16278400</td>\n    </tr>\n    <tr>\n      <th>2016-09-07</th>\n      <td>57.470001</td>\n      <td>57.840000</td>\n      <td>57.410000</td>\n      <td>57.660000</td>\n      <td>53.574242</td>\n      <td>17493400</td>\n    </tr>\n  </tbody>\n</table>\n</div>"
     },
     "metadata": {},
     "execution_count": 150
    }
   ],
   "source": [
    "stock_data2.head()"
   ]
  },
  {
   "cell_type": "code",
   "execution_count": 141,
   "metadata": {},
   "outputs": [
    {
     "output_type": "execute_result",
     "data": {
      "text/plain": [
       "                  Open        High         Low       Close   Adj Close  \\\n",
       "Date                                                                     \n",
       "2016-09-30   57.570000   57.770000   57.340000   57.599998   53.518501   \n",
       "2016-10-03   57.410000   57.549999   57.060001   57.419998   53.351246   \n",
       "2016-10-04   57.270000   57.599998   56.970001   57.240002   53.184006   \n",
       "2016-10-05   57.290001   57.959999   57.259998   57.639999   53.555664   \n",
       "2016-10-06   57.740002   57.860001   57.279999   57.740002   53.648579   \n",
       "...                ...         ...         ...         ...         ...   \n",
       "2020-12-23  223.110001  223.559998  220.800003  221.020004  220.512131   \n",
       "2020-12-24  221.419998  223.610001  221.199997  222.750000  222.238144   \n",
       "2020-12-28  224.449997  226.029999  223.020004  224.960007  224.443069   \n",
       "2020-12-29  226.309998  227.179993  223.580002  224.149994  223.634918   \n",
       "2020-12-30  225.229996  225.630005  221.470001  221.679993  221.170593   \n",
       "\n",
       "              Volume  \n",
       "Date                  \n",
       "2016-09-30  29910800  \n",
       "2016-10-03  19189500  \n",
       "2016-10-04  20085900  \n",
       "2016-10-05  16726400  \n",
       "2016-10-06  16212600  \n",
       "...              ...  \n",
       "2020-12-23  18699600  \n",
       "2020-12-24  10550600  \n",
       "2020-12-28  17933500  \n",
       "2020-12-29  17403200  \n",
       "2020-12-30  20272300  \n",
       "\n",
       "[1070 rows x 6 columns]"
      ],
      "text/html": "<div>\n<style scoped>\n    .dataframe tbody tr th:only-of-type {\n        vertical-align: middle;\n    }\n\n    .dataframe tbody tr th {\n        vertical-align: top;\n    }\n\n    .dataframe thead th {\n        text-align: right;\n    }\n</style>\n<table border=\"1\" class=\"dataframe\">\n  <thead>\n    <tr style=\"text-align: right;\">\n      <th></th>\n      <th>Open</th>\n      <th>High</th>\n      <th>Low</th>\n      <th>Close</th>\n      <th>Adj Close</th>\n      <th>Volume</th>\n    </tr>\n    <tr>\n      <th>Date</th>\n      <th></th>\n      <th></th>\n      <th></th>\n      <th></th>\n      <th></th>\n      <th></th>\n    </tr>\n  </thead>\n  <tbody>\n    <tr>\n      <th>2016-09-30</th>\n      <td>57.570000</td>\n      <td>57.770000</td>\n      <td>57.340000</td>\n      <td>57.599998</td>\n      <td>53.518501</td>\n      <td>29910800</td>\n    </tr>\n    <tr>\n      <th>2016-10-03</th>\n      <td>57.410000</td>\n      <td>57.549999</td>\n      <td>57.060001</td>\n      <td>57.419998</td>\n      <td>53.351246</td>\n      <td>19189500</td>\n    </tr>\n    <tr>\n      <th>2016-10-04</th>\n      <td>57.270000</td>\n      <td>57.599998</td>\n      <td>56.970001</td>\n      <td>57.240002</td>\n      <td>53.184006</td>\n      <td>20085900</td>\n    </tr>\n    <tr>\n      <th>2016-10-05</th>\n      <td>57.290001</td>\n      <td>57.959999</td>\n      <td>57.259998</td>\n      <td>57.639999</td>\n      <td>53.555664</td>\n      <td>16726400</td>\n    </tr>\n    <tr>\n      <th>2016-10-06</th>\n      <td>57.740002</td>\n      <td>57.860001</td>\n      <td>57.279999</td>\n      <td>57.740002</td>\n      <td>53.648579</td>\n      <td>16212600</td>\n    </tr>\n    <tr>\n      <th>...</th>\n      <td>...</td>\n      <td>...</td>\n      <td>...</td>\n      <td>...</td>\n      <td>...</td>\n      <td>...</td>\n    </tr>\n    <tr>\n      <th>2020-12-23</th>\n      <td>223.110001</td>\n      <td>223.559998</td>\n      <td>220.800003</td>\n      <td>221.020004</td>\n      <td>220.512131</td>\n      <td>18699600</td>\n    </tr>\n    <tr>\n      <th>2020-12-24</th>\n      <td>221.419998</td>\n      <td>223.610001</td>\n      <td>221.199997</td>\n      <td>222.750000</td>\n      <td>222.238144</td>\n      <td>10550600</td>\n    </tr>\n    <tr>\n      <th>2020-12-28</th>\n      <td>224.449997</td>\n      <td>226.029999</td>\n      <td>223.020004</td>\n      <td>224.960007</td>\n      <td>224.443069</td>\n      <td>17933500</td>\n    </tr>\n    <tr>\n      <th>2020-12-29</th>\n      <td>226.309998</td>\n      <td>227.179993</td>\n      <td>223.580002</td>\n      <td>224.149994</td>\n      <td>223.634918</td>\n      <td>17403200</td>\n    </tr>\n    <tr>\n      <th>2020-12-30</th>\n      <td>225.229996</td>\n      <td>225.630005</td>\n      <td>221.470001</td>\n      <td>221.679993</td>\n      <td>221.170593</td>\n      <td>20272300</td>\n    </tr>\n  </tbody>\n</table>\n<p>1070 rows × 6 columns</p>\n</div>"
     },
     "metadata": {},
     "execution_count": 141
    }
   ],
   "source": [
    "stock_data2"
   ]
  },
  {
   "cell_type": "code",
   "execution_count": 139,
   "metadata": {},
   "outputs": [
    {
     "output_type": "error",
     "ename": "KeyError",
     "evalue": "'The grouper name Date is not found'",
     "traceback": [
      "\u001b[1;31m---------------------------------------------------------------------------\u001b[0m",
      "\u001b[1;31mKeyError\u001b[0m                                  Traceback (most recent call last)",
      "\u001b[1;32m<ipython-input-139-1949daf1bd8e>\u001b[0m in \u001b[0;36m<module>\u001b[1;34m\u001b[0m\n\u001b[0;32m      2\u001b[0m \u001b[1;31m#df.groupby(df['date'].dt.strftime('%B'))['Revenue'].sum().sort_values()\u001b[0m\u001b[1;33m\u001b[0m\u001b[1;33m\u001b[0m\u001b[1;33m\u001b[0m\u001b[0m\n\u001b[0;32m      3\u001b[0m \u001b[1;33m\u001b[0m\u001b[0m\n\u001b[1;32m----> 4\u001b[1;33m \u001b[0mdg\u001b[0m \u001b[1;33m=\u001b[0m \u001b[0mstock_data2\u001b[0m\u001b[1;33m.\u001b[0m\u001b[0mgroupby\u001b[0m\u001b[1;33m(\u001b[0m\u001b[0mpd\u001b[0m\u001b[1;33m.\u001b[0m\u001b[0mGrouper\u001b[0m\u001b[1;33m(\u001b[0m\u001b[0mkey\u001b[0m\u001b[1;33m=\u001b[0m\u001b[1;34m'Date'\u001b[0m\u001b[1;33m,\u001b[0m \u001b[0mfreq\u001b[0m\u001b[1;33m=\u001b[0m\u001b[1;34m'1M'\u001b[0m\u001b[1;33m)\u001b[0m\u001b[1;33m)\u001b[0m\u001b[1;33m.\u001b[0m\u001b[0msum\u001b[0m\u001b[1;33m(\u001b[0m\u001b[1;33m)\u001b[0m\u001b[1;33m\u001b[0m\u001b[1;33m\u001b[0m\u001b[0m\n\u001b[0m",
      "\u001b[1;32mC:\\Python39\\lib\\site-packages\\pandas\\core\\frame.py\u001b[0m in \u001b[0;36mgroupby\u001b[1;34m(self, by, axis, level, as_index, sort, group_keys, squeeze, observed, dropna)\u001b[0m\n\u001b[0;32m   6712\u001b[0m         \u001b[0maxis\u001b[0m \u001b[1;33m=\u001b[0m \u001b[0mself\u001b[0m\u001b[1;33m.\u001b[0m\u001b[0m_get_axis_number\u001b[0m\u001b[1;33m(\u001b[0m\u001b[0maxis\u001b[0m\u001b[1;33m)\u001b[0m\u001b[1;33m\u001b[0m\u001b[1;33m\u001b[0m\u001b[0m\n\u001b[0;32m   6713\u001b[0m \u001b[1;33m\u001b[0m\u001b[0m\n\u001b[1;32m-> 6714\u001b[1;33m         return DataFrameGroupBy(\n\u001b[0m\u001b[0;32m   6715\u001b[0m             \u001b[0mobj\u001b[0m\u001b[1;33m=\u001b[0m\u001b[0mself\u001b[0m\u001b[1;33m,\u001b[0m\u001b[1;33m\u001b[0m\u001b[1;33m\u001b[0m\u001b[0m\n\u001b[0;32m   6716\u001b[0m             \u001b[0mkeys\u001b[0m\u001b[1;33m=\u001b[0m\u001b[0mby\u001b[0m\u001b[1;33m,\u001b[0m\u001b[1;33m\u001b[0m\u001b[1;33m\u001b[0m\u001b[0m\n",
      "\u001b[1;32mC:\\Python39\\lib\\site-packages\\pandas\\core\\groupby\\groupby.py\u001b[0m in \u001b[0;36m__init__\u001b[1;34m(self, obj, keys, axis, level, grouper, exclusions, selection, as_index, sort, group_keys, squeeze, observed, mutated, dropna)\u001b[0m\n\u001b[0;32m    558\u001b[0m             \u001b[1;32mfrom\u001b[0m \u001b[0mpandas\u001b[0m\u001b[1;33m.\u001b[0m\u001b[0mcore\u001b[0m\u001b[1;33m.\u001b[0m\u001b[0mgroupby\u001b[0m\u001b[1;33m.\u001b[0m\u001b[0mgrouper\u001b[0m \u001b[1;32mimport\u001b[0m \u001b[0mget_grouper\u001b[0m\u001b[1;33m\u001b[0m\u001b[1;33m\u001b[0m\u001b[0m\n\u001b[0;32m    559\u001b[0m \u001b[1;33m\u001b[0m\u001b[0m\n\u001b[1;32m--> 560\u001b[1;33m             grouper, exclusions, obj = get_grouper(\n\u001b[0m\u001b[0;32m    561\u001b[0m                 \u001b[0mobj\u001b[0m\u001b[1;33m,\u001b[0m\u001b[1;33m\u001b[0m\u001b[1;33m\u001b[0m\u001b[0m\n\u001b[0;32m    562\u001b[0m                 \u001b[0mkeys\u001b[0m\u001b[1;33m,\u001b[0m\u001b[1;33m\u001b[0m\u001b[1;33m\u001b[0m\u001b[0m\n",
      "\u001b[1;32mC:\\Python39\\lib\\site-packages\\pandas\\core\\groupby\\grouper.py\u001b[0m in \u001b[0;36mget_grouper\u001b[1;34m(obj, key, axis, level, sort, observed, mutated, validate, dropna)\u001b[0m\n\u001b[0;32m    722\u001b[0m     \u001b[1;31m# a passed-in Grouper, directly convert\u001b[0m\u001b[1;33m\u001b[0m\u001b[1;33m\u001b[0m\u001b[1;33m\u001b[0m\u001b[0m\n\u001b[0;32m    723\u001b[0m     \u001b[1;32mif\u001b[0m \u001b[0misinstance\u001b[0m\u001b[1;33m(\u001b[0m\u001b[0mkey\u001b[0m\u001b[1;33m,\u001b[0m \u001b[0mGrouper\u001b[0m\u001b[1;33m)\u001b[0m\u001b[1;33m:\u001b[0m\u001b[1;33m\u001b[0m\u001b[1;33m\u001b[0m\u001b[0m\n\u001b[1;32m--> 724\u001b[1;33m         \u001b[0mbinner\u001b[0m\u001b[1;33m,\u001b[0m \u001b[0mgrouper\u001b[0m\u001b[1;33m,\u001b[0m \u001b[0mobj\u001b[0m \u001b[1;33m=\u001b[0m \u001b[0mkey\u001b[0m\u001b[1;33m.\u001b[0m\u001b[0m_get_grouper\u001b[0m\u001b[1;33m(\u001b[0m\u001b[0mobj\u001b[0m\u001b[1;33m,\u001b[0m \u001b[0mvalidate\u001b[0m\u001b[1;33m=\u001b[0m\u001b[1;32mFalse\u001b[0m\u001b[1;33m)\u001b[0m\u001b[1;33m\u001b[0m\u001b[1;33m\u001b[0m\u001b[0m\n\u001b[0m\u001b[0;32m    725\u001b[0m         \u001b[1;32mif\u001b[0m \u001b[0mkey\u001b[0m\u001b[1;33m.\u001b[0m\u001b[0mkey\u001b[0m \u001b[1;32mis\u001b[0m \u001b[1;32mNone\u001b[0m\u001b[1;33m:\u001b[0m\u001b[1;33m\u001b[0m\u001b[1;33m\u001b[0m\u001b[0m\n\u001b[0;32m    726\u001b[0m             \u001b[1;32mreturn\u001b[0m \u001b[0mgrouper\u001b[0m\u001b[1;33m,\u001b[0m \u001b[0mset\u001b[0m\u001b[1;33m(\u001b[0m\u001b[1;33m)\u001b[0m\u001b[1;33m,\u001b[0m \u001b[0mobj\u001b[0m\u001b[1;33m\u001b[0m\u001b[1;33m\u001b[0m\u001b[0m\n",
      "\u001b[1;32mC:\\Python39\\lib\\site-packages\\pandas\\core\\resample.py\u001b[0m in \u001b[0;36m_get_grouper\u001b[1;34m(self, obj, validate)\u001b[0m\n\u001b[0;32m   1482\u001b[0m     \u001b[1;32mdef\u001b[0m \u001b[0m_get_grouper\u001b[0m\u001b[1;33m(\u001b[0m\u001b[0mself\u001b[0m\u001b[1;33m,\u001b[0m \u001b[0mobj\u001b[0m\u001b[1;33m,\u001b[0m \u001b[0mvalidate\u001b[0m\u001b[1;33m:\u001b[0m \u001b[0mbool\u001b[0m \u001b[1;33m=\u001b[0m \u001b[1;32mTrue\u001b[0m\u001b[1;33m)\u001b[0m\u001b[1;33m:\u001b[0m\u001b[1;33m\u001b[0m\u001b[1;33m\u001b[0m\u001b[0m\n\u001b[0;32m   1483\u001b[0m         \u001b[1;31m# create the resampler and return our binner\u001b[0m\u001b[1;33m\u001b[0m\u001b[1;33m\u001b[0m\u001b[1;33m\u001b[0m\u001b[0m\n\u001b[1;32m-> 1484\u001b[1;33m         \u001b[0mr\u001b[0m \u001b[1;33m=\u001b[0m \u001b[0mself\u001b[0m\u001b[1;33m.\u001b[0m\u001b[0m_get_resampler\u001b[0m\u001b[1;33m(\u001b[0m\u001b[0mobj\u001b[0m\u001b[1;33m)\u001b[0m\u001b[1;33m\u001b[0m\u001b[1;33m\u001b[0m\u001b[0m\n\u001b[0m\u001b[0;32m   1485\u001b[0m         \u001b[0mr\u001b[0m\u001b[1;33m.\u001b[0m\u001b[0m_set_binner\u001b[0m\u001b[1;33m(\u001b[0m\u001b[1;33m)\u001b[0m\u001b[1;33m\u001b[0m\u001b[1;33m\u001b[0m\u001b[0m\n\u001b[0;32m   1486\u001b[0m         \u001b[1;32mreturn\u001b[0m \u001b[0mr\u001b[0m\u001b[1;33m.\u001b[0m\u001b[0mbinner\u001b[0m\u001b[1;33m,\u001b[0m \u001b[0mr\u001b[0m\u001b[1;33m.\u001b[0m\u001b[0mgrouper\u001b[0m\u001b[1;33m,\u001b[0m \u001b[0mr\u001b[0m\u001b[1;33m.\u001b[0m\u001b[0mobj\u001b[0m\u001b[1;33m\u001b[0m\u001b[1;33m\u001b[0m\u001b[0m\n",
      "\u001b[1;32mC:\\Python39\\lib\\site-packages\\pandas\\core\\resample.py\u001b[0m in \u001b[0;36m_get_resampler\u001b[1;34m(self, obj, kind)\u001b[0m\n\u001b[0;32m   1464\u001b[0m \u001b[1;33m\u001b[0m\u001b[0m\n\u001b[0;32m   1465\u001b[0m         \"\"\"\n\u001b[1;32m-> 1466\u001b[1;33m         \u001b[0mself\u001b[0m\u001b[1;33m.\u001b[0m\u001b[0m_set_grouper\u001b[0m\u001b[1;33m(\u001b[0m\u001b[0mobj\u001b[0m\u001b[1;33m)\u001b[0m\u001b[1;33m\u001b[0m\u001b[1;33m\u001b[0m\u001b[0m\n\u001b[0m\u001b[0;32m   1467\u001b[0m \u001b[1;33m\u001b[0m\u001b[0m\n\u001b[0;32m   1468\u001b[0m         \u001b[0max\u001b[0m \u001b[1;33m=\u001b[0m \u001b[0mself\u001b[0m\u001b[1;33m.\u001b[0m\u001b[0max\u001b[0m\u001b[1;33m\u001b[0m\u001b[1;33m\u001b[0m\u001b[0m\n",
      "\u001b[1;32mC:\\Python39\\lib\\site-packages\\pandas\\core\\groupby\\grouper.py\u001b[0m in \u001b[0;36m_set_grouper\u001b[1;34m(self, obj, sort)\u001b[0m\n\u001b[0;32m    363\u001b[0m             \u001b[1;32melse\u001b[0m\u001b[1;33m:\u001b[0m\u001b[1;33m\u001b[0m\u001b[1;33m\u001b[0m\u001b[0m\n\u001b[0;32m    364\u001b[0m                 \u001b[1;32mif\u001b[0m \u001b[0mkey\u001b[0m \u001b[1;32mnot\u001b[0m \u001b[1;32min\u001b[0m \u001b[0mobj\u001b[0m\u001b[1;33m.\u001b[0m\u001b[0m_info_axis\u001b[0m\u001b[1;33m:\u001b[0m\u001b[1;33m\u001b[0m\u001b[1;33m\u001b[0m\u001b[0m\n\u001b[1;32m--> 365\u001b[1;33m                     \u001b[1;32mraise\u001b[0m \u001b[0mKeyError\u001b[0m\u001b[1;33m(\u001b[0m\u001b[1;34mf\"The grouper name {key} is not found\"\u001b[0m\u001b[1;33m)\u001b[0m\u001b[1;33m\u001b[0m\u001b[1;33m\u001b[0m\u001b[0m\n\u001b[0m\u001b[0;32m    366\u001b[0m                 \u001b[0max\u001b[0m \u001b[1;33m=\u001b[0m \u001b[0mIndex\u001b[0m\u001b[1;33m(\u001b[0m\u001b[0mobj\u001b[0m\u001b[1;33m[\u001b[0m\u001b[0mkey\u001b[0m\u001b[1;33m]\u001b[0m\u001b[1;33m,\u001b[0m \u001b[0mname\u001b[0m\u001b[1;33m=\u001b[0m\u001b[0mkey\u001b[0m\u001b[1;33m)\u001b[0m\u001b[1;33m\u001b[0m\u001b[1;33m\u001b[0m\u001b[0m\n\u001b[0;32m    367\u001b[0m \u001b[1;33m\u001b[0m\u001b[0m\n",
      "\u001b[1;31mKeyError\u001b[0m: 'The grouper name Date is not found'"
     ]
    }
   ],
   "source": [
    "#stock_data2.groupby( stock_data2['Date'].dt.strftime('%B') )['Adj Close']\n",
    "#df.groupby(df['date'].dt.strftime('%B'))['Revenue'].sum().sort_values()\n",
    "\n",
    "dg = stock_data2.groupby(pd.Grouper(key='Date', freq='1M')).sum()"
   ]
  },
  {
   "cell_type": "code",
   "execution_count": 151,
   "metadata": {},
   "outputs": [],
   "source": [
    "stock_data2['30ma'] = stock_data2['Adj Close'].rolling(window=30).mean()"
   ]
  },
  {
   "cell_type": "code",
   "execution_count": 152,
   "metadata": {},
   "outputs": [
    {
     "output_type": "execute_result",
     "data": {
      "text/plain": [
       "                  Open        High         Low       Close   Adj Close  \\\n",
       "Date                                                                     \n",
       "2016-08-31   57.650002   57.799999   57.299999   57.459999   53.388424   \n",
       "2016-09-01   57.009998   57.820000   57.009998   57.590000   53.509209   \n",
       "2016-09-02   57.669998   58.189999   57.419998   57.669998   53.583530   \n",
       "2016-09-06   57.779999   57.799999   57.209999   57.610001   53.527790   \n",
       "2016-09-07   57.470001   57.840000   57.410000   57.660000   53.574242   \n",
       "...                ...         ...         ...         ...         ...   \n",
       "2020-12-23  223.110001  223.559998  220.800003  221.020004  220.512131   \n",
       "2020-12-24  221.419998  223.610001  221.199997  222.750000  222.238144   \n",
       "2020-12-28  224.449997  226.029999  223.020004  224.960007  224.443069   \n",
       "2020-12-29  226.309998  227.179993  223.580002  224.149994  223.634918   \n",
       "2020-12-30  225.229996  225.630005  221.470001  221.679993  221.170593   \n",
       "\n",
       "              Volume        30ma  \n",
       "Date                              \n",
       "2016-08-31  20860300         NaN  \n",
       "2016-09-01  26075400         NaN  \n",
       "2016-09-02  18900500         NaN  \n",
       "2016-09-06  16278400         NaN  \n",
       "2016-09-07  17493400         NaN  \n",
       "...              ...         ...  \n",
       "2020-12-23  18699600  214.759686  \n",
       "2020-12-24  10550600  214.984683  \n",
       "2020-12-28  17933500  215.319996  \n",
       "2020-12-29  17403200  215.592879  \n",
       "2020-12-30  20272300  215.759735  \n",
       "\n",
       "[1091 rows x 7 columns]"
      ],
      "text/html": "<div>\n<style scoped>\n    .dataframe tbody tr th:only-of-type {\n        vertical-align: middle;\n    }\n\n    .dataframe tbody tr th {\n        vertical-align: top;\n    }\n\n    .dataframe thead th {\n        text-align: right;\n    }\n</style>\n<table border=\"1\" class=\"dataframe\">\n  <thead>\n    <tr style=\"text-align: right;\">\n      <th></th>\n      <th>Open</th>\n      <th>High</th>\n      <th>Low</th>\n      <th>Close</th>\n      <th>Adj Close</th>\n      <th>Volume</th>\n      <th>30ma</th>\n    </tr>\n    <tr>\n      <th>Date</th>\n      <th></th>\n      <th></th>\n      <th></th>\n      <th></th>\n      <th></th>\n      <th></th>\n      <th></th>\n    </tr>\n  </thead>\n  <tbody>\n    <tr>\n      <th>2016-08-31</th>\n      <td>57.650002</td>\n      <td>57.799999</td>\n      <td>57.299999</td>\n      <td>57.459999</td>\n      <td>53.388424</td>\n      <td>20860300</td>\n      <td>NaN</td>\n    </tr>\n    <tr>\n      <th>2016-09-01</th>\n      <td>57.009998</td>\n      <td>57.820000</td>\n      <td>57.009998</td>\n      <td>57.590000</td>\n      <td>53.509209</td>\n      <td>26075400</td>\n      <td>NaN</td>\n    </tr>\n    <tr>\n      <th>2016-09-02</th>\n      <td>57.669998</td>\n      <td>58.189999</td>\n      <td>57.419998</td>\n      <td>57.669998</td>\n      <td>53.583530</td>\n      <td>18900500</td>\n      <td>NaN</td>\n    </tr>\n    <tr>\n      <th>2016-09-06</th>\n      <td>57.779999</td>\n      <td>57.799999</td>\n      <td>57.209999</td>\n      <td>57.610001</td>\n      <td>53.527790</td>\n      <td>16278400</td>\n      <td>NaN</td>\n    </tr>\n    <tr>\n      <th>2016-09-07</th>\n      <td>57.470001</td>\n      <td>57.840000</td>\n      <td>57.410000</td>\n      <td>57.660000</td>\n      <td>53.574242</td>\n      <td>17493400</td>\n      <td>NaN</td>\n    </tr>\n    <tr>\n      <th>...</th>\n      <td>...</td>\n      <td>...</td>\n      <td>...</td>\n      <td>...</td>\n      <td>...</td>\n      <td>...</td>\n      <td>...</td>\n    </tr>\n    <tr>\n      <th>2020-12-23</th>\n      <td>223.110001</td>\n      <td>223.559998</td>\n      <td>220.800003</td>\n      <td>221.020004</td>\n      <td>220.512131</td>\n      <td>18699600</td>\n      <td>214.759686</td>\n    </tr>\n    <tr>\n      <th>2020-12-24</th>\n      <td>221.419998</td>\n      <td>223.610001</td>\n      <td>221.199997</td>\n      <td>222.750000</td>\n      <td>222.238144</td>\n      <td>10550600</td>\n      <td>214.984683</td>\n    </tr>\n    <tr>\n      <th>2020-12-28</th>\n      <td>224.449997</td>\n      <td>226.029999</td>\n      <td>223.020004</td>\n      <td>224.960007</td>\n      <td>224.443069</td>\n      <td>17933500</td>\n      <td>215.319996</td>\n    </tr>\n    <tr>\n      <th>2020-12-29</th>\n      <td>226.309998</td>\n      <td>227.179993</td>\n      <td>223.580002</td>\n      <td>224.149994</td>\n      <td>223.634918</td>\n      <td>17403200</td>\n      <td>215.592879</td>\n    </tr>\n    <tr>\n      <th>2020-12-30</th>\n      <td>225.229996</td>\n      <td>225.630005</td>\n      <td>221.470001</td>\n      <td>221.679993</td>\n      <td>221.170593</td>\n      <td>20272300</td>\n      <td>215.759735</td>\n    </tr>\n  </tbody>\n</table>\n<p>1091 rows × 7 columns</p>\n</div>"
     },
     "metadata": {},
     "execution_count": 152
    }
   ],
   "source": [
    "stock_data2"
   ]
  },
  {
   "cell_type": "code",
   "execution_count": 153,
   "metadata": {},
   "outputs": [],
   "source": [
    "stock_data2.dropna(inplace=True)"
   ]
  },
  {
   "cell_type": "code",
   "execution_count": 157,
   "metadata": {},
   "outputs": [
    {
     "output_type": "execute_result",
     "data": {
      "text/plain": [
       "                  Open        High         Low       Close   Adj Close  \\\n",
       "Date                                                                     \n",
       "2016-10-31   58.817857   59.205000   58.461429   58.805714   54.638771   \n",
       "2016-11-30   59.958571   60.388571   59.437619   59.925238   55.877551   \n",
       "2016-12-31   62.103810   62.545715   61.683809   62.118095   58.106348   \n",
       "2017-01-31   63.185500   63.530000   62.752500   63.192000   59.110895   \n",
       "2017-02-28   64.134737   64.389474   63.782632   64.113684   60.165436   \n",
       "2017-03-31   64.764349   65.149130   64.443913   64.841305   61.021400   \n",
       "2017-04-30   66.238948   66.518421   65.807369   66.171579   62.273306   \n",
       "2017-05-31   68.828182   69.209545   68.441818   68.917273   65.043111   \n",
       "2017-06-30   70.561818   71.014545   69.835454   70.518182   66.744236   \n",
       "2017-07-31   71.843500   72.412999   71.441000   72.010500   68.156690   \n",
       "2017-08-31   72.715652   73.196087   72.285218   72.816958   69.128269   \n",
       "2017-09-30   74.365500   74.786000   73.890999   74.344501   70.740683   \n",
       "2017-10-31   77.893181   78.349545   77.530001   77.939546   74.161455   \n",
       "2017-11-30   83.645238   84.088095   83.158572   83.717619   79.868213   \n",
       "2017-12-31   84.836000   85.409501   84.163500   84.758500   81.054895   \n",
       "2018-01-31   89.966667   90.657620   89.371905   90.075238   86.139317   \n",
       "2018-02-28   91.437368   92.765789   90.051580   91.367895   87.595103   \n",
       "2018-03-31   93.230476   94.212857   91.885715   92.899047   89.257059   \n",
       "2018-04-30   93.530953   94.471906   92.062382   93.214762   89.560393   \n",
       "2018-05-31   96.632727   97.535455   95.977273   96.981364   93.382992   \n",
       "2018-06-30  100.665715  101.332857   99.857619  100.561905   97.038289   \n",
       "2018-07-31  104.585715  105.455714  103.665238  104.638573  100.972112   \n",
       "2018-08-31  108.453913  109.203478  107.850869  108.684347  105.104570   \n",
       "2018-09-30  112.077369  112.946316  111.212106  112.237895  108.721947   \n",
       "2018-10-31  109.792175  111.032173  107.743043  109.207391  105.786379   \n",
       "2018-11-30  107.253810  108.471904  105.857620  107.298096  104.191738   \n",
       "2018-12-31  105.023685  106.538948  102.571579  104.393684  101.560324   \n",
       "2019-01-31  103.951429  104.978096  102.850952  104.135238  101.308892   \n",
       "2019-02-28  107.510527  108.451053  106.902106  107.927894  105.168234   \n",
       "2019-03-31  115.012857  115.905238  114.085238  115.133810  112.487309   \n",
       "2019-04-30  122.606190  123.239047  121.932858  122.794762  119.972165   \n",
       "2019-05-31  126.190455  127.396818  125.250909  126.346363  123.691465   \n",
       "2019-06-30  132.039500  133.107500  130.850500  131.994001  129.437311   \n",
       "2019-07-31  138.308182  139.027273  137.126819  138.102727  135.427714   \n",
       "2019-08-31  136.502729  137.612273  134.899546  136.376363  133.997821   \n",
       "2019-09-30  138.358501  139.089500  136.989999  138.115501  135.891246   \n",
       "2019-10-31  139.525217  140.394345  138.291738  139.229131  136.986946   \n",
       "2019-11-30  147.854000  148.553503  147.155501  148.095500  145.887241   \n",
       "2019-12-31  153.981429  154.770477  153.164285  154.179525  152.212753   \n",
       "2020-01-31  163.973333  164.980953  162.692856  163.999046  161.907017   \n",
       "2020-02-29  178.566316  181.360000  175.851052  178.719474  176.635464   \n",
       "2020-03-31  151.990001  157.545001  147.598636  152.554091  151.019428   \n",
       "2020-04-30  169.206667  171.333809  166.366192  169.039525  167.339019   \n",
       "2020-05-31  182.271499  184.404000  180.268001  182.342500  180.684705   \n",
       "2020-06-30  191.955909  194.665909  189.865909  192.699547  191.292308   \n",
       "2020-07-31  207.118636  209.355001  204.255909  207.080455  205.568196   \n",
       "2020-08-31  213.760000  216.278095  211.762857  214.353333  213.013032   \n",
       "2020-09-30  209.532858  212.474763  205.696666  208.807143  207.783338   \n",
       "2020-10-31  213.048636  215.413636  210.679091  212.890455  211.846633   \n",
       "2020-11-30  214.210000  216.457998  211.853999  214.138999  213.310634   \n",
       "2020-12-31  217.418095  219.363334  215.834287  217.750952  217.250586   \n",
       "\n",
       "                  Volume        30ma  \n",
       "Date                                  \n",
       "2016-10-31  3.413175e+07   53.488741  \n",
       "2016-11-30  2.919318e+07   54.794964  \n",
       "2016-12-31  2.445618e+07   56.555631  \n",
       "2017-01-31  2.467268e+07   58.399418  \n",
       "2017-02-28  2.319705e+07   59.404934  \n",
       "2017-03-31  2.126825e+07   60.496600  \n",
       "2017-04-30  2.279954e+07   61.313974  \n",
       "2017-05-31  2.350993e+07   63.273364  \n",
       "2017-06-30  2.862349e+07   65.811808  \n",
       "2017-07-31  2.349256e+07   66.792950  \n",
       "2017-08-31  1.930741e+07   68.516466  \n",
       "2017-09-30  1.879920e+07   69.778699  \n",
       "2017-10-31  2.045227e+07   71.525791  \n",
       "2017-11-30  2.009171e+07   76.380504  \n",
       "2017-12-31  2.331016e+07   79.939375  \n",
       "2018-01-31  2.734564e+07   82.518642  \n",
       "2018-02-28  3.819281e+07   86.332650  \n",
       "2018-03-31  3.575023e+07   88.700732  \n",
       "2018-04-30  3.181575e+07   88.989591  \n",
       "2018-05-31  2.315536e+07   90.832532  \n",
       "2018-06-30  2.869453e+07   95.001385  \n",
       "2018-07-31  2.711201e+07   97.724530  \n",
       "2018-08-31  1.985340e+07  102.524887  \n",
       "2018-09-30  2.527661e+07  106.030439  \n",
       "2018-10-31  4.032817e+07  108.212612  \n",
       "2018-11-30  3.429660e+07  104.867394  \n",
       "2018-12-31  4.970077e+07  103.822266  \n",
       "2019-01-31  3.401013e+07  101.071808  \n",
       "2019-02-28  2.468926e+07  102.112001  \n",
       "2019-03-31  2.805218e+07  107.374222  \n",
       "2019-04-30  2.062656e+07  114.665771  \n",
       "2019-05-31  2.487358e+07  121.585524  \n",
       "2019-06-30  2.541622e+07  125.114781  \n",
       "2019-07-31  2.200363e+07  131.586764  \n",
       "2019-08-31  2.656736e+07  134.804387  \n",
       "2019-09-30  2.362724e+07  134.754912  \n",
       "2019-10-31  2.389232e+07  135.875768  \n",
       "2019-11-30  1.961859e+07  139.807946  \n",
       "2019-12-31  2.144301e+07  147.497170  \n",
       "2020-01-31  2.659667e+07  155.345748  \n",
       "2020-02-29  4.671712e+07  167.721103  \n",
       "2020-03-31  7.330434e+07  166.723599  \n",
       "2020-04-30  4.689575e+07  155.160194  \n",
       "2020-05-31  3.444691e+07  171.757663  \n",
       "2020-06-30  3.477115e+07  183.197143  \n",
       "2020-07-31  3.502319e+07  197.647014  \n",
       "2020-08-31  3.297640e+07  206.914560  \n",
       "2020-09-30  3.658295e+07  211.682264  \n",
       "2020-10-31  2.871127e+07  209.539076  \n",
       "2020-11-30  2.867215e+07  212.197607  \n",
       "2020-12-31  2.732685e+07  213.652709  "
      ],
      "text/html": "<div>\n<style scoped>\n    .dataframe tbody tr th:only-of-type {\n        vertical-align: middle;\n    }\n\n    .dataframe tbody tr th {\n        vertical-align: top;\n    }\n\n    .dataframe thead th {\n        text-align: right;\n    }\n</style>\n<table border=\"1\" class=\"dataframe\">\n  <thead>\n    <tr style=\"text-align: right;\">\n      <th></th>\n      <th>Open</th>\n      <th>High</th>\n      <th>Low</th>\n      <th>Close</th>\n      <th>Adj Close</th>\n      <th>Volume</th>\n      <th>30ma</th>\n    </tr>\n    <tr>\n      <th>Date</th>\n      <th></th>\n      <th></th>\n      <th></th>\n      <th></th>\n      <th></th>\n      <th></th>\n      <th></th>\n    </tr>\n  </thead>\n  <tbody>\n    <tr>\n      <th>2016-10-31</th>\n      <td>58.817857</td>\n      <td>59.205000</td>\n      <td>58.461429</td>\n      <td>58.805714</td>\n      <td>54.638771</td>\n      <td>3.413175e+07</td>\n      <td>53.488741</td>\n    </tr>\n    <tr>\n      <th>2016-11-30</th>\n      <td>59.958571</td>\n      <td>60.388571</td>\n      <td>59.437619</td>\n      <td>59.925238</td>\n      <td>55.877551</td>\n      <td>2.919318e+07</td>\n      <td>54.794964</td>\n    </tr>\n    <tr>\n      <th>2016-12-31</th>\n      <td>62.103810</td>\n      <td>62.545715</td>\n      <td>61.683809</td>\n      <td>62.118095</td>\n      <td>58.106348</td>\n      <td>2.445618e+07</td>\n      <td>56.555631</td>\n    </tr>\n    <tr>\n      <th>2017-01-31</th>\n      <td>63.185500</td>\n      <td>63.530000</td>\n      <td>62.752500</td>\n      <td>63.192000</td>\n      <td>59.110895</td>\n      <td>2.467268e+07</td>\n      <td>58.399418</td>\n    </tr>\n    <tr>\n      <th>2017-02-28</th>\n      <td>64.134737</td>\n      <td>64.389474</td>\n      <td>63.782632</td>\n      <td>64.113684</td>\n      <td>60.165436</td>\n      <td>2.319705e+07</td>\n      <td>59.404934</td>\n    </tr>\n    <tr>\n      <th>2017-03-31</th>\n      <td>64.764349</td>\n      <td>65.149130</td>\n      <td>64.443913</td>\n      <td>64.841305</td>\n      <td>61.021400</td>\n      <td>2.126825e+07</td>\n      <td>60.496600</td>\n    </tr>\n    <tr>\n      <th>2017-04-30</th>\n      <td>66.238948</td>\n      <td>66.518421</td>\n      <td>65.807369</td>\n      <td>66.171579</td>\n      <td>62.273306</td>\n      <td>2.279954e+07</td>\n      <td>61.313974</td>\n    </tr>\n    <tr>\n      <th>2017-05-31</th>\n      <td>68.828182</td>\n      <td>69.209545</td>\n      <td>68.441818</td>\n      <td>68.917273</td>\n      <td>65.043111</td>\n      <td>2.350993e+07</td>\n      <td>63.273364</td>\n    </tr>\n    <tr>\n      <th>2017-06-30</th>\n      <td>70.561818</td>\n      <td>71.014545</td>\n      <td>69.835454</td>\n      <td>70.518182</td>\n      <td>66.744236</td>\n      <td>2.862349e+07</td>\n      <td>65.811808</td>\n    </tr>\n    <tr>\n      <th>2017-07-31</th>\n      <td>71.843500</td>\n      <td>72.412999</td>\n      <td>71.441000</td>\n      <td>72.010500</td>\n      <td>68.156690</td>\n      <td>2.349256e+07</td>\n      <td>66.792950</td>\n    </tr>\n    <tr>\n      <th>2017-08-31</th>\n      <td>72.715652</td>\n      <td>73.196087</td>\n      <td>72.285218</td>\n      <td>72.816958</td>\n      <td>69.128269</td>\n      <td>1.930741e+07</td>\n      <td>68.516466</td>\n    </tr>\n    <tr>\n      <th>2017-09-30</th>\n      <td>74.365500</td>\n      <td>74.786000</td>\n      <td>73.890999</td>\n      <td>74.344501</td>\n      <td>70.740683</td>\n      <td>1.879920e+07</td>\n      <td>69.778699</td>\n    </tr>\n    <tr>\n      <th>2017-10-31</th>\n      <td>77.893181</td>\n      <td>78.349545</td>\n      <td>77.530001</td>\n      <td>77.939546</td>\n      <td>74.161455</td>\n      <td>2.045227e+07</td>\n      <td>71.525791</td>\n    </tr>\n    <tr>\n      <th>2017-11-30</th>\n      <td>83.645238</td>\n      <td>84.088095</td>\n      <td>83.158572</td>\n      <td>83.717619</td>\n      <td>79.868213</td>\n      <td>2.009171e+07</td>\n      <td>76.380504</td>\n    </tr>\n    <tr>\n      <th>2017-12-31</th>\n      <td>84.836000</td>\n      <td>85.409501</td>\n      <td>84.163500</td>\n      <td>84.758500</td>\n      <td>81.054895</td>\n      <td>2.331016e+07</td>\n      <td>79.939375</td>\n    </tr>\n    <tr>\n      <th>2018-01-31</th>\n      <td>89.966667</td>\n      <td>90.657620</td>\n      <td>89.371905</td>\n      <td>90.075238</td>\n      <td>86.139317</td>\n      <td>2.734564e+07</td>\n      <td>82.518642</td>\n    </tr>\n    <tr>\n      <th>2018-02-28</th>\n      <td>91.437368</td>\n      <td>92.765789</td>\n      <td>90.051580</td>\n      <td>91.367895</td>\n      <td>87.595103</td>\n      <td>3.819281e+07</td>\n      <td>86.332650</td>\n    </tr>\n    <tr>\n      <th>2018-03-31</th>\n      <td>93.230476</td>\n      <td>94.212857</td>\n      <td>91.885715</td>\n      <td>92.899047</td>\n      <td>89.257059</td>\n      <td>3.575023e+07</td>\n      <td>88.700732</td>\n    </tr>\n    <tr>\n      <th>2018-04-30</th>\n      <td>93.530953</td>\n      <td>94.471906</td>\n      <td>92.062382</td>\n      <td>93.214762</td>\n      <td>89.560393</td>\n      <td>3.181575e+07</td>\n      <td>88.989591</td>\n    </tr>\n    <tr>\n      <th>2018-05-31</th>\n      <td>96.632727</td>\n      <td>97.535455</td>\n      <td>95.977273</td>\n      <td>96.981364</td>\n      <td>93.382992</td>\n      <td>2.315536e+07</td>\n      <td>90.832532</td>\n    </tr>\n    <tr>\n      <th>2018-06-30</th>\n      <td>100.665715</td>\n      <td>101.332857</td>\n      <td>99.857619</td>\n      <td>100.561905</td>\n      <td>97.038289</td>\n      <td>2.869453e+07</td>\n      <td>95.001385</td>\n    </tr>\n    <tr>\n      <th>2018-07-31</th>\n      <td>104.585715</td>\n      <td>105.455714</td>\n      <td>103.665238</td>\n      <td>104.638573</td>\n      <td>100.972112</td>\n      <td>2.711201e+07</td>\n      <td>97.724530</td>\n    </tr>\n    <tr>\n      <th>2018-08-31</th>\n      <td>108.453913</td>\n      <td>109.203478</td>\n      <td>107.850869</td>\n      <td>108.684347</td>\n      <td>105.104570</td>\n      <td>1.985340e+07</td>\n      <td>102.524887</td>\n    </tr>\n    <tr>\n      <th>2018-09-30</th>\n      <td>112.077369</td>\n      <td>112.946316</td>\n      <td>111.212106</td>\n      <td>112.237895</td>\n      <td>108.721947</td>\n      <td>2.527661e+07</td>\n      <td>106.030439</td>\n    </tr>\n    <tr>\n      <th>2018-10-31</th>\n      <td>109.792175</td>\n      <td>111.032173</td>\n      <td>107.743043</td>\n      <td>109.207391</td>\n      <td>105.786379</td>\n      <td>4.032817e+07</td>\n      <td>108.212612</td>\n    </tr>\n    <tr>\n      <th>2018-11-30</th>\n      <td>107.253810</td>\n      <td>108.471904</td>\n      <td>105.857620</td>\n      <td>107.298096</td>\n      <td>104.191738</td>\n      <td>3.429660e+07</td>\n      <td>104.867394</td>\n    </tr>\n    <tr>\n      <th>2018-12-31</th>\n      <td>105.023685</td>\n      <td>106.538948</td>\n      <td>102.571579</td>\n      <td>104.393684</td>\n      <td>101.560324</td>\n      <td>4.970077e+07</td>\n      <td>103.822266</td>\n    </tr>\n    <tr>\n      <th>2019-01-31</th>\n      <td>103.951429</td>\n      <td>104.978096</td>\n      <td>102.850952</td>\n      <td>104.135238</td>\n      <td>101.308892</td>\n      <td>3.401013e+07</td>\n      <td>101.071808</td>\n    </tr>\n    <tr>\n      <th>2019-02-28</th>\n      <td>107.510527</td>\n      <td>108.451053</td>\n      <td>106.902106</td>\n      <td>107.927894</td>\n      <td>105.168234</td>\n      <td>2.468926e+07</td>\n      <td>102.112001</td>\n    </tr>\n    <tr>\n      <th>2019-03-31</th>\n      <td>115.012857</td>\n      <td>115.905238</td>\n      <td>114.085238</td>\n      <td>115.133810</td>\n      <td>112.487309</td>\n      <td>2.805218e+07</td>\n      <td>107.374222</td>\n    </tr>\n    <tr>\n      <th>2019-04-30</th>\n      <td>122.606190</td>\n      <td>123.239047</td>\n      <td>121.932858</td>\n      <td>122.794762</td>\n      <td>119.972165</td>\n      <td>2.062656e+07</td>\n      <td>114.665771</td>\n    </tr>\n    <tr>\n      <th>2019-05-31</th>\n      <td>126.190455</td>\n      <td>127.396818</td>\n      <td>125.250909</td>\n      <td>126.346363</td>\n      <td>123.691465</td>\n      <td>2.487358e+07</td>\n      <td>121.585524</td>\n    </tr>\n    <tr>\n      <th>2019-06-30</th>\n      <td>132.039500</td>\n      <td>133.107500</td>\n      <td>130.850500</td>\n      <td>131.994001</td>\n      <td>129.437311</td>\n      <td>2.541622e+07</td>\n      <td>125.114781</td>\n    </tr>\n    <tr>\n      <th>2019-07-31</th>\n      <td>138.308182</td>\n      <td>139.027273</td>\n      <td>137.126819</td>\n      <td>138.102727</td>\n      <td>135.427714</td>\n      <td>2.200363e+07</td>\n      <td>131.586764</td>\n    </tr>\n    <tr>\n      <th>2019-08-31</th>\n      <td>136.502729</td>\n      <td>137.612273</td>\n      <td>134.899546</td>\n      <td>136.376363</td>\n      <td>133.997821</td>\n      <td>2.656736e+07</td>\n      <td>134.804387</td>\n    </tr>\n    <tr>\n      <th>2019-09-30</th>\n      <td>138.358501</td>\n      <td>139.089500</td>\n      <td>136.989999</td>\n      <td>138.115501</td>\n      <td>135.891246</td>\n      <td>2.362724e+07</td>\n      <td>134.754912</td>\n    </tr>\n    <tr>\n      <th>2019-10-31</th>\n      <td>139.525217</td>\n      <td>140.394345</td>\n      <td>138.291738</td>\n      <td>139.229131</td>\n      <td>136.986946</td>\n      <td>2.389232e+07</td>\n      <td>135.875768</td>\n    </tr>\n    <tr>\n      <th>2019-11-30</th>\n      <td>147.854000</td>\n      <td>148.553503</td>\n      <td>147.155501</td>\n      <td>148.095500</td>\n      <td>145.887241</td>\n      <td>1.961859e+07</td>\n      <td>139.807946</td>\n    </tr>\n    <tr>\n      <th>2019-12-31</th>\n      <td>153.981429</td>\n      <td>154.770477</td>\n      <td>153.164285</td>\n      <td>154.179525</td>\n      <td>152.212753</td>\n      <td>2.144301e+07</td>\n      <td>147.497170</td>\n    </tr>\n    <tr>\n      <th>2020-01-31</th>\n      <td>163.973333</td>\n      <td>164.980953</td>\n      <td>162.692856</td>\n      <td>163.999046</td>\n      <td>161.907017</td>\n      <td>2.659667e+07</td>\n      <td>155.345748</td>\n    </tr>\n    <tr>\n      <th>2020-02-29</th>\n      <td>178.566316</td>\n      <td>181.360000</td>\n      <td>175.851052</td>\n      <td>178.719474</td>\n      <td>176.635464</td>\n      <td>4.671712e+07</td>\n      <td>167.721103</td>\n    </tr>\n    <tr>\n      <th>2020-03-31</th>\n      <td>151.990001</td>\n      <td>157.545001</td>\n      <td>147.598636</td>\n      <td>152.554091</td>\n      <td>151.019428</td>\n      <td>7.330434e+07</td>\n      <td>166.723599</td>\n    </tr>\n    <tr>\n      <th>2020-04-30</th>\n      <td>169.206667</td>\n      <td>171.333809</td>\n      <td>166.366192</td>\n      <td>169.039525</td>\n      <td>167.339019</td>\n      <td>4.689575e+07</td>\n      <td>155.160194</td>\n    </tr>\n    <tr>\n      <th>2020-05-31</th>\n      <td>182.271499</td>\n      <td>184.404000</td>\n      <td>180.268001</td>\n      <td>182.342500</td>\n      <td>180.684705</td>\n      <td>3.444691e+07</td>\n      <td>171.757663</td>\n    </tr>\n    <tr>\n      <th>2020-06-30</th>\n      <td>191.955909</td>\n      <td>194.665909</td>\n      <td>189.865909</td>\n      <td>192.699547</td>\n      <td>191.292308</td>\n      <td>3.477115e+07</td>\n      <td>183.197143</td>\n    </tr>\n    <tr>\n      <th>2020-07-31</th>\n      <td>207.118636</td>\n      <td>209.355001</td>\n      <td>204.255909</td>\n      <td>207.080455</td>\n      <td>205.568196</td>\n      <td>3.502319e+07</td>\n      <td>197.647014</td>\n    </tr>\n    <tr>\n      <th>2020-08-31</th>\n      <td>213.760000</td>\n      <td>216.278095</td>\n      <td>211.762857</td>\n      <td>214.353333</td>\n      <td>213.013032</td>\n      <td>3.297640e+07</td>\n      <td>206.914560</td>\n    </tr>\n    <tr>\n      <th>2020-09-30</th>\n      <td>209.532858</td>\n      <td>212.474763</td>\n      <td>205.696666</td>\n      <td>208.807143</td>\n      <td>207.783338</td>\n      <td>3.658295e+07</td>\n      <td>211.682264</td>\n    </tr>\n    <tr>\n      <th>2020-10-31</th>\n      <td>213.048636</td>\n      <td>215.413636</td>\n      <td>210.679091</td>\n      <td>212.890455</td>\n      <td>211.846633</td>\n      <td>2.871127e+07</td>\n      <td>209.539076</td>\n    </tr>\n    <tr>\n      <th>2020-11-30</th>\n      <td>214.210000</td>\n      <td>216.457998</td>\n      <td>211.853999</td>\n      <td>214.138999</td>\n      <td>213.310634</td>\n      <td>2.867215e+07</td>\n      <td>212.197607</td>\n    </tr>\n    <tr>\n      <th>2020-12-31</th>\n      <td>217.418095</td>\n      <td>219.363334</td>\n      <td>215.834287</td>\n      <td>217.750952</td>\n      <td>217.250586</td>\n      <td>2.732685e+07</td>\n      <td>213.652709</td>\n    </tr>\n  </tbody>\n</table>\n</div>"
     },
     "metadata": {},
     "execution_count": 157
    }
   ],
   "source": [
    "stock_data2.resample('M').mean()"
   ]
  },
  {
   "cell_type": "code",
   "execution_count": 156,
   "metadata": {},
   "outputs": [
    {
     "output_type": "execute_result",
     "data": {
      "text/plain": [
       "                  Open        High         Low       Close   Adj Close  \\\n",
       "Date                                                                     \n",
       "2016-10-12   57.110001   57.270000   56.400002   57.110001   53.063221   \n",
       "2016-10-13   56.700001   57.299999   56.320000   56.919998   52.886677   \n",
       "2016-10-14   57.119999   57.740002   57.119999   57.419998   53.351246   \n",
       "2016-10-17   57.360001   57.459999   56.869999   57.220001   53.165421   \n",
       "2016-10-18   57.529999   57.950001   57.410000   57.660000   53.574242   \n",
       "...                ...         ...         ...         ...         ...   \n",
       "2020-12-23  223.110001  223.559998  220.800003  221.020004  220.512131   \n",
       "2020-12-24  221.419998  223.610001  221.199997  222.750000  222.238144   \n",
       "2020-12-28  224.449997  226.029999  223.020004  224.960007  224.443069   \n",
       "2020-12-29  226.309998  227.179993  223.580002  224.149994  223.634918   \n",
       "2020-12-30  225.229996  225.630005  221.470001  221.679993  221.170593   \n",
       "\n",
       "              Volume        30ma  \n",
       "Date                              \n",
       "2016-10-12  22177500   53.293025  \n",
       "2016-10-13  25313700   53.276300  \n",
       "2016-10-14  27402500   53.271034  \n",
       "2016-10-17  23830000   53.257097  \n",
       "2016-10-18  19149500   53.258646  \n",
       "...              ...         ...  \n",
       "2020-12-23  18699600  214.759686  \n",
       "2020-12-24  10550600  214.984683  \n",
       "2020-12-28  17933500  215.319996  \n",
       "2020-12-29  17403200  215.592879  \n",
       "2020-12-30  20272300  215.759735  \n",
       "\n",
       "[1062 rows x 7 columns]"
      ],
      "text/html": "<div>\n<style scoped>\n    .dataframe tbody tr th:only-of-type {\n        vertical-align: middle;\n    }\n\n    .dataframe tbody tr th {\n        vertical-align: top;\n    }\n\n    .dataframe thead th {\n        text-align: right;\n    }\n</style>\n<table border=\"1\" class=\"dataframe\">\n  <thead>\n    <tr style=\"text-align: right;\">\n      <th></th>\n      <th>Open</th>\n      <th>High</th>\n      <th>Low</th>\n      <th>Close</th>\n      <th>Adj Close</th>\n      <th>Volume</th>\n      <th>30ma</th>\n    </tr>\n    <tr>\n      <th>Date</th>\n      <th></th>\n      <th></th>\n      <th></th>\n      <th></th>\n      <th></th>\n      <th></th>\n      <th></th>\n    </tr>\n  </thead>\n  <tbody>\n    <tr>\n      <th>2016-10-12</th>\n      <td>57.110001</td>\n      <td>57.270000</td>\n      <td>56.400002</td>\n      <td>57.110001</td>\n      <td>53.063221</td>\n      <td>22177500</td>\n      <td>53.293025</td>\n    </tr>\n    <tr>\n      <th>2016-10-13</th>\n      <td>56.700001</td>\n      <td>57.299999</td>\n      <td>56.320000</td>\n      <td>56.919998</td>\n      <td>52.886677</td>\n      <td>25313700</td>\n      <td>53.276300</td>\n    </tr>\n    <tr>\n      <th>2016-10-14</th>\n      <td>57.119999</td>\n      <td>57.740002</td>\n      <td>57.119999</td>\n      <td>57.419998</td>\n      <td>53.351246</td>\n      <td>27402500</td>\n      <td>53.271034</td>\n    </tr>\n    <tr>\n      <th>2016-10-17</th>\n      <td>57.360001</td>\n      <td>57.459999</td>\n      <td>56.869999</td>\n      <td>57.220001</td>\n      <td>53.165421</td>\n      <td>23830000</td>\n      <td>53.257097</td>\n    </tr>\n    <tr>\n      <th>2016-10-18</th>\n      <td>57.529999</td>\n      <td>57.950001</td>\n      <td>57.410000</td>\n      <td>57.660000</td>\n      <td>53.574242</td>\n      <td>19149500</td>\n      <td>53.258646</td>\n    </tr>\n    <tr>\n      <th>...</th>\n      <td>...</td>\n      <td>...</td>\n      <td>...</td>\n      <td>...</td>\n      <td>...</td>\n      <td>...</td>\n      <td>...</td>\n    </tr>\n    <tr>\n      <th>2020-12-23</th>\n      <td>223.110001</td>\n      <td>223.559998</td>\n      <td>220.800003</td>\n      <td>221.020004</td>\n      <td>220.512131</td>\n      <td>18699600</td>\n      <td>214.759686</td>\n    </tr>\n    <tr>\n      <th>2020-12-24</th>\n      <td>221.419998</td>\n      <td>223.610001</td>\n      <td>221.199997</td>\n      <td>222.750000</td>\n      <td>222.238144</td>\n      <td>10550600</td>\n      <td>214.984683</td>\n    </tr>\n    <tr>\n      <th>2020-12-28</th>\n      <td>224.449997</td>\n      <td>226.029999</td>\n      <td>223.020004</td>\n      <td>224.960007</td>\n      <td>224.443069</td>\n      <td>17933500</td>\n      <td>215.319996</td>\n    </tr>\n    <tr>\n      <th>2020-12-29</th>\n      <td>226.309998</td>\n      <td>227.179993</td>\n      <td>223.580002</td>\n      <td>224.149994</td>\n      <td>223.634918</td>\n      <td>17403200</td>\n      <td>215.592879</td>\n    </tr>\n    <tr>\n      <th>2020-12-30</th>\n      <td>225.229996</td>\n      <td>225.630005</td>\n      <td>221.470001</td>\n      <td>221.679993</td>\n      <td>221.170593</td>\n      <td>20272300</td>\n      <td>215.759735</td>\n    </tr>\n  </tbody>\n</table>\n<p>1062 rows × 7 columns</p>\n</div>"
     },
     "metadata": {},
     "execution_count": 156
    }
   ],
   "source": [
    "stock_data2"
   ]
  },
  {
   "cell_type": "code",
   "execution_count": 158,
   "metadata": {},
   "outputs": [
    {
     "output_type": "stream",
     "name": "stdout",
     "text": [
      "[*********************100%***********************]  1 of 1 completed\n"
     ]
    }
   ],
   "source": [
    "start_date = mydf.iloc[0]['Date']\n",
    "end_date = mydf.iloc[-1]['Date'] + pd.DateOffset(30)\n",
    "stock_data3 = yf.download(\"msft\", start=start_date, end=end_date)"
   ]
  },
  {
   "cell_type": "code",
   "execution_count": 213,
   "metadata": {},
   "outputs": [
    {
     "output_type": "execute_result",
     "data": {
      "text/plain": [
       "                  Open        High         Low       Close   Adj Close  \\\n",
       "Date                                                                     \n",
       "2016-09-30   57.570000   57.770000   57.340000   57.599998   53.518501   \n",
       "2016-10-03   57.410000   57.549999   57.060001   57.419998   53.351246   \n",
       "2016-10-04   57.270000   57.599998   56.970001   57.240002   53.184006   \n",
       "2016-10-05   57.290001   57.959999   57.259998   57.639999   53.555664   \n",
       "2016-10-06   57.740002   57.860001   57.279999   57.740002   53.648579   \n",
       "...                ...         ...         ...         ...         ...   \n",
       "2020-12-23  223.110001  223.559998  220.800003  221.020004  220.512131   \n",
       "2020-12-24  221.419998  223.610001  221.199997  222.750000  222.238144   \n",
       "2020-12-28  224.449997  226.029999  223.020004  224.960007  224.443069   \n",
       "2020-12-29  226.309998  227.179993  223.580002  224.149994  223.634918   \n",
       "2020-12-30  225.229996  225.630005  221.470001  221.679993  221.170593   \n",
       "\n",
       "              Volume  \n",
       "Date                  \n",
       "2016-09-30  29910800  \n",
       "2016-10-03  19189500  \n",
       "2016-10-04  20085900  \n",
       "2016-10-05  16726400  \n",
       "2016-10-06  16212600  \n",
       "...              ...  \n",
       "2020-12-23  18699600  \n",
       "2020-12-24  10550600  \n",
       "2020-12-28  17933500  \n",
       "2020-12-29  17403200  \n",
       "2020-12-30  20272300  \n",
       "\n",
       "[1070 rows x 6 columns]"
      ],
      "text/html": "<div>\n<style scoped>\n    .dataframe tbody tr th:only-of-type {\n        vertical-align: middle;\n    }\n\n    .dataframe tbody tr th {\n        vertical-align: top;\n    }\n\n    .dataframe thead th {\n        text-align: right;\n    }\n</style>\n<table border=\"1\" class=\"dataframe\">\n  <thead>\n    <tr style=\"text-align: right;\">\n      <th></th>\n      <th>Open</th>\n      <th>High</th>\n      <th>Low</th>\n      <th>Close</th>\n      <th>Adj Close</th>\n      <th>Volume</th>\n    </tr>\n    <tr>\n      <th>Date</th>\n      <th></th>\n      <th></th>\n      <th></th>\n      <th></th>\n      <th></th>\n      <th></th>\n    </tr>\n  </thead>\n  <tbody>\n    <tr>\n      <th>2016-09-30</th>\n      <td>57.570000</td>\n      <td>57.770000</td>\n      <td>57.340000</td>\n      <td>57.599998</td>\n      <td>53.518501</td>\n      <td>29910800</td>\n    </tr>\n    <tr>\n      <th>2016-10-03</th>\n      <td>57.410000</td>\n      <td>57.549999</td>\n      <td>57.060001</td>\n      <td>57.419998</td>\n      <td>53.351246</td>\n      <td>19189500</td>\n    </tr>\n    <tr>\n      <th>2016-10-04</th>\n      <td>57.270000</td>\n      <td>57.599998</td>\n      <td>56.970001</td>\n      <td>57.240002</td>\n      <td>53.184006</td>\n      <td>20085900</td>\n    </tr>\n    <tr>\n      <th>2016-10-05</th>\n      <td>57.290001</td>\n      <td>57.959999</td>\n      <td>57.259998</td>\n      <td>57.639999</td>\n      <td>53.555664</td>\n      <td>16726400</td>\n    </tr>\n    <tr>\n      <th>2016-10-06</th>\n      <td>57.740002</td>\n      <td>57.860001</td>\n      <td>57.279999</td>\n      <td>57.740002</td>\n      <td>53.648579</td>\n      <td>16212600</td>\n    </tr>\n    <tr>\n      <th>...</th>\n      <td>...</td>\n      <td>...</td>\n      <td>...</td>\n      <td>...</td>\n      <td>...</td>\n      <td>...</td>\n    </tr>\n    <tr>\n      <th>2020-12-23</th>\n      <td>223.110001</td>\n      <td>223.559998</td>\n      <td>220.800003</td>\n      <td>221.020004</td>\n      <td>220.512131</td>\n      <td>18699600</td>\n    </tr>\n    <tr>\n      <th>2020-12-24</th>\n      <td>221.419998</td>\n      <td>223.610001</td>\n      <td>221.199997</td>\n      <td>222.750000</td>\n      <td>222.238144</td>\n      <td>10550600</td>\n    </tr>\n    <tr>\n      <th>2020-12-28</th>\n      <td>224.449997</td>\n      <td>226.029999</td>\n      <td>223.020004</td>\n      <td>224.960007</td>\n      <td>224.443069</td>\n      <td>17933500</td>\n    </tr>\n    <tr>\n      <th>2020-12-29</th>\n      <td>226.309998</td>\n      <td>227.179993</td>\n      <td>223.580002</td>\n      <td>224.149994</td>\n      <td>223.634918</td>\n      <td>17403200</td>\n    </tr>\n    <tr>\n      <th>2020-12-30</th>\n      <td>225.229996</td>\n      <td>225.630005</td>\n      <td>221.470001</td>\n      <td>221.679993</td>\n      <td>221.170593</td>\n      <td>20272300</td>\n    </tr>\n  </tbody>\n</table>\n<p>1070 rows × 6 columns</p>\n</div>"
     },
     "metadata": {},
     "execution_count": 213
    }
   ],
   "source": [
    "stock_data3"
   ]
  },
  {
   "cell_type": "code",
   "execution_count": 214,
   "metadata": {},
   "outputs": [
    {
     "output_type": "execute_result",
     "data": {
      "text/plain": [
       "                  Open        High         Low       Close   Adj Close  \\\n",
       "Date                                                                     \n",
       "2016-09-30   57.570000   57.770000   57.340000   57.599998   53.518501   \n",
       "2016-10-31   58.419524   58.772857   58.057619   58.397619   54.259594   \n",
       "2016-11-30   59.958571   60.388571   59.437619   59.925238   55.877551   \n",
       "2016-12-31   62.103810   62.545715   61.683809   62.118095   58.106348   \n",
       "2017-01-31   63.185500   63.530000   62.752500   63.192000   59.110895   \n",
       "2017-02-28   64.134737   64.389474   63.782632   64.113684   60.165436   \n",
       "2017-03-31   64.764349   65.149130   64.443913   64.841305   61.021400   \n",
       "2017-04-30   66.238948   66.518421   65.807369   66.171579   62.273306   \n",
       "2017-05-31   68.828182   69.209545   68.441818   68.917273   65.043111   \n",
       "2017-06-30   70.561818   71.014545   69.835454   70.518182   66.744236   \n",
       "2017-07-31   71.843500   72.412999   71.441000   72.010500   68.156690   \n",
       "2017-08-31   72.715652   73.196087   72.285218   72.816958   69.128269   \n",
       "2017-09-30   74.365500   74.786000   73.890999   74.344501   70.740683   \n",
       "2017-10-31   77.893181   78.349545   77.530001   77.939546   74.161455   \n",
       "2017-11-30   83.645238   84.088095   83.158572   83.717619   79.868213   \n",
       "2017-12-31   84.836000   85.409501   84.163500   84.758500   81.054895   \n",
       "2018-01-31   89.966667   90.657620   89.371905   90.075238   86.139317   \n",
       "2018-02-28   91.437368   92.765789   90.051580   91.367895   87.595103   \n",
       "2018-03-31   93.230476   94.212857   91.885715   92.899047   89.257059   \n",
       "2018-04-30   93.530953   94.471906   92.062382   93.214762   89.560393   \n",
       "2018-05-31   96.632727   97.535455   95.977273   96.981364   93.382992   \n",
       "2018-06-30  100.665715  101.332857   99.857619  100.561905   97.038289   \n",
       "2018-07-31  104.585715  105.455714  103.665238  104.638573  100.972112   \n",
       "2018-08-31  108.453913  109.203478  107.850869  108.684347  105.104570   \n",
       "2018-09-30  112.077369  112.946316  111.212106  112.237895  108.721947   \n",
       "2018-10-31  109.792175  111.032173  107.743043  109.207391  105.786379   \n",
       "2018-11-30  107.253810  108.471904  105.857620  107.298096  104.191738   \n",
       "2018-12-31  105.023685  106.538948  102.571579  104.393684  101.560324   \n",
       "2019-01-31  103.951429  104.978096  102.850952  104.135238  101.308892   \n",
       "2019-02-28  107.510527  108.451053  106.902106  107.927894  105.168234   \n",
       "2019-03-31  115.012857  115.905238  114.085238  115.133810  112.487309   \n",
       "2019-04-30  122.606190  123.239047  121.932858  122.794762  119.972165   \n",
       "2019-05-31  126.190455  127.396818  125.250909  126.346363  123.691465   \n",
       "2019-06-30  132.039500  133.107500  130.850500  131.994001  129.437311   \n",
       "2019-07-31  138.308182  139.027273  137.126819  138.102727  135.427714   \n",
       "2019-08-31  136.502729  137.612273  134.899546  136.376363  133.997821   \n",
       "2019-09-30  138.358501  139.089500  136.989999  138.115501  135.891246   \n",
       "2019-10-31  139.525217  140.394345  138.291738  139.229131  136.986946   \n",
       "2019-11-30  147.854000  148.553503  147.155501  148.095500  145.887241   \n",
       "2019-12-31  153.981429  154.770477  153.164285  154.179525  152.212753   \n",
       "2020-01-31  163.973333  164.980953  162.692856  163.999046  161.907017   \n",
       "2020-02-29  178.566316  181.360000  175.851052  178.719474  176.635464   \n",
       "2020-03-31  151.990001  157.545001  147.598636  152.554091  151.019428   \n",
       "2020-04-30  169.206667  171.333809  166.366192  169.039525  167.339019   \n",
       "2020-05-31  182.271499  184.404000  180.268001  182.342500  180.684705   \n",
       "2020-06-30  191.955909  194.665909  189.865909  192.699547  191.292308   \n",
       "2020-07-31  207.118636  209.355001  204.255909  207.080455  205.568196   \n",
       "2020-08-31  213.760000  216.278095  211.762857  214.353333  213.013032   \n",
       "2020-09-30  209.532858  212.474763  205.696666  208.807143  207.783338   \n",
       "2020-10-31  213.048636  215.413636  210.679091  212.890455  211.846633   \n",
       "2020-11-30  214.210000  216.457998  211.853999  214.138999  213.310634   \n",
       "2020-12-31  217.418095  219.363334  215.834287  217.750952  217.250586   \n",
       "\n",
       "                  Volume  \n",
       "Date                      \n",
       "2016-09-30  2.991080e+07  \n",
       "2016-10-31  2.927818e+07  \n",
       "2016-11-30  2.919318e+07  \n",
       "2016-12-31  2.445618e+07  \n",
       "2017-01-31  2.467268e+07  \n",
       "2017-02-28  2.319705e+07  \n",
       "2017-03-31  2.126825e+07  \n",
       "2017-04-30  2.279954e+07  \n",
       "2017-05-31  2.350993e+07  \n",
       "2017-06-30  2.862349e+07  \n",
       "2017-07-31  2.349256e+07  \n",
       "2017-08-31  1.930741e+07  \n",
       "2017-09-30  1.879920e+07  \n",
       "2017-10-31  2.045227e+07  \n",
       "2017-11-30  2.009171e+07  \n",
       "2017-12-31  2.331016e+07  \n",
       "2018-01-31  2.734564e+07  \n",
       "2018-02-28  3.819281e+07  \n",
       "2018-03-31  3.575023e+07  \n",
       "2018-04-30  3.181575e+07  \n",
       "2018-05-31  2.315536e+07  \n",
       "2018-06-30  2.869453e+07  \n",
       "2018-07-31  2.711201e+07  \n",
       "2018-08-31  1.985340e+07  \n",
       "2018-09-30  2.527661e+07  \n",
       "2018-10-31  4.032817e+07  \n",
       "2018-11-30  3.429660e+07  \n",
       "2018-12-31  4.970077e+07  \n",
       "2019-01-31  3.401013e+07  \n",
       "2019-02-28  2.468926e+07  \n",
       "2019-03-31  2.805218e+07  \n",
       "2019-04-30  2.062656e+07  \n",
       "2019-05-31  2.487358e+07  \n",
       "2019-06-30  2.541622e+07  \n",
       "2019-07-31  2.200363e+07  \n",
       "2019-08-31  2.656736e+07  \n",
       "2019-09-30  2.362724e+07  \n",
       "2019-10-31  2.389232e+07  \n",
       "2019-11-30  1.961859e+07  \n",
       "2019-12-31  2.144301e+07  \n",
       "2020-01-31  2.659667e+07  \n",
       "2020-02-29  4.671712e+07  \n",
       "2020-03-31  7.330434e+07  \n",
       "2020-04-30  4.689575e+07  \n",
       "2020-05-31  3.444691e+07  \n",
       "2020-06-30  3.477115e+07  \n",
       "2020-07-31  3.502319e+07  \n",
       "2020-08-31  3.297640e+07  \n",
       "2020-09-30  3.658295e+07  \n",
       "2020-10-31  2.871127e+07  \n",
       "2020-11-30  2.867215e+07  \n",
       "2020-12-31  2.732685e+07  "
      ],
      "text/html": "<div>\n<style scoped>\n    .dataframe tbody tr th:only-of-type {\n        vertical-align: middle;\n    }\n\n    .dataframe tbody tr th {\n        vertical-align: top;\n    }\n\n    .dataframe thead th {\n        text-align: right;\n    }\n</style>\n<table border=\"1\" class=\"dataframe\">\n  <thead>\n    <tr style=\"text-align: right;\">\n      <th></th>\n      <th>Open</th>\n      <th>High</th>\n      <th>Low</th>\n      <th>Close</th>\n      <th>Adj Close</th>\n      <th>Volume</th>\n    </tr>\n    <tr>\n      <th>Date</th>\n      <th></th>\n      <th></th>\n      <th></th>\n      <th></th>\n      <th></th>\n      <th></th>\n    </tr>\n  </thead>\n  <tbody>\n    <tr>\n      <th>2016-09-30</th>\n      <td>57.570000</td>\n      <td>57.770000</td>\n      <td>57.340000</td>\n      <td>57.599998</td>\n      <td>53.518501</td>\n      <td>2.991080e+07</td>\n    </tr>\n    <tr>\n      <th>2016-10-31</th>\n      <td>58.419524</td>\n      <td>58.772857</td>\n      <td>58.057619</td>\n      <td>58.397619</td>\n      <td>54.259594</td>\n      <td>2.927818e+07</td>\n    </tr>\n    <tr>\n      <th>2016-11-30</th>\n      <td>59.958571</td>\n      <td>60.388571</td>\n      <td>59.437619</td>\n      <td>59.925238</td>\n      <td>55.877551</td>\n      <td>2.919318e+07</td>\n    </tr>\n    <tr>\n      <th>2016-12-31</th>\n      <td>62.103810</td>\n      <td>62.545715</td>\n      <td>61.683809</td>\n      <td>62.118095</td>\n      <td>58.106348</td>\n      <td>2.445618e+07</td>\n    </tr>\n    <tr>\n      <th>2017-01-31</th>\n      <td>63.185500</td>\n      <td>63.530000</td>\n      <td>62.752500</td>\n      <td>63.192000</td>\n      <td>59.110895</td>\n      <td>2.467268e+07</td>\n    </tr>\n    <tr>\n      <th>2017-02-28</th>\n      <td>64.134737</td>\n      <td>64.389474</td>\n      <td>63.782632</td>\n      <td>64.113684</td>\n      <td>60.165436</td>\n      <td>2.319705e+07</td>\n    </tr>\n    <tr>\n      <th>2017-03-31</th>\n      <td>64.764349</td>\n      <td>65.149130</td>\n      <td>64.443913</td>\n      <td>64.841305</td>\n      <td>61.021400</td>\n      <td>2.126825e+07</td>\n    </tr>\n    <tr>\n      <th>2017-04-30</th>\n      <td>66.238948</td>\n      <td>66.518421</td>\n      <td>65.807369</td>\n      <td>66.171579</td>\n      <td>62.273306</td>\n      <td>2.279954e+07</td>\n    </tr>\n    <tr>\n      <th>2017-05-31</th>\n      <td>68.828182</td>\n      <td>69.209545</td>\n      <td>68.441818</td>\n      <td>68.917273</td>\n      <td>65.043111</td>\n      <td>2.350993e+07</td>\n    </tr>\n    <tr>\n      <th>2017-06-30</th>\n      <td>70.561818</td>\n      <td>71.014545</td>\n      <td>69.835454</td>\n      <td>70.518182</td>\n      <td>66.744236</td>\n      <td>2.862349e+07</td>\n    </tr>\n    <tr>\n      <th>2017-07-31</th>\n      <td>71.843500</td>\n      <td>72.412999</td>\n      <td>71.441000</td>\n      <td>72.010500</td>\n      <td>68.156690</td>\n      <td>2.349256e+07</td>\n    </tr>\n    <tr>\n      <th>2017-08-31</th>\n      <td>72.715652</td>\n      <td>73.196087</td>\n      <td>72.285218</td>\n      <td>72.816958</td>\n      <td>69.128269</td>\n      <td>1.930741e+07</td>\n    </tr>\n    <tr>\n      <th>2017-09-30</th>\n      <td>74.365500</td>\n      <td>74.786000</td>\n      <td>73.890999</td>\n      <td>74.344501</td>\n      <td>70.740683</td>\n      <td>1.879920e+07</td>\n    </tr>\n    <tr>\n      <th>2017-10-31</th>\n      <td>77.893181</td>\n      <td>78.349545</td>\n      <td>77.530001</td>\n      <td>77.939546</td>\n      <td>74.161455</td>\n      <td>2.045227e+07</td>\n    </tr>\n    <tr>\n      <th>2017-11-30</th>\n      <td>83.645238</td>\n      <td>84.088095</td>\n      <td>83.158572</td>\n      <td>83.717619</td>\n      <td>79.868213</td>\n      <td>2.009171e+07</td>\n    </tr>\n    <tr>\n      <th>2017-12-31</th>\n      <td>84.836000</td>\n      <td>85.409501</td>\n      <td>84.163500</td>\n      <td>84.758500</td>\n      <td>81.054895</td>\n      <td>2.331016e+07</td>\n    </tr>\n    <tr>\n      <th>2018-01-31</th>\n      <td>89.966667</td>\n      <td>90.657620</td>\n      <td>89.371905</td>\n      <td>90.075238</td>\n      <td>86.139317</td>\n      <td>2.734564e+07</td>\n    </tr>\n    <tr>\n      <th>2018-02-28</th>\n      <td>91.437368</td>\n      <td>92.765789</td>\n      <td>90.051580</td>\n      <td>91.367895</td>\n      <td>87.595103</td>\n      <td>3.819281e+07</td>\n    </tr>\n    <tr>\n      <th>2018-03-31</th>\n      <td>93.230476</td>\n      <td>94.212857</td>\n      <td>91.885715</td>\n      <td>92.899047</td>\n      <td>89.257059</td>\n      <td>3.575023e+07</td>\n    </tr>\n    <tr>\n      <th>2018-04-30</th>\n      <td>93.530953</td>\n      <td>94.471906</td>\n      <td>92.062382</td>\n      <td>93.214762</td>\n      <td>89.560393</td>\n      <td>3.181575e+07</td>\n    </tr>\n    <tr>\n      <th>2018-05-31</th>\n      <td>96.632727</td>\n      <td>97.535455</td>\n      <td>95.977273</td>\n      <td>96.981364</td>\n      <td>93.382992</td>\n      <td>2.315536e+07</td>\n    </tr>\n    <tr>\n      <th>2018-06-30</th>\n      <td>100.665715</td>\n      <td>101.332857</td>\n      <td>99.857619</td>\n      <td>100.561905</td>\n      <td>97.038289</td>\n      <td>2.869453e+07</td>\n    </tr>\n    <tr>\n      <th>2018-07-31</th>\n      <td>104.585715</td>\n      <td>105.455714</td>\n      <td>103.665238</td>\n      <td>104.638573</td>\n      <td>100.972112</td>\n      <td>2.711201e+07</td>\n    </tr>\n    <tr>\n      <th>2018-08-31</th>\n      <td>108.453913</td>\n      <td>109.203478</td>\n      <td>107.850869</td>\n      <td>108.684347</td>\n      <td>105.104570</td>\n      <td>1.985340e+07</td>\n    </tr>\n    <tr>\n      <th>2018-09-30</th>\n      <td>112.077369</td>\n      <td>112.946316</td>\n      <td>111.212106</td>\n      <td>112.237895</td>\n      <td>108.721947</td>\n      <td>2.527661e+07</td>\n    </tr>\n    <tr>\n      <th>2018-10-31</th>\n      <td>109.792175</td>\n      <td>111.032173</td>\n      <td>107.743043</td>\n      <td>109.207391</td>\n      <td>105.786379</td>\n      <td>4.032817e+07</td>\n    </tr>\n    <tr>\n      <th>2018-11-30</th>\n      <td>107.253810</td>\n      <td>108.471904</td>\n      <td>105.857620</td>\n      <td>107.298096</td>\n      <td>104.191738</td>\n      <td>3.429660e+07</td>\n    </tr>\n    <tr>\n      <th>2018-12-31</th>\n      <td>105.023685</td>\n      <td>106.538948</td>\n      <td>102.571579</td>\n      <td>104.393684</td>\n      <td>101.560324</td>\n      <td>4.970077e+07</td>\n    </tr>\n    <tr>\n      <th>2019-01-31</th>\n      <td>103.951429</td>\n      <td>104.978096</td>\n      <td>102.850952</td>\n      <td>104.135238</td>\n      <td>101.308892</td>\n      <td>3.401013e+07</td>\n    </tr>\n    <tr>\n      <th>2019-02-28</th>\n      <td>107.510527</td>\n      <td>108.451053</td>\n      <td>106.902106</td>\n      <td>107.927894</td>\n      <td>105.168234</td>\n      <td>2.468926e+07</td>\n    </tr>\n    <tr>\n      <th>2019-03-31</th>\n      <td>115.012857</td>\n      <td>115.905238</td>\n      <td>114.085238</td>\n      <td>115.133810</td>\n      <td>112.487309</td>\n      <td>2.805218e+07</td>\n    </tr>\n    <tr>\n      <th>2019-04-30</th>\n      <td>122.606190</td>\n      <td>123.239047</td>\n      <td>121.932858</td>\n      <td>122.794762</td>\n      <td>119.972165</td>\n      <td>2.062656e+07</td>\n    </tr>\n    <tr>\n      <th>2019-05-31</th>\n      <td>126.190455</td>\n      <td>127.396818</td>\n      <td>125.250909</td>\n      <td>126.346363</td>\n      <td>123.691465</td>\n      <td>2.487358e+07</td>\n    </tr>\n    <tr>\n      <th>2019-06-30</th>\n      <td>132.039500</td>\n      <td>133.107500</td>\n      <td>130.850500</td>\n      <td>131.994001</td>\n      <td>129.437311</td>\n      <td>2.541622e+07</td>\n    </tr>\n    <tr>\n      <th>2019-07-31</th>\n      <td>138.308182</td>\n      <td>139.027273</td>\n      <td>137.126819</td>\n      <td>138.102727</td>\n      <td>135.427714</td>\n      <td>2.200363e+07</td>\n    </tr>\n    <tr>\n      <th>2019-08-31</th>\n      <td>136.502729</td>\n      <td>137.612273</td>\n      <td>134.899546</td>\n      <td>136.376363</td>\n      <td>133.997821</td>\n      <td>2.656736e+07</td>\n    </tr>\n    <tr>\n      <th>2019-09-30</th>\n      <td>138.358501</td>\n      <td>139.089500</td>\n      <td>136.989999</td>\n      <td>138.115501</td>\n      <td>135.891246</td>\n      <td>2.362724e+07</td>\n    </tr>\n    <tr>\n      <th>2019-10-31</th>\n      <td>139.525217</td>\n      <td>140.394345</td>\n      <td>138.291738</td>\n      <td>139.229131</td>\n      <td>136.986946</td>\n      <td>2.389232e+07</td>\n    </tr>\n    <tr>\n      <th>2019-11-30</th>\n      <td>147.854000</td>\n      <td>148.553503</td>\n      <td>147.155501</td>\n      <td>148.095500</td>\n      <td>145.887241</td>\n      <td>1.961859e+07</td>\n    </tr>\n    <tr>\n      <th>2019-12-31</th>\n      <td>153.981429</td>\n      <td>154.770477</td>\n      <td>153.164285</td>\n      <td>154.179525</td>\n      <td>152.212753</td>\n      <td>2.144301e+07</td>\n    </tr>\n    <tr>\n      <th>2020-01-31</th>\n      <td>163.973333</td>\n      <td>164.980953</td>\n      <td>162.692856</td>\n      <td>163.999046</td>\n      <td>161.907017</td>\n      <td>2.659667e+07</td>\n    </tr>\n    <tr>\n      <th>2020-02-29</th>\n      <td>178.566316</td>\n      <td>181.360000</td>\n      <td>175.851052</td>\n      <td>178.719474</td>\n      <td>176.635464</td>\n      <td>4.671712e+07</td>\n    </tr>\n    <tr>\n      <th>2020-03-31</th>\n      <td>151.990001</td>\n      <td>157.545001</td>\n      <td>147.598636</td>\n      <td>152.554091</td>\n      <td>151.019428</td>\n      <td>7.330434e+07</td>\n    </tr>\n    <tr>\n      <th>2020-04-30</th>\n      <td>169.206667</td>\n      <td>171.333809</td>\n      <td>166.366192</td>\n      <td>169.039525</td>\n      <td>167.339019</td>\n      <td>4.689575e+07</td>\n    </tr>\n    <tr>\n      <th>2020-05-31</th>\n      <td>182.271499</td>\n      <td>184.404000</td>\n      <td>180.268001</td>\n      <td>182.342500</td>\n      <td>180.684705</td>\n      <td>3.444691e+07</td>\n    </tr>\n    <tr>\n      <th>2020-06-30</th>\n      <td>191.955909</td>\n      <td>194.665909</td>\n      <td>189.865909</td>\n      <td>192.699547</td>\n      <td>191.292308</td>\n      <td>3.477115e+07</td>\n    </tr>\n    <tr>\n      <th>2020-07-31</th>\n      <td>207.118636</td>\n      <td>209.355001</td>\n      <td>204.255909</td>\n      <td>207.080455</td>\n      <td>205.568196</td>\n      <td>3.502319e+07</td>\n    </tr>\n    <tr>\n      <th>2020-08-31</th>\n      <td>213.760000</td>\n      <td>216.278095</td>\n      <td>211.762857</td>\n      <td>214.353333</td>\n      <td>213.013032</td>\n      <td>3.297640e+07</td>\n    </tr>\n    <tr>\n      <th>2020-09-30</th>\n      <td>209.532858</td>\n      <td>212.474763</td>\n      <td>205.696666</td>\n      <td>208.807143</td>\n      <td>207.783338</td>\n      <td>3.658295e+07</td>\n    </tr>\n    <tr>\n      <th>2020-10-31</th>\n      <td>213.048636</td>\n      <td>215.413636</td>\n      <td>210.679091</td>\n      <td>212.890455</td>\n      <td>211.846633</td>\n      <td>2.871127e+07</td>\n    </tr>\n    <tr>\n      <th>2020-11-30</th>\n      <td>214.210000</td>\n      <td>216.457998</td>\n      <td>211.853999</td>\n      <td>214.138999</td>\n      <td>213.310634</td>\n      <td>2.867215e+07</td>\n    </tr>\n    <tr>\n      <th>2020-12-31</th>\n      <td>217.418095</td>\n      <td>219.363334</td>\n      <td>215.834287</td>\n      <td>217.750952</td>\n      <td>217.250586</td>\n      <td>2.732685e+07</td>\n    </tr>\n  </tbody>\n</table>\n</div>"
     },
     "metadata": {},
     "execution_count": 214
    }
   ],
   "source": [
    "new_df = stock_data3.resample('M').mean()\n",
    "new_df"
   ]
  },
  {
   "cell_type": "code",
   "execution_count": 215,
   "metadata": {},
   "outputs": [
    {
     "output_type": "execute_result",
     "data": {
      "text/plain": [
       "             Adj Close\n",
       "Date                  \n",
       "2016-09-30   53.518501\n",
       "2016-10-31   54.259594\n",
       "2016-11-30   55.877551\n",
       "2016-12-31   58.106348\n",
       "2017-01-31   59.110895\n",
       "2017-02-28   60.165436\n",
       "2017-03-31   61.021400\n",
       "2017-04-30   62.273306\n",
       "2017-05-31   65.043111\n",
       "2017-06-30   66.744236\n",
       "2017-07-31   68.156690\n",
       "2017-08-31   69.128269\n",
       "2017-09-30   70.740683\n",
       "2017-10-31   74.161455\n",
       "2017-11-30   79.868213\n",
       "2017-12-31   81.054895\n",
       "2018-01-31   86.139317\n",
       "2018-02-28   87.595103\n",
       "2018-03-31   89.257059\n",
       "2018-04-30   89.560393\n",
       "2018-05-31   93.382992\n",
       "2018-06-30   97.038289\n",
       "2018-07-31  100.972112\n",
       "2018-08-31  105.104570\n",
       "2018-09-30  108.721947\n",
       "2018-10-31  105.786379\n",
       "2018-11-30  104.191738\n",
       "2018-12-31  101.560324\n",
       "2019-01-31  101.308892\n",
       "2019-02-28  105.168234\n",
       "2019-03-31  112.487309\n",
       "2019-04-30  119.972165\n",
       "2019-05-31  123.691465\n",
       "2019-06-30  129.437311\n",
       "2019-07-31  135.427714\n",
       "2019-08-31  133.997821\n",
       "2019-09-30  135.891246\n",
       "2019-10-31  136.986946\n",
       "2019-11-30  145.887241\n",
       "2019-12-31  152.212753\n",
       "2020-01-31  161.907017\n",
       "2020-02-29  176.635464\n",
       "2020-03-31  151.019428\n",
       "2020-04-30  167.339019\n",
       "2020-05-31  180.684705\n",
       "2020-06-30  191.292308\n",
       "2020-07-31  205.568196\n",
       "2020-08-31  213.013032\n",
       "2020-09-30  207.783338\n",
       "2020-10-31  211.846633\n",
       "2020-11-30  213.310634\n",
       "2020-12-31  217.250586"
      ],
      "text/html": "<div>\n<style scoped>\n    .dataframe tbody tr th:only-of-type {\n        vertical-align: middle;\n    }\n\n    .dataframe tbody tr th {\n        vertical-align: top;\n    }\n\n    .dataframe thead th {\n        text-align: right;\n    }\n</style>\n<table border=\"1\" class=\"dataframe\">\n  <thead>\n    <tr style=\"text-align: right;\">\n      <th></th>\n      <th>Adj Close</th>\n    </tr>\n    <tr>\n      <th>Date</th>\n      <th></th>\n    </tr>\n  </thead>\n  <tbody>\n    <tr>\n      <th>2016-09-30</th>\n      <td>53.518501</td>\n    </tr>\n    <tr>\n      <th>2016-10-31</th>\n      <td>54.259594</td>\n    </tr>\n    <tr>\n      <th>2016-11-30</th>\n      <td>55.877551</td>\n    </tr>\n    <tr>\n      <th>2016-12-31</th>\n      <td>58.106348</td>\n    </tr>\n    <tr>\n      <th>2017-01-31</th>\n      <td>59.110895</td>\n    </tr>\n    <tr>\n      <th>2017-02-28</th>\n      <td>60.165436</td>\n    </tr>\n    <tr>\n      <th>2017-03-31</th>\n      <td>61.021400</td>\n    </tr>\n    <tr>\n      <th>2017-04-30</th>\n      <td>62.273306</td>\n    </tr>\n    <tr>\n      <th>2017-05-31</th>\n      <td>65.043111</td>\n    </tr>\n    <tr>\n      <th>2017-06-30</th>\n      <td>66.744236</td>\n    </tr>\n    <tr>\n      <th>2017-07-31</th>\n      <td>68.156690</td>\n    </tr>\n    <tr>\n      <th>2017-08-31</th>\n      <td>69.128269</td>\n    </tr>\n    <tr>\n      <th>2017-09-30</th>\n      <td>70.740683</td>\n    </tr>\n    <tr>\n      <th>2017-10-31</th>\n      <td>74.161455</td>\n    </tr>\n    <tr>\n      <th>2017-11-30</th>\n      <td>79.868213</td>\n    </tr>\n    <tr>\n      <th>2017-12-31</th>\n      <td>81.054895</td>\n    </tr>\n    <tr>\n      <th>2018-01-31</th>\n      <td>86.139317</td>\n    </tr>\n    <tr>\n      <th>2018-02-28</th>\n      <td>87.595103</td>\n    </tr>\n    <tr>\n      <th>2018-03-31</th>\n      <td>89.257059</td>\n    </tr>\n    <tr>\n      <th>2018-04-30</th>\n      <td>89.560393</td>\n    </tr>\n    <tr>\n      <th>2018-05-31</th>\n      <td>93.382992</td>\n    </tr>\n    <tr>\n      <th>2018-06-30</th>\n      <td>97.038289</td>\n    </tr>\n    <tr>\n      <th>2018-07-31</th>\n      <td>100.972112</td>\n    </tr>\n    <tr>\n      <th>2018-08-31</th>\n      <td>105.104570</td>\n    </tr>\n    <tr>\n      <th>2018-09-30</th>\n      <td>108.721947</td>\n    </tr>\n    <tr>\n      <th>2018-10-31</th>\n      <td>105.786379</td>\n    </tr>\n    <tr>\n      <th>2018-11-30</th>\n      <td>104.191738</td>\n    </tr>\n    <tr>\n      <th>2018-12-31</th>\n      <td>101.560324</td>\n    </tr>\n    <tr>\n      <th>2019-01-31</th>\n      <td>101.308892</td>\n    </tr>\n    <tr>\n      <th>2019-02-28</th>\n      <td>105.168234</td>\n    </tr>\n    <tr>\n      <th>2019-03-31</th>\n      <td>112.487309</td>\n    </tr>\n    <tr>\n      <th>2019-04-30</th>\n      <td>119.972165</td>\n    </tr>\n    <tr>\n      <th>2019-05-31</th>\n      <td>123.691465</td>\n    </tr>\n    <tr>\n      <th>2019-06-30</th>\n      <td>129.437311</td>\n    </tr>\n    <tr>\n      <th>2019-07-31</th>\n      <td>135.427714</td>\n    </tr>\n    <tr>\n      <th>2019-08-31</th>\n      <td>133.997821</td>\n    </tr>\n    <tr>\n      <th>2019-09-30</th>\n      <td>135.891246</td>\n    </tr>\n    <tr>\n      <th>2019-10-31</th>\n      <td>136.986946</td>\n    </tr>\n    <tr>\n      <th>2019-11-30</th>\n      <td>145.887241</td>\n    </tr>\n    <tr>\n      <th>2019-12-31</th>\n      <td>152.212753</td>\n    </tr>\n    <tr>\n      <th>2020-01-31</th>\n      <td>161.907017</td>\n    </tr>\n    <tr>\n      <th>2020-02-29</th>\n      <td>176.635464</td>\n    </tr>\n    <tr>\n      <th>2020-03-31</th>\n      <td>151.019428</td>\n    </tr>\n    <tr>\n      <th>2020-04-30</th>\n      <td>167.339019</td>\n    </tr>\n    <tr>\n      <th>2020-05-31</th>\n      <td>180.684705</td>\n    </tr>\n    <tr>\n      <th>2020-06-30</th>\n      <td>191.292308</td>\n    </tr>\n    <tr>\n      <th>2020-07-31</th>\n      <td>205.568196</td>\n    </tr>\n    <tr>\n      <th>2020-08-31</th>\n      <td>213.013032</td>\n    </tr>\n    <tr>\n      <th>2020-09-30</th>\n      <td>207.783338</td>\n    </tr>\n    <tr>\n      <th>2020-10-31</th>\n      <td>211.846633</td>\n    </tr>\n    <tr>\n      <th>2020-11-30</th>\n      <td>213.310634</td>\n    </tr>\n    <tr>\n      <th>2020-12-31</th>\n      <td>217.250586</td>\n    </tr>\n  </tbody>\n</table>\n</div>"
     },
     "metadata": {},
     "execution_count": 215
    }
   ],
   "source": [
    "new_df.drop(['Open', 'High', 'Low', 'Close', 'Volume'], axis = 1)"
   ]
  },
  {
   "cell_type": "code",
   "execution_count": 216,
   "metadata": {},
   "outputs": [
    {
     "output_type": "execute_result",
     "data": {
      "text/plain": [
       "           ESG Score      per\n",
       "Date                         \n",
       "2016-10-01         A  2016-10\n",
       "2017-08-01         A  2017-08\n",
       "2018-09-01         A  2018-09\n",
       "2019-11-01         A  2019-11\n",
       "2020-12-01       BBB  2020-12"
      ],
      "text/html": "<div>\n<style scoped>\n    .dataframe tbody tr th:only-of-type {\n        vertical-align: middle;\n    }\n\n    .dataframe tbody tr th {\n        vertical-align: top;\n    }\n\n    .dataframe thead th {\n        text-align: right;\n    }\n</style>\n<table border=\"1\" class=\"dataframe\">\n  <thead>\n    <tr style=\"text-align: right;\">\n      <th></th>\n      <th>ESG Score</th>\n      <th>per</th>\n    </tr>\n    <tr>\n      <th>Date</th>\n      <th></th>\n      <th></th>\n    </tr>\n  </thead>\n  <tbody>\n    <tr>\n      <th>2016-10-01</th>\n      <td>A</td>\n      <td>2016-10</td>\n    </tr>\n    <tr>\n      <th>2017-08-01</th>\n      <td>A</td>\n      <td>2017-08</td>\n    </tr>\n    <tr>\n      <th>2018-09-01</th>\n      <td>A</td>\n      <td>2018-09</td>\n    </tr>\n    <tr>\n      <th>2019-11-01</th>\n      <td>A</td>\n      <td>2019-11</td>\n    </tr>\n    <tr>\n      <th>2020-12-01</th>\n      <td>BBB</td>\n      <td>2020-12</td>\n    </tr>\n  </tbody>\n</table>\n</div>"
     },
     "metadata": {},
     "execution_count": 216
    }
   ],
   "source": [
    "#mydf = mydf.set_index('Date')\n",
    "mydf"
   ]
  },
  {
   "cell_type": "code",
   "execution_count": 230,
   "metadata": {},
   "outputs": [
    {
     "output_type": "execute_result",
     "data": {
      "text/plain": [
       "ESG Score          A\n",
       "per          2016-10\n",
       "Name: 2016-10-01 00:00:00, dtype: object"
      ]
     },
     "metadata": {},
     "execution_count": 230
    }
   ],
   "source": [
    "mydf.iloc[0]"
   ]
  },
  {
   "cell_type": "code",
   "execution_count": 217,
   "metadata": {},
   "outputs": [
    {
     "output_type": "execute_result",
     "data": {
      "text/plain": [
       "           ESG Score      per\n",
       "Date                         \n",
       "2016-10-01         A  2016-10\n",
       "2017-08-01         A  2017-08\n",
       "2018-09-01         A  2018-09\n",
       "2019-11-01         A  2019-11\n",
       "2020-12-01       BBB  2020-12"
      ],
      "text/html": "<div>\n<style scoped>\n    .dataframe tbody tr th:only-of-type {\n        vertical-align: middle;\n    }\n\n    .dataframe tbody tr th {\n        vertical-align: top;\n    }\n\n    .dataframe thead th {\n        text-align: right;\n    }\n</style>\n<table border=\"1\" class=\"dataframe\">\n  <thead>\n    <tr style=\"text-align: right;\">\n      <th></th>\n      <th>ESG Score</th>\n      <th>per</th>\n    </tr>\n    <tr>\n      <th>Date</th>\n      <th></th>\n      <th></th>\n    </tr>\n  </thead>\n  <tbody>\n    <tr>\n      <th>2016-10-01</th>\n      <td>A</td>\n      <td>2016-10</td>\n    </tr>\n    <tr>\n      <th>2017-08-01</th>\n      <td>A</td>\n      <td>2017-08</td>\n    </tr>\n    <tr>\n      <th>2018-09-01</th>\n      <td>A</td>\n      <td>2018-09</td>\n    </tr>\n    <tr>\n      <th>2019-11-01</th>\n      <td>A</td>\n      <td>2019-11</td>\n    </tr>\n    <tr>\n      <th>2020-12-01</th>\n      <td>BBB</td>\n      <td>2020-12</td>\n    </tr>\n  </tbody>\n</table>\n</div>"
     },
     "metadata": {},
     "execution_count": 217
    }
   ],
   "source": [
    "mydf['per'] = mydf.index.get_level_values('Date').to_period('M')\n",
    "mydf"
   ]
  },
  {
   "cell_type": "code",
   "execution_count": 218,
   "metadata": {},
   "outputs": [
    {
     "output_type": "execute_result",
     "data": {
      "text/plain": [
       "                  Open        High         Low       Close   Adj Close  \\\n",
       "Date                                                                     \n",
       "2016-09-30   57.570000   57.770000   57.340000   57.599998   53.518501   \n",
       "2016-10-31   58.419524   58.772857   58.057619   58.397619   54.259594   \n",
       "2016-11-30   59.958571   60.388571   59.437619   59.925238   55.877551   \n",
       "2016-12-31   62.103810   62.545715   61.683809   62.118095   58.106348   \n",
       "2017-01-31   63.185500   63.530000   62.752500   63.192000   59.110895   \n",
       "2017-02-28   64.134737   64.389474   63.782632   64.113684   60.165436   \n",
       "2017-03-31   64.764349   65.149130   64.443913   64.841305   61.021400   \n",
       "2017-04-30   66.238948   66.518421   65.807369   66.171579   62.273306   \n",
       "2017-05-31   68.828182   69.209545   68.441818   68.917273   65.043111   \n",
       "2017-06-30   70.561818   71.014545   69.835454   70.518182   66.744236   \n",
       "2017-07-31   71.843500   72.412999   71.441000   72.010500   68.156690   \n",
       "2017-08-31   72.715652   73.196087   72.285218   72.816958   69.128269   \n",
       "2017-09-30   74.365500   74.786000   73.890999   74.344501   70.740683   \n",
       "2017-10-31   77.893181   78.349545   77.530001   77.939546   74.161455   \n",
       "2017-11-30   83.645238   84.088095   83.158572   83.717619   79.868213   \n",
       "2017-12-31   84.836000   85.409501   84.163500   84.758500   81.054895   \n",
       "2018-01-31   89.966667   90.657620   89.371905   90.075238   86.139317   \n",
       "2018-02-28   91.437368   92.765789   90.051580   91.367895   87.595103   \n",
       "2018-03-31   93.230476   94.212857   91.885715   92.899047   89.257059   \n",
       "2018-04-30   93.530953   94.471906   92.062382   93.214762   89.560393   \n",
       "2018-05-31   96.632727   97.535455   95.977273   96.981364   93.382992   \n",
       "2018-06-30  100.665715  101.332857   99.857619  100.561905   97.038289   \n",
       "2018-07-31  104.585715  105.455714  103.665238  104.638573  100.972112   \n",
       "2018-08-31  108.453913  109.203478  107.850869  108.684347  105.104570   \n",
       "2018-09-30  112.077369  112.946316  111.212106  112.237895  108.721947   \n",
       "2018-10-31  109.792175  111.032173  107.743043  109.207391  105.786379   \n",
       "2018-11-30  107.253810  108.471904  105.857620  107.298096  104.191738   \n",
       "2018-12-31  105.023685  106.538948  102.571579  104.393684  101.560324   \n",
       "2019-01-31  103.951429  104.978096  102.850952  104.135238  101.308892   \n",
       "2019-02-28  107.510527  108.451053  106.902106  107.927894  105.168234   \n",
       "2019-03-31  115.012857  115.905238  114.085238  115.133810  112.487309   \n",
       "2019-04-30  122.606190  123.239047  121.932858  122.794762  119.972165   \n",
       "2019-05-31  126.190455  127.396818  125.250909  126.346363  123.691465   \n",
       "2019-06-30  132.039500  133.107500  130.850500  131.994001  129.437311   \n",
       "2019-07-31  138.308182  139.027273  137.126819  138.102727  135.427714   \n",
       "2019-08-31  136.502729  137.612273  134.899546  136.376363  133.997821   \n",
       "2019-09-30  138.358501  139.089500  136.989999  138.115501  135.891246   \n",
       "2019-10-31  139.525217  140.394345  138.291738  139.229131  136.986946   \n",
       "2019-11-30  147.854000  148.553503  147.155501  148.095500  145.887241   \n",
       "2019-12-31  153.981429  154.770477  153.164285  154.179525  152.212753   \n",
       "2020-01-31  163.973333  164.980953  162.692856  163.999046  161.907017   \n",
       "2020-02-29  178.566316  181.360000  175.851052  178.719474  176.635464   \n",
       "2020-03-31  151.990001  157.545001  147.598636  152.554091  151.019428   \n",
       "2020-04-30  169.206667  171.333809  166.366192  169.039525  167.339019   \n",
       "2020-05-31  182.271499  184.404000  180.268001  182.342500  180.684705   \n",
       "2020-06-30  191.955909  194.665909  189.865909  192.699547  191.292308   \n",
       "2020-07-31  207.118636  209.355001  204.255909  207.080455  205.568196   \n",
       "2020-08-31  213.760000  216.278095  211.762857  214.353333  213.013032   \n",
       "2020-09-30  209.532858  212.474763  205.696666  208.807143  207.783338   \n",
       "2020-10-31  213.048636  215.413636  210.679091  212.890455  211.846633   \n",
       "2020-11-30  214.210000  216.457998  211.853999  214.138999  213.310634   \n",
       "2020-12-31  217.418095  219.363334  215.834287  217.750952  217.250586   \n",
       "\n",
       "                  Volume      per  \n",
       "Date                               \n",
       "2016-09-30  2.991080e+07  2016-09  \n",
       "2016-10-31  2.927818e+07  2016-10  \n",
       "2016-11-30  2.919318e+07  2016-11  \n",
       "2016-12-31  2.445618e+07  2016-12  \n",
       "2017-01-31  2.467268e+07  2017-01  \n",
       "2017-02-28  2.319705e+07  2017-02  \n",
       "2017-03-31  2.126825e+07  2017-03  \n",
       "2017-04-30  2.279954e+07  2017-04  \n",
       "2017-05-31  2.350993e+07  2017-05  \n",
       "2017-06-30  2.862349e+07  2017-06  \n",
       "2017-07-31  2.349256e+07  2017-07  \n",
       "2017-08-31  1.930741e+07  2017-08  \n",
       "2017-09-30  1.879920e+07  2017-09  \n",
       "2017-10-31  2.045227e+07  2017-10  \n",
       "2017-11-30  2.009171e+07  2017-11  \n",
       "2017-12-31  2.331016e+07  2017-12  \n",
       "2018-01-31  2.734564e+07  2018-01  \n",
       "2018-02-28  3.819281e+07  2018-02  \n",
       "2018-03-31  3.575023e+07  2018-03  \n",
       "2018-04-30  3.181575e+07  2018-04  \n",
       "2018-05-31  2.315536e+07  2018-05  \n",
       "2018-06-30  2.869453e+07  2018-06  \n",
       "2018-07-31  2.711201e+07  2018-07  \n",
       "2018-08-31  1.985340e+07  2018-08  \n",
       "2018-09-30  2.527661e+07  2018-09  \n",
       "2018-10-31  4.032817e+07  2018-10  \n",
       "2018-11-30  3.429660e+07  2018-11  \n",
       "2018-12-31  4.970077e+07  2018-12  \n",
       "2019-01-31  3.401013e+07  2019-01  \n",
       "2019-02-28  2.468926e+07  2019-02  \n",
       "2019-03-31  2.805218e+07  2019-03  \n",
       "2019-04-30  2.062656e+07  2019-04  \n",
       "2019-05-31  2.487358e+07  2019-05  \n",
       "2019-06-30  2.541622e+07  2019-06  \n",
       "2019-07-31  2.200363e+07  2019-07  \n",
       "2019-08-31  2.656736e+07  2019-08  \n",
       "2019-09-30  2.362724e+07  2019-09  \n",
       "2019-10-31  2.389232e+07  2019-10  \n",
       "2019-11-30  1.961859e+07  2019-11  \n",
       "2019-12-31  2.144301e+07  2019-12  \n",
       "2020-01-31  2.659667e+07  2020-01  \n",
       "2020-02-29  4.671712e+07  2020-02  \n",
       "2020-03-31  7.330434e+07  2020-03  \n",
       "2020-04-30  4.689575e+07  2020-04  \n",
       "2020-05-31  3.444691e+07  2020-05  \n",
       "2020-06-30  3.477115e+07  2020-06  \n",
       "2020-07-31  3.502319e+07  2020-07  \n",
       "2020-08-31  3.297640e+07  2020-08  \n",
       "2020-09-30  3.658295e+07  2020-09  \n",
       "2020-10-31  2.871127e+07  2020-10  \n",
       "2020-11-30  2.867215e+07  2020-11  \n",
       "2020-12-31  2.732685e+07  2020-12  "
      ],
      "text/html": "<div>\n<style scoped>\n    .dataframe tbody tr th:only-of-type {\n        vertical-align: middle;\n    }\n\n    .dataframe tbody tr th {\n        vertical-align: top;\n    }\n\n    .dataframe thead th {\n        text-align: right;\n    }\n</style>\n<table border=\"1\" class=\"dataframe\">\n  <thead>\n    <tr style=\"text-align: right;\">\n      <th></th>\n      <th>Open</th>\n      <th>High</th>\n      <th>Low</th>\n      <th>Close</th>\n      <th>Adj Close</th>\n      <th>Volume</th>\n      <th>per</th>\n    </tr>\n    <tr>\n      <th>Date</th>\n      <th></th>\n      <th></th>\n      <th></th>\n      <th></th>\n      <th></th>\n      <th></th>\n      <th></th>\n    </tr>\n  </thead>\n  <tbody>\n    <tr>\n      <th>2016-09-30</th>\n      <td>57.570000</td>\n      <td>57.770000</td>\n      <td>57.340000</td>\n      <td>57.599998</td>\n      <td>53.518501</td>\n      <td>2.991080e+07</td>\n      <td>2016-09</td>\n    </tr>\n    <tr>\n      <th>2016-10-31</th>\n      <td>58.419524</td>\n      <td>58.772857</td>\n      <td>58.057619</td>\n      <td>58.397619</td>\n      <td>54.259594</td>\n      <td>2.927818e+07</td>\n      <td>2016-10</td>\n    </tr>\n    <tr>\n      <th>2016-11-30</th>\n      <td>59.958571</td>\n      <td>60.388571</td>\n      <td>59.437619</td>\n      <td>59.925238</td>\n      <td>55.877551</td>\n      <td>2.919318e+07</td>\n      <td>2016-11</td>\n    </tr>\n    <tr>\n      <th>2016-12-31</th>\n      <td>62.103810</td>\n      <td>62.545715</td>\n      <td>61.683809</td>\n      <td>62.118095</td>\n      <td>58.106348</td>\n      <td>2.445618e+07</td>\n      <td>2016-12</td>\n    </tr>\n    <tr>\n      <th>2017-01-31</th>\n      <td>63.185500</td>\n      <td>63.530000</td>\n      <td>62.752500</td>\n      <td>63.192000</td>\n      <td>59.110895</td>\n      <td>2.467268e+07</td>\n      <td>2017-01</td>\n    </tr>\n    <tr>\n      <th>2017-02-28</th>\n      <td>64.134737</td>\n      <td>64.389474</td>\n      <td>63.782632</td>\n      <td>64.113684</td>\n      <td>60.165436</td>\n      <td>2.319705e+07</td>\n      <td>2017-02</td>\n    </tr>\n    <tr>\n      <th>2017-03-31</th>\n      <td>64.764349</td>\n      <td>65.149130</td>\n      <td>64.443913</td>\n      <td>64.841305</td>\n      <td>61.021400</td>\n      <td>2.126825e+07</td>\n      <td>2017-03</td>\n    </tr>\n    <tr>\n      <th>2017-04-30</th>\n      <td>66.238948</td>\n      <td>66.518421</td>\n      <td>65.807369</td>\n      <td>66.171579</td>\n      <td>62.273306</td>\n      <td>2.279954e+07</td>\n      <td>2017-04</td>\n    </tr>\n    <tr>\n      <th>2017-05-31</th>\n      <td>68.828182</td>\n      <td>69.209545</td>\n      <td>68.441818</td>\n      <td>68.917273</td>\n      <td>65.043111</td>\n      <td>2.350993e+07</td>\n      <td>2017-05</td>\n    </tr>\n    <tr>\n      <th>2017-06-30</th>\n      <td>70.561818</td>\n      <td>71.014545</td>\n      <td>69.835454</td>\n      <td>70.518182</td>\n      <td>66.744236</td>\n      <td>2.862349e+07</td>\n      <td>2017-06</td>\n    </tr>\n    <tr>\n      <th>2017-07-31</th>\n      <td>71.843500</td>\n      <td>72.412999</td>\n      <td>71.441000</td>\n      <td>72.010500</td>\n      <td>68.156690</td>\n      <td>2.349256e+07</td>\n      <td>2017-07</td>\n    </tr>\n    <tr>\n      <th>2017-08-31</th>\n      <td>72.715652</td>\n      <td>73.196087</td>\n      <td>72.285218</td>\n      <td>72.816958</td>\n      <td>69.128269</td>\n      <td>1.930741e+07</td>\n      <td>2017-08</td>\n    </tr>\n    <tr>\n      <th>2017-09-30</th>\n      <td>74.365500</td>\n      <td>74.786000</td>\n      <td>73.890999</td>\n      <td>74.344501</td>\n      <td>70.740683</td>\n      <td>1.879920e+07</td>\n      <td>2017-09</td>\n    </tr>\n    <tr>\n      <th>2017-10-31</th>\n      <td>77.893181</td>\n      <td>78.349545</td>\n      <td>77.530001</td>\n      <td>77.939546</td>\n      <td>74.161455</td>\n      <td>2.045227e+07</td>\n      <td>2017-10</td>\n    </tr>\n    <tr>\n      <th>2017-11-30</th>\n      <td>83.645238</td>\n      <td>84.088095</td>\n      <td>83.158572</td>\n      <td>83.717619</td>\n      <td>79.868213</td>\n      <td>2.009171e+07</td>\n      <td>2017-11</td>\n    </tr>\n    <tr>\n      <th>2017-12-31</th>\n      <td>84.836000</td>\n      <td>85.409501</td>\n      <td>84.163500</td>\n      <td>84.758500</td>\n      <td>81.054895</td>\n      <td>2.331016e+07</td>\n      <td>2017-12</td>\n    </tr>\n    <tr>\n      <th>2018-01-31</th>\n      <td>89.966667</td>\n      <td>90.657620</td>\n      <td>89.371905</td>\n      <td>90.075238</td>\n      <td>86.139317</td>\n      <td>2.734564e+07</td>\n      <td>2018-01</td>\n    </tr>\n    <tr>\n      <th>2018-02-28</th>\n      <td>91.437368</td>\n      <td>92.765789</td>\n      <td>90.051580</td>\n      <td>91.367895</td>\n      <td>87.595103</td>\n      <td>3.819281e+07</td>\n      <td>2018-02</td>\n    </tr>\n    <tr>\n      <th>2018-03-31</th>\n      <td>93.230476</td>\n      <td>94.212857</td>\n      <td>91.885715</td>\n      <td>92.899047</td>\n      <td>89.257059</td>\n      <td>3.575023e+07</td>\n      <td>2018-03</td>\n    </tr>\n    <tr>\n      <th>2018-04-30</th>\n      <td>93.530953</td>\n      <td>94.471906</td>\n      <td>92.062382</td>\n      <td>93.214762</td>\n      <td>89.560393</td>\n      <td>3.181575e+07</td>\n      <td>2018-04</td>\n    </tr>\n    <tr>\n      <th>2018-05-31</th>\n      <td>96.632727</td>\n      <td>97.535455</td>\n      <td>95.977273</td>\n      <td>96.981364</td>\n      <td>93.382992</td>\n      <td>2.315536e+07</td>\n      <td>2018-05</td>\n    </tr>\n    <tr>\n      <th>2018-06-30</th>\n      <td>100.665715</td>\n      <td>101.332857</td>\n      <td>99.857619</td>\n      <td>100.561905</td>\n      <td>97.038289</td>\n      <td>2.869453e+07</td>\n      <td>2018-06</td>\n    </tr>\n    <tr>\n      <th>2018-07-31</th>\n      <td>104.585715</td>\n      <td>105.455714</td>\n      <td>103.665238</td>\n      <td>104.638573</td>\n      <td>100.972112</td>\n      <td>2.711201e+07</td>\n      <td>2018-07</td>\n    </tr>\n    <tr>\n      <th>2018-08-31</th>\n      <td>108.453913</td>\n      <td>109.203478</td>\n      <td>107.850869</td>\n      <td>108.684347</td>\n      <td>105.104570</td>\n      <td>1.985340e+07</td>\n      <td>2018-08</td>\n    </tr>\n    <tr>\n      <th>2018-09-30</th>\n      <td>112.077369</td>\n      <td>112.946316</td>\n      <td>111.212106</td>\n      <td>112.237895</td>\n      <td>108.721947</td>\n      <td>2.527661e+07</td>\n      <td>2018-09</td>\n    </tr>\n    <tr>\n      <th>2018-10-31</th>\n      <td>109.792175</td>\n      <td>111.032173</td>\n      <td>107.743043</td>\n      <td>109.207391</td>\n      <td>105.786379</td>\n      <td>4.032817e+07</td>\n      <td>2018-10</td>\n    </tr>\n    <tr>\n      <th>2018-11-30</th>\n      <td>107.253810</td>\n      <td>108.471904</td>\n      <td>105.857620</td>\n      <td>107.298096</td>\n      <td>104.191738</td>\n      <td>3.429660e+07</td>\n      <td>2018-11</td>\n    </tr>\n    <tr>\n      <th>2018-12-31</th>\n      <td>105.023685</td>\n      <td>106.538948</td>\n      <td>102.571579</td>\n      <td>104.393684</td>\n      <td>101.560324</td>\n      <td>4.970077e+07</td>\n      <td>2018-12</td>\n    </tr>\n    <tr>\n      <th>2019-01-31</th>\n      <td>103.951429</td>\n      <td>104.978096</td>\n      <td>102.850952</td>\n      <td>104.135238</td>\n      <td>101.308892</td>\n      <td>3.401013e+07</td>\n      <td>2019-01</td>\n    </tr>\n    <tr>\n      <th>2019-02-28</th>\n      <td>107.510527</td>\n      <td>108.451053</td>\n      <td>106.902106</td>\n      <td>107.927894</td>\n      <td>105.168234</td>\n      <td>2.468926e+07</td>\n      <td>2019-02</td>\n    </tr>\n    <tr>\n      <th>2019-03-31</th>\n      <td>115.012857</td>\n      <td>115.905238</td>\n      <td>114.085238</td>\n      <td>115.133810</td>\n      <td>112.487309</td>\n      <td>2.805218e+07</td>\n      <td>2019-03</td>\n    </tr>\n    <tr>\n      <th>2019-04-30</th>\n      <td>122.606190</td>\n      <td>123.239047</td>\n      <td>121.932858</td>\n      <td>122.794762</td>\n      <td>119.972165</td>\n      <td>2.062656e+07</td>\n      <td>2019-04</td>\n    </tr>\n    <tr>\n      <th>2019-05-31</th>\n      <td>126.190455</td>\n      <td>127.396818</td>\n      <td>125.250909</td>\n      <td>126.346363</td>\n      <td>123.691465</td>\n      <td>2.487358e+07</td>\n      <td>2019-05</td>\n    </tr>\n    <tr>\n      <th>2019-06-30</th>\n      <td>132.039500</td>\n      <td>133.107500</td>\n      <td>130.850500</td>\n      <td>131.994001</td>\n      <td>129.437311</td>\n      <td>2.541622e+07</td>\n      <td>2019-06</td>\n    </tr>\n    <tr>\n      <th>2019-07-31</th>\n      <td>138.308182</td>\n      <td>139.027273</td>\n      <td>137.126819</td>\n      <td>138.102727</td>\n      <td>135.427714</td>\n      <td>2.200363e+07</td>\n      <td>2019-07</td>\n    </tr>\n    <tr>\n      <th>2019-08-31</th>\n      <td>136.502729</td>\n      <td>137.612273</td>\n      <td>134.899546</td>\n      <td>136.376363</td>\n      <td>133.997821</td>\n      <td>2.656736e+07</td>\n      <td>2019-08</td>\n    </tr>\n    <tr>\n      <th>2019-09-30</th>\n      <td>138.358501</td>\n      <td>139.089500</td>\n      <td>136.989999</td>\n      <td>138.115501</td>\n      <td>135.891246</td>\n      <td>2.362724e+07</td>\n      <td>2019-09</td>\n    </tr>\n    <tr>\n      <th>2019-10-31</th>\n      <td>139.525217</td>\n      <td>140.394345</td>\n      <td>138.291738</td>\n      <td>139.229131</td>\n      <td>136.986946</td>\n      <td>2.389232e+07</td>\n      <td>2019-10</td>\n    </tr>\n    <tr>\n      <th>2019-11-30</th>\n      <td>147.854000</td>\n      <td>148.553503</td>\n      <td>147.155501</td>\n      <td>148.095500</td>\n      <td>145.887241</td>\n      <td>1.961859e+07</td>\n      <td>2019-11</td>\n    </tr>\n    <tr>\n      <th>2019-12-31</th>\n      <td>153.981429</td>\n      <td>154.770477</td>\n      <td>153.164285</td>\n      <td>154.179525</td>\n      <td>152.212753</td>\n      <td>2.144301e+07</td>\n      <td>2019-12</td>\n    </tr>\n    <tr>\n      <th>2020-01-31</th>\n      <td>163.973333</td>\n      <td>164.980953</td>\n      <td>162.692856</td>\n      <td>163.999046</td>\n      <td>161.907017</td>\n      <td>2.659667e+07</td>\n      <td>2020-01</td>\n    </tr>\n    <tr>\n      <th>2020-02-29</th>\n      <td>178.566316</td>\n      <td>181.360000</td>\n      <td>175.851052</td>\n      <td>178.719474</td>\n      <td>176.635464</td>\n      <td>4.671712e+07</td>\n      <td>2020-02</td>\n    </tr>\n    <tr>\n      <th>2020-03-31</th>\n      <td>151.990001</td>\n      <td>157.545001</td>\n      <td>147.598636</td>\n      <td>152.554091</td>\n      <td>151.019428</td>\n      <td>7.330434e+07</td>\n      <td>2020-03</td>\n    </tr>\n    <tr>\n      <th>2020-04-30</th>\n      <td>169.206667</td>\n      <td>171.333809</td>\n      <td>166.366192</td>\n      <td>169.039525</td>\n      <td>167.339019</td>\n      <td>4.689575e+07</td>\n      <td>2020-04</td>\n    </tr>\n    <tr>\n      <th>2020-05-31</th>\n      <td>182.271499</td>\n      <td>184.404000</td>\n      <td>180.268001</td>\n      <td>182.342500</td>\n      <td>180.684705</td>\n      <td>3.444691e+07</td>\n      <td>2020-05</td>\n    </tr>\n    <tr>\n      <th>2020-06-30</th>\n      <td>191.955909</td>\n      <td>194.665909</td>\n      <td>189.865909</td>\n      <td>192.699547</td>\n      <td>191.292308</td>\n      <td>3.477115e+07</td>\n      <td>2020-06</td>\n    </tr>\n    <tr>\n      <th>2020-07-31</th>\n      <td>207.118636</td>\n      <td>209.355001</td>\n      <td>204.255909</td>\n      <td>207.080455</td>\n      <td>205.568196</td>\n      <td>3.502319e+07</td>\n      <td>2020-07</td>\n    </tr>\n    <tr>\n      <th>2020-08-31</th>\n      <td>213.760000</td>\n      <td>216.278095</td>\n      <td>211.762857</td>\n      <td>214.353333</td>\n      <td>213.013032</td>\n      <td>3.297640e+07</td>\n      <td>2020-08</td>\n    </tr>\n    <tr>\n      <th>2020-09-30</th>\n      <td>209.532858</td>\n      <td>212.474763</td>\n      <td>205.696666</td>\n      <td>208.807143</td>\n      <td>207.783338</td>\n      <td>3.658295e+07</td>\n      <td>2020-09</td>\n    </tr>\n    <tr>\n      <th>2020-10-31</th>\n      <td>213.048636</td>\n      <td>215.413636</td>\n      <td>210.679091</td>\n      <td>212.890455</td>\n      <td>211.846633</td>\n      <td>2.871127e+07</td>\n      <td>2020-10</td>\n    </tr>\n    <tr>\n      <th>2020-11-30</th>\n      <td>214.210000</td>\n      <td>216.457998</td>\n      <td>211.853999</td>\n      <td>214.138999</td>\n      <td>213.310634</td>\n      <td>2.867215e+07</td>\n      <td>2020-11</td>\n    </tr>\n    <tr>\n      <th>2020-12-31</th>\n      <td>217.418095</td>\n      <td>219.363334</td>\n      <td>215.834287</td>\n      <td>217.750952</td>\n      <td>217.250586</td>\n      <td>2.732685e+07</td>\n      <td>2020-12</td>\n    </tr>\n  </tbody>\n</table>\n</div>"
     },
     "metadata": {},
     "execution_count": 218
    }
   ],
   "source": [
    "new_df['per'] = new_df.index.get_level_values('Date').to_period('M')\n",
    "new_df"
   ]
  },
  {
   "cell_type": "code",
   "execution_count": 223,
   "metadata": {},
   "outputs": [
    {
     "output_type": "execute_result",
     "data": {
      "text/plain": [
       "  ESG Score      per        Open        High         Low       Close  \\\n",
       "0         A  2016-10   58.419524   58.772857   58.057619   58.397619   \n",
       "1         A  2017-08   72.715652   73.196087   72.285218   72.816958   \n",
       "2         A  2018-09  112.077369  112.946316  111.212106  112.237895   \n",
       "3         A  2019-11  147.854000  148.553503  147.155501  148.095500   \n",
       "4       BBB  2020-12  217.418095  219.363334  215.834287  217.750952   \n",
       "\n",
       "    Adj Close        Volume  \n",
       "0   54.259594  2.927818e+07  \n",
       "1   69.128269  1.930741e+07  \n",
       "2  108.721947  2.527661e+07  \n",
       "3  145.887241  1.961859e+07  \n",
       "4  217.250586  2.732685e+07  "
      ],
      "text/html": "<div>\n<style scoped>\n    .dataframe tbody tr th:only-of-type {\n        vertical-align: middle;\n    }\n\n    .dataframe tbody tr th {\n        vertical-align: top;\n    }\n\n    .dataframe thead th {\n        text-align: right;\n    }\n</style>\n<table border=\"1\" class=\"dataframe\">\n  <thead>\n    <tr style=\"text-align: right;\">\n      <th></th>\n      <th>ESG Score</th>\n      <th>per</th>\n      <th>Open</th>\n      <th>High</th>\n      <th>Low</th>\n      <th>Close</th>\n      <th>Adj Close</th>\n      <th>Volume</th>\n    </tr>\n  </thead>\n  <tbody>\n    <tr>\n      <th>0</th>\n      <td>A</td>\n      <td>2016-10</td>\n      <td>58.419524</td>\n      <td>58.772857</td>\n      <td>58.057619</td>\n      <td>58.397619</td>\n      <td>54.259594</td>\n      <td>2.927818e+07</td>\n    </tr>\n    <tr>\n      <th>1</th>\n      <td>A</td>\n      <td>2017-08</td>\n      <td>72.715652</td>\n      <td>73.196087</td>\n      <td>72.285218</td>\n      <td>72.816958</td>\n      <td>69.128269</td>\n      <td>1.930741e+07</td>\n    </tr>\n    <tr>\n      <th>2</th>\n      <td>A</td>\n      <td>2018-09</td>\n      <td>112.077369</td>\n      <td>112.946316</td>\n      <td>111.212106</td>\n      <td>112.237895</td>\n      <td>108.721947</td>\n      <td>2.527661e+07</td>\n    </tr>\n    <tr>\n      <th>3</th>\n      <td>A</td>\n      <td>2019-11</td>\n      <td>147.854000</td>\n      <td>148.553503</td>\n      <td>147.155501</td>\n      <td>148.095500</td>\n      <td>145.887241</td>\n      <td>1.961859e+07</td>\n    </tr>\n    <tr>\n      <th>4</th>\n      <td>BBB</td>\n      <td>2020-12</td>\n      <td>217.418095</td>\n      <td>219.363334</td>\n      <td>215.834287</td>\n      <td>217.750952</td>\n      <td>217.250586</td>\n      <td>2.732685e+07</td>\n    </tr>\n  </tbody>\n</table>\n</div>"
     },
     "metadata": {},
     "execution_count": 223
    }
   ],
   "source": [
    "nndf = pd.merge(mydf, new_df, on=['per'], how='inner')#.drop('per', axis=1)\n",
    "nndf"
   ]
  },
  {
   "cell_type": "code",
   "execution_count": 212,
   "metadata": {},
   "outputs": [
    {
     "output_type": "execute_result",
     "data": {
      "text/plain": [
       "  ESG Score      per   Adj Close\n",
       "0         A  2016-10   54.259594\n",
       "1         A  2017-08   69.128269\n",
       "2         A  2018-09  108.721947\n",
       "3         A  2019-11  145.887241\n",
       "4       BBB  2020-12  217.250586"
      ],
      "text/html": "<div>\n<style scoped>\n    .dataframe tbody tr th:only-of-type {\n        vertical-align: middle;\n    }\n\n    .dataframe tbody tr th {\n        vertical-align: top;\n    }\n\n    .dataframe thead th {\n        text-align: right;\n    }\n</style>\n<table border=\"1\" class=\"dataframe\">\n  <thead>\n    <tr style=\"text-align: right;\">\n      <th></th>\n      <th>ESG Score</th>\n      <th>per</th>\n      <th>Adj Close</th>\n    </tr>\n  </thead>\n  <tbody>\n    <tr>\n      <th>0</th>\n      <td>A</td>\n      <td>2016-10</td>\n      <td>54.259594</td>\n    </tr>\n    <tr>\n      <th>1</th>\n      <td>A</td>\n      <td>2017-08</td>\n      <td>69.128269</td>\n    </tr>\n    <tr>\n      <th>2</th>\n      <td>A</td>\n      <td>2018-09</td>\n      <td>108.721947</td>\n    </tr>\n    <tr>\n      <th>3</th>\n      <td>A</td>\n      <td>2019-11</td>\n      <td>145.887241</td>\n    </tr>\n    <tr>\n      <th>4</th>\n      <td>BBB</td>\n      <td>2020-12</td>\n      <td>217.250586</td>\n    </tr>\n  </tbody>\n</table>\n</div>"
     },
     "metadata": {},
     "execution_count": 212
    }
   ],
   "source": [
    "nndf.drop(['Open', 'High', 'Low', 'Close', 'Volume'], axis = 1)"
   ]
  },
  {
   "cell_type": "code",
   "execution_count": 226,
   "metadata": {},
   "outputs": [
    {
     "output_type": "execute_result",
     "data": {
      "text/plain": [
       "Period('2016-10', 'M')"
      ]
     },
     "metadata": {},
     "execution_count": 226
    }
   ],
   "source": [
    "nndf.iloc[0]['per']"
   ]
  },
  {
   "cell_type": "code",
   "execution_count": 227,
   "metadata": {},
   "outputs": [
    {
     "output_type": "execute_result",
     "data": {
      "text/plain": [
       "Period('2020-12', 'M')"
      ]
     },
     "metadata": {},
     "execution_count": 227
    }
   ],
   "source": [
    "nndf.iloc[-1]['per']"
   ]
  },
  {
   "cell_type": "code",
   "execution_count": 231,
   "metadata": {},
   "outputs": [
    {
     "output_type": "execute_result",
     "data": {
      "text/plain": [
       "  ESG Score    Date\n",
       "0         A  Oct-16\n",
       "1         A  Aug-17\n",
       "2         A  Sep-18\n",
       "3         A  Nov-19\n",
       "4       BBB  Dec-20"
      ],
      "text/html": "<div>\n<style scoped>\n    .dataframe tbody tr th:only-of-type {\n        vertical-align: middle;\n    }\n\n    .dataframe tbody tr th {\n        vertical-align: top;\n    }\n\n    .dataframe thead th {\n        text-align: right;\n    }\n</style>\n<table border=\"1\" class=\"dataframe\">\n  <thead>\n    <tr style=\"text-align: right;\">\n      <th></th>\n      <th>ESG Score</th>\n      <th>Date</th>\n    </tr>\n  </thead>\n  <tbody>\n    <tr>\n      <th>0</th>\n      <td>A</td>\n      <td>Oct-16</td>\n    </tr>\n    <tr>\n      <th>1</th>\n      <td>A</td>\n      <td>Aug-17</td>\n    </tr>\n    <tr>\n      <th>2</th>\n      <td>A</td>\n      <td>Sep-18</td>\n    </tr>\n    <tr>\n      <th>3</th>\n      <td>A</td>\n      <td>Nov-19</td>\n    </tr>\n    <tr>\n      <th>4</th>\n      <td>BBB</td>\n      <td>Dec-20</td>\n    </tr>\n  </tbody>\n</table>\n</div>"
     },
     "metadata": {},
     "execution_count": 231
    }
   ],
   "source": [
    "test_data = [['A', 'A', 'A', 'A', 'BBB'], ['Oct-16', 'Aug-17', 'Sep-18', 'Nov-19', 'Dec-20']]\n",
    "\n",
    "mydf = pd.DataFrame(list(zip(test_data[0], test_data[1])), columns = ['ESG Score', 'Date'])\n",
    "\n",
    "mydf"
   ]
  },
  {
   "cell_type": "code",
   "execution_count": 232,
   "metadata": {},
   "outputs": [
    {
     "output_type": "execute_result",
     "data": {
      "text/plain": [
       "  ESG Score       Date\n",
       "0         A 2016-10-01\n",
       "1         A 2017-08-01\n",
       "2         A 2018-09-01\n",
       "3         A 2019-11-01\n",
       "4       BBB 2020-12-01"
      ],
      "text/html": "<div>\n<style scoped>\n    .dataframe tbody tr th:only-of-type {\n        vertical-align: middle;\n    }\n\n    .dataframe tbody tr th {\n        vertical-align: top;\n    }\n\n    .dataframe thead th {\n        text-align: right;\n    }\n</style>\n<table border=\"1\" class=\"dataframe\">\n  <thead>\n    <tr style=\"text-align: right;\">\n      <th></th>\n      <th>ESG Score</th>\n      <th>Date</th>\n    </tr>\n  </thead>\n  <tbody>\n    <tr>\n      <th>0</th>\n      <td>A</td>\n      <td>2016-10-01</td>\n    </tr>\n    <tr>\n      <th>1</th>\n      <td>A</td>\n      <td>2017-08-01</td>\n    </tr>\n    <tr>\n      <th>2</th>\n      <td>A</td>\n      <td>2018-09-01</td>\n    </tr>\n    <tr>\n      <th>3</th>\n      <td>A</td>\n      <td>2019-11-01</td>\n    </tr>\n    <tr>\n      <th>4</th>\n      <td>BBB</td>\n      <td>2020-12-01</td>\n    </tr>\n  </tbody>\n</table>\n</div>"
     },
     "metadata": {},
     "execution_count": 232
    }
   ],
   "source": [
    "mydf['Date'] = pd.to_datetime( mydf['Date'], format='%b-%y')\n",
    "mydf"
   ]
  },
  {
   "cell_type": "code",
   "execution_count": 233,
   "metadata": {},
   "outputs": [],
   "source": [
    "mydf = mydf.set_index('Date')"
   ]
  },
  {
   "cell_type": "code",
   "execution_count": 234,
   "metadata": {},
   "outputs": [
    {
     "output_type": "execute_result",
     "data": {
      "text/plain": [
       "           ESG Score\n",
       "Date                \n",
       "2016-10-01         A\n",
       "2017-08-01         A\n",
       "2018-09-01         A\n",
       "2019-11-01         A\n",
       "2020-12-01       BBB"
      ],
      "text/html": "<div>\n<style scoped>\n    .dataframe tbody tr th:only-of-type {\n        vertical-align: middle;\n    }\n\n    .dataframe tbody tr th {\n        vertical-align: top;\n    }\n\n    .dataframe thead th {\n        text-align: right;\n    }\n</style>\n<table border=\"1\" class=\"dataframe\">\n  <thead>\n    <tr style=\"text-align: right;\">\n      <th></th>\n      <th>ESG Score</th>\n    </tr>\n    <tr>\n      <th>Date</th>\n      <th></th>\n    </tr>\n  </thead>\n  <tbody>\n    <tr>\n      <th>2016-10-01</th>\n      <td>A</td>\n    </tr>\n    <tr>\n      <th>2017-08-01</th>\n      <td>A</td>\n    </tr>\n    <tr>\n      <th>2018-09-01</th>\n      <td>A</td>\n    </tr>\n    <tr>\n      <th>2019-11-01</th>\n      <td>A</td>\n    </tr>\n    <tr>\n      <th>2020-12-01</th>\n      <td>BBB</td>\n    </tr>\n  </tbody>\n</table>\n</div>"
     },
     "metadata": {},
     "execution_count": 234
    }
   ],
   "source": [
    "mydf"
   ]
  },
  {
   "cell_type": "code",
   "execution_count": 240,
   "metadata": {},
   "outputs": [
    {
     "output_type": "execute_result",
     "data": {
      "text/plain": [
       "Timestamp('2016-10-01 00:00:00')"
      ]
     },
     "metadata": {},
     "execution_count": 240
    }
   ],
   "source": [
    "mydf.index.min()"
   ]
  },
  {
   "cell_type": "code",
   "execution_count": 241,
   "metadata": {},
   "outputs": [
    {
     "output_type": "execute_result",
     "data": {
      "text/plain": [
       "Timestamp('2020-12-01 00:00:00')"
      ]
     },
     "metadata": {},
     "execution_count": 241
    }
   ],
   "source": [
    "mydf.index.max()"
   ]
  },
  {
   "cell_type": "code",
   "execution_count": 243,
   "metadata": {},
   "outputs": [
    {
     "output_type": "stream",
     "name": "stdout",
     "text": [
      "[*********************100%***********************]  1 of 1 completed\n"
     ]
    }
   ],
   "source": [
    "tss = yf.download('tsla', mydf.index.min(), mydf.index.max()+ pd.DateOffset(30))"
   ]
  },
  {
   "cell_type": "code",
   "execution_count": 244,
   "metadata": {},
   "outputs": [],
   "source": [
    "import matplotlib.pyplot as plt"
   ]
  },
  {
   "cell_type": "code",
   "execution_count": 249,
   "metadata": {},
   "outputs": [
    {
     "output_type": "execute_result",
     "data": {
      "text/plain": [
       "  ESG Score      per   Adj Close\n",
       "0         A  2016-10   54.259594\n",
       "1         A  2017-08   69.128269\n",
       "2         A  2018-09  108.721947\n",
       "3         A  2019-11  145.887241\n",
       "4       BBB  2020-12  217.250586"
      ],
      "text/html": "<div>\n<style scoped>\n    .dataframe tbody tr th:only-of-type {\n        vertical-align: middle;\n    }\n\n    .dataframe tbody tr th {\n        vertical-align: top;\n    }\n\n    .dataframe thead th {\n        text-align: right;\n    }\n</style>\n<table border=\"1\" class=\"dataframe\">\n  <thead>\n    <tr style=\"text-align: right;\">\n      <th></th>\n      <th>ESG Score</th>\n      <th>per</th>\n      <th>Adj Close</th>\n    </tr>\n  </thead>\n  <tbody>\n    <tr>\n      <th>0</th>\n      <td>A</td>\n      <td>2016-10</td>\n      <td>54.259594</td>\n    </tr>\n    <tr>\n      <th>1</th>\n      <td>A</td>\n      <td>2017-08</td>\n      <td>69.128269</td>\n    </tr>\n    <tr>\n      <th>2</th>\n      <td>A</td>\n      <td>2018-09</td>\n      <td>108.721947</td>\n    </tr>\n    <tr>\n      <th>3</th>\n      <td>A</td>\n      <td>2019-11</td>\n      <td>145.887241</td>\n    </tr>\n    <tr>\n      <th>4</th>\n      <td>BBB</td>\n      <td>2020-12</td>\n      <td>217.250586</td>\n    </tr>\n  </tbody>\n</table>\n</div>"
     },
     "metadata": {},
     "execution_count": 249
    }
   ],
   "source": [
    "nnndf = nndf.drop(['Open', 'High', 'Low', 'Close', 'Volume'], axis = 1)\n",
    "nnndf"
   ]
  },
  {
   "cell_type": "code",
   "execution_count": 254,
   "metadata": {},
   "outputs": [
    {
     "output_type": "execute_result",
     "data": {
      "text/plain": [
       "        ESG Score   Adj Close\n",
       "per                          \n",
       "2016-10         A   54.259594\n",
       "2017-08         A   69.128269\n",
       "2018-09         A  108.721947\n",
       "2019-11         A  145.887241\n",
       "2020-12       BBB  217.250586"
      ],
      "text/html": "<div>\n<style scoped>\n    .dataframe tbody tr th:only-of-type {\n        vertical-align: middle;\n    }\n\n    .dataframe tbody tr th {\n        vertical-align: top;\n    }\n\n    .dataframe thead th {\n        text-align: right;\n    }\n</style>\n<table border=\"1\" class=\"dataframe\">\n  <thead>\n    <tr style=\"text-align: right;\">\n      <th></th>\n      <th>ESG Score</th>\n      <th>Adj Close</th>\n    </tr>\n    <tr>\n      <th>per</th>\n      <th></th>\n      <th></th>\n    </tr>\n  </thead>\n  <tbody>\n    <tr>\n      <th>2016-10</th>\n      <td>A</td>\n      <td>54.259594</td>\n    </tr>\n    <tr>\n      <th>2017-08</th>\n      <td>A</td>\n      <td>69.128269</td>\n    </tr>\n    <tr>\n      <th>2018-09</th>\n      <td>A</td>\n      <td>108.721947</td>\n    </tr>\n    <tr>\n      <th>2019-11</th>\n      <td>A</td>\n      <td>145.887241</td>\n    </tr>\n    <tr>\n      <th>2020-12</th>\n      <td>BBB</td>\n      <td>217.250586</td>\n    </tr>\n  </tbody>\n</table>\n</div>"
     },
     "metadata": {},
     "execution_count": 254
    }
   ],
   "source": [
    "nnndf = nnndf.set_index('per')\n",
    "nnndf"
   ]
  },
  {
   "cell_type": "code",
   "execution_count": 259,
   "metadata": {},
   "outputs": [
    {
     "output_type": "error",
     "ename": "KeyError",
     "evalue": "'per'",
     "traceback": [
      "\u001b[1;31m---------------------------------------------------------------------------\u001b[0m",
      "\u001b[1;31mKeyError\u001b[0m                                  Traceback (most recent call last)",
      "\u001b[1;32mC:\\Python39\\lib\\site-packages\\pandas\\core\\indexes\\base.py\u001b[0m in \u001b[0;36mget_loc\u001b[1;34m(self, key, method, tolerance)\u001b[0m\n\u001b[0;32m   3079\u001b[0m             \u001b[1;32mtry\u001b[0m\u001b[1;33m:\u001b[0m\u001b[1;33m\u001b[0m\u001b[1;33m\u001b[0m\u001b[0m\n\u001b[1;32m-> 3080\u001b[1;33m                 \u001b[1;32mreturn\u001b[0m \u001b[0mself\u001b[0m\u001b[1;33m.\u001b[0m\u001b[0m_engine\u001b[0m\u001b[1;33m.\u001b[0m\u001b[0mget_loc\u001b[0m\u001b[1;33m(\u001b[0m\u001b[0mcasted_key\u001b[0m\u001b[1;33m)\u001b[0m\u001b[1;33m\u001b[0m\u001b[1;33m\u001b[0m\u001b[0m\n\u001b[0m\u001b[0;32m   3081\u001b[0m             \u001b[1;32mexcept\u001b[0m \u001b[0mKeyError\u001b[0m \u001b[1;32mas\u001b[0m \u001b[0merr\u001b[0m\u001b[1;33m:\u001b[0m\u001b[1;33m\u001b[0m\u001b[1;33m\u001b[0m\u001b[0m\n",
      "\u001b[1;32mpandas\\_libs\\index.pyx\u001b[0m in \u001b[0;36mpandas._libs.index.IndexEngine.get_loc\u001b[1;34m()\u001b[0m\n",
      "\u001b[1;32mpandas\\_libs\\index.pyx\u001b[0m in \u001b[0;36mpandas._libs.index.IndexEngine.get_loc\u001b[1;34m()\u001b[0m\n",
      "\u001b[1;32mpandas\\_libs\\hashtable_class_helper.pxi\u001b[0m in \u001b[0;36mpandas._libs.hashtable.PyObjectHashTable.get_item\u001b[1;34m()\u001b[0m\n",
      "\u001b[1;32mpandas\\_libs\\hashtable_class_helper.pxi\u001b[0m in \u001b[0;36mpandas._libs.hashtable.PyObjectHashTable.get_item\u001b[1;34m()\u001b[0m\n",
      "\u001b[1;31mKeyError\u001b[0m: 'per'",
      "\nThe above exception was the direct cause of the following exception:\n",
      "\u001b[1;31mKeyError\u001b[0m                                  Traceback (most recent call last)",
      "\u001b[1;32m<ipython-input-259-bc52552af26e>\u001b[0m in \u001b[0;36m<module>\u001b[1;34m\u001b[0m\n\u001b[1;32m----> 1\u001b[1;33m \u001b[0mnnndf\u001b[0m\u001b[1;33m.\u001b[0m\u001b[0mplot\u001b[0m\u001b[1;33m(\u001b[0m\u001b[0mx\u001b[0m \u001b[1;33m=\u001b[0m\u001b[1;34m'per'\u001b[0m\u001b[1;33m,\u001b[0m \u001b[0my\u001b[0m\u001b[1;33m=\u001b[0m\u001b[1;34m'Adj Close'\u001b[0m\u001b[1;33m,\u001b[0m\u001b[0mkind\u001b[0m\u001b[1;33m=\u001b[0m\u001b[1;34m'scatter'\u001b[0m\u001b[1;33m)\u001b[0m\u001b[1;33m\u001b[0m\u001b[1;33m\u001b[0m\u001b[0m\n\u001b[0m",
      "\u001b[1;32mC:\\Python39\\lib\\site-packages\\pandas\\plotting\\_core.py\u001b[0m in \u001b[0;36m__call__\u001b[1;34m(self, *args, **kwargs)\u001b[0m\n\u001b[0;32m    898\u001b[0m         \u001b[1;32mif\u001b[0m \u001b[0mkind\u001b[0m \u001b[1;32min\u001b[0m \u001b[0mself\u001b[0m\u001b[1;33m.\u001b[0m\u001b[0m_dataframe_kinds\u001b[0m\u001b[1;33m:\u001b[0m\u001b[1;33m\u001b[0m\u001b[1;33m\u001b[0m\u001b[0m\n\u001b[0;32m    899\u001b[0m             \u001b[1;32mif\u001b[0m \u001b[0misinstance\u001b[0m\u001b[1;33m(\u001b[0m\u001b[0mdata\u001b[0m\u001b[1;33m,\u001b[0m \u001b[0mABCDataFrame\u001b[0m\u001b[1;33m)\u001b[0m\u001b[1;33m:\u001b[0m\u001b[1;33m\u001b[0m\u001b[1;33m\u001b[0m\u001b[0m\n\u001b[1;32m--> 900\u001b[1;33m                 \u001b[1;32mreturn\u001b[0m \u001b[0mplot_backend\u001b[0m\u001b[1;33m.\u001b[0m\u001b[0mplot\u001b[0m\u001b[1;33m(\u001b[0m\u001b[0mdata\u001b[0m\u001b[1;33m,\u001b[0m \u001b[0mx\u001b[0m\u001b[1;33m=\u001b[0m\u001b[0mx\u001b[0m\u001b[1;33m,\u001b[0m \u001b[0my\u001b[0m\u001b[1;33m=\u001b[0m\u001b[0my\u001b[0m\u001b[1;33m,\u001b[0m \u001b[0mkind\u001b[0m\u001b[1;33m=\u001b[0m\u001b[0mkind\u001b[0m\u001b[1;33m,\u001b[0m \u001b[1;33m**\u001b[0m\u001b[0mkwargs\u001b[0m\u001b[1;33m)\u001b[0m\u001b[1;33m\u001b[0m\u001b[1;33m\u001b[0m\u001b[0m\n\u001b[0m\u001b[0;32m    901\u001b[0m             \u001b[1;32melse\u001b[0m\u001b[1;33m:\u001b[0m\u001b[1;33m\u001b[0m\u001b[1;33m\u001b[0m\u001b[0m\n\u001b[0;32m    902\u001b[0m                 \u001b[1;32mraise\u001b[0m \u001b[0mValueError\u001b[0m\u001b[1;33m(\u001b[0m\u001b[1;34mf\"plot kind {kind} can only be used for data frames\"\u001b[0m\u001b[1;33m)\u001b[0m\u001b[1;33m\u001b[0m\u001b[1;33m\u001b[0m\u001b[0m\n",
      "\u001b[1;32mC:\\Python39\\lib\\site-packages\\pandas\\plotting\\_matplotlib\\__init__.py\u001b[0m in \u001b[0;36mplot\u001b[1;34m(data, kind, **kwargs)\u001b[0m\n\u001b[0;32m     59\u001b[0m             \u001b[0mkwargs\u001b[0m\u001b[1;33m[\u001b[0m\u001b[1;34m\"ax\"\u001b[0m\u001b[1;33m]\u001b[0m \u001b[1;33m=\u001b[0m \u001b[0mgetattr\u001b[0m\u001b[1;33m(\u001b[0m\u001b[0max\u001b[0m\u001b[1;33m,\u001b[0m \u001b[1;34m\"left_ax\"\u001b[0m\u001b[1;33m,\u001b[0m \u001b[0max\u001b[0m\u001b[1;33m)\u001b[0m\u001b[1;33m\u001b[0m\u001b[1;33m\u001b[0m\u001b[0m\n\u001b[0;32m     60\u001b[0m     \u001b[0mplot_obj\u001b[0m \u001b[1;33m=\u001b[0m \u001b[0mPLOT_CLASSES\u001b[0m\u001b[1;33m[\u001b[0m\u001b[0mkind\u001b[0m\u001b[1;33m]\u001b[0m\u001b[1;33m(\u001b[0m\u001b[0mdata\u001b[0m\u001b[1;33m,\u001b[0m \u001b[1;33m**\u001b[0m\u001b[0mkwargs\u001b[0m\u001b[1;33m)\u001b[0m\u001b[1;33m\u001b[0m\u001b[1;33m\u001b[0m\u001b[0m\n\u001b[1;32m---> 61\u001b[1;33m     \u001b[0mplot_obj\u001b[0m\u001b[1;33m.\u001b[0m\u001b[0mgenerate\u001b[0m\u001b[1;33m(\u001b[0m\u001b[1;33m)\u001b[0m\u001b[1;33m\u001b[0m\u001b[1;33m\u001b[0m\u001b[0m\n\u001b[0m\u001b[0;32m     62\u001b[0m     \u001b[0mplot_obj\u001b[0m\u001b[1;33m.\u001b[0m\u001b[0mdraw\u001b[0m\u001b[1;33m(\u001b[0m\u001b[1;33m)\u001b[0m\u001b[1;33m\u001b[0m\u001b[1;33m\u001b[0m\u001b[0m\n\u001b[0;32m     63\u001b[0m     \u001b[1;32mreturn\u001b[0m \u001b[0mplot_obj\u001b[0m\u001b[1;33m.\u001b[0m\u001b[0mresult\u001b[0m\u001b[1;33m\u001b[0m\u001b[1;33m\u001b[0m\u001b[0m\n",
      "\u001b[1;32mC:\\Python39\\lib\\site-packages\\pandas\\plotting\\_matplotlib\\core.py\u001b[0m in \u001b[0;36mgenerate\u001b[1;34m(self)\u001b[0m\n\u001b[0;32m    278\u001b[0m         \u001b[0mself\u001b[0m\u001b[1;33m.\u001b[0m\u001b[0m_compute_plot_data\u001b[0m\u001b[1;33m(\u001b[0m\u001b[1;33m)\u001b[0m\u001b[1;33m\u001b[0m\u001b[1;33m\u001b[0m\u001b[0m\n\u001b[0;32m    279\u001b[0m         \u001b[0mself\u001b[0m\u001b[1;33m.\u001b[0m\u001b[0m_setup_subplots\u001b[0m\u001b[1;33m(\u001b[0m\u001b[1;33m)\u001b[0m\u001b[1;33m\u001b[0m\u001b[1;33m\u001b[0m\u001b[0m\n\u001b[1;32m--> 280\u001b[1;33m         \u001b[0mself\u001b[0m\u001b[1;33m.\u001b[0m\u001b[0m_make_plot\u001b[0m\u001b[1;33m(\u001b[0m\u001b[1;33m)\u001b[0m\u001b[1;33m\u001b[0m\u001b[1;33m\u001b[0m\u001b[0m\n\u001b[0m\u001b[0;32m    281\u001b[0m         \u001b[0mself\u001b[0m\u001b[1;33m.\u001b[0m\u001b[0m_add_table\u001b[0m\u001b[1;33m(\u001b[0m\u001b[1;33m)\u001b[0m\u001b[1;33m\u001b[0m\u001b[1;33m\u001b[0m\u001b[0m\n\u001b[0;32m    282\u001b[0m         \u001b[0mself\u001b[0m\u001b[1;33m.\u001b[0m\u001b[0m_make_legend\u001b[0m\u001b[1;33m(\u001b[0m\u001b[1;33m)\u001b[0m\u001b[1;33m\u001b[0m\u001b[1;33m\u001b[0m\u001b[0m\n",
      "\u001b[1;32mC:\\Python39\\lib\\site-packages\\pandas\\plotting\\_matplotlib\\core.py\u001b[0m in \u001b[0;36m_make_plot\u001b[1;34m(self)\u001b[0m\n\u001b[0;32m   1040\u001b[0m             \u001b[0mlabel\u001b[0m \u001b[1;33m=\u001b[0m \u001b[1;32mNone\u001b[0m\u001b[1;33m\u001b[0m\u001b[1;33m\u001b[0m\u001b[0m\n\u001b[0;32m   1041\u001b[0m         scatter = ax.scatter(\n\u001b[1;32m-> 1042\u001b[1;33m             \u001b[0mdata\u001b[0m\u001b[1;33m[\u001b[0m\u001b[0mx\u001b[0m\u001b[1;33m]\u001b[0m\u001b[1;33m.\u001b[0m\u001b[0mvalues\u001b[0m\u001b[1;33m,\u001b[0m\u001b[1;33m\u001b[0m\u001b[1;33m\u001b[0m\u001b[0m\n\u001b[0m\u001b[0;32m   1043\u001b[0m             \u001b[0mdata\u001b[0m\u001b[1;33m[\u001b[0m\u001b[0my\u001b[0m\u001b[1;33m]\u001b[0m\u001b[1;33m.\u001b[0m\u001b[0mvalues\u001b[0m\u001b[1;33m,\u001b[0m\u001b[1;33m\u001b[0m\u001b[1;33m\u001b[0m\u001b[0m\n\u001b[0;32m   1044\u001b[0m             \u001b[0mc\u001b[0m\u001b[1;33m=\u001b[0m\u001b[0mc_values\u001b[0m\u001b[1;33m,\u001b[0m\u001b[1;33m\u001b[0m\u001b[1;33m\u001b[0m\u001b[0m\n",
      "\u001b[1;32mC:\\Python39\\lib\\site-packages\\pandas\\core\\frame.py\u001b[0m in \u001b[0;36m__getitem__\u001b[1;34m(self, key)\u001b[0m\n\u001b[0;32m   3022\u001b[0m             \u001b[1;32mif\u001b[0m \u001b[0mself\u001b[0m\u001b[1;33m.\u001b[0m\u001b[0mcolumns\u001b[0m\u001b[1;33m.\u001b[0m\u001b[0mnlevels\u001b[0m \u001b[1;33m>\u001b[0m \u001b[1;36m1\u001b[0m\u001b[1;33m:\u001b[0m\u001b[1;33m\u001b[0m\u001b[1;33m\u001b[0m\u001b[0m\n\u001b[0;32m   3023\u001b[0m                 \u001b[1;32mreturn\u001b[0m \u001b[0mself\u001b[0m\u001b[1;33m.\u001b[0m\u001b[0m_getitem_multilevel\u001b[0m\u001b[1;33m(\u001b[0m\u001b[0mkey\u001b[0m\u001b[1;33m)\u001b[0m\u001b[1;33m\u001b[0m\u001b[1;33m\u001b[0m\u001b[0m\n\u001b[1;32m-> 3024\u001b[1;33m             \u001b[0mindexer\u001b[0m \u001b[1;33m=\u001b[0m \u001b[0mself\u001b[0m\u001b[1;33m.\u001b[0m\u001b[0mcolumns\u001b[0m\u001b[1;33m.\u001b[0m\u001b[0mget_loc\u001b[0m\u001b[1;33m(\u001b[0m\u001b[0mkey\u001b[0m\u001b[1;33m)\u001b[0m\u001b[1;33m\u001b[0m\u001b[1;33m\u001b[0m\u001b[0m\n\u001b[0m\u001b[0;32m   3025\u001b[0m             \u001b[1;32mif\u001b[0m \u001b[0mis_integer\u001b[0m\u001b[1;33m(\u001b[0m\u001b[0mindexer\u001b[0m\u001b[1;33m)\u001b[0m\u001b[1;33m:\u001b[0m\u001b[1;33m\u001b[0m\u001b[1;33m\u001b[0m\u001b[0m\n\u001b[0;32m   3026\u001b[0m                 \u001b[0mindexer\u001b[0m \u001b[1;33m=\u001b[0m \u001b[1;33m[\u001b[0m\u001b[0mindexer\u001b[0m\u001b[1;33m]\u001b[0m\u001b[1;33m\u001b[0m\u001b[1;33m\u001b[0m\u001b[0m\n",
      "\u001b[1;32mC:\\Python39\\lib\\site-packages\\pandas\\core\\indexes\\base.py\u001b[0m in \u001b[0;36mget_loc\u001b[1;34m(self, key, method, tolerance)\u001b[0m\n\u001b[0;32m   3080\u001b[0m                 \u001b[1;32mreturn\u001b[0m \u001b[0mself\u001b[0m\u001b[1;33m.\u001b[0m\u001b[0m_engine\u001b[0m\u001b[1;33m.\u001b[0m\u001b[0mget_loc\u001b[0m\u001b[1;33m(\u001b[0m\u001b[0mcasted_key\u001b[0m\u001b[1;33m)\u001b[0m\u001b[1;33m\u001b[0m\u001b[1;33m\u001b[0m\u001b[0m\n\u001b[0;32m   3081\u001b[0m             \u001b[1;32mexcept\u001b[0m \u001b[0mKeyError\u001b[0m \u001b[1;32mas\u001b[0m \u001b[0merr\u001b[0m\u001b[1;33m:\u001b[0m\u001b[1;33m\u001b[0m\u001b[1;33m\u001b[0m\u001b[0m\n\u001b[1;32m-> 3082\u001b[1;33m                 \u001b[1;32mraise\u001b[0m \u001b[0mKeyError\u001b[0m\u001b[1;33m(\u001b[0m\u001b[0mkey\u001b[0m\u001b[1;33m)\u001b[0m \u001b[1;32mfrom\u001b[0m \u001b[0merr\u001b[0m\u001b[1;33m\u001b[0m\u001b[1;33m\u001b[0m\u001b[0m\n\u001b[0m\u001b[0;32m   3083\u001b[0m \u001b[1;33m\u001b[0m\u001b[0m\n\u001b[0;32m   3084\u001b[0m         \u001b[1;32mif\u001b[0m \u001b[0mtolerance\u001b[0m \u001b[1;32mis\u001b[0m \u001b[1;32mnot\u001b[0m \u001b[1;32mNone\u001b[0m\u001b[1;33m:\u001b[0m\u001b[1;33m\u001b[0m\u001b[1;33m\u001b[0m\u001b[0m\n",
      "\u001b[1;31mKeyError\u001b[0m: 'per'"
     ]
    }
   ],
   "source": [
    "nnndf.plot(x ='per', y='Adj Close',kind='scatter')"
   ]
  },
  {
   "cell_type": "code",
   "execution_count": 262,
   "metadata": {},
   "outputs": [
    {
     "output_type": "execute_result",
     "data": {
      "text/plain": [
       "<AxesSubplot:xlabel='per'>"
      ]
     },
     "metadata": {},
     "execution_count": 262
    },
    {
     "output_type": "display_data",
     "data": {
      "text/plain": "<Figure size 432x288 with 1 Axes>",
      "image/svg+xml": "<?xml version=\"1.0\" encoding=\"utf-8\" standalone=\"no\"?>\r\n<!DOCTYPE svg PUBLIC \"-//W3C//DTD SVG 1.1//EN\"\r\n  \"http://www.w3.org/Graphics/SVG/1.1/DTD/svg11.dtd\">\r\n<!-- Created with matplotlib (https://matplotlib.org/) -->\r\n<svg height=\"262.19625pt\" version=\"1.1\" viewBox=\"0 0 375.2875 262.19625\" width=\"375.2875pt\" xmlns=\"http://www.w3.org/2000/svg\" xmlns:xlink=\"http://www.w3.org/1999/xlink\">\r\n <metadata>\r\n  <rdf:RDF xmlns:cc=\"http://creativecommons.org/ns#\" xmlns:dc=\"http://purl.org/dc/elements/1.1/\" xmlns:rdf=\"http://www.w3.org/1999/02/22-rdf-syntax-ns#\">\r\n   <cc:Work>\r\n    <dc:type rdf:resource=\"http://purl.org/dc/dcmitype/StillImage\"/>\r\n    <dc:date>2021-04-10T20:09:48.956831</dc:date>\r\n    <dc:format>image/svg+xml</dc:format>\r\n    <dc:creator>\r\n     <cc:Agent>\r\n      <dc:title>Matplotlib v3.3.3, https://matplotlib.org/</dc:title>\r\n     </cc:Agent>\r\n    </dc:creator>\r\n   </cc:Work>\r\n  </rdf:RDF>\r\n </metadata>\r\n <defs>\r\n  <style type=\"text/css\">*{stroke-linecap:butt;stroke-linejoin:round;}</style>\r\n </defs>\r\n <g id=\"figure_1\">\r\n  <g id=\"patch_1\">\r\n   <path d=\"M 0 262.19625 \r\nL 375.2875 262.19625 \r\nL 375.2875 0 \r\nL 0 0 \r\nz\r\n\" style=\"fill:none;\"/>\r\n  </g>\r\n  <g id=\"axes_1\">\r\n   <g id=\"patch_2\">\r\n    <path d=\"M 33.2875 224.64 \r\nL 368.0875 224.64 \r\nL 368.0875 7.2 \r\nL 33.2875 7.2 \r\nz\r\n\" style=\"fill:#ffffff;\"/>\r\n   </g>\r\n   <g id=\"matplotlib.axis_1\">\r\n    <g id=\"xtick_1\">\r\n     <g id=\"line2d_1\">\r\n      <defs>\r\n       <path d=\"M 0 0 \r\nL 0 3.5 \r\n\" id=\"m7b50204b80\" style=\"stroke:#000000;stroke-width:0.8;\"/>\r\n      </defs>\r\n      <g>\r\n       <use style=\"stroke:#000000;stroke-width:0.8;\" x=\"53.3755\" xlink:href=\"#m7b50204b80\" y=\"224.64\"/>\r\n      </g>\r\n     </g>\r\n     <g id=\"text_1\">\r\n      <!-- 2017 -->\r\n      <g transform=\"translate(40.6505 239.238437)scale(0.1 -0.1)\">\r\n       <defs>\r\n        <path d=\"M 19.1875 8.296875 \r\nL 53.609375 8.296875 \r\nL 53.609375 0 \r\nL 7.328125 0 \r\nL 7.328125 8.296875 \r\nQ 12.9375 14.109375 22.625 23.890625 \r\nQ 32.328125 33.6875 34.8125 36.53125 \r\nQ 39.546875 41.84375 41.421875 45.53125 \r\nQ 43.3125 49.21875 43.3125 52.78125 \r\nQ 43.3125 58.59375 39.234375 62.25 \r\nQ 35.15625 65.921875 28.609375 65.921875 \r\nQ 23.96875 65.921875 18.8125 64.3125 \r\nQ 13.671875 62.703125 7.8125 59.421875 \r\nL 7.8125 69.390625 \r\nQ 13.765625 71.78125 18.9375 73 \r\nQ 24.125 74.21875 28.421875 74.21875 \r\nQ 39.75 74.21875 46.484375 68.546875 \r\nQ 53.21875 62.890625 53.21875 53.421875 \r\nQ 53.21875 48.921875 51.53125 44.890625 \r\nQ 49.859375 40.875 45.40625 35.40625 \r\nQ 44.1875 33.984375 37.640625 27.21875 \r\nQ 31.109375 20.453125 19.1875 8.296875 \r\nz\r\n\" id=\"DejaVuSans-50\"/>\r\n        <path d=\"M 31.78125 66.40625 \r\nQ 24.171875 66.40625 20.328125 58.90625 \r\nQ 16.5 51.421875 16.5 36.375 \r\nQ 16.5 21.390625 20.328125 13.890625 \r\nQ 24.171875 6.390625 31.78125 6.390625 \r\nQ 39.453125 6.390625 43.28125 13.890625 \r\nQ 47.125 21.390625 47.125 36.375 \r\nQ 47.125 51.421875 43.28125 58.90625 \r\nQ 39.453125 66.40625 31.78125 66.40625 \r\nz\r\nM 31.78125 74.21875 \r\nQ 44.046875 74.21875 50.515625 64.515625 \r\nQ 56.984375 54.828125 56.984375 36.375 \r\nQ 56.984375 17.96875 50.515625 8.265625 \r\nQ 44.046875 -1.421875 31.78125 -1.421875 \r\nQ 19.53125 -1.421875 13.0625 8.265625 \r\nQ 6.59375 17.96875 6.59375 36.375 \r\nQ 6.59375 54.828125 13.0625 64.515625 \r\nQ 19.53125 74.21875 31.78125 74.21875 \r\nz\r\n\" id=\"DejaVuSans-48\"/>\r\n        <path d=\"M 12.40625 8.296875 \r\nL 28.515625 8.296875 \r\nL 28.515625 63.921875 \r\nL 10.984375 60.40625 \r\nL 10.984375 69.390625 \r\nL 28.421875 72.90625 \r\nL 38.28125 72.90625 \r\nL 38.28125 8.296875 \r\nL 54.390625 8.296875 \r\nL 54.390625 0 \r\nL 12.40625 0 \r\nz\r\n\" id=\"DejaVuSans-49\"/>\r\n        <path d=\"M 8.203125 72.90625 \r\nL 55.078125 72.90625 \r\nL 55.078125 68.703125 \r\nL 28.609375 0 \r\nL 18.3125 0 \r\nL 43.21875 64.59375 \r\nL 8.203125 64.59375 \r\nz\r\n\" id=\"DejaVuSans-55\"/>\r\n       </defs>\r\n       <use xlink:href=\"#DejaVuSans-50\"/>\r\n       <use x=\"63.623047\" xlink:href=\"#DejaVuSans-48\"/>\r\n       <use x=\"127.246094\" xlink:href=\"#DejaVuSans-49\"/>\r\n       <use x=\"190.869141\" xlink:href=\"#DejaVuSans-55\"/>\r\n      </g>\r\n     </g>\r\n    </g>\r\n    <g id=\"xtick_2\">\r\n     <g id=\"line2d_2\">\r\n      <g>\r\n       <use style=\"stroke:#000000;stroke-width:0.8;\" x=\"133.7275\" xlink:href=\"#m7b50204b80\" y=\"224.64\"/>\r\n      </g>\r\n     </g>\r\n     <g id=\"text_2\">\r\n      <!-- 2018 -->\r\n      <g transform=\"translate(121.0025 239.238437)scale(0.1 -0.1)\">\r\n       <defs>\r\n        <path d=\"M 31.78125 34.625 \r\nQ 24.75 34.625 20.71875 30.859375 \r\nQ 16.703125 27.09375 16.703125 20.515625 \r\nQ 16.703125 13.921875 20.71875 10.15625 \r\nQ 24.75 6.390625 31.78125 6.390625 \r\nQ 38.8125 6.390625 42.859375 10.171875 \r\nQ 46.921875 13.96875 46.921875 20.515625 \r\nQ 46.921875 27.09375 42.890625 30.859375 \r\nQ 38.875 34.625 31.78125 34.625 \r\nz\r\nM 21.921875 38.8125 \r\nQ 15.578125 40.375 12.03125 44.71875 \r\nQ 8.5 49.078125 8.5 55.328125 \r\nQ 8.5 64.0625 14.71875 69.140625 \r\nQ 20.953125 74.21875 31.78125 74.21875 \r\nQ 42.671875 74.21875 48.875 69.140625 \r\nQ 55.078125 64.0625 55.078125 55.328125 \r\nQ 55.078125 49.078125 51.53125 44.71875 \r\nQ 48 40.375 41.703125 38.8125 \r\nQ 48.828125 37.15625 52.796875 32.3125 \r\nQ 56.78125 27.484375 56.78125 20.515625 \r\nQ 56.78125 9.90625 50.3125 4.234375 \r\nQ 43.84375 -1.421875 31.78125 -1.421875 \r\nQ 19.734375 -1.421875 13.25 4.234375 \r\nQ 6.78125 9.90625 6.78125 20.515625 \r\nQ 6.78125 27.484375 10.78125 32.3125 \r\nQ 14.796875 37.15625 21.921875 38.8125 \r\nz\r\nM 18.3125 54.390625 \r\nQ 18.3125 48.734375 21.84375 45.5625 \r\nQ 25.390625 42.390625 31.78125 42.390625 \r\nQ 38.140625 42.390625 41.71875 45.5625 \r\nQ 45.3125 48.734375 45.3125 54.390625 \r\nQ 45.3125 60.0625 41.71875 63.234375 \r\nQ 38.140625 66.40625 31.78125 66.40625 \r\nQ 25.390625 66.40625 21.84375 63.234375 \r\nQ 18.3125 60.0625 18.3125 54.390625 \r\nz\r\n\" id=\"DejaVuSans-56\"/>\r\n       </defs>\r\n       <use xlink:href=\"#DejaVuSans-50\"/>\r\n       <use x=\"63.623047\" xlink:href=\"#DejaVuSans-48\"/>\r\n       <use x=\"127.246094\" xlink:href=\"#DejaVuSans-49\"/>\r\n       <use x=\"190.869141\" xlink:href=\"#DejaVuSans-56\"/>\r\n      </g>\r\n     </g>\r\n    </g>\r\n    <g id=\"xtick_3\">\r\n     <g id=\"line2d_3\">\r\n      <g>\r\n       <use style=\"stroke:#000000;stroke-width:0.8;\" x=\"214.0795\" xlink:href=\"#m7b50204b80\" y=\"224.64\"/>\r\n      </g>\r\n     </g>\r\n     <g id=\"text_3\">\r\n      <!-- 2019 -->\r\n      <g transform=\"translate(201.3545 239.238437)scale(0.1 -0.1)\">\r\n       <defs>\r\n        <path d=\"M 10.984375 1.515625 \r\nL 10.984375 10.5 \r\nQ 14.703125 8.734375 18.5 7.8125 \r\nQ 22.3125 6.890625 25.984375 6.890625 \r\nQ 35.75 6.890625 40.890625 13.453125 \r\nQ 46.046875 20.015625 46.78125 33.40625 \r\nQ 43.953125 29.203125 39.59375 26.953125 \r\nQ 35.25 24.703125 29.984375 24.703125 \r\nQ 19.046875 24.703125 12.671875 31.3125 \r\nQ 6.296875 37.9375 6.296875 49.421875 \r\nQ 6.296875 60.640625 12.9375 67.421875 \r\nQ 19.578125 74.21875 30.609375 74.21875 \r\nQ 43.265625 74.21875 49.921875 64.515625 \r\nQ 56.59375 54.828125 56.59375 36.375 \r\nQ 56.59375 19.140625 48.40625 8.859375 \r\nQ 40.234375 -1.421875 26.421875 -1.421875 \r\nQ 22.703125 -1.421875 18.890625 -0.6875 \r\nQ 15.09375 0.046875 10.984375 1.515625 \r\nz\r\nM 30.609375 32.421875 \r\nQ 37.25 32.421875 41.125 36.953125 \r\nQ 45.015625 41.5 45.015625 49.421875 \r\nQ 45.015625 57.28125 41.125 61.84375 \r\nQ 37.25 66.40625 30.609375 66.40625 \r\nQ 23.96875 66.40625 20.09375 61.84375 \r\nQ 16.21875 57.28125 16.21875 49.421875 \r\nQ 16.21875 41.5 20.09375 36.953125 \r\nQ 23.96875 32.421875 30.609375 32.421875 \r\nz\r\n\" id=\"DejaVuSans-57\"/>\r\n       </defs>\r\n       <use xlink:href=\"#DejaVuSans-50\"/>\r\n       <use x=\"63.623047\" xlink:href=\"#DejaVuSans-48\"/>\r\n       <use x=\"127.246094\" xlink:href=\"#DejaVuSans-49\"/>\r\n       <use x=\"190.869141\" xlink:href=\"#DejaVuSans-57\"/>\r\n      </g>\r\n     </g>\r\n    </g>\r\n    <g id=\"xtick_4\">\r\n     <g id=\"line2d_4\">\r\n      <g>\r\n       <use style=\"stroke:#000000;stroke-width:0.8;\" x=\"294.4315\" xlink:href=\"#m7b50204b80\" y=\"224.64\"/>\r\n      </g>\r\n     </g>\r\n     <g id=\"text_4\">\r\n      <!-- 2020 -->\r\n      <g transform=\"translate(281.7065 239.238437)scale(0.1 -0.1)\">\r\n       <use xlink:href=\"#DejaVuSans-50\"/>\r\n       <use x=\"63.623047\" xlink:href=\"#DejaVuSans-48\"/>\r\n       <use x=\"127.246094\" xlink:href=\"#DejaVuSans-50\"/>\r\n       <use x=\"190.869141\" xlink:href=\"#DejaVuSans-48\"/>\r\n      </g>\r\n     </g>\r\n    </g>\r\n    <g id=\"xtick_5\">\r\n     <g id=\"line2d_5\">\r\n      <defs>\r\n       <path d=\"M 0 0 \r\nL 0 2 \r\n\" id=\"m82de412bcb\" style=\"stroke:#000000;stroke-width:0.6;\"/>\r\n      </defs>\r\n      <g>\r\n       <use style=\"stroke:#000000;stroke-width:0.6;\" x=\"33.2875\" xlink:href=\"#m82de412bcb\" y=\"224.64\"/>\r\n      </g>\r\n     </g>\r\n    </g>\r\n    <g id=\"xtick_6\">\r\n     <g id=\"line2d_6\">\r\n      <g>\r\n       <use style=\"stroke:#000000;stroke-width:0.6;\" x=\"73.4635\" xlink:href=\"#m82de412bcb\" y=\"224.64\"/>\r\n      </g>\r\n     </g>\r\n    </g>\r\n    <g id=\"xtick_7\">\r\n     <g id=\"line2d_7\">\r\n      <g>\r\n       <use style=\"stroke:#000000;stroke-width:0.6;\" x=\"93.5515\" xlink:href=\"#m82de412bcb\" y=\"224.64\"/>\r\n      </g>\r\n     </g>\r\n    </g>\r\n    <g id=\"xtick_8\">\r\n     <g id=\"line2d_8\">\r\n      <g>\r\n       <use style=\"stroke:#000000;stroke-width:0.6;\" x=\"113.6395\" xlink:href=\"#m82de412bcb\" y=\"224.64\"/>\r\n      </g>\r\n     </g>\r\n    </g>\r\n    <g id=\"xtick_9\">\r\n     <g id=\"line2d_9\">\r\n      <g>\r\n       <use style=\"stroke:#000000;stroke-width:0.6;\" x=\"153.8155\" xlink:href=\"#m82de412bcb\" y=\"224.64\"/>\r\n      </g>\r\n     </g>\r\n    </g>\r\n    <g id=\"xtick_10\">\r\n     <g id=\"line2d_10\">\r\n      <g>\r\n       <use style=\"stroke:#000000;stroke-width:0.6;\" x=\"173.9035\" xlink:href=\"#m82de412bcb\" y=\"224.64\"/>\r\n      </g>\r\n     </g>\r\n    </g>\r\n    <g id=\"xtick_11\">\r\n     <g id=\"line2d_11\">\r\n      <g>\r\n       <use style=\"stroke:#000000;stroke-width:0.6;\" x=\"193.9915\" xlink:href=\"#m82de412bcb\" y=\"224.64\"/>\r\n      </g>\r\n     </g>\r\n    </g>\r\n    <g id=\"xtick_12\">\r\n     <g id=\"line2d_12\">\r\n      <g>\r\n       <use style=\"stroke:#000000;stroke-width:0.6;\" x=\"234.1675\" xlink:href=\"#m82de412bcb\" y=\"224.64\"/>\r\n      </g>\r\n     </g>\r\n    </g>\r\n    <g id=\"xtick_13\">\r\n     <g id=\"line2d_13\">\r\n      <g>\r\n       <use style=\"stroke:#000000;stroke-width:0.6;\" x=\"254.2555\" xlink:href=\"#m82de412bcb\" y=\"224.64\"/>\r\n      </g>\r\n     </g>\r\n    </g>\r\n    <g id=\"xtick_14\">\r\n     <g id=\"line2d_14\">\r\n      <g>\r\n       <use style=\"stroke:#000000;stroke-width:0.6;\" x=\"274.3435\" xlink:href=\"#m82de412bcb\" y=\"224.64\"/>\r\n      </g>\r\n     </g>\r\n    </g>\r\n    <g id=\"xtick_15\">\r\n     <g id=\"line2d_15\">\r\n      <g>\r\n       <use style=\"stroke:#000000;stroke-width:0.6;\" x=\"314.5195\" xlink:href=\"#m82de412bcb\" y=\"224.64\"/>\r\n      </g>\r\n     </g>\r\n    </g>\r\n    <g id=\"xtick_16\">\r\n     <g id=\"line2d_16\">\r\n      <g>\r\n       <use style=\"stroke:#000000;stroke-width:0.6;\" x=\"334.6075\" xlink:href=\"#m82de412bcb\" y=\"224.64\"/>\r\n      </g>\r\n     </g>\r\n    </g>\r\n    <g id=\"xtick_17\">\r\n     <g id=\"line2d_17\">\r\n      <g>\r\n       <use style=\"stroke:#000000;stroke-width:0.6;\" x=\"354.6955\" xlink:href=\"#m82de412bcb\" y=\"224.64\"/>\r\n      </g>\r\n     </g>\r\n    </g>\r\n    <g id=\"text_5\">\r\n     <!-- per -->\r\n     <g transform=\"translate(192.38125 252.916562)scale(0.1 -0.1)\">\r\n      <defs>\r\n       <path d=\"M 18.109375 8.203125 \r\nL 18.109375 -20.796875 \r\nL 9.078125 -20.796875 \r\nL 9.078125 54.6875 \r\nL 18.109375 54.6875 \r\nL 18.109375 46.390625 \r\nQ 20.953125 51.265625 25.265625 53.625 \r\nQ 29.59375 56 35.59375 56 \r\nQ 45.5625 56 51.78125 48.09375 \r\nQ 58.015625 40.1875 58.015625 27.296875 \r\nQ 58.015625 14.40625 51.78125 6.484375 \r\nQ 45.5625 -1.421875 35.59375 -1.421875 \r\nQ 29.59375 -1.421875 25.265625 0.953125 \r\nQ 20.953125 3.328125 18.109375 8.203125 \r\nz\r\nM 48.6875 27.296875 \r\nQ 48.6875 37.203125 44.609375 42.84375 \r\nQ 40.53125 48.484375 33.40625 48.484375 \r\nQ 26.265625 48.484375 22.1875 42.84375 \r\nQ 18.109375 37.203125 18.109375 27.296875 \r\nQ 18.109375 17.390625 22.1875 11.75 \r\nQ 26.265625 6.109375 33.40625 6.109375 \r\nQ 40.53125 6.109375 44.609375 11.75 \r\nQ 48.6875 17.390625 48.6875 27.296875 \r\nz\r\n\" id=\"DejaVuSans-112\"/>\r\n       <path d=\"M 56.203125 29.59375 \r\nL 56.203125 25.203125 \r\nL 14.890625 25.203125 \r\nQ 15.484375 15.921875 20.484375 11.0625 \r\nQ 25.484375 6.203125 34.421875 6.203125 \r\nQ 39.59375 6.203125 44.453125 7.46875 \r\nQ 49.3125 8.734375 54.109375 11.28125 \r\nL 54.109375 2.78125 \r\nQ 49.265625 0.734375 44.1875 -0.34375 \r\nQ 39.109375 -1.421875 33.890625 -1.421875 \r\nQ 20.796875 -1.421875 13.15625 6.1875 \r\nQ 5.515625 13.8125 5.515625 26.8125 \r\nQ 5.515625 40.234375 12.765625 48.109375 \r\nQ 20.015625 56 32.328125 56 \r\nQ 43.359375 56 49.78125 48.890625 \r\nQ 56.203125 41.796875 56.203125 29.59375 \r\nz\r\nM 47.21875 32.234375 \r\nQ 47.125 39.59375 43.09375 43.984375 \r\nQ 39.0625 48.390625 32.421875 48.390625 \r\nQ 24.90625 48.390625 20.390625 44.140625 \r\nQ 15.875 39.890625 15.1875 32.171875 \r\nz\r\n\" id=\"DejaVuSans-101\"/>\r\n       <path d=\"M 41.109375 46.296875 \r\nQ 39.59375 47.171875 37.8125 47.578125 \r\nQ 36.03125 48 33.890625 48 \r\nQ 26.265625 48 22.1875 43.046875 \r\nQ 18.109375 38.09375 18.109375 28.8125 \r\nL 18.109375 0 \r\nL 9.078125 0 \r\nL 9.078125 54.6875 \r\nL 18.109375 54.6875 \r\nL 18.109375 46.1875 \r\nQ 20.953125 51.171875 25.484375 53.578125 \r\nQ 30.03125 56 36.53125 56 \r\nQ 37.453125 56 38.578125 55.875 \r\nQ 39.703125 55.765625 41.0625 55.515625 \r\nz\r\n\" id=\"DejaVuSans-114\"/>\r\n      </defs>\r\n      <use xlink:href=\"#DejaVuSans-112\"/>\r\n      <use x=\"63.476562\" xlink:href=\"#DejaVuSans-101\"/>\r\n      <use x=\"125\" xlink:href=\"#DejaVuSans-114\"/>\r\n     </g>\r\n    </g>\r\n   </g>\r\n   <g id=\"matplotlib.axis_2\">\r\n    <g id=\"ytick_1\">\r\n     <g id=\"line2d_18\">\r\n      <defs>\r\n       <path d=\"M 0 0 \r\nL -3.5 0 \r\n\" id=\"md63dffaf79\" style=\"stroke:#000000;stroke-width:0.8;\"/>\r\n      </defs>\r\n      <g>\r\n       <use style=\"stroke:#000000;stroke-width:0.8;\" x=\"33.2875\" xlink:href=\"#md63dffaf79\" y=\"207.794496\"/>\r\n      </g>\r\n     </g>\r\n     <g id=\"text_6\">\r\n      <!-- 60 -->\r\n      <g transform=\"translate(13.5625 211.593714)scale(0.1 -0.1)\">\r\n       <defs>\r\n        <path d=\"M 33.015625 40.375 \r\nQ 26.375 40.375 22.484375 35.828125 \r\nQ 18.609375 31.296875 18.609375 23.390625 \r\nQ 18.609375 15.53125 22.484375 10.953125 \r\nQ 26.375 6.390625 33.015625 6.390625 \r\nQ 39.65625 6.390625 43.53125 10.953125 \r\nQ 47.40625 15.53125 47.40625 23.390625 \r\nQ 47.40625 31.296875 43.53125 35.828125 \r\nQ 39.65625 40.375 33.015625 40.375 \r\nz\r\nM 52.59375 71.296875 \r\nL 52.59375 62.3125 \r\nQ 48.875 64.0625 45.09375 64.984375 \r\nQ 41.3125 65.921875 37.59375 65.921875 \r\nQ 27.828125 65.921875 22.671875 59.328125 \r\nQ 17.53125 52.734375 16.796875 39.40625 \r\nQ 19.671875 43.65625 24.015625 45.921875 \r\nQ 28.375 48.1875 33.59375 48.1875 \r\nQ 44.578125 48.1875 50.953125 41.515625 \r\nQ 57.328125 34.859375 57.328125 23.390625 \r\nQ 57.328125 12.15625 50.6875 5.359375 \r\nQ 44.046875 -1.421875 33.015625 -1.421875 \r\nQ 20.359375 -1.421875 13.671875 8.265625 \r\nQ 6.984375 17.96875 6.984375 36.375 \r\nQ 6.984375 53.65625 15.1875 63.9375 \r\nQ 23.390625 74.21875 37.203125 74.21875 \r\nQ 40.921875 74.21875 44.703125 73.484375 \r\nQ 48.484375 72.75 52.59375 71.296875 \r\nz\r\n\" id=\"DejaVuSans-54\"/>\r\n       </defs>\r\n       <use xlink:href=\"#DejaVuSans-54\"/>\r\n       <use x=\"63.623047\" xlink:href=\"#DejaVuSans-48\"/>\r\n      </g>\r\n     </g>\r\n    </g>\r\n    <g id=\"ytick_2\">\r\n     <g id=\"line2d_19\">\r\n      <g>\r\n       <use style=\"stroke:#000000;stroke-width:0.8;\" x=\"33.2875\" xlink:href=\"#md63dffaf79\" y=\"183.538833\"/>\r\n      </g>\r\n     </g>\r\n     <g id=\"text_7\">\r\n      <!-- 80 -->\r\n      <g transform=\"translate(13.5625 187.338052)scale(0.1 -0.1)\">\r\n       <use xlink:href=\"#DejaVuSans-56\"/>\r\n       <use x=\"63.623047\" xlink:href=\"#DejaVuSans-48\"/>\r\n      </g>\r\n     </g>\r\n    </g>\r\n    <g id=\"ytick_3\">\r\n     <g id=\"line2d_20\">\r\n      <g>\r\n       <use style=\"stroke:#000000;stroke-width:0.8;\" x=\"33.2875\" xlink:href=\"#md63dffaf79\" y=\"159.28317\"/>\r\n      </g>\r\n     </g>\r\n     <g id=\"text_8\">\r\n      <!-- 100 -->\r\n      <g transform=\"translate(7.2 163.082389)scale(0.1 -0.1)\">\r\n       <use xlink:href=\"#DejaVuSans-49\"/>\r\n       <use x=\"63.623047\" xlink:href=\"#DejaVuSans-48\"/>\r\n       <use x=\"127.246094\" xlink:href=\"#DejaVuSans-48\"/>\r\n      </g>\r\n     </g>\r\n    </g>\r\n    <g id=\"ytick_4\">\r\n     <g id=\"line2d_21\">\r\n      <g>\r\n       <use style=\"stroke:#000000;stroke-width:0.8;\" x=\"33.2875\" xlink:href=\"#md63dffaf79\" y=\"135.027507\"/>\r\n      </g>\r\n     </g>\r\n     <g id=\"text_9\">\r\n      <!-- 120 -->\r\n      <g transform=\"translate(7.2 138.826726)scale(0.1 -0.1)\">\r\n       <use xlink:href=\"#DejaVuSans-49\"/>\r\n       <use x=\"63.623047\" xlink:href=\"#DejaVuSans-50\"/>\r\n       <use x=\"127.246094\" xlink:href=\"#DejaVuSans-48\"/>\r\n      </g>\r\n     </g>\r\n    </g>\r\n    <g id=\"ytick_5\">\r\n     <g id=\"line2d_22\">\r\n      <g>\r\n       <use style=\"stroke:#000000;stroke-width:0.8;\" x=\"33.2875\" xlink:href=\"#md63dffaf79\" y=\"110.771844\"/>\r\n      </g>\r\n     </g>\r\n     <g id=\"text_10\">\r\n      <!-- 140 -->\r\n      <g transform=\"translate(7.2 114.571063)scale(0.1 -0.1)\">\r\n       <defs>\r\n        <path d=\"M 37.796875 64.3125 \r\nL 12.890625 25.390625 \r\nL 37.796875 25.390625 \r\nz\r\nM 35.203125 72.90625 \r\nL 47.609375 72.90625 \r\nL 47.609375 25.390625 \r\nL 58.015625 25.390625 \r\nL 58.015625 17.1875 \r\nL 47.609375 17.1875 \r\nL 47.609375 0 \r\nL 37.796875 0 \r\nL 37.796875 17.1875 \r\nL 4.890625 17.1875 \r\nL 4.890625 26.703125 \r\nz\r\n\" id=\"DejaVuSans-52\"/>\r\n       </defs>\r\n       <use xlink:href=\"#DejaVuSans-49\"/>\r\n       <use x=\"63.623047\" xlink:href=\"#DejaVuSans-52\"/>\r\n       <use x=\"127.246094\" xlink:href=\"#DejaVuSans-48\"/>\r\n      </g>\r\n     </g>\r\n    </g>\r\n    <g id=\"ytick_6\">\r\n     <g id=\"line2d_23\">\r\n      <g>\r\n       <use style=\"stroke:#000000;stroke-width:0.8;\" x=\"33.2875\" xlink:href=\"#md63dffaf79\" y=\"86.516182\"/>\r\n      </g>\r\n     </g>\r\n     <g id=\"text_11\">\r\n      <!-- 160 -->\r\n      <g transform=\"translate(7.2 90.3154)scale(0.1 -0.1)\">\r\n       <use xlink:href=\"#DejaVuSans-49\"/>\r\n       <use x=\"63.623047\" xlink:href=\"#DejaVuSans-54\"/>\r\n       <use x=\"127.246094\" xlink:href=\"#DejaVuSans-48\"/>\r\n      </g>\r\n     </g>\r\n    </g>\r\n    <g id=\"ytick_7\">\r\n     <g id=\"line2d_24\">\r\n      <g>\r\n       <use style=\"stroke:#000000;stroke-width:0.8;\" x=\"33.2875\" xlink:href=\"#md63dffaf79\" y=\"62.260519\"/>\r\n      </g>\r\n     </g>\r\n     <g id=\"text_12\">\r\n      <!-- 180 -->\r\n      <g transform=\"translate(7.2 66.059737)scale(0.1 -0.1)\">\r\n       <use xlink:href=\"#DejaVuSans-49\"/>\r\n       <use x=\"63.623047\" xlink:href=\"#DejaVuSans-56\"/>\r\n       <use x=\"127.246094\" xlink:href=\"#DejaVuSans-48\"/>\r\n      </g>\r\n     </g>\r\n    </g>\r\n    <g id=\"ytick_8\">\r\n     <g id=\"line2d_25\">\r\n      <g>\r\n       <use style=\"stroke:#000000;stroke-width:0.8;\" x=\"33.2875\" xlink:href=\"#md63dffaf79\" y=\"38.004856\"/>\r\n      </g>\r\n     </g>\r\n     <g id=\"text_13\">\r\n      <!-- 200 -->\r\n      <g transform=\"translate(7.2 41.804075)scale(0.1 -0.1)\">\r\n       <use xlink:href=\"#DejaVuSans-50\"/>\r\n       <use x=\"63.623047\" xlink:href=\"#DejaVuSans-48\"/>\r\n       <use x=\"127.246094\" xlink:href=\"#DejaVuSans-48\"/>\r\n      </g>\r\n     </g>\r\n    </g>\r\n    <g id=\"ytick_9\">\r\n     <g id=\"line2d_26\">\r\n      <g>\r\n       <use style=\"stroke:#000000;stroke-width:0.8;\" x=\"33.2875\" xlink:href=\"#md63dffaf79\" y=\"13.749193\"/>\r\n      </g>\r\n     </g>\r\n     <g id=\"text_14\">\r\n      <!-- 220 -->\r\n      <g transform=\"translate(7.2 17.548412)scale(0.1 -0.1)\">\r\n       <use xlink:href=\"#DejaVuSans-50\"/>\r\n       <use x=\"63.623047\" xlink:href=\"#DejaVuSans-50\"/>\r\n       <use x=\"127.246094\" xlink:href=\"#DejaVuSans-48\"/>\r\n      </g>\r\n     </g>\r\n    </g>\r\n   </g>\r\n   <g id=\"line2d_27\">\r\n    <path clip-path=\"url(#p4d277089f0)\" d=\"M 33.2875 214.756364 \r\nL 100.2475 196.723885 \r\nL 187.2955 148.70534 \r\nL 281.0395 103.631898 \r\nL 368.0875 17.083636 \r\n\" style=\"fill:none;stroke:#1f77b4;stroke-linecap:square;stroke-width:1.5;\"/>\r\n   </g>\r\n   <g id=\"patch_3\">\r\n    <path d=\"M 33.2875 224.64 \r\nL 33.2875 7.2 \r\n\" style=\"fill:none;stroke:#000000;stroke-linecap:square;stroke-linejoin:miter;stroke-width:0.8;\"/>\r\n   </g>\r\n   <g id=\"patch_4\">\r\n    <path d=\"M 368.0875 224.64 \r\nL 368.0875 7.2 \r\n\" style=\"fill:none;stroke:#000000;stroke-linecap:square;stroke-linejoin:miter;stroke-width:0.8;\"/>\r\n   </g>\r\n   <g id=\"patch_5\">\r\n    <path d=\"M 33.2875 224.64 \r\nL 368.0875 224.64 \r\n\" style=\"fill:none;stroke:#000000;stroke-linecap:square;stroke-linejoin:miter;stroke-width:0.8;\"/>\r\n   </g>\r\n   <g id=\"patch_6\">\r\n    <path d=\"M 33.2875 7.2 \r\nL 368.0875 7.2 \r\n\" style=\"fill:none;stroke:#000000;stroke-linecap:square;stroke-linejoin:miter;stroke-width:0.8;\"/>\r\n   </g>\r\n  </g>\r\n </g>\r\n <defs>\r\n  <clipPath id=\"p4d277089f0\">\r\n   <rect height=\"217.44\" width=\"334.8\" x=\"33.2875\" y=\"7.2\"/>\r\n  </clipPath>\r\n </defs>\r\n</svg>\r\n",
      "image/png": "[encoded data removed]"
     },
     "metadata": {
      "needs_background": "light"
     }
    }
   ],
   "source": [
    "nnndf['Adj Close'].plot()"
   ]
  },
  {
   "cell_type": "code",
   "execution_count": 264,
   "metadata": {},
   "outputs": [],
   "source": [
    "esg_score_to_num_map = {\n",
    "    'AAA' : 9,\n",
    "    'AA' : 8,\n",
    "    'A' : 7,\n",
    "    'BBB' : 6,\n",
    "    'BB' : 5,\n",
    "    'B' : 4,\n",
    "    'CCC' : 3,\n",
    "    'CC' : 2,\n",
    "    'C' : 1\n",
    "}"
   ]
  },
  {
   "cell_type": "code",
   "execution_count": 265,
   "metadata": {},
   "outputs": [
    {
     "output_type": "execute_result",
     "data": {
      "text/plain": [
       "        ESG Score   Adj Close  ESG Value\n",
       "per                                     \n",
       "2016-10         A   54.259594          7\n",
       "2017-08         A   69.128269          7\n",
       "2018-09         A  108.721947          7\n",
       "2019-11         A  145.887241          7\n",
       "2020-12       BBB  217.250586          6"
      ],
      "text/html": "<div>\n<style scoped>\n    .dataframe tbody tr th:only-of-type {\n        vertical-align: middle;\n    }\n\n    .dataframe tbody tr th {\n        vertical-align: top;\n    }\n\n    .dataframe thead th {\n        text-align: right;\n    }\n</style>\n<table border=\"1\" class=\"dataframe\">\n  <thead>\n    <tr style=\"text-align: right;\">\n      <th></th>\n      <th>ESG Score</th>\n      <th>Adj Close</th>\n      <th>ESG Value</th>\n    </tr>\n    <tr>\n      <th>per</th>\n      <th></th>\n      <th></th>\n      <th></th>\n    </tr>\n  </thead>\n  <tbody>\n    <tr>\n      <th>2016-10</th>\n      <td>A</td>\n      <td>54.259594</td>\n      <td>7</td>\n    </tr>\n    <tr>\n      <th>2017-08</th>\n      <td>A</td>\n      <td>69.128269</td>\n      <td>7</td>\n    </tr>\n    <tr>\n      <th>2018-09</th>\n      <td>A</td>\n      <td>108.721947</td>\n      <td>7</td>\n    </tr>\n    <tr>\n      <th>2019-11</th>\n      <td>A</td>\n      <td>145.887241</td>\n      <td>7</td>\n    </tr>\n    <tr>\n      <th>2020-12</th>\n      <td>BBB</td>\n      <td>217.250586</td>\n      <td>6</td>\n    </tr>\n  </tbody>\n</table>\n</div>"
     },
     "metadata": {},
     "execution_count": 265
    }
   ],
   "source": [
    "nnndf['ESG Value'] = nnndf['ESG Score'].map(esg_score_to_num_map)\n",
    "nnndf"
   ]
  },
  {
   "cell_type": "code",
   "execution_count": 293,
   "metadata": {},
   "outputs": [
    {
     "output_type": "display_data",
     "data": {
      "text/plain": "<Figure size 432x288 with 1 Axes>",
      "image/svg+xml": "<?xml version=\"1.0\" encoding=\"utf-8\" standalone=\"no\"?>\r\n<!DOCTYPE svg PUBLIC \"-//W3C//DTD SVG 1.1//EN\"\r\n  \"http://www.w3.org/Graphics/SVG/1.1/DTD/svg11.dtd\">\r\n<!-- Created with matplotlib (https://matplotlib.org/) -->\r\n<svg height=\"262.19625pt\" version=\"1.1\" viewBox=\"0 0 375.2875 262.19625\" width=\"375.2875pt\" xmlns=\"http://www.w3.org/2000/svg\" xmlns:xlink=\"http://www.w3.org/1999/xlink\">\r\n <metadata>\r\n  <rdf:RDF xmlns:cc=\"http://creativecommons.org/ns#\" xmlns:dc=\"http://purl.org/dc/elements/1.1/\" xmlns:rdf=\"http://www.w3.org/1999/02/22-rdf-syntax-ns#\">\r\n   <cc:Work>\r\n    <dc:type rdf:resource=\"http://purl.org/dc/dcmitype/StillImage\"/>\r\n    <dc:date>2021-04-10T20:33:07.110715</dc:date>\r\n    <dc:format>image/svg+xml</dc:format>\r\n    <dc:creator>\r\n     <cc:Agent>\r\n      <dc:title>Matplotlib v3.3.3, https://matplotlib.org/</dc:title>\r\n     </cc:Agent>\r\n    </dc:creator>\r\n   </cc:Work>\r\n  </rdf:RDF>\r\n </metadata>\r\n <defs>\r\n  <style type=\"text/css\">*{stroke-linecap:butt;stroke-linejoin:round;}</style>\r\n </defs>\r\n <g id=\"figure_1\">\r\n  <g id=\"patch_1\">\r\n   <path d=\"M 0 262.19625 \r\nL 375.2875 262.19625 \r\nL 375.2875 0 \r\nL 0 0 \r\nz\r\n\" style=\"fill:none;\"/>\r\n  </g>\r\n  <g id=\"axes_1\">\r\n   <g id=\"patch_2\">\r\n    <path d=\"M 33.2875 224.64 \r\nL 368.0875 224.64 \r\nL 368.0875 7.2 \r\nL 33.2875 7.2 \r\nz\r\n\" style=\"fill:#ffffff;\"/>\r\n   </g>\r\n   <g id=\"matplotlib.axis_1\">\r\n    <g id=\"xtick_1\">\r\n     <g id=\"line2d_1\">\r\n      <defs>\r\n       <path d=\"M 0 0 \r\nL 0 3.5 \r\n\" id=\"m74b0d9c41c\" style=\"stroke:#000000;stroke-width:0.8;\"/>\r\n      </defs>\r\n      <g>\r\n       <use style=\"stroke:#000000;stroke-width:0.8;\" x=\"53.3755\" xlink:href=\"#m74b0d9c41c\" y=\"224.64\"/>\r\n      </g>\r\n     </g>\r\n     <g id=\"text_1\">\r\n      <!-- 2017 -->\r\n      <g transform=\"translate(40.6505 239.238437)scale(0.1 -0.1)\">\r\n       <defs>\r\n        <path d=\"M 19.1875 8.296875 \r\nL 53.609375 8.296875 \r\nL 53.609375 0 \r\nL 7.328125 0 \r\nL 7.328125 8.296875 \r\nQ 12.9375 14.109375 22.625 23.890625 \r\nQ 32.328125 33.6875 34.8125 36.53125 \r\nQ 39.546875 41.84375 41.421875 45.53125 \r\nQ 43.3125 49.21875 43.3125 52.78125 \r\nQ 43.3125 58.59375 39.234375 62.25 \r\nQ 35.15625 65.921875 28.609375 65.921875 \r\nQ 23.96875 65.921875 18.8125 64.3125 \r\nQ 13.671875 62.703125 7.8125 59.421875 \r\nL 7.8125 69.390625 \r\nQ 13.765625 71.78125 18.9375 73 \r\nQ 24.125 74.21875 28.421875 74.21875 \r\nQ 39.75 74.21875 46.484375 68.546875 \r\nQ 53.21875 62.890625 53.21875 53.421875 \r\nQ 53.21875 48.921875 51.53125 44.890625 \r\nQ 49.859375 40.875 45.40625 35.40625 \r\nQ 44.1875 33.984375 37.640625 27.21875 \r\nQ 31.109375 20.453125 19.1875 8.296875 \r\nz\r\n\" id=\"DejaVuSans-50\"/>\r\n        <path d=\"M 31.78125 66.40625 \r\nQ 24.171875 66.40625 20.328125 58.90625 \r\nQ 16.5 51.421875 16.5 36.375 \r\nQ 16.5 21.390625 20.328125 13.890625 \r\nQ 24.171875 6.390625 31.78125 6.390625 \r\nQ 39.453125 6.390625 43.28125 13.890625 \r\nQ 47.125 21.390625 47.125 36.375 \r\nQ 47.125 51.421875 43.28125 58.90625 \r\nQ 39.453125 66.40625 31.78125 66.40625 \r\nz\r\nM 31.78125 74.21875 \r\nQ 44.046875 74.21875 50.515625 64.515625 \r\nQ 56.984375 54.828125 56.984375 36.375 \r\nQ 56.984375 17.96875 50.515625 8.265625 \r\nQ 44.046875 -1.421875 31.78125 -1.421875 \r\nQ 19.53125 -1.421875 13.0625 8.265625 \r\nQ 6.59375 17.96875 6.59375 36.375 \r\nQ 6.59375 54.828125 13.0625 64.515625 \r\nQ 19.53125 74.21875 31.78125 74.21875 \r\nz\r\n\" id=\"DejaVuSans-48\"/>\r\n        <path d=\"M 12.40625 8.296875 \r\nL 28.515625 8.296875 \r\nL 28.515625 63.921875 \r\nL 10.984375 60.40625 \r\nL 10.984375 69.390625 \r\nL 28.421875 72.90625 \r\nL 38.28125 72.90625 \r\nL 38.28125 8.296875 \r\nL 54.390625 8.296875 \r\nL 54.390625 0 \r\nL 12.40625 0 \r\nz\r\n\" id=\"DejaVuSans-49\"/>\r\n        <path d=\"M 8.203125 72.90625 \r\nL 55.078125 72.90625 \r\nL 55.078125 68.703125 \r\nL 28.609375 0 \r\nL 18.3125 0 \r\nL 43.21875 64.59375 \r\nL 8.203125 64.59375 \r\nz\r\n\" id=\"DejaVuSans-55\"/>\r\n       </defs>\r\n       <use xlink:href=\"#DejaVuSans-50\"/>\r\n       <use x=\"63.623047\" xlink:href=\"#DejaVuSans-48\"/>\r\n       <use x=\"127.246094\" xlink:href=\"#DejaVuSans-49\"/>\r\n       <use x=\"190.869141\" xlink:href=\"#DejaVuSans-55\"/>\r\n      </g>\r\n     </g>\r\n    </g>\r\n    <g id=\"xtick_2\">\r\n     <g id=\"line2d_2\">\r\n      <g>\r\n       <use style=\"stroke:#000000;stroke-width:0.8;\" x=\"133.7275\" xlink:href=\"#m74b0d9c41c\" y=\"224.64\"/>\r\n      </g>\r\n     </g>\r\n     <g id=\"text_2\">\r\n      <!-- 2018 -->\r\n      <g transform=\"translate(121.0025 239.238437)scale(0.1 -0.1)\">\r\n       <defs>\r\n        <path d=\"M 31.78125 34.625 \r\nQ 24.75 34.625 20.71875 30.859375 \r\nQ 16.703125 27.09375 16.703125 20.515625 \r\nQ 16.703125 13.921875 20.71875 10.15625 \r\nQ 24.75 6.390625 31.78125 6.390625 \r\nQ 38.8125 6.390625 42.859375 10.171875 \r\nQ 46.921875 13.96875 46.921875 20.515625 \r\nQ 46.921875 27.09375 42.890625 30.859375 \r\nQ 38.875 34.625 31.78125 34.625 \r\nz\r\nM 21.921875 38.8125 \r\nQ 15.578125 40.375 12.03125 44.71875 \r\nQ 8.5 49.078125 8.5 55.328125 \r\nQ 8.5 64.0625 14.71875 69.140625 \r\nQ 20.953125 74.21875 31.78125 74.21875 \r\nQ 42.671875 74.21875 48.875 69.140625 \r\nQ 55.078125 64.0625 55.078125 55.328125 \r\nQ 55.078125 49.078125 51.53125 44.71875 \r\nQ 48 40.375 41.703125 38.8125 \r\nQ 48.828125 37.15625 52.796875 32.3125 \r\nQ 56.78125 27.484375 56.78125 20.515625 \r\nQ 56.78125 9.90625 50.3125 4.234375 \r\nQ 43.84375 -1.421875 31.78125 -1.421875 \r\nQ 19.734375 -1.421875 13.25 4.234375 \r\nQ 6.78125 9.90625 6.78125 20.515625 \r\nQ 6.78125 27.484375 10.78125 32.3125 \r\nQ 14.796875 37.15625 21.921875 38.8125 \r\nz\r\nM 18.3125 54.390625 \r\nQ 18.3125 48.734375 21.84375 45.5625 \r\nQ 25.390625 42.390625 31.78125 42.390625 \r\nQ 38.140625 42.390625 41.71875 45.5625 \r\nQ 45.3125 48.734375 45.3125 54.390625 \r\nQ 45.3125 60.0625 41.71875 63.234375 \r\nQ 38.140625 66.40625 31.78125 66.40625 \r\nQ 25.390625 66.40625 21.84375 63.234375 \r\nQ 18.3125 60.0625 18.3125 54.390625 \r\nz\r\n\" id=\"DejaVuSans-56\"/>\r\n       </defs>\r\n       <use xlink:href=\"#DejaVuSans-50\"/>\r\n       <use x=\"63.623047\" xlink:href=\"#DejaVuSans-48\"/>\r\n       <use x=\"127.246094\" xlink:href=\"#DejaVuSans-49\"/>\r\n       <use x=\"190.869141\" xlink:href=\"#DejaVuSans-56\"/>\r\n      </g>\r\n     </g>\r\n    </g>\r\n    <g id=\"xtick_3\">\r\n     <g id=\"line2d_3\">\r\n      <g>\r\n       <use style=\"stroke:#000000;stroke-width:0.8;\" x=\"214.0795\" xlink:href=\"#m74b0d9c41c\" y=\"224.64\"/>\r\n      </g>\r\n     </g>\r\n     <g id=\"text_3\">\r\n      <!-- 2019 -->\r\n      <g transform=\"translate(201.3545 239.238437)scale(0.1 -0.1)\">\r\n       <defs>\r\n        <path d=\"M 10.984375 1.515625 \r\nL 10.984375 10.5 \r\nQ 14.703125 8.734375 18.5 7.8125 \r\nQ 22.3125 6.890625 25.984375 6.890625 \r\nQ 35.75 6.890625 40.890625 13.453125 \r\nQ 46.046875 20.015625 46.78125 33.40625 \r\nQ 43.953125 29.203125 39.59375 26.953125 \r\nQ 35.25 24.703125 29.984375 24.703125 \r\nQ 19.046875 24.703125 12.671875 31.3125 \r\nQ 6.296875 37.9375 6.296875 49.421875 \r\nQ 6.296875 60.640625 12.9375 67.421875 \r\nQ 19.578125 74.21875 30.609375 74.21875 \r\nQ 43.265625 74.21875 49.921875 64.515625 \r\nQ 56.59375 54.828125 56.59375 36.375 \r\nQ 56.59375 19.140625 48.40625 8.859375 \r\nQ 40.234375 -1.421875 26.421875 -1.421875 \r\nQ 22.703125 -1.421875 18.890625 -0.6875 \r\nQ 15.09375 0.046875 10.984375 1.515625 \r\nz\r\nM 30.609375 32.421875 \r\nQ 37.25 32.421875 41.125 36.953125 \r\nQ 45.015625 41.5 45.015625 49.421875 \r\nQ 45.015625 57.28125 41.125 61.84375 \r\nQ 37.25 66.40625 30.609375 66.40625 \r\nQ 23.96875 66.40625 20.09375 61.84375 \r\nQ 16.21875 57.28125 16.21875 49.421875 \r\nQ 16.21875 41.5 20.09375 36.953125 \r\nQ 23.96875 32.421875 30.609375 32.421875 \r\nz\r\n\" id=\"DejaVuSans-57\"/>\r\n       </defs>\r\n       <use xlink:href=\"#DejaVuSans-50\"/>\r\n       <use x=\"63.623047\" xlink:href=\"#DejaVuSans-48\"/>\r\n       <use x=\"127.246094\" xlink:href=\"#DejaVuSans-49\"/>\r\n       <use x=\"190.869141\" xlink:href=\"#DejaVuSans-57\"/>\r\n      </g>\r\n     </g>\r\n    </g>\r\n    <g id=\"xtick_4\">\r\n     <g id=\"line2d_4\">\r\n      <g>\r\n       <use style=\"stroke:#000000;stroke-width:0.8;\" x=\"294.4315\" xlink:href=\"#m74b0d9c41c\" y=\"224.64\"/>\r\n      </g>\r\n     </g>\r\n     <g id=\"text_4\">\r\n      <!-- 2020 -->\r\n      <g transform=\"translate(281.7065 239.238437)scale(0.1 -0.1)\">\r\n       <use xlink:href=\"#DejaVuSans-50\"/>\r\n       <use x=\"63.623047\" xlink:href=\"#DejaVuSans-48\"/>\r\n       <use x=\"127.246094\" xlink:href=\"#DejaVuSans-50\"/>\r\n       <use x=\"190.869141\" xlink:href=\"#DejaVuSans-48\"/>\r\n      </g>\r\n     </g>\r\n    </g>\r\n    <g id=\"xtick_5\">\r\n     <g id=\"line2d_5\">\r\n      <defs>\r\n       <path d=\"M 0 0 \r\nL 0 2 \r\n\" id=\"m0791cbe929\" style=\"stroke:#000000;stroke-width:0.6;\"/>\r\n      </defs>\r\n      <g>\r\n       <use style=\"stroke:#000000;stroke-width:0.6;\" x=\"33.2875\" xlink:href=\"#m0791cbe929\" y=\"224.64\"/>\r\n      </g>\r\n     </g>\r\n    </g>\r\n    <g id=\"xtick_6\">\r\n     <g id=\"line2d_6\">\r\n      <g>\r\n       <use style=\"stroke:#000000;stroke-width:0.6;\" x=\"73.4635\" xlink:href=\"#m0791cbe929\" y=\"224.64\"/>\r\n      </g>\r\n     </g>\r\n    </g>\r\n    <g id=\"xtick_7\">\r\n     <g id=\"line2d_7\">\r\n      <g>\r\n       <use style=\"stroke:#000000;stroke-width:0.6;\" x=\"93.5515\" xlink:href=\"#m0791cbe929\" y=\"224.64\"/>\r\n      </g>\r\n     </g>\r\n    </g>\r\n    <g id=\"xtick_8\">\r\n     <g id=\"line2d_8\">\r\n      <g>\r\n       <use style=\"stroke:#000000;stroke-width:0.6;\" x=\"113.6395\" xlink:href=\"#m0791cbe929\" y=\"224.64\"/>\r\n      </g>\r\n     </g>\r\n    </g>\r\n    <g id=\"xtick_9\">\r\n     <g id=\"line2d_9\">\r\n      <g>\r\n       <use style=\"stroke:#000000;stroke-width:0.6;\" x=\"153.8155\" xlink:href=\"#m0791cbe929\" y=\"224.64\"/>\r\n      </g>\r\n     </g>\r\n    </g>\r\n    <g id=\"xtick_10\">\r\n     <g id=\"line2d_10\">\r\n      <g>\r\n       <use style=\"stroke:#000000;stroke-width:0.6;\" x=\"173.9035\" xlink:href=\"#m0791cbe929\" y=\"224.64\"/>\r\n      </g>\r\n     </g>\r\n    </g>\r\n    <g id=\"xtick_11\">\r\n     <g id=\"line2d_11\">\r\n      <g>\r\n       <use style=\"stroke:#000000;stroke-width:0.6;\" x=\"193.9915\" xlink:href=\"#m0791cbe929\" y=\"224.64\"/>\r\n      </g>\r\n     </g>\r\n    </g>\r\n    <g id=\"xtick_12\">\r\n     <g id=\"line2d_12\">\r\n      <g>\r\n       <use style=\"stroke:#000000;stroke-width:0.6;\" x=\"234.1675\" xlink:href=\"#m0791cbe929\" y=\"224.64\"/>\r\n      </g>\r\n     </g>\r\n    </g>\r\n    <g id=\"xtick_13\">\r\n     <g id=\"line2d_13\">\r\n      <g>\r\n       <use style=\"stroke:#000000;stroke-width:0.6;\" x=\"254.2555\" xlink:href=\"#m0791cbe929\" y=\"224.64\"/>\r\n      </g>\r\n     </g>\r\n    </g>\r\n    <g id=\"xtick_14\">\r\n     <g id=\"line2d_14\">\r\n      <g>\r\n       <use style=\"stroke:#000000;stroke-width:0.6;\" x=\"274.3435\" xlink:href=\"#m0791cbe929\" y=\"224.64\"/>\r\n      </g>\r\n     </g>\r\n    </g>\r\n    <g id=\"xtick_15\">\r\n     <g id=\"line2d_15\">\r\n      <g>\r\n       <use style=\"stroke:#000000;stroke-width:0.6;\" x=\"314.5195\" xlink:href=\"#m0791cbe929\" y=\"224.64\"/>\r\n      </g>\r\n     </g>\r\n    </g>\r\n    <g id=\"xtick_16\">\r\n     <g id=\"line2d_16\">\r\n      <g>\r\n       <use style=\"stroke:#000000;stroke-width:0.6;\" x=\"334.6075\" xlink:href=\"#m0791cbe929\" y=\"224.64\"/>\r\n      </g>\r\n     </g>\r\n    </g>\r\n    <g id=\"xtick_17\">\r\n     <g id=\"line2d_17\">\r\n      <g>\r\n       <use style=\"stroke:#000000;stroke-width:0.6;\" x=\"354.6955\" xlink:href=\"#m0791cbe929\" y=\"224.64\"/>\r\n      </g>\r\n     </g>\r\n    </g>\r\n    <g id=\"text_5\">\r\n     <!-- per -->\r\n     <g transform=\"translate(192.38125 252.916562)scale(0.1 -0.1)\">\r\n      <defs>\r\n       <path d=\"M 18.109375 8.203125 \r\nL 18.109375 -20.796875 \r\nL 9.078125 -20.796875 \r\nL 9.078125 54.6875 \r\nL 18.109375 54.6875 \r\nL 18.109375 46.390625 \r\nQ 20.953125 51.265625 25.265625 53.625 \r\nQ 29.59375 56 35.59375 56 \r\nQ 45.5625 56 51.78125 48.09375 \r\nQ 58.015625 40.1875 58.015625 27.296875 \r\nQ 58.015625 14.40625 51.78125 6.484375 \r\nQ 45.5625 -1.421875 35.59375 -1.421875 \r\nQ 29.59375 -1.421875 25.265625 0.953125 \r\nQ 20.953125 3.328125 18.109375 8.203125 \r\nz\r\nM 48.6875 27.296875 \r\nQ 48.6875 37.203125 44.609375 42.84375 \r\nQ 40.53125 48.484375 33.40625 48.484375 \r\nQ 26.265625 48.484375 22.1875 42.84375 \r\nQ 18.109375 37.203125 18.109375 27.296875 \r\nQ 18.109375 17.390625 22.1875 11.75 \r\nQ 26.265625 6.109375 33.40625 6.109375 \r\nQ 40.53125 6.109375 44.609375 11.75 \r\nQ 48.6875 17.390625 48.6875 27.296875 \r\nz\r\n\" id=\"DejaVuSans-112\"/>\r\n       <path d=\"M 56.203125 29.59375 \r\nL 56.203125 25.203125 \r\nL 14.890625 25.203125 \r\nQ 15.484375 15.921875 20.484375 11.0625 \r\nQ 25.484375 6.203125 34.421875 6.203125 \r\nQ 39.59375 6.203125 44.453125 7.46875 \r\nQ 49.3125 8.734375 54.109375 11.28125 \r\nL 54.109375 2.78125 \r\nQ 49.265625 0.734375 44.1875 -0.34375 \r\nQ 39.109375 -1.421875 33.890625 -1.421875 \r\nQ 20.796875 -1.421875 13.15625 6.1875 \r\nQ 5.515625 13.8125 5.515625 26.8125 \r\nQ 5.515625 40.234375 12.765625 48.109375 \r\nQ 20.015625 56 32.328125 56 \r\nQ 43.359375 56 49.78125 48.890625 \r\nQ 56.203125 41.796875 56.203125 29.59375 \r\nz\r\nM 47.21875 32.234375 \r\nQ 47.125 39.59375 43.09375 43.984375 \r\nQ 39.0625 48.390625 32.421875 48.390625 \r\nQ 24.90625 48.390625 20.390625 44.140625 \r\nQ 15.875 39.890625 15.1875 32.171875 \r\nz\r\n\" id=\"DejaVuSans-101\"/>\r\n       <path d=\"M 41.109375 46.296875 \r\nQ 39.59375 47.171875 37.8125 47.578125 \r\nQ 36.03125 48 33.890625 48 \r\nQ 26.265625 48 22.1875 43.046875 \r\nQ 18.109375 38.09375 18.109375 28.8125 \r\nL 18.109375 0 \r\nL 9.078125 0 \r\nL 9.078125 54.6875 \r\nL 18.109375 54.6875 \r\nL 18.109375 46.1875 \r\nQ 20.953125 51.171875 25.484375 53.578125 \r\nQ 30.03125 56 36.53125 56 \r\nQ 37.453125 56 38.578125 55.875 \r\nQ 39.703125 55.765625 41.0625 55.515625 \r\nz\r\n\" id=\"DejaVuSans-114\"/>\r\n      </defs>\r\n      <use xlink:href=\"#DejaVuSans-112\"/>\r\n      <use x=\"63.476562\" xlink:href=\"#DejaVuSans-101\"/>\r\n      <use x=\"125\" xlink:href=\"#DejaVuSans-114\"/>\r\n     </g>\r\n    </g>\r\n   </g>\r\n   <g id=\"matplotlib.axis_2\">\r\n    <g id=\"ytick_1\">\r\n     <g id=\"line2d_18\">\r\n      <defs>\r\n       <path d=\"M 0 0 \r\nL -3.5 0 \r\n\" id=\"m63a1a5e8b0\" style=\"stroke:#000000;stroke-width:0.8;\"/>\r\n      </defs>\r\n      <g>\r\n       <use style=\"stroke:#000000;stroke-width:0.8;\" x=\"33.2875\" xlink:href=\"#m63a1a5e8b0\" y=\"220.370721\"/>\r\n      </g>\r\n     </g>\r\n     <g id=\"text_6\">\r\n      <!-- 0 -->\r\n      <g transform=\"translate(19.925 224.16994)scale(0.1 -0.1)\">\r\n       <use xlink:href=\"#DejaVuSans-48\"/>\r\n      </g>\r\n     </g>\r\n    </g>\r\n    <g id=\"ytick_2\">\r\n     <g id=\"line2d_19\">\r\n      <g>\r\n       <use style=\"stroke:#000000;stroke-width:0.8;\" x=\"33.2875\" xlink:href=\"#m63a1a5e8b0\" y=\"173.584407\"/>\r\n      </g>\r\n     </g>\r\n     <g id=\"text_7\">\r\n      <!-- 50 -->\r\n      <g transform=\"translate(13.5625 177.383626)scale(0.1 -0.1)\">\r\n       <defs>\r\n        <path d=\"M 10.796875 72.90625 \r\nL 49.515625 72.90625 \r\nL 49.515625 64.59375 \r\nL 19.828125 64.59375 \r\nL 19.828125 46.734375 \r\nQ 21.96875 47.46875 24.109375 47.828125 \r\nQ 26.265625 48.1875 28.421875 48.1875 \r\nQ 40.625 48.1875 47.75 41.5 \r\nQ 54.890625 34.8125 54.890625 23.390625 \r\nQ 54.890625 11.625 47.5625 5.09375 \r\nQ 40.234375 -1.421875 26.90625 -1.421875 \r\nQ 22.3125 -1.421875 17.546875 -0.640625 \r\nQ 12.796875 0.140625 7.71875 1.703125 \r\nL 7.71875 11.625 \r\nQ 12.109375 9.234375 16.796875 8.0625 \r\nQ 21.484375 6.890625 26.703125 6.890625 \r\nQ 35.15625 6.890625 40.078125 11.328125 \r\nQ 45.015625 15.765625 45.015625 23.390625 \r\nQ 45.015625 31 40.078125 35.4375 \r\nQ 35.15625 39.890625 26.703125 39.890625 \r\nQ 22.75 39.890625 18.8125 39.015625 \r\nQ 14.890625 38.140625 10.796875 36.28125 \r\nz\r\n\" id=\"DejaVuSans-53\"/>\r\n       </defs>\r\n       <use xlink:href=\"#DejaVuSans-53\"/>\r\n       <use x=\"63.623047\" xlink:href=\"#DejaVuSans-48\"/>\r\n      </g>\r\n     </g>\r\n    </g>\r\n    <g id=\"ytick_3\">\r\n     <g id=\"line2d_20\">\r\n      <g>\r\n       <use style=\"stroke:#000000;stroke-width:0.8;\" x=\"33.2875\" xlink:href=\"#m63a1a5e8b0\" y=\"126.798092\"/>\r\n      </g>\r\n     </g>\r\n     <g id=\"text_8\">\r\n      <!-- 100 -->\r\n      <g transform=\"translate(7.2 130.597311)scale(0.1 -0.1)\">\r\n       <use xlink:href=\"#DejaVuSans-49\"/>\r\n       <use x=\"63.623047\" xlink:href=\"#DejaVuSans-48\"/>\r\n       <use x=\"127.246094\" xlink:href=\"#DejaVuSans-48\"/>\r\n      </g>\r\n     </g>\r\n    </g>\r\n    <g id=\"ytick_4\">\r\n     <g id=\"line2d_21\">\r\n      <g>\r\n       <use style=\"stroke:#000000;stroke-width:0.8;\" x=\"33.2875\" xlink:href=\"#m63a1a5e8b0\" y=\"80.011778\"/>\r\n      </g>\r\n     </g>\r\n     <g id=\"text_9\">\r\n      <!-- 150 -->\r\n      <g transform=\"translate(7.2 83.810996)scale(0.1 -0.1)\">\r\n       <use xlink:href=\"#DejaVuSans-49\"/>\r\n       <use x=\"63.623047\" xlink:href=\"#DejaVuSans-53\"/>\r\n       <use x=\"127.246094\" xlink:href=\"#DejaVuSans-48\"/>\r\n      </g>\r\n     </g>\r\n    </g>\r\n    <g id=\"ytick_5\">\r\n     <g id=\"line2d_22\">\r\n      <g>\r\n       <use style=\"stroke:#000000;stroke-width:0.8;\" x=\"33.2875\" xlink:href=\"#m63a1a5e8b0\" y=\"33.225463\"/>\r\n      </g>\r\n     </g>\r\n     <g id=\"text_10\">\r\n      <!-- 200 -->\r\n      <g transform=\"translate(7.2 37.024682)scale(0.1 -0.1)\">\r\n       <use xlink:href=\"#DejaVuSans-50\"/>\r\n       <use x=\"63.623047\" xlink:href=\"#DejaVuSans-48\"/>\r\n       <use x=\"127.246094\" xlink:href=\"#DejaVuSans-48\"/>\r\n      </g>\r\n     </g>\r\n    </g>\r\n   </g>\r\n   <g id=\"line2d_23\">\r\n    <path clip-path=\"url(#p6175a92050)\" d=\"M 33.2875 169.598593 \r\nL 100.2475 155.685583 \r\nL 187.2955 118.636737 \r\nL 281.0395 83.860195 \r\nL 368.0875 17.083636 \r\n\" style=\"fill:none;stroke:#1f77b4;stroke-linecap:square;stroke-width:1.5;\"/>\r\n   </g>\r\n   <g id=\"line2d_24\">\r\n    <path clip-path=\"url(#p6175a92050)\" d=\"M 33.2875 213.820637 \r\nL 100.2475 213.820637 \r\nL 187.2955 213.820637 \r\nL 281.0395 213.820637 \r\nL 368.0875 214.756364 \r\n\" style=\"fill:none;stroke:#ff7f0e;stroke-linecap:square;stroke-width:1.5;\"/>\r\n   </g>\r\n   <g id=\"patch_3\">\r\n    <path d=\"M 33.2875 224.64 \r\nL 33.2875 7.2 \r\n\" style=\"fill:none;stroke:#000000;stroke-linecap:square;stroke-linejoin:miter;stroke-width:0.8;\"/>\r\n   </g>\r\n   <g id=\"patch_4\">\r\n    <path d=\"M 368.0875 224.64 \r\nL 368.0875 7.2 \r\n\" style=\"fill:none;stroke:#000000;stroke-linecap:square;stroke-linejoin:miter;stroke-width:0.8;\"/>\r\n   </g>\r\n   <g id=\"patch_5\">\r\n    <path d=\"M 33.2875 224.64 \r\nL 368.0875 224.64 \r\n\" style=\"fill:none;stroke:#000000;stroke-linecap:square;stroke-linejoin:miter;stroke-width:0.8;\"/>\r\n   </g>\r\n   <g id=\"patch_6\">\r\n    <path d=\"M 33.2875 7.2 \r\nL 368.0875 7.2 \r\n\" style=\"fill:none;stroke:#000000;stroke-linecap:square;stroke-linejoin:miter;stroke-width:0.8;\"/>\r\n   </g>\r\n   <g id=\"legend_1\">\r\n    <g id=\"patch_7\">\r\n     <path d=\"M 40.2875 44.55625 \r\nL 123.34375 44.55625 \r\nQ 125.34375 44.55625 125.34375 42.55625 \r\nL 125.34375 14.2 \r\nQ 125.34375 12.2 123.34375 12.2 \r\nL 40.2875 12.2 \r\nQ 38.2875 12.2 38.2875 14.2 \r\nL 38.2875 42.55625 \r\nQ 38.2875 44.55625 40.2875 44.55625 \r\nz\r\n\" style=\"fill:#ffffff;opacity:0.8;stroke:#cccccc;stroke-linejoin:miter;\"/>\r\n    </g>\r\n    <g id=\"line2d_25\">\r\n     <path d=\"M 42.2875 20.298437 \r\nL 62.2875 20.298437 \r\n\" style=\"fill:none;stroke:#1f77b4;stroke-linecap:square;stroke-width:1.5;\"/>\r\n    </g>\r\n    <g id=\"line2d_26\"/>\r\n    <g id=\"text_11\">\r\n     <!-- Adj Close -->\r\n     <g transform=\"translate(70.2875 23.798437)scale(0.1 -0.1)\">\r\n      <defs>\r\n       <path d=\"M 34.1875 63.1875 \r\nL 20.796875 26.90625 \r\nL 47.609375 26.90625 \r\nz\r\nM 28.609375 72.90625 \r\nL 39.796875 72.90625 \r\nL 67.578125 0 \r\nL 57.328125 0 \r\nL 50.6875 18.703125 \r\nL 17.828125 18.703125 \r\nL 11.1875 0 \r\nL 0.78125 0 \r\nz\r\n\" id=\"DejaVuSans-65\"/>\r\n       <path d=\"M 45.40625 46.390625 \r\nL 45.40625 75.984375 \r\nL 54.390625 75.984375 \r\nL 54.390625 0 \r\nL 45.40625 0 \r\nL 45.40625 8.203125 \r\nQ 42.578125 3.328125 38.25 0.953125 \r\nQ 33.9375 -1.421875 27.875 -1.421875 \r\nQ 17.96875 -1.421875 11.734375 6.484375 \r\nQ 5.515625 14.40625 5.515625 27.296875 \r\nQ 5.515625 40.1875 11.734375 48.09375 \r\nQ 17.96875 56 27.875 56 \r\nQ 33.9375 56 38.25 53.625 \r\nQ 42.578125 51.265625 45.40625 46.390625 \r\nz\r\nM 14.796875 27.296875 \r\nQ 14.796875 17.390625 18.875 11.75 \r\nQ 22.953125 6.109375 30.078125 6.109375 \r\nQ 37.203125 6.109375 41.296875 11.75 \r\nQ 45.40625 17.390625 45.40625 27.296875 \r\nQ 45.40625 37.203125 41.296875 42.84375 \r\nQ 37.203125 48.484375 30.078125 48.484375 \r\nQ 22.953125 48.484375 18.875 42.84375 \r\nQ 14.796875 37.203125 14.796875 27.296875 \r\nz\r\n\" id=\"DejaVuSans-100\"/>\r\n       <path d=\"M 9.421875 54.6875 \r\nL 18.40625 54.6875 \r\nL 18.40625 -0.984375 \r\nQ 18.40625 -11.421875 14.421875 -16.109375 \r\nQ 10.453125 -20.796875 1.609375 -20.796875 \r\nL -1.8125 -20.796875 \r\nL -1.8125 -13.1875 \r\nL 0.59375 -13.1875 \r\nQ 5.71875 -13.1875 7.5625 -10.8125 \r\nQ 9.421875 -8.453125 9.421875 -0.984375 \r\nz\r\nM 9.421875 75.984375 \r\nL 18.40625 75.984375 \r\nL 18.40625 64.59375 \r\nL 9.421875 64.59375 \r\nz\r\n\" id=\"DejaVuSans-106\"/>\r\n       <path id=\"DejaVuSans-32\"/>\r\n       <path d=\"M 64.40625 67.28125 \r\nL 64.40625 56.890625 \r\nQ 59.421875 61.53125 53.78125 63.8125 \r\nQ 48.140625 66.109375 41.796875 66.109375 \r\nQ 29.296875 66.109375 22.65625 58.46875 \r\nQ 16.015625 50.828125 16.015625 36.375 \r\nQ 16.015625 21.96875 22.65625 14.328125 \r\nQ 29.296875 6.6875 41.796875 6.6875 \r\nQ 48.140625 6.6875 53.78125 8.984375 \r\nQ 59.421875 11.28125 64.40625 15.921875 \r\nL 64.40625 5.609375 \r\nQ 59.234375 2.09375 53.4375 0.328125 \r\nQ 47.65625 -1.421875 41.21875 -1.421875 \r\nQ 24.65625 -1.421875 15.125 8.703125 \r\nQ 5.609375 18.84375 5.609375 36.375 \r\nQ 5.609375 53.953125 15.125 64.078125 \r\nQ 24.65625 74.21875 41.21875 74.21875 \r\nQ 47.75 74.21875 53.53125 72.484375 \r\nQ 59.328125 70.75 64.40625 67.28125 \r\nz\r\n\" id=\"DejaVuSans-67\"/>\r\n       <path d=\"M 9.421875 75.984375 \r\nL 18.40625 75.984375 \r\nL 18.40625 0 \r\nL 9.421875 0 \r\nz\r\n\" id=\"DejaVuSans-108\"/>\r\n       <path d=\"M 30.609375 48.390625 \r\nQ 23.390625 48.390625 19.1875 42.75 \r\nQ 14.984375 37.109375 14.984375 27.296875 \r\nQ 14.984375 17.484375 19.15625 11.84375 \r\nQ 23.34375 6.203125 30.609375 6.203125 \r\nQ 37.796875 6.203125 41.984375 11.859375 \r\nQ 46.1875 17.53125 46.1875 27.296875 \r\nQ 46.1875 37.015625 41.984375 42.703125 \r\nQ 37.796875 48.390625 30.609375 48.390625 \r\nz\r\nM 30.609375 56 \r\nQ 42.328125 56 49.015625 48.375 \r\nQ 55.71875 40.765625 55.71875 27.296875 \r\nQ 55.71875 13.875 49.015625 6.21875 \r\nQ 42.328125 -1.421875 30.609375 -1.421875 \r\nQ 18.84375 -1.421875 12.171875 6.21875 \r\nQ 5.515625 13.875 5.515625 27.296875 \r\nQ 5.515625 40.765625 12.171875 48.375 \r\nQ 18.84375 56 30.609375 56 \r\nz\r\n\" id=\"DejaVuSans-111\"/>\r\n       <path d=\"M 44.28125 53.078125 \r\nL 44.28125 44.578125 \r\nQ 40.484375 46.53125 36.375 47.5 \r\nQ 32.28125 48.484375 27.875 48.484375 \r\nQ 21.1875 48.484375 17.84375 46.4375 \r\nQ 14.5 44.390625 14.5 40.28125 \r\nQ 14.5 37.15625 16.890625 35.375 \r\nQ 19.28125 33.59375 26.515625 31.984375 \r\nL 29.59375 31.296875 \r\nQ 39.15625 29.25 43.1875 25.515625 \r\nQ 47.21875 21.78125 47.21875 15.09375 \r\nQ 47.21875 7.46875 41.1875 3.015625 \r\nQ 35.15625 -1.421875 24.609375 -1.421875 \r\nQ 20.21875 -1.421875 15.453125 -0.5625 \r\nQ 10.6875 0.296875 5.421875 2 \r\nL 5.421875 11.28125 \r\nQ 10.40625 8.6875 15.234375 7.390625 \r\nQ 20.0625 6.109375 24.8125 6.109375 \r\nQ 31.15625 6.109375 34.5625 8.28125 \r\nQ 37.984375 10.453125 37.984375 14.40625 \r\nQ 37.984375 18.0625 35.515625 20.015625 \r\nQ 33.0625 21.96875 24.703125 23.78125 \r\nL 21.578125 24.515625 \r\nQ 13.234375 26.265625 9.515625 29.90625 \r\nQ 5.8125 33.546875 5.8125 39.890625 \r\nQ 5.8125 47.609375 11.28125 51.796875 \r\nQ 16.75 56 26.8125 56 \r\nQ 31.78125 56 36.171875 55.265625 \r\nQ 40.578125 54.546875 44.28125 53.078125 \r\nz\r\n\" id=\"DejaVuSans-115\"/>\r\n      </defs>\r\n      <use xlink:href=\"#DejaVuSans-65\"/>\r\n      <use x=\"66.658203\" xlink:href=\"#DejaVuSans-100\"/>\r\n      <use x=\"130.134766\" xlink:href=\"#DejaVuSans-106\"/>\r\n      <use x=\"157.917969\" xlink:href=\"#DejaVuSans-32\"/>\r\n      <use x=\"189.705078\" xlink:href=\"#DejaVuSans-67\"/>\r\n      <use x=\"259.529297\" xlink:href=\"#DejaVuSans-108\"/>\r\n      <use x=\"287.3125\" xlink:href=\"#DejaVuSans-111\"/>\r\n      <use x=\"348.494141\" xlink:href=\"#DejaVuSans-115\"/>\r\n      <use x=\"400.59375\" xlink:href=\"#DejaVuSans-101\"/>\r\n     </g>\r\n    </g>\r\n    <g id=\"line2d_27\">\r\n     <path d=\"M 42.2875 34.976562 \r\nL 62.2875 34.976562 \r\n\" style=\"fill:none;stroke:#ff7f0e;stroke-linecap:square;stroke-width:1.5;\"/>\r\n    </g>\r\n    <g id=\"line2d_28\"/>\r\n    <g id=\"text_12\">\r\n     <!-- ESG Value -->\r\n     <g transform=\"translate(70.2875 38.476562)scale(0.1 -0.1)\">\r\n      <defs>\r\n       <path d=\"M 9.8125 72.90625 \r\nL 55.90625 72.90625 \r\nL 55.90625 64.59375 \r\nL 19.671875 64.59375 \r\nL 19.671875 43.015625 \r\nL 54.390625 43.015625 \r\nL 54.390625 34.71875 \r\nL 19.671875 34.71875 \r\nL 19.671875 8.296875 \r\nL 56.78125 8.296875 \r\nL 56.78125 0 \r\nL 9.8125 0 \r\nz\r\n\" id=\"DejaVuSans-69\"/>\r\n       <path d=\"M 53.515625 70.515625 \r\nL 53.515625 60.890625 \r\nQ 47.90625 63.578125 42.921875 64.890625 \r\nQ 37.9375 66.21875 33.296875 66.21875 \r\nQ 25.25 66.21875 20.875 63.09375 \r\nQ 16.5 59.96875 16.5 54.203125 \r\nQ 16.5 49.359375 19.40625 46.890625 \r\nQ 22.3125 44.4375 30.421875 42.921875 \r\nL 36.375 41.703125 \r\nQ 47.40625 39.59375 52.65625 34.296875 \r\nQ 57.90625 29 57.90625 20.125 \r\nQ 57.90625 9.515625 50.796875 4.046875 \r\nQ 43.703125 -1.421875 29.984375 -1.421875 \r\nQ 24.8125 -1.421875 18.96875 -0.25 \r\nQ 13.140625 0.921875 6.890625 3.21875 \r\nL 6.890625 13.375 \r\nQ 12.890625 10.015625 18.65625 8.296875 \r\nQ 24.421875 6.59375 29.984375 6.59375 \r\nQ 38.421875 6.59375 43.015625 9.90625 \r\nQ 47.609375 13.234375 47.609375 19.390625 \r\nQ 47.609375 24.75 44.3125 27.78125 \r\nQ 41.015625 30.8125 33.5 32.328125 \r\nL 27.484375 33.5 \r\nQ 16.453125 35.6875 11.515625 40.375 \r\nQ 6.59375 45.0625 6.59375 53.421875 \r\nQ 6.59375 63.09375 13.40625 68.65625 \r\nQ 20.21875 74.21875 32.171875 74.21875 \r\nQ 37.3125 74.21875 42.625 73.28125 \r\nQ 47.953125 72.359375 53.515625 70.515625 \r\nz\r\n\" id=\"DejaVuSans-83\"/>\r\n       <path d=\"M 59.515625 10.40625 \r\nL 59.515625 29.984375 \r\nL 43.40625 29.984375 \r\nL 43.40625 38.09375 \r\nL 69.28125 38.09375 \r\nL 69.28125 6.78125 \r\nQ 63.578125 2.734375 56.6875 0.65625 \r\nQ 49.8125 -1.421875 42 -1.421875 \r\nQ 24.90625 -1.421875 15.25 8.5625 \r\nQ 5.609375 18.5625 5.609375 36.375 \r\nQ 5.609375 54.25 15.25 64.234375 \r\nQ 24.90625 74.21875 42 74.21875 \r\nQ 49.125 74.21875 55.546875 72.453125 \r\nQ 61.96875 70.703125 67.390625 67.28125 \r\nL 67.390625 56.78125 \r\nQ 61.921875 61.421875 55.765625 63.765625 \r\nQ 49.609375 66.109375 42.828125 66.109375 \r\nQ 29.4375 66.109375 22.71875 58.640625 \r\nQ 16.015625 51.171875 16.015625 36.375 \r\nQ 16.015625 21.625 22.71875 14.15625 \r\nQ 29.4375 6.6875 42.828125 6.6875 \r\nQ 48.046875 6.6875 52.140625 7.59375 \r\nQ 56.25 8.5 59.515625 10.40625 \r\nz\r\n\" id=\"DejaVuSans-71\"/>\r\n       <path d=\"M 28.609375 0 \r\nL 0.78125 72.90625 \r\nL 11.078125 72.90625 \r\nL 34.1875 11.53125 \r\nL 57.328125 72.90625 \r\nL 67.578125 72.90625 \r\nL 39.796875 0 \r\nz\r\n\" id=\"DejaVuSans-86\"/>\r\n       <path d=\"M 34.28125 27.484375 \r\nQ 23.390625 27.484375 19.1875 25 \r\nQ 14.984375 22.515625 14.984375 16.5 \r\nQ 14.984375 11.71875 18.140625 8.90625 \r\nQ 21.296875 6.109375 26.703125 6.109375 \r\nQ 34.1875 6.109375 38.703125 11.40625 \r\nQ 43.21875 16.703125 43.21875 25.484375 \r\nL 43.21875 27.484375 \r\nz\r\nM 52.203125 31.203125 \r\nL 52.203125 0 \r\nL 43.21875 0 \r\nL 43.21875 8.296875 \r\nQ 40.140625 3.328125 35.546875 0.953125 \r\nQ 30.953125 -1.421875 24.3125 -1.421875 \r\nQ 15.921875 -1.421875 10.953125 3.296875 \r\nQ 6 8.015625 6 15.921875 \r\nQ 6 25.140625 12.171875 29.828125 \r\nQ 18.359375 34.515625 30.609375 34.515625 \r\nL 43.21875 34.515625 \r\nL 43.21875 35.40625 \r\nQ 43.21875 41.609375 39.140625 45 \r\nQ 35.0625 48.390625 27.6875 48.390625 \r\nQ 23 48.390625 18.546875 47.265625 \r\nQ 14.109375 46.140625 10.015625 43.890625 \r\nL 10.015625 52.203125 \r\nQ 14.9375 54.109375 19.578125 55.046875 \r\nQ 24.21875 56 28.609375 56 \r\nQ 40.484375 56 46.34375 49.84375 \r\nQ 52.203125 43.703125 52.203125 31.203125 \r\nz\r\n\" id=\"DejaVuSans-97\"/>\r\n       <path d=\"M 8.5 21.578125 \r\nL 8.5 54.6875 \r\nL 17.484375 54.6875 \r\nL 17.484375 21.921875 \r\nQ 17.484375 14.15625 20.5 10.265625 \r\nQ 23.53125 6.390625 29.59375 6.390625 \r\nQ 36.859375 6.390625 41.078125 11.03125 \r\nQ 45.3125 15.671875 45.3125 23.6875 \r\nL 45.3125 54.6875 \r\nL 54.296875 54.6875 \r\nL 54.296875 0 \r\nL 45.3125 0 \r\nL 45.3125 8.40625 \r\nQ 42.046875 3.421875 37.71875 1 \r\nQ 33.40625 -1.421875 27.6875 -1.421875 \r\nQ 18.265625 -1.421875 13.375 4.4375 \r\nQ 8.5 10.296875 8.5 21.578125 \r\nz\r\nM 31.109375 56 \r\nz\r\n\" id=\"DejaVuSans-117\"/>\r\n      </defs>\r\n      <use xlink:href=\"#DejaVuSans-69\"/>\r\n      <use x=\"63.183594\" xlink:href=\"#DejaVuSans-83\"/>\r\n      <use x=\"126.660156\" xlink:href=\"#DejaVuSans-71\"/>\r\n      <use x=\"204.150391\" xlink:href=\"#DejaVuSans-32\"/>\r\n      <use x=\"235.9375\" xlink:href=\"#DejaVuSans-86\"/>\r\n      <use x=\"296.595703\" xlink:href=\"#DejaVuSans-97\"/>\r\n      <use x=\"357.875\" xlink:href=\"#DejaVuSans-108\"/>\r\n      <use x=\"385.658203\" xlink:href=\"#DejaVuSans-117\"/>\r\n      <use x=\"449.037109\" xlink:href=\"#DejaVuSans-101\"/>\r\n     </g>\r\n    </g>\r\n   </g>\r\n  </g>\r\n </g>\r\n <defs>\r\n  <clipPath id=\"p6175a92050\">\r\n   <rect height=\"217.44\" width=\"334.8\" x=\"33.2875\" y=\"7.2\"/>\r\n  </clipPath>\r\n </defs>\r\n</svg>\r\n",
      "image/png": "[encoded data removed]"
     },
     "metadata": {
      "needs_background": "light"
     }
    }
   ],
   "source": [
    "ax = nnndf.plot(secondary_y='y')\n",
    "#ax2 = ax.twinx()\n",
    "ax2.set_yscale('log')\n",
    "plt.show()"
   ]
  },
  {
   "cell_type": "code",
   "execution_count": 298,
   "metadata": {},
   "outputs": [
    {
     "output_type": "display_data",
     "data": {
      "text/plain": "<Figure size 432x288 with 2 Axes>",
      "image/svg+xml": "<?xml version=\"1.0\" encoding=\"utf-8\" standalone=\"no\"?>\r\n<!DOCTYPE svg PUBLIC \"-//W3C//DTD SVG 1.1//EN\"\r\n  \"http://www.w3.org/Graphics/SVG/1.1/DTD/svg11.dtd\">\r\n<!-- Created with matplotlib (https://matplotlib.org/) -->\r\n<svg height=\"262.19625pt\" version=\"1.1\" viewBox=\"0 0 398.190625 262.19625\" width=\"398.190625pt\" xmlns=\"http://www.w3.org/2000/svg\" xmlns:xlink=\"http://www.w3.org/1999/xlink\">\r\n <metadata>\r\n  <rdf:RDF xmlns:cc=\"http://creativecommons.org/ns#\" xmlns:dc=\"http://purl.org/dc/elements/1.1/\" xmlns:rdf=\"http://www.w3.org/1999/02/22-rdf-syntax-ns#\">\r\n   <cc:Work>\r\n    <dc:type rdf:resource=\"http://purl.org/dc/dcmitype/StillImage\"/>\r\n    <dc:date>2021-04-11T01:08:23.606107</dc:date>\r\n    <dc:format>image/svg+xml</dc:format>\r\n    <dc:creator>\r\n     <cc:Agent>\r\n      <dc:title>Matplotlib v3.3.3, https://matplotlib.org/</dc:title>\r\n     </cc:Agent>\r\n    </dc:creator>\r\n   </cc:Work>\r\n  </rdf:RDF>\r\n </metadata>\r\n <defs>\r\n  <style type=\"text/css\">*{stroke-linecap:butt;stroke-linejoin:round;}</style>\r\n </defs>\r\n <g id=\"figure_1\">\r\n  <g id=\"patch_1\">\r\n   <path d=\"M 0 262.19625 \r\nL 398.190625 262.19625 \r\nL 398.190625 0 \r\nL 0 0 \r\nz\r\n\" style=\"fill:none;\"/>\r\n  </g>\r\n  <g id=\"axes_1\">\r\n   <g id=\"patch_2\">\r\n    <path d=\"M 33.2875 224.64 \r\nL 368.0875 224.64 \r\nL 368.0875 7.2 \r\nL 33.2875 7.2 \r\nz\r\n\" style=\"fill:#ffffff;\"/>\r\n   </g>\r\n   <g id=\"matplotlib.axis_1\">\r\n    <g id=\"xtick_1\">\r\n     <g id=\"line2d_1\">\r\n      <defs>\r\n       <path d=\"M 0 0 \r\nL 0 3.5 \r\n\" id=\"mb38c531fcc\" style=\"stroke:#000000;stroke-width:0.8;\"/>\r\n      </defs>\r\n      <g>\r\n       <use style=\"stroke:#000000;stroke-width:0.8;\" x=\"53.3755\" xlink:href=\"#mb38c531fcc\" y=\"224.64\"/>\r\n      </g>\r\n     </g>\r\n     <g id=\"text_1\">\r\n      <!-- 2017 -->\r\n      <g transform=\"translate(40.6505 239.238438)scale(0.1 -0.1)\">\r\n       <defs>\r\n        <path d=\"M 19.1875 8.296875 \r\nL 53.609375 8.296875 \r\nL 53.609375 0 \r\nL 7.328125 0 \r\nL 7.328125 8.296875 \r\nQ 12.9375 14.109375 22.625 23.890625 \r\nQ 32.328125 33.6875 34.8125 36.53125 \r\nQ 39.546875 41.84375 41.421875 45.53125 \r\nQ 43.3125 49.21875 43.3125 52.78125 \r\nQ 43.3125 58.59375 39.234375 62.25 \r\nQ 35.15625 65.921875 28.609375 65.921875 \r\nQ 23.96875 65.921875 18.8125 64.3125 \r\nQ 13.671875 62.703125 7.8125 59.421875 \r\nL 7.8125 69.390625 \r\nQ 13.765625 71.78125 18.9375 73 \r\nQ 24.125 74.21875 28.421875 74.21875 \r\nQ 39.75 74.21875 46.484375 68.546875 \r\nQ 53.21875 62.890625 53.21875 53.421875 \r\nQ 53.21875 48.921875 51.53125 44.890625 \r\nQ 49.859375 40.875 45.40625 35.40625 \r\nQ 44.1875 33.984375 37.640625 27.21875 \r\nQ 31.109375 20.453125 19.1875 8.296875 \r\nz\r\n\" id=\"DejaVuSans-50\"/>\r\n        <path d=\"M 31.78125 66.40625 \r\nQ 24.171875 66.40625 20.328125 58.90625 \r\nQ 16.5 51.421875 16.5 36.375 \r\nQ 16.5 21.390625 20.328125 13.890625 \r\nQ 24.171875 6.390625 31.78125 6.390625 \r\nQ 39.453125 6.390625 43.28125 13.890625 \r\nQ 47.125 21.390625 47.125 36.375 \r\nQ 47.125 51.421875 43.28125 58.90625 \r\nQ 39.453125 66.40625 31.78125 66.40625 \r\nz\r\nM 31.78125 74.21875 \r\nQ 44.046875 74.21875 50.515625 64.515625 \r\nQ 56.984375 54.828125 56.984375 36.375 \r\nQ 56.984375 17.96875 50.515625 8.265625 \r\nQ 44.046875 -1.421875 31.78125 -1.421875 \r\nQ 19.53125 -1.421875 13.0625 8.265625 \r\nQ 6.59375 17.96875 6.59375 36.375 \r\nQ 6.59375 54.828125 13.0625 64.515625 \r\nQ 19.53125 74.21875 31.78125 74.21875 \r\nz\r\n\" id=\"DejaVuSans-48\"/>\r\n        <path d=\"M 12.40625 8.296875 \r\nL 28.515625 8.296875 \r\nL 28.515625 63.921875 \r\nL 10.984375 60.40625 \r\nL 10.984375 69.390625 \r\nL 28.421875 72.90625 \r\nL 38.28125 72.90625 \r\nL 38.28125 8.296875 \r\nL 54.390625 8.296875 \r\nL 54.390625 0 \r\nL 12.40625 0 \r\nz\r\n\" id=\"DejaVuSans-49\"/>\r\n        <path d=\"M 8.203125 72.90625 \r\nL 55.078125 72.90625 \r\nL 55.078125 68.703125 \r\nL 28.609375 0 \r\nL 18.3125 0 \r\nL 43.21875 64.59375 \r\nL 8.203125 64.59375 \r\nz\r\n\" id=\"DejaVuSans-55\"/>\r\n       </defs>\r\n       <use xlink:href=\"#DejaVuSans-50\"/>\r\n       <use x=\"63.623047\" xlink:href=\"#DejaVuSans-48\"/>\r\n       <use x=\"127.246094\" xlink:href=\"#DejaVuSans-49\"/>\r\n       <use x=\"190.869141\" xlink:href=\"#DejaVuSans-55\"/>\r\n      </g>\r\n     </g>\r\n    </g>\r\n    <g id=\"xtick_2\">\r\n     <g id=\"line2d_2\">\r\n      <g>\r\n       <use style=\"stroke:#000000;stroke-width:0.8;\" x=\"133.7275\" xlink:href=\"#mb38c531fcc\" y=\"224.64\"/>\r\n      </g>\r\n     </g>\r\n     <g id=\"text_2\">\r\n      <!-- 2018 -->\r\n      <g transform=\"translate(121.0025 239.238438)scale(0.1 -0.1)\">\r\n       <defs>\r\n        <path d=\"M 31.78125 34.625 \r\nQ 24.75 34.625 20.71875 30.859375 \r\nQ 16.703125 27.09375 16.703125 20.515625 \r\nQ 16.703125 13.921875 20.71875 10.15625 \r\nQ 24.75 6.390625 31.78125 6.390625 \r\nQ 38.8125 6.390625 42.859375 10.171875 \r\nQ 46.921875 13.96875 46.921875 20.515625 \r\nQ 46.921875 27.09375 42.890625 30.859375 \r\nQ 38.875 34.625 31.78125 34.625 \r\nz\r\nM 21.921875 38.8125 \r\nQ 15.578125 40.375 12.03125 44.71875 \r\nQ 8.5 49.078125 8.5 55.328125 \r\nQ 8.5 64.0625 14.71875 69.140625 \r\nQ 20.953125 74.21875 31.78125 74.21875 \r\nQ 42.671875 74.21875 48.875 69.140625 \r\nQ 55.078125 64.0625 55.078125 55.328125 \r\nQ 55.078125 49.078125 51.53125 44.71875 \r\nQ 48 40.375 41.703125 38.8125 \r\nQ 48.828125 37.15625 52.796875 32.3125 \r\nQ 56.78125 27.484375 56.78125 20.515625 \r\nQ 56.78125 9.90625 50.3125 4.234375 \r\nQ 43.84375 -1.421875 31.78125 -1.421875 \r\nQ 19.734375 -1.421875 13.25 4.234375 \r\nQ 6.78125 9.90625 6.78125 20.515625 \r\nQ 6.78125 27.484375 10.78125 32.3125 \r\nQ 14.796875 37.15625 21.921875 38.8125 \r\nz\r\nM 18.3125 54.390625 \r\nQ 18.3125 48.734375 21.84375 45.5625 \r\nQ 25.390625 42.390625 31.78125 42.390625 \r\nQ 38.140625 42.390625 41.71875 45.5625 \r\nQ 45.3125 48.734375 45.3125 54.390625 \r\nQ 45.3125 60.0625 41.71875 63.234375 \r\nQ 38.140625 66.40625 31.78125 66.40625 \r\nQ 25.390625 66.40625 21.84375 63.234375 \r\nQ 18.3125 60.0625 18.3125 54.390625 \r\nz\r\n\" id=\"DejaVuSans-56\"/>\r\n       </defs>\r\n       <use xlink:href=\"#DejaVuSans-50\"/>\r\n       <use x=\"63.623047\" xlink:href=\"#DejaVuSans-48\"/>\r\n       <use x=\"127.246094\" xlink:href=\"#DejaVuSans-49\"/>\r\n       <use x=\"190.869141\" xlink:href=\"#DejaVuSans-56\"/>\r\n      </g>\r\n     </g>\r\n    </g>\r\n    <g id=\"xtick_3\">\r\n     <g id=\"line2d_3\">\r\n      <g>\r\n       <use style=\"stroke:#000000;stroke-width:0.8;\" x=\"214.0795\" xlink:href=\"#mb38c531fcc\" y=\"224.64\"/>\r\n      </g>\r\n     </g>\r\n     <g id=\"text_3\">\r\n      <!-- 2019 -->\r\n      <g transform=\"translate(201.3545 239.238438)scale(0.1 -0.1)\">\r\n       <defs>\r\n        <path d=\"M 10.984375 1.515625 \r\nL 10.984375 10.5 \r\nQ 14.703125 8.734375 18.5 7.8125 \r\nQ 22.3125 6.890625 25.984375 6.890625 \r\nQ 35.75 6.890625 40.890625 13.453125 \r\nQ 46.046875 20.015625 46.78125 33.40625 \r\nQ 43.953125 29.203125 39.59375 26.953125 \r\nQ 35.25 24.703125 29.984375 24.703125 \r\nQ 19.046875 24.703125 12.671875 31.3125 \r\nQ 6.296875 37.9375 6.296875 49.421875 \r\nQ 6.296875 60.640625 12.9375 67.421875 \r\nQ 19.578125 74.21875 30.609375 74.21875 \r\nQ 43.265625 74.21875 49.921875 64.515625 \r\nQ 56.59375 54.828125 56.59375 36.375 \r\nQ 56.59375 19.140625 48.40625 8.859375 \r\nQ 40.234375 -1.421875 26.421875 -1.421875 \r\nQ 22.703125 -1.421875 18.890625 -0.6875 \r\nQ 15.09375 0.046875 10.984375 1.515625 \r\nz\r\nM 30.609375 32.421875 \r\nQ 37.25 32.421875 41.125 36.953125 \r\nQ 45.015625 41.5 45.015625 49.421875 \r\nQ 45.015625 57.28125 41.125 61.84375 \r\nQ 37.25 66.40625 30.609375 66.40625 \r\nQ 23.96875 66.40625 20.09375 61.84375 \r\nQ 16.21875 57.28125 16.21875 49.421875 \r\nQ 16.21875 41.5 20.09375 36.953125 \r\nQ 23.96875 32.421875 30.609375 32.421875 \r\nz\r\n\" id=\"DejaVuSans-57\"/>\r\n       </defs>\r\n       <use xlink:href=\"#DejaVuSans-50\"/>\r\n       <use x=\"63.623047\" xlink:href=\"#DejaVuSans-48\"/>\r\n       <use x=\"127.246094\" xlink:href=\"#DejaVuSans-49\"/>\r\n       <use x=\"190.869141\" xlink:href=\"#DejaVuSans-57\"/>\r\n      </g>\r\n     </g>\r\n    </g>\r\n    <g id=\"xtick_4\">\r\n     <g id=\"line2d_4\">\r\n      <g>\r\n       <use style=\"stroke:#000000;stroke-width:0.8;\" x=\"294.4315\" xlink:href=\"#mb38c531fcc\" y=\"224.64\"/>\r\n      </g>\r\n     </g>\r\n     <g id=\"text_4\">\r\n      <!-- 2020 -->\r\n      <g transform=\"translate(281.7065 239.238438)scale(0.1 -0.1)\">\r\n       <use xlink:href=\"#DejaVuSans-50\"/>\r\n       <use x=\"63.623047\" xlink:href=\"#DejaVuSans-48\"/>\r\n       <use x=\"127.246094\" xlink:href=\"#DejaVuSans-50\"/>\r\n       <use x=\"190.869141\" xlink:href=\"#DejaVuSans-48\"/>\r\n      </g>\r\n     </g>\r\n    </g>\r\n    <g id=\"xtick_5\">\r\n     <g id=\"line2d_5\">\r\n      <defs>\r\n       <path d=\"M 0 0 \r\nL 0 2 \r\n\" id=\"m8469203467\" style=\"stroke:#000000;stroke-width:0.6;\"/>\r\n      </defs>\r\n      <g>\r\n       <use style=\"stroke:#000000;stroke-width:0.6;\" x=\"33.2875\" xlink:href=\"#m8469203467\" y=\"224.64\"/>\r\n      </g>\r\n     </g>\r\n    </g>\r\n    <g id=\"xtick_6\">\r\n     <g id=\"line2d_6\">\r\n      <g>\r\n       <use style=\"stroke:#000000;stroke-width:0.6;\" x=\"73.4635\" xlink:href=\"#m8469203467\" y=\"224.64\"/>\r\n      </g>\r\n     </g>\r\n    </g>\r\n    <g id=\"xtick_7\">\r\n     <g id=\"line2d_7\">\r\n      <g>\r\n       <use style=\"stroke:#000000;stroke-width:0.6;\" x=\"93.5515\" xlink:href=\"#m8469203467\" y=\"224.64\"/>\r\n      </g>\r\n     </g>\r\n    </g>\r\n    <g id=\"xtick_8\">\r\n     <g id=\"line2d_8\">\r\n      <g>\r\n       <use style=\"stroke:#000000;stroke-width:0.6;\" x=\"113.6395\" xlink:href=\"#m8469203467\" y=\"224.64\"/>\r\n      </g>\r\n     </g>\r\n    </g>\r\n    <g id=\"xtick_9\">\r\n     <g id=\"line2d_9\">\r\n      <g>\r\n       <use style=\"stroke:#000000;stroke-width:0.6;\" x=\"153.8155\" xlink:href=\"#m8469203467\" y=\"224.64\"/>\r\n      </g>\r\n     </g>\r\n    </g>\r\n    <g id=\"xtick_10\">\r\n     <g id=\"line2d_10\">\r\n      <g>\r\n       <use style=\"stroke:#000000;stroke-width:0.6;\" x=\"173.9035\" xlink:href=\"#m8469203467\" y=\"224.64\"/>\r\n      </g>\r\n     </g>\r\n    </g>\r\n    <g id=\"xtick_11\">\r\n     <g id=\"line2d_11\">\r\n      <g>\r\n       <use style=\"stroke:#000000;stroke-width:0.6;\" x=\"193.9915\" xlink:href=\"#m8469203467\" y=\"224.64\"/>\r\n      </g>\r\n     </g>\r\n    </g>\r\n    <g id=\"xtick_12\">\r\n     <g id=\"line2d_12\">\r\n      <g>\r\n       <use style=\"stroke:#000000;stroke-width:0.6;\" x=\"234.1675\" xlink:href=\"#m8469203467\" y=\"224.64\"/>\r\n      </g>\r\n     </g>\r\n    </g>\r\n    <g id=\"xtick_13\">\r\n     <g id=\"line2d_13\">\r\n      <g>\r\n       <use style=\"stroke:#000000;stroke-width:0.6;\" x=\"254.2555\" xlink:href=\"#m8469203467\" y=\"224.64\"/>\r\n      </g>\r\n     </g>\r\n    </g>\r\n    <g id=\"xtick_14\">\r\n     <g id=\"line2d_14\">\r\n      <g>\r\n       <use style=\"stroke:#000000;stroke-width:0.6;\" x=\"274.3435\" xlink:href=\"#m8469203467\" y=\"224.64\"/>\r\n      </g>\r\n     </g>\r\n    </g>\r\n    <g id=\"xtick_15\">\r\n     <g id=\"line2d_15\">\r\n      <g>\r\n       <use style=\"stroke:#000000;stroke-width:0.6;\" x=\"314.5195\" xlink:href=\"#m8469203467\" y=\"224.64\"/>\r\n      </g>\r\n     </g>\r\n    </g>\r\n    <g id=\"xtick_16\">\r\n     <g id=\"line2d_16\">\r\n      <g>\r\n       <use style=\"stroke:#000000;stroke-width:0.6;\" x=\"334.6075\" xlink:href=\"#m8469203467\" y=\"224.64\"/>\r\n      </g>\r\n     </g>\r\n    </g>\r\n    <g id=\"xtick_17\">\r\n     <g id=\"line2d_17\">\r\n      <g>\r\n       <use style=\"stroke:#000000;stroke-width:0.6;\" x=\"354.6955\" xlink:href=\"#m8469203467\" y=\"224.64\"/>\r\n      </g>\r\n     </g>\r\n    </g>\r\n    <g id=\"text_5\">\r\n     <!-- per -->\r\n     <g transform=\"translate(192.38125 252.916563)scale(0.1 -0.1)\">\r\n      <defs>\r\n       <path d=\"M 18.109375 8.203125 \r\nL 18.109375 -20.796875 \r\nL 9.078125 -20.796875 \r\nL 9.078125 54.6875 \r\nL 18.109375 54.6875 \r\nL 18.109375 46.390625 \r\nQ 20.953125 51.265625 25.265625 53.625 \r\nQ 29.59375 56 35.59375 56 \r\nQ 45.5625 56 51.78125 48.09375 \r\nQ 58.015625 40.1875 58.015625 27.296875 \r\nQ 58.015625 14.40625 51.78125 6.484375 \r\nQ 45.5625 -1.421875 35.59375 -1.421875 \r\nQ 29.59375 -1.421875 25.265625 0.953125 \r\nQ 20.953125 3.328125 18.109375 8.203125 \r\nz\r\nM 48.6875 27.296875 \r\nQ 48.6875 37.203125 44.609375 42.84375 \r\nQ 40.53125 48.484375 33.40625 48.484375 \r\nQ 26.265625 48.484375 22.1875 42.84375 \r\nQ 18.109375 37.203125 18.109375 27.296875 \r\nQ 18.109375 17.390625 22.1875 11.75 \r\nQ 26.265625 6.109375 33.40625 6.109375 \r\nQ 40.53125 6.109375 44.609375 11.75 \r\nQ 48.6875 17.390625 48.6875 27.296875 \r\nz\r\n\" id=\"DejaVuSans-112\"/>\r\n       <path d=\"M 56.203125 29.59375 \r\nL 56.203125 25.203125 \r\nL 14.890625 25.203125 \r\nQ 15.484375 15.921875 20.484375 11.0625 \r\nQ 25.484375 6.203125 34.421875 6.203125 \r\nQ 39.59375 6.203125 44.453125 7.46875 \r\nQ 49.3125 8.734375 54.109375 11.28125 \r\nL 54.109375 2.78125 \r\nQ 49.265625 0.734375 44.1875 -0.34375 \r\nQ 39.109375 -1.421875 33.890625 -1.421875 \r\nQ 20.796875 -1.421875 13.15625 6.1875 \r\nQ 5.515625 13.8125 5.515625 26.8125 \r\nQ 5.515625 40.234375 12.765625 48.109375 \r\nQ 20.015625 56 32.328125 56 \r\nQ 43.359375 56 49.78125 48.890625 \r\nQ 56.203125 41.796875 56.203125 29.59375 \r\nz\r\nM 47.21875 32.234375 \r\nQ 47.125 39.59375 43.09375 43.984375 \r\nQ 39.0625 48.390625 32.421875 48.390625 \r\nQ 24.90625 48.390625 20.390625 44.140625 \r\nQ 15.875 39.890625 15.1875 32.171875 \r\nz\r\n\" id=\"DejaVuSans-101\"/>\r\n       <path d=\"M 41.109375 46.296875 \r\nQ 39.59375 47.171875 37.8125 47.578125 \r\nQ 36.03125 48 33.890625 48 \r\nQ 26.265625 48 22.1875 43.046875 \r\nQ 18.109375 38.09375 18.109375 28.8125 \r\nL 18.109375 0 \r\nL 9.078125 0 \r\nL 9.078125 54.6875 \r\nL 18.109375 54.6875 \r\nL 18.109375 46.1875 \r\nQ 20.953125 51.171875 25.484375 53.578125 \r\nQ 30.03125 56 36.53125 56 \r\nQ 37.453125 56 38.578125 55.875 \r\nQ 39.703125 55.765625 41.0625 55.515625 \r\nz\r\n\" id=\"DejaVuSans-114\"/>\r\n      </defs>\r\n      <use xlink:href=\"#DejaVuSans-112\"/>\r\n      <use x=\"63.476562\" xlink:href=\"#DejaVuSans-101\"/>\r\n      <use x=\"125\" xlink:href=\"#DejaVuSans-114\"/>\r\n     </g>\r\n    </g>\r\n   </g>\r\n   <g id=\"matplotlib.axis_2\">\r\n    <g id=\"ytick_1\">\r\n     <g id=\"line2d_18\">\r\n      <defs>\r\n       <path d=\"M 0 0 \r\nL -3.5 0 \r\n\" id=\"m74c9a0cb3c\" style=\"stroke:#000000;stroke-width:0.8;\"/>\r\n      </defs>\r\n      <g>\r\n       <use style=\"stroke:#000000;stroke-width:0.8;\" x=\"33.2875\" xlink:href=\"#m74c9a0cb3c\" y=\"207.794496\"/>\r\n      </g>\r\n     </g>\r\n     <g id=\"text_6\">\r\n      <!-- 60 -->\r\n      <g transform=\"translate(13.5625 211.593714)scale(0.1 -0.1)\">\r\n       <defs>\r\n        <path d=\"M 33.015625 40.375 \r\nQ 26.375 40.375 22.484375 35.828125 \r\nQ 18.609375 31.296875 18.609375 23.390625 \r\nQ 18.609375 15.53125 22.484375 10.953125 \r\nQ 26.375 6.390625 33.015625 6.390625 \r\nQ 39.65625 6.390625 43.53125 10.953125 \r\nQ 47.40625 15.53125 47.40625 23.390625 \r\nQ 47.40625 31.296875 43.53125 35.828125 \r\nQ 39.65625 40.375 33.015625 40.375 \r\nz\r\nM 52.59375 71.296875 \r\nL 52.59375 62.3125 \r\nQ 48.875 64.0625 45.09375 64.984375 \r\nQ 41.3125 65.921875 37.59375 65.921875 \r\nQ 27.828125 65.921875 22.671875 59.328125 \r\nQ 17.53125 52.734375 16.796875 39.40625 \r\nQ 19.671875 43.65625 24.015625 45.921875 \r\nQ 28.375 48.1875 33.59375 48.1875 \r\nQ 44.578125 48.1875 50.953125 41.515625 \r\nQ 57.328125 34.859375 57.328125 23.390625 \r\nQ 57.328125 12.15625 50.6875 5.359375 \r\nQ 44.046875 -1.421875 33.015625 -1.421875 \r\nQ 20.359375 -1.421875 13.671875 8.265625 \r\nQ 6.984375 17.96875 6.984375 36.375 \r\nQ 6.984375 53.65625 15.1875 63.9375 \r\nQ 23.390625 74.21875 37.203125 74.21875 \r\nQ 40.921875 74.21875 44.703125 73.484375 \r\nQ 48.484375 72.75 52.59375 71.296875 \r\nz\r\n\" id=\"DejaVuSans-54\"/>\r\n       </defs>\r\n       <use xlink:href=\"#DejaVuSans-54\"/>\r\n       <use x=\"63.623047\" xlink:href=\"#DejaVuSans-48\"/>\r\n      </g>\r\n     </g>\r\n    </g>\r\n    <g id=\"ytick_2\">\r\n     <g id=\"line2d_19\">\r\n      <g>\r\n       <use style=\"stroke:#000000;stroke-width:0.8;\" x=\"33.2875\" xlink:href=\"#m74c9a0cb3c\" y=\"183.538833\"/>\r\n      </g>\r\n     </g>\r\n     <g id=\"text_7\">\r\n      <!-- 80 -->\r\n      <g transform=\"translate(13.5625 187.338052)scale(0.1 -0.1)\">\r\n       <use xlink:href=\"#DejaVuSans-56\"/>\r\n       <use x=\"63.623047\" xlink:href=\"#DejaVuSans-48\"/>\r\n      </g>\r\n     </g>\r\n    </g>\r\n    <g id=\"ytick_3\">\r\n     <g id=\"line2d_20\">\r\n      <g>\r\n       <use style=\"stroke:#000000;stroke-width:0.8;\" x=\"33.2875\" xlink:href=\"#m74c9a0cb3c\" y=\"159.28317\"/>\r\n      </g>\r\n     </g>\r\n     <g id=\"text_8\">\r\n      <!-- 100 -->\r\n      <g transform=\"translate(7.2 163.082389)scale(0.1 -0.1)\">\r\n       <use xlink:href=\"#DejaVuSans-49\"/>\r\n       <use x=\"63.623047\" xlink:href=\"#DejaVuSans-48\"/>\r\n       <use x=\"127.246094\" xlink:href=\"#DejaVuSans-48\"/>\r\n      </g>\r\n     </g>\r\n    </g>\r\n    <g id=\"ytick_4\">\r\n     <g id=\"line2d_21\">\r\n      <g>\r\n       <use style=\"stroke:#000000;stroke-width:0.8;\" x=\"33.2875\" xlink:href=\"#m74c9a0cb3c\" y=\"135.027507\"/>\r\n      </g>\r\n     </g>\r\n     <g id=\"text_9\">\r\n      <!-- 120 -->\r\n      <g transform=\"translate(7.2 138.826726)scale(0.1 -0.1)\">\r\n       <use xlink:href=\"#DejaVuSans-49\"/>\r\n       <use x=\"63.623047\" xlink:href=\"#DejaVuSans-50\"/>\r\n       <use x=\"127.246094\" xlink:href=\"#DejaVuSans-48\"/>\r\n      </g>\r\n     </g>\r\n    </g>\r\n    <g id=\"ytick_5\">\r\n     <g id=\"line2d_22\">\r\n      <g>\r\n       <use style=\"stroke:#000000;stroke-width:0.8;\" x=\"33.2875\" xlink:href=\"#m74c9a0cb3c\" y=\"110.771844\"/>\r\n      </g>\r\n     </g>\r\n     <g id=\"text_10\">\r\n      <!-- 140 -->\r\n      <g transform=\"translate(7.2 114.571063)scale(0.1 -0.1)\">\r\n       <defs>\r\n        <path d=\"M 37.796875 64.3125 \r\nL 12.890625 25.390625 \r\nL 37.796875 25.390625 \r\nz\r\nM 35.203125 72.90625 \r\nL 47.609375 72.90625 \r\nL 47.609375 25.390625 \r\nL 58.015625 25.390625 \r\nL 58.015625 17.1875 \r\nL 47.609375 17.1875 \r\nL 47.609375 0 \r\nL 37.796875 0 \r\nL 37.796875 17.1875 \r\nL 4.890625 17.1875 \r\nL 4.890625 26.703125 \r\nz\r\n\" id=\"DejaVuSans-52\"/>\r\n       </defs>\r\n       <use xlink:href=\"#DejaVuSans-49\"/>\r\n       <use x=\"63.623047\" xlink:href=\"#DejaVuSans-52\"/>\r\n       <use x=\"127.246094\" xlink:href=\"#DejaVuSans-48\"/>\r\n      </g>\r\n     </g>\r\n    </g>\r\n    <g id=\"ytick_6\">\r\n     <g id=\"line2d_23\">\r\n      <g>\r\n       <use style=\"stroke:#000000;stroke-width:0.8;\" x=\"33.2875\" xlink:href=\"#m74c9a0cb3c\" y=\"86.516182\"/>\r\n      </g>\r\n     </g>\r\n     <g id=\"text_11\">\r\n      <!-- 160 -->\r\n      <g transform=\"translate(7.2 90.3154)scale(0.1 -0.1)\">\r\n       <use xlink:href=\"#DejaVuSans-49\"/>\r\n       <use x=\"63.623047\" xlink:href=\"#DejaVuSans-54\"/>\r\n       <use x=\"127.246094\" xlink:href=\"#DejaVuSans-48\"/>\r\n      </g>\r\n     </g>\r\n    </g>\r\n    <g id=\"ytick_7\">\r\n     <g id=\"line2d_24\">\r\n      <g>\r\n       <use style=\"stroke:#000000;stroke-width:0.8;\" x=\"33.2875\" xlink:href=\"#m74c9a0cb3c\" y=\"62.260519\"/>\r\n      </g>\r\n     </g>\r\n     <g id=\"text_12\">\r\n      <!-- 180 -->\r\n      <g transform=\"translate(7.2 66.059737)scale(0.1 -0.1)\">\r\n       <use xlink:href=\"#DejaVuSans-49\"/>\r\n       <use x=\"63.623047\" xlink:href=\"#DejaVuSans-56\"/>\r\n       <use x=\"127.246094\" xlink:href=\"#DejaVuSans-48\"/>\r\n      </g>\r\n     </g>\r\n    </g>\r\n    <g id=\"ytick_8\">\r\n     <g id=\"line2d_25\">\r\n      <g>\r\n       <use style=\"stroke:#000000;stroke-width:0.8;\" x=\"33.2875\" xlink:href=\"#m74c9a0cb3c\" y=\"38.004856\"/>\r\n      </g>\r\n     </g>\r\n     <g id=\"text_13\">\r\n      <!-- 200 -->\r\n      <g transform=\"translate(7.2 41.804075)scale(0.1 -0.1)\">\r\n       <use xlink:href=\"#DejaVuSans-50\"/>\r\n       <use x=\"63.623047\" xlink:href=\"#DejaVuSans-48\"/>\r\n       <use x=\"127.246094\" xlink:href=\"#DejaVuSans-48\"/>\r\n      </g>\r\n     </g>\r\n    </g>\r\n    <g id=\"ytick_9\">\r\n     <g id=\"line2d_26\">\r\n      <g>\r\n       <use style=\"stroke:#000000;stroke-width:0.8;\" x=\"33.2875\" xlink:href=\"#m74c9a0cb3c\" y=\"13.749193\"/>\r\n      </g>\r\n     </g>\r\n     <g id=\"text_14\">\r\n      <!-- 220 -->\r\n      <g transform=\"translate(7.2 17.548412)scale(0.1 -0.1)\">\r\n       <use xlink:href=\"#DejaVuSans-50\"/>\r\n       <use x=\"63.623047\" xlink:href=\"#DejaVuSans-50\"/>\r\n       <use x=\"127.246094\" xlink:href=\"#DejaVuSans-48\"/>\r\n      </g>\r\n     </g>\r\n    </g>\r\n   </g>\r\n   <g id=\"line2d_27\">\r\n    <path clip-path=\"url(#pec9aed2179)\" d=\"M 33.2875 214.756364 \r\nL 100.2475 196.723885 \r\nL 187.2955 148.70534 \r\nL 281.0395 103.631898 \r\nL 368.0875 17.083636 \r\n\" style=\"fill:none;stroke:#1f77b4;stroke-linecap:square;stroke-width:1.5;\"/>\r\n   </g>\r\n   <g id=\"patch_3\">\r\n    <path d=\"M 33.2875 224.64 \r\nL 33.2875 7.2 \r\n\" style=\"fill:none;stroke:#000000;stroke-linecap:square;stroke-linejoin:miter;stroke-width:0.8;\"/>\r\n   </g>\r\n   <g id=\"patch_4\">\r\n    <path d=\"M 368.0875 224.64 \r\nL 368.0875 7.2 \r\n\" style=\"fill:none;stroke:#000000;stroke-linecap:square;stroke-linejoin:miter;stroke-width:0.8;\"/>\r\n   </g>\r\n   <g id=\"patch_5\">\r\n    <path d=\"M 33.2875 224.64 \r\nL 368.0875 224.64 \r\n\" style=\"fill:none;stroke:#000000;stroke-linecap:square;stroke-linejoin:miter;stroke-width:0.8;\"/>\r\n   </g>\r\n   <g id=\"patch_6\">\r\n    <path d=\"M 33.2875 7.2 \r\nL 368.0875 7.2 \r\n\" style=\"fill:none;stroke:#000000;stroke-linecap:square;stroke-linejoin:miter;stroke-width:0.8;\"/>\r\n   </g>\r\n   <g id=\"legend_1\">\r\n    <g id=\"patch_7\">\r\n     <path d=\"M 40.2875 29.878125 \r\nL 118.5 29.878125 \r\nQ 120.5 29.878125 120.5 27.878125 \r\nL 120.5 14.2 \r\nQ 120.5 12.2 118.5 12.2 \r\nL 40.2875 12.2 \r\nQ 38.2875 12.2 38.2875 14.2 \r\nL 38.2875 27.878125 \r\nQ 38.2875 29.878125 40.2875 29.878125 \r\nz\r\n\" style=\"fill:#ffffff;opacity:0.8;stroke:#cccccc;stroke-linejoin:miter;\"/>\r\n    </g>\r\n    <g id=\"line2d_28\">\r\n     <path d=\"M 42.2875 20.298438 \r\nL 62.2875 20.298438 \r\n\" style=\"fill:none;stroke:#1f77b4;stroke-linecap:square;stroke-width:1.5;\"/>\r\n    </g>\r\n    <g id=\"line2d_29\"/>\r\n    <g id=\"text_15\">\r\n     <!-- Adj Close -->\r\n     <g transform=\"translate(70.2875 23.798438)scale(0.1 -0.1)\">\r\n      <defs>\r\n       <path d=\"M 34.1875 63.1875 \r\nL 20.796875 26.90625 \r\nL 47.609375 26.90625 \r\nz\r\nM 28.609375 72.90625 \r\nL 39.796875 72.90625 \r\nL 67.578125 0 \r\nL 57.328125 0 \r\nL 50.6875 18.703125 \r\nL 17.828125 18.703125 \r\nL 11.1875 0 \r\nL 0.78125 0 \r\nz\r\n\" id=\"DejaVuSans-65\"/>\r\n       <path d=\"M 45.40625 46.390625 \r\nL 45.40625 75.984375 \r\nL 54.390625 75.984375 \r\nL 54.390625 0 \r\nL 45.40625 0 \r\nL 45.40625 8.203125 \r\nQ 42.578125 3.328125 38.25 0.953125 \r\nQ 33.9375 -1.421875 27.875 -1.421875 \r\nQ 17.96875 -1.421875 11.734375 6.484375 \r\nQ 5.515625 14.40625 5.515625 27.296875 \r\nQ 5.515625 40.1875 11.734375 48.09375 \r\nQ 17.96875 56 27.875 56 \r\nQ 33.9375 56 38.25 53.625 \r\nQ 42.578125 51.265625 45.40625 46.390625 \r\nz\r\nM 14.796875 27.296875 \r\nQ 14.796875 17.390625 18.875 11.75 \r\nQ 22.953125 6.109375 30.078125 6.109375 \r\nQ 37.203125 6.109375 41.296875 11.75 \r\nQ 45.40625 17.390625 45.40625 27.296875 \r\nQ 45.40625 37.203125 41.296875 42.84375 \r\nQ 37.203125 48.484375 30.078125 48.484375 \r\nQ 22.953125 48.484375 18.875 42.84375 \r\nQ 14.796875 37.203125 14.796875 27.296875 \r\nz\r\n\" id=\"DejaVuSans-100\"/>\r\n       <path d=\"M 9.421875 54.6875 \r\nL 18.40625 54.6875 \r\nL 18.40625 -0.984375 \r\nQ 18.40625 -11.421875 14.421875 -16.109375 \r\nQ 10.453125 -20.796875 1.609375 -20.796875 \r\nL -1.8125 -20.796875 \r\nL -1.8125 -13.1875 \r\nL 0.59375 -13.1875 \r\nQ 5.71875 -13.1875 7.5625 -10.8125 \r\nQ 9.421875 -8.453125 9.421875 -0.984375 \r\nz\r\nM 9.421875 75.984375 \r\nL 18.40625 75.984375 \r\nL 18.40625 64.59375 \r\nL 9.421875 64.59375 \r\nz\r\n\" id=\"DejaVuSans-106\"/>\r\n       <path id=\"DejaVuSans-32\"/>\r\n       <path d=\"M 64.40625 67.28125 \r\nL 64.40625 56.890625 \r\nQ 59.421875 61.53125 53.78125 63.8125 \r\nQ 48.140625 66.109375 41.796875 66.109375 \r\nQ 29.296875 66.109375 22.65625 58.46875 \r\nQ 16.015625 50.828125 16.015625 36.375 \r\nQ 16.015625 21.96875 22.65625 14.328125 \r\nQ 29.296875 6.6875 41.796875 6.6875 \r\nQ 48.140625 6.6875 53.78125 8.984375 \r\nQ 59.421875 11.28125 64.40625 15.921875 \r\nL 64.40625 5.609375 \r\nQ 59.234375 2.09375 53.4375 0.328125 \r\nQ 47.65625 -1.421875 41.21875 -1.421875 \r\nQ 24.65625 -1.421875 15.125 8.703125 \r\nQ 5.609375 18.84375 5.609375 36.375 \r\nQ 5.609375 53.953125 15.125 64.078125 \r\nQ 24.65625 74.21875 41.21875 74.21875 \r\nQ 47.75 74.21875 53.53125 72.484375 \r\nQ 59.328125 70.75 64.40625 67.28125 \r\nz\r\n\" id=\"DejaVuSans-67\"/>\r\n       <path d=\"M 9.421875 75.984375 \r\nL 18.40625 75.984375 \r\nL 18.40625 0 \r\nL 9.421875 0 \r\nz\r\n\" id=\"DejaVuSans-108\"/>\r\n       <path d=\"M 30.609375 48.390625 \r\nQ 23.390625 48.390625 19.1875 42.75 \r\nQ 14.984375 37.109375 14.984375 27.296875 \r\nQ 14.984375 17.484375 19.15625 11.84375 \r\nQ 23.34375 6.203125 30.609375 6.203125 \r\nQ 37.796875 6.203125 41.984375 11.859375 \r\nQ 46.1875 17.53125 46.1875 27.296875 \r\nQ 46.1875 37.015625 41.984375 42.703125 \r\nQ 37.796875 48.390625 30.609375 48.390625 \r\nz\r\nM 30.609375 56 \r\nQ 42.328125 56 49.015625 48.375 \r\nQ 55.71875 40.765625 55.71875 27.296875 \r\nQ 55.71875 13.875 49.015625 6.21875 \r\nQ 42.328125 -1.421875 30.609375 -1.421875 \r\nQ 18.84375 -1.421875 12.171875 6.21875 \r\nQ 5.515625 13.875 5.515625 27.296875 \r\nQ 5.515625 40.765625 12.171875 48.375 \r\nQ 18.84375 56 30.609375 56 \r\nz\r\n\" id=\"DejaVuSans-111\"/>\r\n       <path d=\"M 44.28125 53.078125 \r\nL 44.28125 44.578125 \r\nQ 40.484375 46.53125 36.375 47.5 \r\nQ 32.28125 48.484375 27.875 48.484375 \r\nQ 21.1875 48.484375 17.84375 46.4375 \r\nQ 14.5 44.390625 14.5 40.28125 \r\nQ 14.5 37.15625 16.890625 35.375 \r\nQ 19.28125 33.59375 26.515625 31.984375 \r\nL 29.59375 31.296875 \r\nQ 39.15625 29.25 43.1875 25.515625 \r\nQ 47.21875 21.78125 47.21875 15.09375 \r\nQ 47.21875 7.46875 41.1875 3.015625 \r\nQ 35.15625 -1.421875 24.609375 -1.421875 \r\nQ 20.21875 -1.421875 15.453125 -0.5625 \r\nQ 10.6875 0.296875 5.421875 2 \r\nL 5.421875 11.28125 \r\nQ 10.40625 8.6875 15.234375 7.390625 \r\nQ 20.0625 6.109375 24.8125 6.109375 \r\nQ 31.15625 6.109375 34.5625 8.28125 \r\nQ 37.984375 10.453125 37.984375 14.40625 \r\nQ 37.984375 18.0625 35.515625 20.015625 \r\nQ 33.0625 21.96875 24.703125 23.78125 \r\nL 21.578125 24.515625 \r\nQ 13.234375 26.265625 9.515625 29.90625 \r\nQ 5.8125 33.546875 5.8125 39.890625 \r\nQ 5.8125 47.609375 11.28125 51.796875 \r\nQ 16.75 56 26.8125 56 \r\nQ 31.78125 56 36.171875 55.265625 \r\nQ 40.578125 54.546875 44.28125 53.078125 \r\nz\r\n\" id=\"DejaVuSans-115\"/>\r\n      </defs>\r\n      <use xlink:href=\"#DejaVuSans-65\"/>\r\n      <use x=\"66.658203\" xlink:href=\"#DejaVuSans-100\"/>\r\n      <use x=\"130.134766\" xlink:href=\"#DejaVuSans-106\"/>\r\n      <use x=\"157.917969\" xlink:href=\"#DejaVuSans-32\"/>\r\n      <use x=\"189.705078\" xlink:href=\"#DejaVuSans-67\"/>\r\n      <use x=\"259.529297\" xlink:href=\"#DejaVuSans-108\"/>\r\n      <use x=\"287.3125\" xlink:href=\"#DejaVuSans-111\"/>\r\n      <use x=\"348.494141\" xlink:href=\"#DejaVuSans-115\"/>\r\n      <use x=\"400.59375\" xlink:href=\"#DejaVuSans-101\"/>\r\n     </g>\r\n    </g>\r\n   </g>\r\n  </g>\r\n  <g id=\"axes_2\">\r\n   <g id=\"matplotlib.axis_3\">\r\n    <g id=\"ytick_10\">\r\n     <g id=\"line2d_30\">\r\n      <defs>\r\n       <path d=\"M 0 0 \r\nL 3.5 0 \r\n\" id=\"mfcae07501b\" style=\"stroke:#000000;stroke-width:0.8;\"/>\r\n      </defs>\r\n      <g>\r\n       <use style=\"stroke:#000000;stroke-width:0.8;\" x=\"368.0875\" xlink:href=\"#mfcae07501b\" y=\"214.756364\"/>\r\n      </g>\r\n     </g>\r\n     <g id=\"text_16\">\r\n      <!-- 6.0 -->\r\n      <g transform=\"translate(375.0875 218.555582)scale(0.1 -0.1)\">\r\n       <defs>\r\n        <path d=\"M 10.6875 12.40625 \r\nL 21 12.40625 \r\nL 21 0 \r\nL 10.6875 0 \r\nz\r\n\" id=\"DejaVuSans-46\"/>\r\n       </defs>\r\n       <use xlink:href=\"#DejaVuSans-54\"/>\r\n       <use x=\"63.623047\" xlink:href=\"#DejaVuSans-46\"/>\r\n       <use x=\"95.410156\" xlink:href=\"#DejaVuSans-48\"/>\r\n      </g>\r\n     </g>\r\n    </g>\r\n    <g id=\"ytick_11\">\r\n     <g id=\"line2d_31\">\r\n      <g>\r\n       <use style=\"stroke:#000000;stroke-width:0.8;\" x=\"368.0875\" xlink:href=\"#mfcae07501b\" y=\"175.221818\"/>\r\n      </g>\r\n     </g>\r\n     <g id=\"text_17\">\r\n      <!-- 6.2 -->\r\n      <g transform=\"translate(375.0875 179.021037)scale(0.1 -0.1)\">\r\n       <use xlink:href=\"#DejaVuSans-54\"/>\r\n       <use x=\"63.623047\" xlink:href=\"#DejaVuSans-46\"/>\r\n       <use x=\"95.410156\" xlink:href=\"#DejaVuSans-50\"/>\r\n      </g>\r\n     </g>\r\n    </g>\r\n    <g id=\"ytick_12\">\r\n     <g id=\"line2d_32\">\r\n      <g>\r\n       <use style=\"stroke:#000000;stroke-width:0.8;\" x=\"368.0875\" xlink:href=\"#mfcae07501b\" y=\"135.687273\"/>\r\n      </g>\r\n     </g>\r\n     <g id=\"text_18\">\r\n      <!-- 6.4 -->\r\n      <g transform=\"translate(375.0875 139.486491)scale(0.1 -0.1)\">\r\n       <use xlink:href=\"#DejaVuSans-54\"/>\r\n       <use x=\"63.623047\" xlink:href=\"#DejaVuSans-46\"/>\r\n       <use x=\"95.410156\" xlink:href=\"#DejaVuSans-52\"/>\r\n      </g>\r\n     </g>\r\n    </g>\r\n    <g id=\"ytick_13\">\r\n     <g id=\"line2d_33\">\r\n      <g>\r\n       <use style=\"stroke:#000000;stroke-width:0.8;\" x=\"368.0875\" xlink:href=\"#mfcae07501b\" y=\"96.152727\"/>\r\n      </g>\r\n     </g>\r\n     <g id=\"text_19\">\r\n      <!-- 6.6 -->\r\n      <g transform=\"translate(375.0875 99.951946)scale(0.1 -0.1)\">\r\n       <use xlink:href=\"#DejaVuSans-54\"/>\r\n       <use x=\"63.623047\" xlink:href=\"#DejaVuSans-46\"/>\r\n       <use x=\"95.410156\" xlink:href=\"#DejaVuSans-54\"/>\r\n      </g>\r\n     </g>\r\n    </g>\r\n    <g id=\"ytick_14\">\r\n     <g id=\"line2d_34\">\r\n      <g>\r\n       <use style=\"stroke:#000000;stroke-width:0.8;\" x=\"368.0875\" xlink:href=\"#mfcae07501b\" y=\"56.618182\"/>\r\n      </g>\r\n     </g>\r\n     <g id=\"text_20\">\r\n      <!-- 6.8 -->\r\n      <g transform=\"translate(375.0875 60.417401)scale(0.1 -0.1)\">\r\n       <use xlink:href=\"#DejaVuSans-54\"/>\r\n       <use x=\"63.623047\" xlink:href=\"#DejaVuSans-46\"/>\r\n       <use x=\"95.410156\" xlink:href=\"#DejaVuSans-56\"/>\r\n      </g>\r\n     </g>\r\n    </g>\r\n    <g id=\"ytick_15\">\r\n     <g id=\"line2d_35\">\r\n      <g>\r\n       <use style=\"stroke:#000000;stroke-width:0.8;\" x=\"368.0875\" xlink:href=\"#mfcae07501b\" y=\"17.083636\"/>\r\n      </g>\r\n     </g>\r\n     <g id=\"text_21\">\r\n      <!-- 7.0 -->\r\n      <g transform=\"translate(375.0875 20.882855)scale(0.1 -0.1)\">\r\n       <use xlink:href=\"#DejaVuSans-55\"/>\r\n       <use x=\"63.623047\" xlink:href=\"#DejaVuSans-46\"/>\r\n       <use x=\"95.410156\" xlink:href=\"#DejaVuSans-48\"/>\r\n      </g>\r\n     </g>\r\n    </g>\r\n   </g>\r\n   <g id=\"line2d_36\">\r\n    <path clip-path=\"url(#pec9aed2179)\" d=\"M 33.2875 17.083636 \r\nL 100.2475 17.083636 \r\nL 187.2955 17.083636 \r\nL 281.0395 17.083636 \r\nL 368.0875 214.756364 \r\n\" style=\"fill:none;stroke:#000000;stroke-linecap:square;stroke-width:1.5;\"/>\r\n    <defs>\r\n     <path d=\"M 0 3 \r\nC 0.795609 3 1.55874 2.683901 2.12132 2.12132 \r\nC 2.683901 1.55874 3 0.795609 3 0 \r\nC 3 -0.795609 2.683901 -1.55874 2.12132 -2.12132 \r\nC 1.55874 -2.683901 0.795609 -3 0 -3 \r\nC -0.795609 -3 -1.55874 -2.683901 -2.12132 -2.12132 \r\nC -2.683901 -1.55874 -3 -0.795609 -3 0 \r\nC -3 0.795609 -2.683901 1.55874 -2.12132 2.12132 \r\nC -1.55874 2.683901 -0.795609 3 0 3 \r\nz\r\n\" id=\"md1aa5dff33\" style=\"stroke:#000000;\"/>\r\n    </defs>\r\n    <g clip-path=\"url(#pec9aed2179)\">\r\n     <use style=\"stroke:#000000;\" x=\"33.2875\" xlink:href=\"#md1aa5dff33\" y=\"17.083636\"/>\r\n     <use style=\"stroke:#000000;\" x=\"100.2475\" xlink:href=\"#md1aa5dff33\" y=\"17.083636\"/>\r\n     <use style=\"stroke:#000000;\" x=\"187.2955\" xlink:href=\"#md1aa5dff33\" y=\"17.083636\"/>\r\n     <use style=\"stroke:#000000;\" x=\"281.0395\" xlink:href=\"#md1aa5dff33\" y=\"17.083636\"/>\r\n     <use style=\"stroke:#000000;\" x=\"368.0875\" xlink:href=\"#md1aa5dff33\" y=\"214.756364\"/>\r\n    </g>\r\n   </g>\r\n   <g id=\"patch_8\">\r\n    <path d=\"M 33.2875 224.64 \r\nL 33.2875 7.2 \r\n\" style=\"fill:none;stroke:#000000;stroke-linecap:square;stroke-linejoin:miter;stroke-width:0.8;\"/>\r\n   </g>\r\n   <g id=\"patch_9\">\r\n    <path d=\"M 368.0875 224.64 \r\nL 368.0875 7.2 \r\n\" style=\"fill:none;stroke:#000000;stroke-linecap:square;stroke-linejoin:miter;stroke-width:0.8;\"/>\r\n   </g>\r\n   <g id=\"patch_10\">\r\n    <path d=\"M 33.2875 224.64 \r\nL 368.0875 224.64 \r\n\" style=\"fill:none;stroke:#000000;stroke-linecap:square;stroke-linejoin:miter;stroke-width:0.8;\"/>\r\n   </g>\r\n   <g id=\"patch_11\">\r\n    <path d=\"M 33.2875 7.2 \r\nL 368.0875 7.2 \r\n\" style=\"fill:none;stroke:#000000;stroke-linecap:square;stroke-linejoin:miter;stroke-width:0.8;\"/>\r\n   </g>\r\n  </g>\r\n </g>\r\n <defs>\r\n  <clipPath id=\"pec9aed2179\">\r\n   <rect height=\"217.44\" width=\"334.8\" x=\"33.2875\" y=\"7.2\"/>\r\n  </clipPath>\r\n </defs>\r\n</svg>\r\n",
      "image/png": "[encoded data removed]"
     },
     "metadata": {
      "needs_background": "light"
     }
    }
   ],
   "source": [
    "nnndf.plot(y='Adj Close')\n",
    "bx = nnndf['ESG Value'].plot(secondary_y=True, color='k', marker='o')\n",
    "#bx2 = nnndf.plot(secondary_y=True, color='k', marker='o')\n",
    "#bx2.set_ylabel('size')"
   ]
  },
  {
   "cell_type": "code",
   "execution_count": 283,
   "metadata": {},
   "outputs": [
    {
     "output_type": "execute_result",
     "data": {
      "text/plain": [
       "        ESG Score   Adj Close  ESG Value\n",
       "per                                     \n",
       "2016-10         A   54.259594          7\n",
       "2017-08         A   69.128269          7\n",
       "2018-09         A  108.721947          7\n",
       "2019-11         A  145.887241          7\n",
       "2020-12       BBB  217.250586          6"
      ],
      "text/html": "<div>\n<style scoped>\n    .dataframe tbody tr th:only-of-type {\n        vertical-align: middle;\n    }\n\n    .dataframe tbody tr th {\n        vertical-align: top;\n    }\n\n    .dataframe thead th {\n        text-align: right;\n    }\n</style>\n<table border=\"1\" class=\"dataframe\">\n  <thead>\n    <tr style=\"text-align: right;\">\n      <th></th>\n      <th>ESG Score</th>\n      <th>Adj Close</th>\n      <th>ESG Value</th>\n    </tr>\n    <tr>\n      <th>per</th>\n      <th></th>\n      <th></th>\n      <th></th>\n    </tr>\n  </thead>\n  <tbody>\n    <tr>\n      <th>2016-10</th>\n      <td>A</td>\n      <td>54.259594</td>\n      <td>7</td>\n    </tr>\n    <tr>\n      <th>2017-08</th>\n      <td>A</td>\n      <td>69.128269</td>\n      <td>7</td>\n    </tr>\n    <tr>\n      <th>2018-09</th>\n      <td>A</td>\n      <td>108.721947</td>\n      <td>7</td>\n    </tr>\n    <tr>\n      <th>2019-11</th>\n      <td>A</td>\n      <td>145.887241</td>\n      <td>7</td>\n    </tr>\n    <tr>\n      <th>2020-12</th>\n      <td>BBB</td>\n      <td>217.250586</td>\n      <td>6</td>\n    </tr>\n  </tbody>\n</table>\n</div>"
     },
     "metadata": {},
     "execution_count": 283
    }
   ],
   "source": [
    "nnndf"
   ]
  },
  {
   "cell_type": "code",
   "execution_count": 297,
   "metadata": {},
   "outputs": [
    {
     "output_type": "error",
     "ename": "TypeError",
     "evalue": "float() argument must be a string or a number, not 'Period'",
     "traceback": [
      "\u001b[1;31m---------------------------------------------------------------------------\u001b[0m",
      "\u001b[1;31mTypeError\u001b[0m                                 Traceback (most recent call last)",
      "\u001b[1;32m<ipython-input-297-a300f7df040a>\u001b[0m in \u001b[0;36m<module>\u001b[1;34m\u001b[0m\n\u001b[0;32m      1\u001b[0m \u001b[0mfig\u001b[0m \u001b[1;33m=\u001b[0m \u001b[0mplt\u001b[0m\u001b[1;33m.\u001b[0m\u001b[0mfigure\u001b[0m\u001b[1;33m(\u001b[0m\u001b[1;33m)\u001b[0m\u001b[1;33m\u001b[0m\u001b[1;33m\u001b[0m\u001b[0m\n\u001b[0;32m      2\u001b[0m \u001b[0max\u001b[0m \u001b[1;33m=\u001b[0m \u001b[0mfig\u001b[0m\u001b[1;33m.\u001b[0m\u001b[0madd_subplot\u001b[0m\u001b[1;33m(\u001b[0m\u001b[1;36m111\u001b[0m\u001b[1;33m)\u001b[0m\u001b[1;33m\u001b[0m\u001b[1;33m\u001b[0m\u001b[0m\n\u001b[1;32m----> 3\u001b[1;33m \u001b[0mplt\u001b[0m\u001b[1;33m.\u001b[0m\u001b[0mplot\u001b[0m\u001b[1;33m(\u001b[0m\u001b[0mnnndf\u001b[0m\u001b[1;33m[\u001b[0m\u001b[1;34m'ESG Score'\u001b[0m\u001b[1;33m]\u001b[0m\u001b[1;33m,\u001b[0m \u001b[0mlabel\u001b[0m\u001b[1;33m=\u001b[0m\u001b[1;34m'ESG'\u001b[0m\u001b[1;33m)\u001b[0m\u001b[1;33m\u001b[0m\u001b[1;33m\u001b[0m\u001b[0m\n\u001b[0m\u001b[0;32m      4\u001b[0m \u001b[1;33m\u001b[0m\u001b[0m\n\u001b[0;32m      5\u001b[0m \u001b[1;31m# for i,j in plotable_df.esg_scores.items():\u001b[0m\u001b[1;33m\u001b[0m\u001b[1;33m\u001b[0m\u001b[1;33m\u001b[0m\u001b[0m\n",
      "\u001b[1;32mC:\\Python39\\lib\\site-packages\\matplotlib\\pyplot.py\u001b[0m in \u001b[0;36mplot\u001b[1;34m(scalex, scaley, data, *args, **kwargs)\u001b[0m\n\u001b[0;32m   2838\u001b[0m \u001b[1;33m@\u001b[0m\u001b[0m_copy_docstring_and_deprecators\u001b[0m\u001b[1;33m(\u001b[0m\u001b[0mAxes\u001b[0m\u001b[1;33m.\u001b[0m\u001b[0mplot\u001b[0m\u001b[1;33m)\u001b[0m\u001b[1;33m\u001b[0m\u001b[1;33m\u001b[0m\u001b[0m\n\u001b[0;32m   2839\u001b[0m \u001b[1;32mdef\u001b[0m \u001b[0mplot\u001b[0m\u001b[1;33m(\u001b[0m\u001b[1;33m*\u001b[0m\u001b[0margs\u001b[0m\u001b[1;33m,\u001b[0m \u001b[0mscalex\u001b[0m\u001b[1;33m=\u001b[0m\u001b[1;32mTrue\u001b[0m\u001b[1;33m,\u001b[0m \u001b[0mscaley\u001b[0m\u001b[1;33m=\u001b[0m\u001b[1;32mTrue\u001b[0m\u001b[1;33m,\u001b[0m \u001b[0mdata\u001b[0m\u001b[1;33m=\u001b[0m\u001b[1;32mNone\u001b[0m\u001b[1;33m,\u001b[0m \u001b[1;33m**\u001b[0m\u001b[0mkwargs\u001b[0m\u001b[1;33m)\u001b[0m\u001b[1;33m:\u001b[0m\u001b[1;33m\u001b[0m\u001b[1;33m\u001b[0m\u001b[0m\n\u001b[1;32m-> 2840\u001b[1;33m     return gca().plot(\n\u001b[0m\u001b[0;32m   2841\u001b[0m         \u001b[1;33m*\u001b[0m\u001b[0margs\u001b[0m\u001b[1;33m,\u001b[0m \u001b[0mscalex\u001b[0m\u001b[1;33m=\u001b[0m\u001b[0mscalex\u001b[0m\u001b[1;33m,\u001b[0m \u001b[0mscaley\u001b[0m\u001b[1;33m=\u001b[0m\u001b[0mscaley\u001b[0m\u001b[1;33m,\u001b[0m\u001b[1;33m\u001b[0m\u001b[1;33m\u001b[0m\u001b[0m\n\u001b[0;32m   2842\u001b[0m         **({\"data\": data} if data is not None else {}), **kwargs)\n",
      "\u001b[1;32mC:\\Python39\\lib\\site-packages\\matplotlib\\axes\\_axes.py\u001b[0m in \u001b[0;36mplot\u001b[1;34m(self, scalex, scaley, data, *args, **kwargs)\u001b[0m\n\u001b[0;32m   1743\u001b[0m         \u001b[0mlines\u001b[0m \u001b[1;33m=\u001b[0m \u001b[1;33m[\u001b[0m\u001b[1;33m*\u001b[0m\u001b[0mself\u001b[0m\u001b[1;33m.\u001b[0m\u001b[0m_get_lines\u001b[0m\u001b[1;33m(\u001b[0m\u001b[1;33m*\u001b[0m\u001b[0margs\u001b[0m\u001b[1;33m,\u001b[0m \u001b[0mdata\u001b[0m\u001b[1;33m=\u001b[0m\u001b[0mdata\u001b[0m\u001b[1;33m,\u001b[0m \u001b[1;33m**\u001b[0m\u001b[0mkwargs\u001b[0m\u001b[1;33m)\u001b[0m\u001b[1;33m]\u001b[0m\u001b[1;33m\u001b[0m\u001b[1;33m\u001b[0m\u001b[0m\n\u001b[0;32m   1744\u001b[0m         \u001b[1;32mfor\u001b[0m \u001b[0mline\u001b[0m \u001b[1;32min\u001b[0m \u001b[0mlines\u001b[0m\u001b[1;33m:\u001b[0m\u001b[1;33m\u001b[0m\u001b[1;33m\u001b[0m\u001b[0m\n\u001b[1;32m-> 1745\u001b[1;33m             \u001b[0mself\u001b[0m\u001b[1;33m.\u001b[0m\u001b[0madd_line\u001b[0m\u001b[1;33m(\u001b[0m\u001b[0mline\u001b[0m\u001b[1;33m)\u001b[0m\u001b[1;33m\u001b[0m\u001b[1;33m\u001b[0m\u001b[0m\n\u001b[0m\u001b[0;32m   1746\u001b[0m         \u001b[0mself\u001b[0m\u001b[1;33m.\u001b[0m\u001b[0m_request_autoscale_view\u001b[0m\u001b[1;33m(\u001b[0m\u001b[0mscalex\u001b[0m\u001b[1;33m=\u001b[0m\u001b[0mscalex\u001b[0m\u001b[1;33m,\u001b[0m \u001b[0mscaley\u001b[0m\u001b[1;33m=\u001b[0m\u001b[0mscaley\u001b[0m\u001b[1;33m)\u001b[0m\u001b[1;33m\u001b[0m\u001b[1;33m\u001b[0m\u001b[0m\n\u001b[0;32m   1747\u001b[0m         \u001b[1;32mreturn\u001b[0m \u001b[0mlines\u001b[0m\u001b[1;33m\u001b[0m\u001b[1;33m\u001b[0m\u001b[0m\n",
      "\u001b[1;32mC:\\Python39\\lib\\site-packages\\matplotlib\\axes\\_base.py\u001b[0m in \u001b[0;36madd_line\u001b[1;34m(self, line)\u001b[0m\n\u001b[0;32m   1962\u001b[0m             \u001b[0mline\u001b[0m\u001b[1;33m.\u001b[0m\u001b[0mset_clip_path\u001b[0m\u001b[1;33m(\u001b[0m\u001b[0mself\u001b[0m\u001b[1;33m.\u001b[0m\u001b[0mpatch\u001b[0m\u001b[1;33m)\u001b[0m\u001b[1;33m\u001b[0m\u001b[1;33m\u001b[0m\u001b[0m\n\u001b[0;32m   1963\u001b[0m \u001b[1;33m\u001b[0m\u001b[0m\n\u001b[1;32m-> 1964\u001b[1;33m         \u001b[0mself\u001b[0m\u001b[1;33m.\u001b[0m\u001b[0m_update_line_limits\u001b[0m\u001b[1;33m(\u001b[0m\u001b[0mline\u001b[0m\u001b[1;33m)\u001b[0m\u001b[1;33m\u001b[0m\u001b[1;33m\u001b[0m\u001b[0m\n\u001b[0m\u001b[0;32m   1965\u001b[0m         \u001b[1;32mif\u001b[0m \u001b[1;32mnot\u001b[0m \u001b[0mline\u001b[0m\u001b[1;33m.\u001b[0m\u001b[0mget_label\u001b[0m\u001b[1;33m(\u001b[0m\u001b[1;33m)\u001b[0m\u001b[1;33m:\u001b[0m\u001b[1;33m\u001b[0m\u001b[1;33m\u001b[0m\u001b[0m\n\u001b[0;32m   1966\u001b[0m             \u001b[0mline\u001b[0m\u001b[1;33m.\u001b[0m\u001b[0mset_label\u001b[0m\u001b[1;33m(\u001b[0m\u001b[1;34m'_line%d'\u001b[0m \u001b[1;33m%\u001b[0m \u001b[0mlen\u001b[0m\u001b[1;33m(\u001b[0m\u001b[0mself\u001b[0m\u001b[1;33m.\u001b[0m\u001b[0mlines\u001b[0m\u001b[1;33m)\u001b[0m\u001b[1;33m)\u001b[0m\u001b[1;33m\u001b[0m\u001b[1;33m\u001b[0m\u001b[0m\n",
      "\u001b[1;32mC:\\Python39\\lib\\site-packages\\matplotlib\\axes\\_base.py\u001b[0m in \u001b[0;36m_update_line_limits\u001b[1;34m(self, line)\u001b[0m\n\u001b[0;32m   1984\u001b[0m         \u001b[0mFigures\u001b[0m \u001b[0mout\u001b[0m \u001b[0mthe\u001b[0m \u001b[0mdata\u001b[0m \u001b[0mlimit\u001b[0m \u001b[0mof\u001b[0m \u001b[0mthe\u001b[0m \u001b[0mgiven\u001b[0m \u001b[0mline\u001b[0m\u001b[1;33m,\u001b[0m \u001b[0mupdating\u001b[0m \u001b[0mself\u001b[0m\u001b[1;33m.\u001b[0m\u001b[0mdataLim\u001b[0m\u001b[1;33m.\u001b[0m\u001b[1;33m\u001b[0m\u001b[1;33m\u001b[0m\u001b[0m\n\u001b[0;32m   1985\u001b[0m         \"\"\"\n\u001b[1;32m-> 1986\u001b[1;33m         \u001b[0mpath\u001b[0m \u001b[1;33m=\u001b[0m \u001b[0mline\u001b[0m\u001b[1;33m.\u001b[0m\u001b[0mget_path\u001b[0m\u001b[1;33m(\u001b[0m\u001b[1;33m)\u001b[0m\u001b[1;33m\u001b[0m\u001b[1;33m\u001b[0m\u001b[0m\n\u001b[0m\u001b[0;32m   1987\u001b[0m         \u001b[1;32mif\u001b[0m \u001b[0mpath\u001b[0m\u001b[1;33m.\u001b[0m\u001b[0mvertices\u001b[0m\u001b[1;33m.\u001b[0m\u001b[0msize\u001b[0m \u001b[1;33m==\u001b[0m \u001b[1;36m0\u001b[0m\u001b[1;33m:\u001b[0m\u001b[1;33m\u001b[0m\u001b[1;33m\u001b[0m\u001b[0m\n\u001b[0;32m   1988\u001b[0m             \u001b[1;32mreturn\u001b[0m\u001b[1;33m\u001b[0m\u001b[1;33m\u001b[0m\u001b[0m\n",
      "\u001b[1;32mC:\\Python39\\lib\\site-packages\\matplotlib\\lines.py\u001b[0m in \u001b[0;36mget_path\u001b[1;34m(self)\u001b[0m\n\u001b[0;32m   1009\u001b[0m         \"\"\"\n\u001b[0;32m   1010\u001b[0m         \u001b[1;32mif\u001b[0m \u001b[0mself\u001b[0m\u001b[1;33m.\u001b[0m\u001b[0m_invalidy\u001b[0m \u001b[1;32mor\u001b[0m \u001b[0mself\u001b[0m\u001b[1;33m.\u001b[0m\u001b[0m_invalidx\u001b[0m\u001b[1;33m:\u001b[0m\u001b[1;33m\u001b[0m\u001b[1;33m\u001b[0m\u001b[0m\n\u001b[1;32m-> 1011\u001b[1;33m             \u001b[0mself\u001b[0m\u001b[1;33m.\u001b[0m\u001b[0mrecache\u001b[0m\u001b[1;33m(\u001b[0m\u001b[1;33m)\u001b[0m\u001b[1;33m\u001b[0m\u001b[1;33m\u001b[0m\u001b[0m\n\u001b[0m\u001b[0;32m   1012\u001b[0m         \u001b[1;32mreturn\u001b[0m \u001b[0mself\u001b[0m\u001b[1;33m.\u001b[0m\u001b[0m_path\u001b[0m\u001b[1;33m\u001b[0m\u001b[1;33m\u001b[0m\u001b[0m\n\u001b[0;32m   1013\u001b[0m \u001b[1;33m\u001b[0m\u001b[0m\n",
      "\u001b[1;32mC:\\Python39\\lib\\site-packages\\matplotlib\\lines.py\u001b[0m in \u001b[0;36mrecache\u001b[1;34m(self, always)\u001b[0m\n\u001b[0;32m    651\u001b[0m         \u001b[1;32mif\u001b[0m \u001b[0malways\u001b[0m \u001b[1;32mor\u001b[0m \u001b[0mself\u001b[0m\u001b[1;33m.\u001b[0m\u001b[0m_invalidx\u001b[0m\u001b[1;33m:\u001b[0m\u001b[1;33m\u001b[0m\u001b[1;33m\u001b[0m\u001b[0m\n\u001b[0;32m    652\u001b[0m             \u001b[0mxconv\u001b[0m \u001b[1;33m=\u001b[0m \u001b[0mself\u001b[0m\u001b[1;33m.\u001b[0m\u001b[0mconvert_xunits\u001b[0m\u001b[1;33m(\u001b[0m\u001b[0mself\u001b[0m\u001b[1;33m.\u001b[0m\u001b[0m_xorig\u001b[0m\u001b[1;33m)\u001b[0m\u001b[1;33m\u001b[0m\u001b[1;33m\u001b[0m\u001b[0m\n\u001b[1;32m--> 653\u001b[1;33m             \u001b[0mx\u001b[0m \u001b[1;33m=\u001b[0m \u001b[0m_to_unmasked_float_array\u001b[0m\u001b[1;33m(\u001b[0m\u001b[0mxconv\u001b[0m\u001b[1;33m)\u001b[0m\u001b[1;33m.\u001b[0m\u001b[0mravel\u001b[0m\u001b[1;33m(\u001b[0m\u001b[1;33m)\u001b[0m\u001b[1;33m\u001b[0m\u001b[1;33m\u001b[0m\u001b[0m\n\u001b[0m\u001b[0;32m    654\u001b[0m         \u001b[1;32melse\u001b[0m\u001b[1;33m:\u001b[0m\u001b[1;33m\u001b[0m\u001b[1;33m\u001b[0m\u001b[0m\n\u001b[0;32m    655\u001b[0m             \u001b[0mx\u001b[0m \u001b[1;33m=\u001b[0m \u001b[0mself\u001b[0m\u001b[1;33m.\u001b[0m\u001b[0m_x\u001b[0m\u001b[1;33m\u001b[0m\u001b[1;33m\u001b[0m\u001b[0m\n",
      "\u001b[1;32mC:\\Python39\\lib\\site-packages\\matplotlib\\cbook\\__init__.py\u001b[0m in \u001b[0;36m_to_unmasked_float_array\u001b[1;34m(x)\u001b[0m\n\u001b[0;32m   1287\u001b[0m         \u001b[1;32mreturn\u001b[0m \u001b[0mnp\u001b[0m\u001b[1;33m.\u001b[0m\u001b[0mma\u001b[0m\u001b[1;33m.\u001b[0m\u001b[0masarray\u001b[0m\u001b[1;33m(\u001b[0m\u001b[0mx\u001b[0m\u001b[1;33m,\u001b[0m \u001b[0mfloat\u001b[0m\u001b[1;33m)\u001b[0m\u001b[1;33m.\u001b[0m\u001b[0mfilled\u001b[0m\u001b[1;33m(\u001b[0m\u001b[0mnp\u001b[0m\u001b[1;33m.\u001b[0m\u001b[0mnan\u001b[0m\u001b[1;33m)\u001b[0m\u001b[1;33m\u001b[0m\u001b[1;33m\u001b[0m\u001b[0m\n\u001b[0;32m   1288\u001b[0m     \u001b[1;32melse\u001b[0m\u001b[1;33m:\u001b[0m\u001b[1;33m\u001b[0m\u001b[1;33m\u001b[0m\u001b[0m\n\u001b[1;32m-> 1289\u001b[1;33m         \u001b[1;32mreturn\u001b[0m \u001b[0mnp\u001b[0m\u001b[1;33m.\u001b[0m\u001b[0masarray\u001b[0m\u001b[1;33m(\u001b[0m\u001b[0mx\u001b[0m\u001b[1;33m,\u001b[0m \u001b[0mfloat\u001b[0m\u001b[1;33m)\u001b[0m\u001b[1;33m\u001b[0m\u001b[1;33m\u001b[0m\u001b[0m\n\u001b[0m\u001b[0;32m   1290\u001b[0m \u001b[1;33m\u001b[0m\u001b[0m\n\u001b[0;32m   1291\u001b[0m \u001b[1;33m\u001b[0m\u001b[0m\n",
      "\u001b[1;32mC:\\Python39\\lib\\site-packages\\numpy\\core\\_asarray.py\u001b[0m in \u001b[0;36masarray\u001b[1;34m(a, dtype, order)\u001b[0m\n\u001b[0;32m     81\u001b[0m \u001b[1;33m\u001b[0m\u001b[0m\n\u001b[0;32m     82\u001b[0m     \"\"\"\n\u001b[1;32m---> 83\u001b[1;33m     \u001b[1;32mreturn\u001b[0m \u001b[0marray\u001b[0m\u001b[1;33m(\u001b[0m\u001b[0ma\u001b[0m\u001b[1;33m,\u001b[0m \u001b[0mdtype\u001b[0m\u001b[1;33m,\u001b[0m \u001b[0mcopy\u001b[0m\u001b[1;33m=\u001b[0m\u001b[1;32mFalse\u001b[0m\u001b[1;33m,\u001b[0m \u001b[0morder\u001b[0m\u001b[1;33m=\u001b[0m\u001b[0morder\u001b[0m\u001b[1;33m)\u001b[0m\u001b[1;33m\u001b[0m\u001b[1;33m\u001b[0m\u001b[0m\n\u001b[0m\u001b[0;32m     84\u001b[0m \u001b[1;33m\u001b[0m\u001b[0m\n\u001b[0;32m     85\u001b[0m \u001b[1;33m\u001b[0m\u001b[0m\n",
      "\u001b[1;31mTypeError\u001b[0m: float() argument must be a string or a number, not 'Period'"
     ]
    }
   ],
   "source": [
    "fig = plt.figure()\n",
    "ax = fig.add_subplot(111)\n",
    "plt.plot(nnndf['ESG Score'], label='ESG')\n",
    "\n",
    "# for i,j in plotable_df.esg_scores.items():\n",
    "#             ax.annotate(str(j), xy=(i, j))\n",
    "plt.show()"
   ]
  },
  {
   "cell_type": "code",
   "execution_count": null,
   "metadata": {},
   "outputs": [],
   "source": []
  }
 ]
}